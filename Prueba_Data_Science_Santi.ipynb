{
  "cells": [
    {
      "cell_type": "markdown",
      "metadata": {
        "id": "lASZHkVoAIIa"
      },
      "source": [
        "# **Prueba Data Scientist Habi**\n",
        "\n",
        "---\n",
        "\n"
      ]
    },
    {
      "cell_type": "markdown",
      "metadata": {
        "id": "WWppA5_xA00z"
      },
      "source": [
        "## **Antes de empezar**, por favor guarde este notebook como una copia personal, para no editar la versión original de esta. Esto lo puede hacer en File->Save a copy in Drive"
      ]
    },
    {
      "cell_type": "markdown",
      "metadata": {
        "id": "v_GpaRzUAR8J"
      },
      "source": [
        "## **Punto 1**\n",
        "\n",
        "\n",
        "---\n",
        "\n"
      ]
    },
    {
      "cell_type": "markdown",
      "metadata": {
        "id": "ns3cKuMF9Kip"
      },
      "source": [
        "Descargar base de datos de UPLs (subdivisión urbana para Bogotá) y de inmuebles, todo con código. Es decir, utilizando las librerías necesarias para extraer datos desde internet sin necesidad de leerlos de manera local. Sugerimos la librería urllib.\n",
        "\n",
        "* UPLs: 'https://datosabiertos.bogota.gov.co/dataset/808582fc-ffc8-4649-8428-7e1fd8d3820c/resource/a5c8c591-0708-420f-8eb7-9f3147e21c40/download/unidadplaneamientolocal.json'\n",
        "* Inmuebles: 'https://storage.googleapis.com/pruebas-data-analitica/inmuebles_full.csv.gz'\n",
        "\n",
        "Esta segunda tabla tiene información de inmuebles publicados en páginas web.\n",
        "\n"
      ]
    },
    {
      "cell_type": "code",
      "execution_count": 1,
      "metadata": {
        "id": "f7-mKM_UWfWC"
      },
      "outputs": [
        {
          "data": {
            "text/plain": [
              "'\\nEscriba aquí su código. De ser necesario, puede agregar más celdas.\\n'"
            ]
          },
          "execution_count": 1,
          "metadata": {},
          "output_type": "execute_result"
        }
      ],
      "source": [
        "\"\"\"\n",
        "Escriba aquí su código. De ser necesario, puede agregar más celdas.\n",
        "\"\"\"\n"
      ]
    },
    {
      "cell_type": "code",
      "execution_count": 2,
      "metadata": {},
      "outputs": [],
      "source": [
        "# Install the Libraries\n",
        "# !pip install keplergl\n",
        "# !pip install -q ipyleaflet\n",
        "# !pip install pandas\n",
        "# !pip install geopandas"
      ]
    },
    {
      "cell_type": "code",
      "execution_count": 1,
      "metadata": {
        "id": "tueLsi4DQhM_"
      },
      "outputs": [],
      "source": [
        "# Libraries Required\n",
        "import geopandas as gpd\n",
        "import gzip\n",
        "import io\n",
        "import json\n",
        "from keplergl import KeplerGl\n",
        "import pandas as pd\n",
        "import plotly.express as px\n",
        "from shapely.geometry import Polygon, MultiPolygon\n",
        "import traceback\n",
        "from urllib.request import urlopen\n",
        "import zipfile"
      ]
    },
    {
      "cell_type": "markdown",
      "metadata": {
        "id": "OT7O9Ws-z4nc"
      },
      "source": [
        "### UPLs"
      ]
    },
    {
      "cell_type": "markdown",
      "metadata": {},
      "source": [
        "#### Nota:\n",
        "\n",
        "Cada uno de los archivos se descargó y leyó únicamente con código. Sin embargo, dado que la descarga tomaba bastante tiempo con archivos superando 1 GB de memoria una vez descargados los archivos se descargaron localmente para ahorrar los tiempos de descarga y solo leer desde memoria.\n",
        "\n",
        "A pesar de estas medidas, el código comentado en la siguiente celda es funcional y fue la manera en que se descargaron y leyeron los archivos originalmente."
      ]
    },
    {
      "cell_type": "code",
      "execution_count": 5,
      "metadata": {
        "colab": {
          "base_uri": "https://localhost:8080/"
        },
        "id": "Y20uzZFTQiDS",
        "outputId": "baf7b379-8700-4094-fe5d-7cf97a99b272"
      },
      "outputs": [
        {
          "name": "stdout",
          "output_type": "stream",
          "text": [
            "<class 'bytes'>\n",
            "<class 'str'>\n",
            "<class 'dict'>\n"
          ]
        }
      ],
      "source": [
        "# Time: 5 seconds\n",
        "# # Url\n",
        "# url_upls = 'https://datosabiertos.bogota.gov.co/dataset/808582fc-ffc8-4649-8428-7e1fd8d3820c/resource/a5c8c591-0708-420f-8eb7-9f3147e21c40/download/unidadplaneamientolocal.json'\n",
        "\n",
        "# # Request\n",
        "# response_upls = urlopen(url_upls)\n",
        "\n",
        "# # Check the status of the request (200 = Works)\n",
        "# status_response_upls = response_upls.status\n",
        "# assert(status_response_upls == 200)\n",
        "\n",
        "# # Read the file\n",
        "# file_upls = response_upls.read()\n",
        "# print(type(file_upls))\n",
        "\n",
        "# # Convert from bytes to str\n",
        "# string_upls = file_upls.decode()\n",
        "# print(type(string_upls))\n",
        "\n",
        "# # Conver from str to dict\n",
        "# dict_upls = json.loads(string_upls)\n",
        "# print(type(dict_upls))\n",
        "\n",
        "# # Check the type is dict so it can be accessed easily\n",
        "# assert(type(dict_upls) == dict)"
      ]
    },
    {
      "cell_type": "code",
      "execution_count": 66,
      "metadata": {},
      "outputs": [],
      "source": [
        "# Time: 0.1 seconds\n",
        "with open('Data/unidadplaneamientolocal.json') as file:\n",
        "    dict_upls = json.load(file)"
      ]
    },
    {
      "cell_type": "code",
      "execution_count": 67,
      "metadata": {
        "colab": {
          "base_uri": "https://localhost:8080/"
        },
        "id": "G3pUF98VFCXd",
        "outputId": "1f700f6e-6b0d-4415-e9ec-5b41f7ae51df"
      },
      "outputs": [
        {
          "ename": "TypeError",
          "evalue": "'str' object is not callable",
          "output_type": "error",
          "traceback": [
            "\u001b[1;31m---------------------------------------------------------------------------\u001b[0m",
            "\u001b[1;31mTypeError\u001b[0m                                 Traceback (most recent call last)",
            "Cell \u001b[1;32mIn[67], line 3\u001b[0m\n\u001b[0;32m      1\u001b[0m \u001b[38;5;66;03m# Print the different keys in the dict and the type of value of each key\u001b[39;00m\n\u001b[0;32m      2\u001b[0m \u001b[38;5;28;01mfor\u001b[39;00m key, value \u001b[38;5;129;01min\u001b[39;00m dict_upls\u001b[38;5;241m.\u001b[39mitems():\n\u001b[1;32m----> 3\u001b[0m   \u001b[38;5;28mprint\u001b[39m(\u001b[38;5;124mf\u001b[39m\u001b[38;5;124m'\u001b[39m\u001b[38;5;132;01m{\u001b[39;00mkey\u001b[38;5;132;01m}\u001b[39;00m\u001b[38;5;124m: \u001b[39m\u001b[38;5;132;01m{\u001b[39;00m\u001b[38;5;28;43mtype\u001b[39;49m\u001b[43m(\u001b[49m\u001b[43mvalue\u001b[49m\u001b[43m)\u001b[49m\u001b[38;5;132;01m}\u001b[39;00m\u001b[38;5;124m'\u001b[39m)\n",
            "\u001b[1;31mTypeError\u001b[0m: 'str' object is not callable"
          ]
        }
      ],
      "source": [
        "# Print the different keys in the dict and the type of value of each key\n",
        "for key, value in dict_upls.items():\n",
        "  print(f'{key}: {type(value)}')"
      ]
    },
    {
      "cell_type": "code",
      "execution_count": 68,
      "metadata": {
        "colab": {
          "base_uri": "https://localhost:8080/"
        },
        "id": "o7KLTo2TJ_sh",
        "outputId": "8fd9d35a-887d-489d-eaa2-2548be71abb0"
      },
      "outputs": [],
      "source": [
        "# Create a geodataframe with the rows of the file\n",
        "# Since it is a json create the dataframe with a list of dicts\n",
        "list_rows = []\n",
        "\n",
        "# The data is int the features key, where each row is a list\n",
        "for row in dict_upls['features']:\n",
        "  \n",
        "  # Get the attributes (columns of the dataframe)\n",
        "  attributes = row['attributes']\n",
        "  \n",
        "  # Conver the geometry to a polygon\n",
        "  geometry = row['geometry']  \n",
        "  coordinates = geometry['rings'][0]\n",
        "  polygon = Polygon(coordinates)  \n",
        "  \n",
        "  # Add the polygon to the attributes with the key 'geometry'\n",
        "  attributes['geometry'] = polygon\n",
        "\n",
        "  # Add the dict of the row to the list of dicts\n",
        "  list_rows.append(attributes)\n",
        "\n",
        "# Create the GeoDataFrame\n",
        "df_upls = gpd.GeoDataFrame(\n",
        "    list_rows,\n",
        "    geometry='geometry'\n",
        ")\n",
        "\n",
        "# Change the column names to lowercase (just a toc)\n",
        "df_upls.columns = [column.lower() for column in (df_upls.columns)]\n",
        "\n",
        "# Keep only the columns needed\n",
        "list_columns_to_keep = [\n",
        "    'codigo_upl',\n",
        "    'nombre',\n",
        "    'vocacion',\n",
        "    'sector',\n",
        "    'geometry',\n",
        "]\n",
        "df_upls = df_upls[list_columns_to_keep]"
      ]
    },
    {
      "cell_type": "code",
      "execution_count": 69,
      "metadata": {},
      "outputs": [
        {
          "data": {
            "text/html": [
              "<div>\n",
              "<style scoped>\n",
              "    .dataframe tbody tr th:only-of-type {\n",
              "        vertical-align: middle;\n",
              "    }\n",
              "\n",
              "    .dataframe tbody tr th {\n",
              "        vertical-align: top;\n",
              "    }\n",
              "\n",
              "    .dataframe thead th {\n",
              "        text-align: right;\n",
              "    }\n",
              "</style>\n",
              "<table border=\"1\" class=\"dataframe\">\n",
              "  <thead>\n",
              "    <tr style=\"text-align: right;\">\n",
              "      <th></th>\n",
              "      <th>codigo_upl</th>\n",
              "      <th>nombre</th>\n",
              "      <th>vocacion</th>\n",
              "      <th>sector</th>\n",
              "      <th>geometry</th>\n",
              "    </tr>\n",
              "  </thead>\n",
              "  <tbody>\n",
              "    <tr>\n",
              "      <th>0</th>\n",
              "      <td>UPL13</td>\n",
              "      <td>Tintal</td>\n",
              "      <td>Urbano-Rural</td>\n",
              "      <td>Sector Sur Occidente</td>\n",
              "      <td>POLYGON ((-74.16957 4.65632, -74.16955 4.65631...</td>\n",
              "    </tr>\n",
              "    <tr>\n",
              "      <th>1</th>\n",
              "      <td>UPL30</td>\n",
              "      <td>Salitre</td>\n",
              "      <td>Urbano</td>\n",
              "      <td>Sector Occidente</td>\n",
              "      <td>POLYGON ((-74.09471 4.66478, -74.10058 4.65718...</td>\n",
              "    </tr>\n",
              "    <tr>\n",
              "      <th>2</th>\n",
              "      <td>UPL22</td>\n",
              "      <td>Restrepo</td>\n",
              "      <td>Urbano</td>\n",
              "      <td>Sector Centro Ampliado</td>\n",
              "      <td>POLYGON ((-74.10459 4.56467, -74.10468 4.56482...</td>\n",
              "    </tr>\n",
              "    <tr>\n",
              "      <th>3</th>\n",
              "      <td>UPL31</td>\n",
              "      <td>Puente Aranda</td>\n",
              "      <td>Urbano</td>\n",
              "      <td>Sector Centro Ampliado</td>\n",
              "      <td>POLYGON ((-74.08320 4.62470, -74.08400 4.62371...</td>\n",
              "    </tr>\n",
              "    <tr>\n",
              "      <th>4</th>\n",
              "      <td>UPL32</td>\n",
              "      <td>Teusaquillo</td>\n",
              "      <td>Urbano</td>\n",
              "      <td>Sector Centro Ampliado</td>\n",
              "      <td>POLYGON ((-74.07160 4.61775, -74.07283 4.61542...</td>\n",
              "    </tr>\n",
              "  </tbody>\n",
              "</table>\n",
              "</div>"
            ],
            "text/plain": [
              "  codigo_upl         nombre      vocacion                  sector  \\\n",
              "0      UPL13         Tintal  Urbano-Rural    Sector Sur Occidente   \n",
              "1      UPL30        Salitre        Urbano        Sector Occidente   \n",
              "2      UPL22       Restrepo        Urbano  Sector Centro Ampliado   \n",
              "3      UPL31  Puente Aranda        Urbano  Sector Centro Ampliado   \n",
              "4      UPL32    Teusaquillo        Urbano  Sector Centro Ampliado   \n",
              "\n",
              "                                            geometry  \n",
              "0  POLYGON ((-74.16957 4.65632, -74.16955 4.65631...  \n",
              "1  POLYGON ((-74.09471 4.66478, -74.10058 4.65718...  \n",
              "2  POLYGON ((-74.10459 4.56467, -74.10468 4.56482...  \n",
              "3  POLYGON ((-74.08320 4.62470, -74.08400 4.62371...  \n",
              "4  POLYGON ((-74.07160 4.61775, -74.07283 4.61542...  "
            ]
          },
          "execution_count": 69,
          "metadata": {},
          "output_type": "execute_result"
        }
      ],
      "source": [
        "df_upls.head()"
      ]
    },
    {
      "cell_type": "code",
      "execution_count": 70,
      "metadata": {},
      "outputs": [
        {
          "name": "stdout",
          "output_type": "stream",
          "text": [
            "<class 'geopandas.geodataframe.GeoDataFrame'>\n",
            "RangeIndex: 33 entries, 0 to 32\n",
            "Data columns (total 5 columns):\n",
            " #   Column      Non-Null Count  Dtype   \n",
            "---  ------      --------------  -----   \n",
            " 0   codigo_upl  33 non-null     object  \n",
            " 1   nombre      33 non-null     object  \n",
            " 2   vocacion    33 non-null     object  \n",
            " 3   sector      33 non-null     object  \n",
            " 4   geometry    33 non-null     geometry\n",
            "dtypes: geometry(1), object(4)\n",
            "memory usage: 1.4+ KB\n"
          ]
        }
      ],
      "source": [
        "df_upls.info()"
      ]
    },
    {
      "cell_type": "markdown",
      "metadata": {
        "id": "YtREHWNmz_tI"
      },
      "source": [
        "### Inmuebles"
      ]
    },
    {
      "cell_type": "markdown",
      "metadata": {},
      "source": [
        "#### Nota:\n",
        "\n",
        "Cada uno de los archivos se descargó y leyó únicamente con código. Sin embargo, dado que la descarga tomaba bastante tiempo con archivos superando 1 GB de memoria una vez descargados los archivos se descargaron localmente para ahorrar los tiempos de descarga y solo leer desde memoria.\n",
        "\n",
        "A pesar de estas medidas, el código comentado en la siguiente celda es funcional y fue la manera en que se descargaron y leyeron los archivos originalmente."
      ]
    },
    {
      "cell_type": "code",
      "execution_count": 8,
      "metadata": {
        "colab": {
          "base_uri": "https://localhost:8080/"
        },
        "id": "GSt9JgFZzxCB",
        "outputId": "02b194ee-4d4c-464f-b072-0abed1aa7b4d"
      },
      "outputs": [
        {
          "name": "stdout",
          "output_type": "stream",
          "text": [
            "<class 'gzip.GzipFile'>\n",
            "<class 'bytes'>\n",
            "<class 'str'>\n",
            "<class 'pandas.core.frame.DataFrame'>\n"
          ]
        }
      ],
      "source": [
        "# Time: 6 seconds\n",
        "# # Url\n",
        "# url_inmuebles = 'https://storage.googleapis.com/pruebas-data-analitica/inmuebles_full.csv.gz'\n",
        "\n",
        "# # Request\n",
        "# response_inmuebles = urlopen(url_inmuebles)\n",
        "\n",
        "# # Check the status of the request (200 = Works)\n",
        "# status_response_inmuebles = response_inmuebles.status\n",
        "# assert(status_response_inmuebles == 200)\n",
        "\n",
        "# # Since it is a zipped file we need decompress it\n",
        "# gzip_file = gzip.GzipFile(fileobj=response_inmuebles)\n",
        "# print(type(gzip_file))\n",
        "\n",
        "# # Read the unzipped file\n",
        "# file_inmuebles = gzip_file.read()\n",
        "# print(type(file_inmuebles))\n",
        "\n",
        "# # Convert from bytes to str\n",
        "# string_inmuebles = file_inmuebles.decode()\n",
        "# print(type(string_inmuebles))\n",
        "\n",
        "# # 'Save' in memory the file and then read it as a traditional csv file\n",
        "# csv_inmuebles = io.StringIO(string_inmuebles)\n",
        "# df_inmuebles = pd.read_csv(csv_inmuebles)\n",
        "# print(type(df_inmuebles))\n",
        "\n",
        "# # Check the type is DataFrame\n",
        "# assert(isinstance(df_inmuebles, pd.DataFrame))"
      ]
    },
    {
      "cell_type": "code",
      "execution_count": 9,
      "metadata": {},
      "outputs": [],
      "source": [
        "# Time: 4 seconds\n",
        "df_inmuebles = pd.read_csv('Data/inmuebles_full.csv')"
      ]
    },
    {
      "cell_type": "code",
      "execution_count": 17,
      "metadata": {},
      "outputs": [],
      "source": [
        "df_inmuebles['geometry'] = gpd.points_from_xy(x=df_inmuebles['longitud'], y=df_inmuebles['latitud'])\n",
        "df_inmuebles.drop(['latitud', 'longitud'], axis=1, inplace=True)\n",
        "df_inmuebles = gpd.GeoDataFrame(df_inmuebles, geometry='geometry')"
      ]
    },
    {
      "cell_type": "code",
      "execution_count": 18,
      "metadata": {
        "colab": {
          "base_uri": "https://localhost:8080/",
          "height": 417
        },
        "id": "0AkpXnJ8FEms",
        "outputId": "5de7d565-eb10-473b-b87e-9aa03f52e80e"
      },
      "outputs": [
        {
          "data": {
            "text/html": [
              "<div>\n",
              "<style scoped>\n",
              "    .dataframe tbody tr th:only-of-type {\n",
              "        vertical-align: middle;\n",
              "    }\n",
              "\n",
              "    .dataframe tbody tr th {\n",
              "        vertical-align: top;\n",
              "    }\n",
              "\n",
              "    .dataframe thead th {\n",
              "        text-align: right;\n",
              "    }\n",
              "</style>\n",
              "<table border=\"1\" class=\"dataframe\">\n",
              "  <thead>\n",
              "    <tr style=\"text-align: right;\">\n",
              "      <th></th>\n",
              "      <th>id</th>\n",
              "      <th>fecha_creacion</th>\n",
              "      <th>departamento</th>\n",
              "      <th>municipio</th>\n",
              "      <th>habitaciones</th>\n",
              "      <th>banos</th>\n",
              "      <th>area</th>\n",
              "      <th>precio</th>\n",
              "      <th>num_ascensores</th>\n",
              "      <th>garajes</th>\n",
              "      <th>direccion</th>\n",
              "      <th>anos_antiguedad</th>\n",
              "      <th>tipo_inmueble</th>\n",
              "      <th>tiponegocio</th>\n",
              "      <th>geometry</th>\n",
              "    </tr>\n",
              "  </thead>\n",
              "  <tbody>\n",
              "    <tr>\n",
              "      <th>0</th>\n",
              "      <td>3669162</td>\n",
              "      <td>2022-03-02</td>\n",
              "      <td>VALLE DEL CAUCA</td>\n",
              "      <td>CALI</td>\n",
              "      <td>3.0</td>\n",
              "      <td>2</td>\n",
              "      <td>81.0</td>\n",
              "      <td>2.640000e+08</td>\n",
              "      <td>0</td>\n",
              "      <td>1</td>\n",
              "      <td>Carrera 99A # 45 - 200 Apto 706 Torre 3 Lili d...</td>\n",
              "      <td>12</td>\n",
              "      <td>apartamento</td>\n",
              "      <td>venta</td>\n",
              "      <td>POINT (-76.49500 3.36400)</td>\n",
              "    </tr>\n",
              "    <tr>\n",
              "      <th>1</th>\n",
              "      <td>3067524</td>\n",
              "      <td>2021-12-12</td>\n",
              "      <td>ANTIOQUIA</td>\n",
              "      <td>SABANETA</td>\n",
              "      <td>2.0</td>\n",
              "      <td>3</td>\n",
              "      <td>90.0</td>\n",
              "      <td>4.600000e+08</td>\n",
              "      <td>1</td>\n",
              "      <td>2</td>\n",
              "      <td>Calle 70A SUR # 35 - 340 Apto 3402 Urbanizacio...</td>\n",
              "      <td>4</td>\n",
              "      <td>apartamento</td>\n",
              "      <td>venta</td>\n",
              "      <td>POINT (-75.60200 6.14300)</td>\n",
              "    </tr>\n",
              "    <tr>\n",
              "      <th>2</th>\n",
              "      <td>3944108</td>\n",
              "      <td>2022-03-18</td>\n",
              "      <td>CUNDINAMARCA</td>\n",
              "      <td>CAJICÁ</td>\n",
              "      <td>3.0</td>\n",
              "      <td>4</td>\n",
              "      <td>140.0</td>\n",
              "      <td>1.000000e+09</td>\n",
              "      <td>0</td>\n",
              "      <td>4</td>\n",
              "      <td>abaco</td>\n",
              "      <td>4</td>\n",
              "      <td>casa</td>\n",
              "      <td>venta</td>\n",
              "      <td>POINT (-74.04343 4.89866)</td>\n",
              "    </tr>\n",
              "    <tr>\n",
              "      <th>3</th>\n",
              "      <td>500215</td>\n",
              "      <td>2020-07-23</td>\n",
              "      <td>ANTIOQUIA</td>\n",
              "      <td>RIONEGRO</td>\n",
              "      <td>3.0</td>\n",
              "      <td>2</td>\n",
              "      <td>75.0</td>\n",
              "      <td>1.600000e+06</td>\n",
              "      <td>0</td>\n",
              "      <td>1</td>\n",
              "      <td>CALLE 32   52B- 150</td>\n",
              "      <td>1</td>\n",
              "      <td>apartamento</td>\n",
              "      <td>arriendo</td>\n",
              "      <td>POINT (-75.42595 6.12084)</td>\n",
              "    </tr>\n",
              "    <tr>\n",
              "      <th>4</th>\n",
              "      <td>741346</td>\n",
              "      <td>2020-09-15</td>\n",
              "      <td>CUNDINAMARCA</td>\n",
              "      <td>SOPÓ</td>\n",
              "      <td>4.0</td>\n",
              "      <td>5</td>\n",
              "      <td>750.0</td>\n",
              "      <td>3.300000e+09</td>\n",
              "      <td>0</td>\n",
              "      <td>6</td>\n",
              "      <td>AUTOPISTA NORTE KM 33</td>\n",
              "      <td>12</td>\n",
              "      <td>casa</td>\n",
              "      <td>venta</td>\n",
              "      <td>POINT (-73.98262 4.93952)</td>\n",
              "    </tr>\n",
              "  </tbody>\n",
              "</table>\n",
              "</div>"
            ],
            "text/plain": [
              "        id fecha_creacion     departamento municipio  habitaciones  banos  \\\n",
              "0  3669162     2022-03-02  VALLE DEL CAUCA      CALI           3.0      2   \n",
              "1  3067524     2021-12-12        ANTIOQUIA  SABANETA           2.0      3   \n",
              "2  3944108     2022-03-18     CUNDINAMARCA    CAJICÁ           3.0      4   \n",
              "3   500215     2020-07-23        ANTIOQUIA  RIONEGRO           3.0      2   \n",
              "4   741346     2020-09-15     CUNDINAMARCA      SOPÓ           4.0      5   \n",
              "\n",
              "    area        precio  num_ascensores  garajes  \\\n",
              "0   81.0  2.640000e+08               0        1   \n",
              "1   90.0  4.600000e+08               1        2   \n",
              "2  140.0  1.000000e+09               0        4   \n",
              "3   75.0  1.600000e+06               0        1   \n",
              "4  750.0  3.300000e+09               0        6   \n",
              "\n",
              "                                           direccion  anos_antiguedad  \\\n",
              "0  Carrera 99A # 45 - 200 Apto 706 Torre 3 Lili d...               12   \n",
              "1  Calle 70A SUR # 35 - 340 Apto 3402 Urbanizacio...                4   \n",
              "2                                              abaco                4   \n",
              "3                                CALLE 32   52B- 150                1   \n",
              "4                              AUTOPISTA NORTE KM 33               12   \n",
              "\n",
              "  tipo_inmueble tiponegocio                   geometry  \n",
              "0   apartamento       venta  POINT (-76.49500 3.36400)  \n",
              "1   apartamento       venta  POINT (-75.60200 6.14300)  \n",
              "2          casa       venta  POINT (-74.04343 4.89866)  \n",
              "3   apartamento    arriendo  POINT (-75.42595 6.12084)  \n",
              "4          casa       venta  POINT (-73.98262 4.93952)  "
            ]
          },
          "execution_count": 18,
          "metadata": {},
          "output_type": "execute_result"
        }
      ],
      "source": [
        "df_inmuebles.head()"
      ]
    },
    {
      "cell_type": "code",
      "execution_count": 19,
      "metadata": {
        "colab": {
          "base_uri": "https://localhost:8080/"
        },
        "id": "SFXoGM_zFG1i",
        "outputId": "f357af9e-17a5-4e80-b44d-48a931911670"
      },
      "outputs": [
        {
          "name": "stdout",
          "output_type": "stream",
          "text": [
            "<class 'geopandas.geodataframe.GeoDataFrame'>\n",
            "RangeIndex: 882888 entries, 0 to 882887\n",
            "Data columns (total 15 columns):\n",
            " #   Column           Non-Null Count   Dtype   \n",
            "---  ------           --------------   -----   \n",
            " 0   id               882888 non-null  int64   \n",
            " 1   fecha_creacion   882888 non-null  object  \n",
            " 2   departamento     882888 non-null  object  \n",
            " 3   municipio        882888 non-null  object  \n",
            " 4   habitaciones     882147 non-null  float64 \n",
            " 5   banos            882888 non-null  int64   \n",
            " 6   area             882888 non-null  float64 \n",
            " 7   precio           860683 non-null  float64 \n",
            " 8   num_ascensores   882888 non-null  int64   \n",
            " 9   garajes          882888 non-null  int64   \n",
            " 10  direccion        882664 non-null  object  \n",
            " 11  anos_antiguedad  882888 non-null  int64   \n",
            " 12  tipo_inmueble    882888 non-null  object  \n",
            " 13  tiponegocio      882888 non-null  object  \n",
            " 14  geometry         882888 non-null  geometry\n",
            "dtypes: float64(3), geometry(1), int64(5), object(6)\n",
            "memory usage: 101.0+ MB\n"
          ]
        }
      ],
      "source": [
        "df_inmuebles.info()"
      ]
    },
    {
      "cell_type": "markdown",
      "metadata": {
        "id": "1IBTVcXmBuK5"
      },
      "source": [
        "## **Punto 2**\n",
        "\n",
        "---\n",
        "\n"
      ]
    },
    {
      "cell_type": "markdown",
      "metadata": {
        "id": "u6otTo2tBuWc"
      },
      "source": [
        "Hacer un join espacial entre la base de datos de UPLs e inmuebles y\n",
        "calcular cuántas ofertas inmobiliarias existen en Bogotá por UPL. Para esto sugerimos usar la librería de GeoPandas."
      ]
    },
    {
      "cell_type": "code",
      "execution_count": 30,
      "metadata": {
        "id": "1fp4kVfwsVZA"
      },
      "outputs": [
        {
          "data": {
            "text/plain": [
              "'\\nEscriba aquí su código. De ser necesario, puede agregar más celdas.\\n'"
            ]
          },
          "execution_count": 30,
          "metadata": {},
          "output_type": "execute_result"
        }
      ],
      "source": [
        "\"\"\"\n",
        "Escriba aquí su código. De ser necesario, puede agregar más celdas.\n",
        "\"\"\""
      ]
    },
    {
      "cell_type": "code",
      "execution_count": 31,
      "metadata": {},
      "outputs": [],
      "source": [
        "# Get the upl that belongs to each inmueble (mostly Bogotá)\n",
        "df_inmuebles = gpd.sjoin(\n",
        "    df_inmuebles, \n",
        "    df_upls[['codigo_upl', 'geometry']],\n",
        "    how='left',\n",
        "    predicate='within'\n",
        ")"
      ]
    },
    {
      "cell_type": "code",
      "execution_count": 32,
      "metadata": {},
      "outputs": [
        {
          "data": {
            "text/html": [
              "<div>\n",
              "<style scoped>\n",
              "    .dataframe tbody tr th:only-of-type {\n",
              "        vertical-align: middle;\n",
              "    }\n",
              "\n",
              "    .dataframe tbody tr th {\n",
              "        vertical-align: top;\n",
              "    }\n",
              "\n",
              "    .dataframe thead th {\n",
              "        text-align: right;\n",
              "    }\n",
              "</style>\n",
              "<table border=\"1\" class=\"dataframe\">\n",
              "  <thead>\n",
              "    <tr style=\"text-align: right;\">\n",
              "      <th></th>\n",
              "      <th>id</th>\n",
              "      <th>fecha_creacion</th>\n",
              "      <th>departamento</th>\n",
              "      <th>municipio</th>\n",
              "      <th>habitaciones</th>\n",
              "      <th>banos</th>\n",
              "      <th>area</th>\n",
              "      <th>precio</th>\n",
              "      <th>num_ascensores</th>\n",
              "      <th>garajes</th>\n",
              "      <th>direccion</th>\n",
              "      <th>anos_antiguedad</th>\n",
              "      <th>tipo_inmueble</th>\n",
              "      <th>tiponegocio</th>\n",
              "      <th>geometry</th>\n",
              "      <th>index_right</th>\n",
              "      <th>codigo_upl</th>\n",
              "    </tr>\n",
              "  </thead>\n",
              "  <tbody>\n",
              "    <tr>\n",
              "      <th>0</th>\n",
              "      <td>3669162</td>\n",
              "      <td>2022-03-02</td>\n",
              "      <td>VALLE DEL CAUCA</td>\n",
              "      <td>CALI</td>\n",
              "      <td>3.0</td>\n",
              "      <td>2</td>\n",
              "      <td>81.0</td>\n",
              "      <td>2.640000e+08</td>\n",
              "      <td>0</td>\n",
              "      <td>1</td>\n",
              "      <td>Carrera 99A # 45 - 200 Apto 706 Torre 3 Lili d...</td>\n",
              "      <td>12</td>\n",
              "      <td>apartamento</td>\n",
              "      <td>venta</td>\n",
              "      <td>POINT (-76.49500 3.36400)</td>\n",
              "      <td>NaN</td>\n",
              "      <td>NaN</td>\n",
              "    </tr>\n",
              "    <tr>\n",
              "      <th>1</th>\n",
              "      <td>3067524</td>\n",
              "      <td>2021-12-12</td>\n",
              "      <td>ANTIOQUIA</td>\n",
              "      <td>SABANETA</td>\n",
              "      <td>2.0</td>\n",
              "      <td>3</td>\n",
              "      <td>90.0</td>\n",
              "      <td>4.600000e+08</td>\n",
              "      <td>1</td>\n",
              "      <td>2</td>\n",
              "      <td>Calle 70A SUR # 35 - 340 Apto 3402 Urbanizacio...</td>\n",
              "      <td>4</td>\n",
              "      <td>apartamento</td>\n",
              "      <td>venta</td>\n",
              "      <td>POINT (-75.60200 6.14300)</td>\n",
              "      <td>NaN</td>\n",
              "      <td>NaN</td>\n",
              "    </tr>\n",
              "    <tr>\n",
              "      <th>2</th>\n",
              "      <td>3944108</td>\n",
              "      <td>2022-03-18</td>\n",
              "      <td>CUNDINAMARCA</td>\n",
              "      <td>CAJICÁ</td>\n",
              "      <td>3.0</td>\n",
              "      <td>4</td>\n",
              "      <td>140.0</td>\n",
              "      <td>1.000000e+09</td>\n",
              "      <td>0</td>\n",
              "      <td>4</td>\n",
              "      <td>abaco</td>\n",
              "      <td>4</td>\n",
              "      <td>casa</td>\n",
              "      <td>venta</td>\n",
              "      <td>POINT (-74.04343 4.89866)</td>\n",
              "      <td>NaN</td>\n",
              "      <td>NaN</td>\n",
              "    </tr>\n",
              "    <tr>\n",
              "      <th>3</th>\n",
              "      <td>500215</td>\n",
              "      <td>2020-07-23</td>\n",
              "      <td>ANTIOQUIA</td>\n",
              "      <td>RIONEGRO</td>\n",
              "      <td>3.0</td>\n",
              "      <td>2</td>\n",
              "      <td>75.0</td>\n",
              "      <td>1.600000e+06</td>\n",
              "      <td>0</td>\n",
              "      <td>1</td>\n",
              "      <td>CALLE 32   52B- 150</td>\n",
              "      <td>1</td>\n",
              "      <td>apartamento</td>\n",
              "      <td>arriendo</td>\n",
              "      <td>POINT (-75.42595 6.12084)</td>\n",
              "      <td>NaN</td>\n",
              "      <td>NaN</td>\n",
              "    </tr>\n",
              "    <tr>\n",
              "      <th>4</th>\n",
              "      <td>741346</td>\n",
              "      <td>2020-09-15</td>\n",
              "      <td>CUNDINAMARCA</td>\n",
              "      <td>SOPÓ</td>\n",
              "      <td>4.0</td>\n",
              "      <td>5</td>\n",
              "      <td>750.0</td>\n",
              "      <td>3.300000e+09</td>\n",
              "      <td>0</td>\n",
              "      <td>6</td>\n",
              "      <td>AUTOPISTA NORTE KM 33</td>\n",
              "      <td>12</td>\n",
              "      <td>casa</td>\n",
              "      <td>venta</td>\n",
              "      <td>POINT (-73.98262 4.93952)</td>\n",
              "      <td>NaN</td>\n",
              "      <td>NaN</td>\n",
              "    </tr>\n",
              "  </tbody>\n",
              "</table>\n",
              "</div>"
            ],
            "text/plain": [
              "        id fecha_creacion     departamento municipio  habitaciones  banos  \\\n",
              "0  3669162     2022-03-02  VALLE DEL CAUCA      CALI           3.0      2   \n",
              "1  3067524     2021-12-12        ANTIOQUIA  SABANETA           2.0      3   \n",
              "2  3944108     2022-03-18     CUNDINAMARCA    CAJICÁ           3.0      4   \n",
              "3   500215     2020-07-23        ANTIOQUIA  RIONEGRO           3.0      2   \n",
              "4   741346     2020-09-15     CUNDINAMARCA      SOPÓ           4.0      5   \n",
              "\n",
              "    area        precio  num_ascensores  garajes  \\\n",
              "0   81.0  2.640000e+08               0        1   \n",
              "1   90.0  4.600000e+08               1        2   \n",
              "2  140.0  1.000000e+09               0        4   \n",
              "3   75.0  1.600000e+06               0        1   \n",
              "4  750.0  3.300000e+09               0        6   \n",
              "\n",
              "                                           direccion  anos_antiguedad  \\\n",
              "0  Carrera 99A # 45 - 200 Apto 706 Torre 3 Lili d...               12   \n",
              "1  Calle 70A SUR # 35 - 340 Apto 3402 Urbanizacio...                4   \n",
              "2                                              abaco                4   \n",
              "3                                CALLE 32   52B- 150                1   \n",
              "4                              AUTOPISTA NORTE KM 33               12   \n",
              "\n",
              "  tipo_inmueble tiponegocio                   geometry  index_right codigo_upl  \n",
              "0   apartamento       venta  POINT (-76.49500 3.36400)          NaN        NaN  \n",
              "1   apartamento       venta  POINT (-75.60200 6.14300)          NaN        NaN  \n",
              "2          casa       venta  POINT (-74.04343 4.89866)          NaN        NaN  \n",
              "3   apartamento    arriendo  POINT (-75.42595 6.12084)          NaN        NaN  \n",
              "4          casa       venta  POINT (-73.98262 4.93952)          NaN        NaN  "
            ]
          },
          "execution_count": 32,
          "metadata": {},
          "output_type": "execute_result"
        }
      ],
      "source": [
        "df_inmuebles.head()"
      ]
    },
    {
      "cell_type": "code",
      "execution_count": 33,
      "metadata": {},
      "outputs": [
        {
          "name": "stdout",
          "output_type": "stream",
          "text": [
            "<class 'geopandas.geodataframe.GeoDataFrame'>\n",
            "Index: 882888 entries, 0 to 882887\n",
            "Data columns (total 17 columns):\n",
            " #   Column           Non-Null Count   Dtype   \n",
            "---  ------           --------------   -----   \n",
            " 0   id               882888 non-null  int64   \n",
            " 1   fecha_creacion   882888 non-null  object  \n",
            " 2   departamento     882888 non-null  object  \n",
            " 3   municipio        882888 non-null  object  \n",
            " 4   habitaciones     882147 non-null  float64 \n",
            " 5   banos            882888 non-null  int64   \n",
            " 6   area             882888 non-null  float64 \n",
            " 7   precio           860683 non-null  float64 \n",
            " 8   num_ascensores   882888 non-null  int64   \n",
            " 9   garajes          882888 non-null  int64   \n",
            " 10  direccion        882664 non-null  object  \n",
            " 11  anos_antiguedad  882888 non-null  int64   \n",
            " 12  tipo_inmueble    882888 non-null  object  \n",
            " 13  tiponegocio      882888 non-null  object  \n",
            " 14  geometry         882888 non-null  geometry\n",
            " 15  index_right      364778 non-null  float64 \n",
            " 16  codigo_upl       364778 non-null  object  \n",
            "dtypes: float64(4), geometry(1), int64(5), object(7)\n",
            "memory usage: 121.2+ MB\n"
          ]
        }
      ],
      "source": [
        "df_inmuebles.info()"
      ]
    },
    {
      "cell_type": "code",
      "execution_count": 34,
      "metadata": {},
      "outputs": [],
      "source": [
        "# Find the ofertas per UPL and sort it from higher to lower\n",
        "df_ofertas_upl = df_inmuebles.groupby(['codigo_upl']).agg(ofertas=('id', 'count')).reset_index().sort_values(by='ofertas', ascending=False)\n",
        "\n",
        "# Find the percentage and since it is sorted the cumulative percentage to check rules as Pareto\n",
        "df_ofertas_upl['porcentaje'] = df_ofertas_upl['ofertas'] / df_ofertas_upl['ofertas'].sum()\n",
        "df_ofertas_upl['porcentaje_acum'] = df_ofertas_upl['porcentaje'].cumsum()\n",
        "\n",
        "# Complete the information of the UPL to graph it\n",
        "df_ofertas_upl =pd.merge(\n",
        "    df_ofertas_upl,\n",
        "    df_upls,\n",
        "    how='left',\n",
        "    on='codigo_upl'\n",
        ")\n",
        "\n",
        "# Convert to geodataframe\n",
        "df_ofertas_upl = gpd.GeoDataFrame(\n",
        "    df_ofertas_upl,\n",
        "    geometry='geometry'\n",
        ")"
      ]
    },
    {
      "cell_type": "code",
      "execution_count": 35,
      "metadata": {},
      "outputs": [
        {
          "data": {
            "text/html": [
              "<div>\n",
              "<style scoped>\n",
              "    .dataframe tbody tr th:only-of-type {\n",
              "        vertical-align: middle;\n",
              "    }\n",
              "\n",
              "    .dataframe tbody tr th {\n",
              "        vertical-align: top;\n",
              "    }\n",
              "\n",
              "    .dataframe thead th {\n",
              "        text-align: right;\n",
              "    }\n",
              "</style>\n",
              "<table border=\"1\" class=\"dataframe\">\n",
              "  <thead>\n",
              "    <tr style=\"text-align: right;\">\n",
              "      <th></th>\n",
              "      <th>codigo_upl</th>\n",
              "      <th>ofertas</th>\n",
              "      <th>porcentaje</th>\n",
              "      <th>porcentaje_acum</th>\n",
              "      <th>nombre</th>\n",
              "      <th>vocacion</th>\n",
              "      <th>sector</th>\n",
              "      <th>geometry</th>\n",
              "    </tr>\n",
              "  </thead>\n",
              "  <tbody>\n",
              "    <tr>\n",
              "      <th>0</th>\n",
              "      <td>UPL25</td>\n",
              "      <td>104775</td>\n",
              "      <td>0.287229</td>\n",
              "      <td>0.287229</td>\n",
              "      <td>Usaquén</td>\n",
              "      <td>Urbano</td>\n",
              "      <td>Sector Norte</td>\n",
              "      <td>POLYGON ((-74.02093 4.72971, -74.02106 4.72966...</td>\n",
              "    </tr>\n",
              "    <tr>\n",
              "      <th>1</th>\n",
              "      <td>UPL24</td>\n",
              "      <td>61630</td>\n",
              "      <td>0.168952</td>\n",
              "      <td>0.456182</td>\n",
              "      <td>Chapinero</td>\n",
              "      <td>Urbano</td>\n",
              "      <td>Sector Centro Ampliado</td>\n",
              "      <td>POLYGON ((-74.05651 4.64143, -74.05650 4.64143...</td>\n",
              "    </tr>\n",
              "    <tr>\n",
              "      <th>2</th>\n",
              "      <td>UPL27</td>\n",
              "      <td>34948</td>\n",
              "      <td>0.095806</td>\n",
              "      <td>0.551988</td>\n",
              "      <td>Niza</td>\n",
              "      <td>Urbano</td>\n",
              "      <td>Sector Norte</td>\n",
              "      <td>POLYGON ((-74.07828 4.73386, -74.07750 4.73341...</td>\n",
              "    </tr>\n",
              "    <tr>\n",
              "      <th>3</th>\n",
              "      <td>UPL08</td>\n",
              "      <td>27014</td>\n",
              "      <td>0.074056</td>\n",
              "      <td>0.626044</td>\n",
              "      <td>Britalia</td>\n",
              "      <td>Urbano-Rural</td>\n",
              "      <td>Sector Norte</td>\n",
              "      <td>POLYGON ((-74.06328 4.77114, -74.06327 4.77114...</td>\n",
              "    </tr>\n",
              "    <tr>\n",
              "      <th>4</th>\n",
              "      <td>UPL32</td>\n",
              "      <td>17935</td>\n",
              "      <td>0.049167</td>\n",
              "      <td>0.675211</td>\n",
              "      <td>Teusaquillo</td>\n",
              "      <td>Urbano</td>\n",
              "      <td>Sector Centro Ampliado</td>\n",
              "      <td>POLYGON ((-74.07160 4.61775, -74.07283 4.61542...</td>\n",
              "    </tr>\n",
              "    <tr>\n",
              "      <th>5</th>\n",
              "      <td>UPL30</td>\n",
              "      <td>15419</td>\n",
              "      <td>0.042270</td>\n",
              "      <td>0.717480</td>\n",
              "      <td>Salitre</td>\n",
              "      <td>Urbano</td>\n",
              "      <td>Sector Occidente</td>\n",
              "      <td>POLYGON ((-74.09471 4.66478, -74.10058 4.65718...</td>\n",
              "    </tr>\n",
              "    <tr>\n",
              "      <th>6</th>\n",
              "      <td>UPL26</td>\n",
              "      <td>14609</td>\n",
              "      <td>0.040049</td>\n",
              "      <td>0.757529</td>\n",
              "      <td>Toberín</td>\n",
              "      <td>Urbano</td>\n",
              "      <td>Sector Norte</td>\n",
              "      <td>POLYGON ((-74.04264 4.77101, -74.03995 4.77060...</td>\n",
              "    </tr>\n",
              "    <tr>\n",
              "      <th>7</th>\n",
              "      <td>UPL33</td>\n",
              "      <td>11034</td>\n",
              "      <td>0.030249</td>\n",
              "      <td>0.787778</td>\n",
              "      <td>Barrios Unidos</td>\n",
              "      <td>Urbano</td>\n",
              "      <td>Sector Centro Ampliado</td>\n",
              "      <td>POLYGON ((-74.06413 4.65239, -74.06463 4.64965...</td>\n",
              "    </tr>\n",
              "    <tr>\n",
              "      <th>8</th>\n",
              "      <td>UPL23</td>\n",
              "      <td>10543</td>\n",
              "      <td>0.028903</td>\n",
              "      <td>0.816680</td>\n",
              "      <td>Centro Histórico</td>\n",
              "      <td>Urbano</td>\n",
              "      <td>Sector Centro Ampliado</td>\n",
              "      <td>POLYGON ((-74.05772 4.62403, -74.05755 4.62393...</td>\n",
              "    </tr>\n",
              "    <tr>\n",
              "      <th>9</th>\n",
              "      <td>UPL13</td>\n",
              "      <td>9093</td>\n",
              "      <td>0.024927</td>\n",
              "      <td>0.841608</td>\n",
              "      <td>Tintal</td>\n",
              "      <td>Urbano-Rural</td>\n",
              "      <td>Sector Sur Occidente</td>\n",
              "      <td>POLYGON ((-74.16957 4.65632, -74.16955 4.65631...</td>\n",
              "    </tr>\n",
              "  </tbody>\n",
              "</table>\n",
              "</div>"
            ],
            "text/plain": [
              "  codigo_upl  ofertas  porcentaje  porcentaje_acum            nombre  \\\n",
              "0      UPL25   104775    0.287229         0.287229           Usaquén   \n",
              "1      UPL24    61630    0.168952         0.456182         Chapinero   \n",
              "2      UPL27    34948    0.095806         0.551988              Niza   \n",
              "3      UPL08    27014    0.074056         0.626044          Britalia   \n",
              "4      UPL32    17935    0.049167         0.675211       Teusaquillo   \n",
              "5      UPL30    15419    0.042270         0.717480           Salitre   \n",
              "6      UPL26    14609    0.040049         0.757529           Toberín   \n",
              "7      UPL33    11034    0.030249         0.787778    Barrios Unidos   \n",
              "8      UPL23    10543    0.028903         0.816680  Centro Histórico   \n",
              "9      UPL13     9093    0.024927         0.841608            Tintal   \n",
              "\n",
              "       vocacion                  sector  \\\n",
              "0        Urbano            Sector Norte   \n",
              "1        Urbano  Sector Centro Ampliado   \n",
              "2        Urbano            Sector Norte   \n",
              "3  Urbano-Rural            Sector Norte   \n",
              "4        Urbano  Sector Centro Ampliado   \n",
              "5        Urbano        Sector Occidente   \n",
              "6        Urbano            Sector Norte   \n",
              "7        Urbano  Sector Centro Ampliado   \n",
              "8        Urbano  Sector Centro Ampliado   \n",
              "9  Urbano-Rural    Sector Sur Occidente   \n",
              "\n",
              "                                            geometry  \n",
              "0  POLYGON ((-74.02093 4.72971, -74.02106 4.72966...  \n",
              "1  POLYGON ((-74.05651 4.64143, -74.05650 4.64143...  \n",
              "2  POLYGON ((-74.07828 4.73386, -74.07750 4.73341...  \n",
              "3  POLYGON ((-74.06328 4.77114, -74.06327 4.77114...  \n",
              "4  POLYGON ((-74.07160 4.61775, -74.07283 4.61542...  \n",
              "5  POLYGON ((-74.09471 4.66478, -74.10058 4.65718...  \n",
              "6  POLYGON ((-74.04264 4.77101, -74.03995 4.77060...  \n",
              "7  POLYGON ((-74.06413 4.65239, -74.06463 4.64965...  \n",
              "8  POLYGON ((-74.05772 4.62403, -74.05755 4.62393...  \n",
              "9  POLYGON ((-74.16957 4.65632, -74.16955 4.65631...  "
            ]
          },
          "execution_count": 35,
          "metadata": {},
          "output_type": "execute_result"
        }
      ],
      "source": [
        "df_ofertas_upl.head(10)"
      ]
    },
    {
      "cell_type": "code",
      "execution_count": 36,
      "metadata": {},
      "outputs": [
        {
          "name": "stdout",
          "output_type": "stream",
          "text": [
            "<class 'geopandas.geodataframe.GeoDataFrame'>\n",
            "RangeIndex: 33 entries, 0 to 32\n",
            "Data columns (total 8 columns):\n",
            " #   Column           Non-Null Count  Dtype   \n",
            "---  ------           --------------  -----   \n",
            " 0   codigo_upl       33 non-null     object  \n",
            " 1   ofertas          33 non-null     int64   \n",
            " 2   porcentaje       33 non-null     float64 \n",
            " 3   porcentaje_acum  33 non-null     float64 \n",
            " 4   nombre           33 non-null     object  \n",
            " 5   vocacion         33 non-null     object  \n",
            " 6   sector           33 non-null     object  \n",
            " 7   geometry         33 non-null     geometry\n",
            "dtypes: float64(2), geometry(1), int64(1), object(4)\n",
            "memory usage: 2.2+ KB\n"
          ]
        }
      ],
      "source": [
        "df_ofertas_upl.info()"
      ]
    },
    {
      "cell_type": "markdown",
      "metadata": {
        "id": "MCBj1yK0HjfZ"
      },
      "source": [
        "## **Punto 3**\n",
        "\n",
        "\n",
        "---\n",
        "\n"
      ]
    },
    {
      "cell_type": "markdown",
      "metadata": {
        "id": "BG80TdeAHjfZ"
      },
      "source": [
        "Use una visualización que permita ver cuántas ofertas de inmuebles existen por UPL."
      ]
    },
    {
      "cell_type": "code",
      "execution_count": 20,
      "metadata": {
        "id": "5qSUt9FEHjfZ"
      },
      "outputs": [
        {
          "data": {
            "text/plain": [
              "'\\nEscriba aquí su código. De ser necesario, puede agregar más celdas.\\n'"
            ]
          },
          "execution_count": 20,
          "metadata": {},
          "output_type": "execute_result"
        }
      ],
      "source": [
        "\"\"\"\n",
        "Escriba aquí su código. De ser necesario, puede agregar más celdas.\n",
        "\"\"\""
      ]
    },
    {
      "cell_type": "markdown",
      "metadata": {},
      "source": [
        "### Gráfica"
      ]
    },
    {
      "cell_type": "code",
      "execution_count": 41,
      "metadata": {},
      "outputs": [
        {
          "data": {
            "application/vnd.plotly.v1+json": {
              "config": {
                "plotlyServerURL": "https://plot.ly"
              },
              "data": [
                {
                  "alignmentgroup": "True",
                  "hovertemplate": "Ofertas=%{x}<br>Nombre UPL=%{y}<extra></extra>",
                  "legendgroup": "",
                  "marker": {
                    "color": "#636efa",
                    "pattern": {
                      "shape": ""
                    }
                  },
                  "name": "",
                  "offsetgroup": "",
                  "orientation": "h",
                  "showlegend": false,
                  "textposition": "auto",
                  "type": "bar",
                  "x": [
                    74,
                    121,
                    447,
                    858,
                    910,
                    1024,
                    1202,
                    1312,
                    1326,
                    1348,
                    1470,
                    1495,
                    1516,
                    1725,
                    2422,
                    2673,
                    2843,
                    3597,
                    4170,
                    4906,
                    6024,
                    8022,
                    8293,
                    9093,
                    10543,
                    11034,
                    14609,
                    15419,
                    17935,
                    27014,
                    34948,
                    61630,
                    104775
                  ],
                  "xaxis": "x",
                  "y": [
                    "Sumapáz",
                    "Cuenca del Tunjuelo",
                    "Lucero",
                    "Patio Bonito",
                    "Porvenir",
                    "Tunjuelito",
                    "Usme - Entrenubes",
                    "Edén",
                    "Cerros Orientales",
                    "Bosa",
                    "San Cristóbal",
                    "Tibabuyes",
                    "Rafael Uribe",
                    "Torca",
                    "Arborizadora",
                    "Restrepo",
                    "Rincón de Suba",
                    "Fontibón",
                    "Puente Aranda",
                    "Kennedy",
                    "Suba",
                    "Tabora",
                    "Engativá",
                    "Tintal",
                    "Centro Histórico",
                    "Barrios Unidos",
                    "Toberín",
                    "Salitre",
                    "Teusaquillo",
                    "Britalia",
                    "Niza",
                    "Chapinero",
                    "Usaquén"
                  ],
                  "yaxis": "y"
                }
              ],
              "layout": {
                "barmode": "relative",
                "height": 800,
                "legend": {
                  "tracegroupgap": 0
                },
                "template": {
                  "data": {
                    "bar": [
                      {
                        "error_x": {
                          "color": "#2a3f5f"
                        },
                        "error_y": {
                          "color": "#2a3f5f"
                        },
                        "marker": {
                          "line": {
                            "color": "#E5ECF6",
                            "width": 0.5
                          },
                          "pattern": {
                            "fillmode": "overlay",
                            "size": 10,
                            "solidity": 0.2
                          }
                        },
                        "type": "bar"
                      }
                    ],
                    "barpolar": [
                      {
                        "marker": {
                          "line": {
                            "color": "#E5ECF6",
                            "width": 0.5
                          },
                          "pattern": {
                            "fillmode": "overlay",
                            "size": 10,
                            "solidity": 0.2
                          }
                        },
                        "type": "barpolar"
                      }
                    ],
                    "carpet": [
                      {
                        "aaxis": {
                          "endlinecolor": "#2a3f5f",
                          "gridcolor": "white",
                          "linecolor": "white",
                          "minorgridcolor": "white",
                          "startlinecolor": "#2a3f5f"
                        },
                        "baxis": {
                          "endlinecolor": "#2a3f5f",
                          "gridcolor": "white",
                          "linecolor": "white",
                          "minorgridcolor": "white",
                          "startlinecolor": "#2a3f5f"
                        },
                        "type": "carpet"
                      }
                    ],
                    "choropleth": [
                      {
                        "colorbar": {
                          "outlinewidth": 0,
                          "ticks": ""
                        },
                        "type": "choropleth"
                      }
                    ],
                    "contour": [
                      {
                        "colorbar": {
                          "outlinewidth": 0,
                          "ticks": ""
                        },
                        "colorscale": [
                          [
                            0,
                            "#0d0887"
                          ],
                          [
                            0.1111111111111111,
                            "#46039f"
                          ],
                          [
                            0.2222222222222222,
                            "#7201a8"
                          ],
                          [
                            0.3333333333333333,
                            "#9c179e"
                          ],
                          [
                            0.4444444444444444,
                            "#bd3786"
                          ],
                          [
                            0.5555555555555556,
                            "#d8576b"
                          ],
                          [
                            0.6666666666666666,
                            "#ed7953"
                          ],
                          [
                            0.7777777777777778,
                            "#fb9f3a"
                          ],
                          [
                            0.8888888888888888,
                            "#fdca26"
                          ],
                          [
                            1,
                            "#f0f921"
                          ]
                        ],
                        "type": "contour"
                      }
                    ],
                    "contourcarpet": [
                      {
                        "colorbar": {
                          "outlinewidth": 0,
                          "ticks": ""
                        },
                        "type": "contourcarpet"
                      }
                    ],
                    "heatmap": [
                      {
                        "colorbar": {
                          "outlinewidth": 0,
                          "ticks": ""
                        },
                        "colorscale": [
                          [
                            0,
                            "#0d0887"
                          ],
                          [
                            0.1111111111111111,
                            "#46039f"
                          ],
                          [
                            0.2222222222222222,
                            "#7201a8"
                          ],
                          [
                            0.3333333333333333,
                            "#9c179e"
                          ],
                          [
                            0.4444444444444444,
                            "#bd3786"
                          ],
                          [
                            0.5555555555555556,
                            "#d8576b"
                          ],
                          [
                            0.6666666666666666,
                            "#ed7953"
                          ],
                          [
                            0.7777777777777778,
                            "#fb9f3a"
                          ],
                          [
                            0.8888888888888888,
                            "#fdca26"
                          ],
                          [
                            1,
                            "#f0f921"
                          ]
                        ],
                        "type": "heatmap"
                      }
                    ],
                    "heatmapgl": [
                      {
                        "colorbar": {
                          "outlinewidth": 0,
                          "ticks": ""
                        },
                        "colorscale": [
                          [
                            0,
                            "#0d0887"
                          ],
                          [
                            0.1111111111111111,
                            "#46039f"
                          ],
                          [
                            0.2222222222222222,
                            "#7201a8"
                          ],
                          [
                            0.3333333333333333,
                            "#9c179e"
                          ],
                          [
                            0.4444444444444444,
                            "#bd3786"
                          ],
                          [
                            0.5555555555555556,
                            "#d8576b"
                          ],
                          [
                            0.6666666666666666,
                            "#ed7953"
                          ],
                          [
                            0.7777777777777778,
                            "#fb9f3a"
                          ],
                          [
                            0.8888888888888888,
                            "#fdca26"
                          ],
                          [
                            1,
                            "#f0f921"
                          ]
                        ],
                        "type": "heatmapgl"
                      }
                    ],
                    "histogram": [
                      {
                        "marker": {
                          "pattern": {
                            "fillmode": "overlay",
                            "size": 10,
                            "solidity": 0.2
                          }
                        },
                        "type": "histogram"
                      }
                    ],
                    "histogram2d": [
                      {
                        "colorbar": {
                          "outlinewidth": 0,
                          "ticks": ""
                        },
                        "colorscale": [
                          [
                            0,
                            "#0d0887"
                          ],
                          [
                            0.1111111111111111,
                            "#46039f"
                          ],
                          [
                            0.2222222222222222,
                            "#7201a8"
                          ],
                          [
                            0.3333333333333333,
                            "#9c179e"
                          ],
                          [
                            0.4444444444444444,
                            "#bd3786"
                          ],
                          [
                            0.5555555555555556,
                            "#d8576b"
                          ],
                          [
                            0.6666666666666666,
                            "#ed7953"
                          ],
                          [
                            0.7777777777777778,
                            "#fb9f3a"
                          ],
                          [
                            0.8888888888888888,
                            "#fdca26"
                          ],
                          [
                            1,
                            "#f0f921"
                          ]
                        ],
                        "type": "histogram2d"
                      }
                    ],
                    "histogram2dcontour": [
                      {
                        "colorbar": {
                          "outlinewidth": 0,
                          "ticks": ""
                        },
                        "colorscale": [
                          [
                            0,
                            "#0d0887"
                          ],
                          [
                            0.1111111111111111,
                            "#46039f"
                          ],
                          [
                            0.2222222222222222,
                            "#7201a8"
                          ],
                          [
                            0.3333333333333333,
                            "#9c179e"
                          ],
                          [
                            0.4444444444444444,
                            "#bd3786"
                          ],
                          [
                            0.5555555555555556,
                            "#d8576b"
                          ],
                          [
                            0.6666666666666666,
                            "#ed7953"
                          ],
                          [
                            0.7777777777777778,
                            "#fb9f3a"
                          ],
                          [
                            0.8888888888888888,
                            "#fdca26"
                          ],
                          [
                            1,
                            "#f0f921"
                          ]
                        ],
                        "type": "histogram2dcontour"
                      }
                    ],
                    "mesh3d": [
                      {
                        "colorbar": {
                          "outlinewidth": 0,
                          "ticks": ""
                        },
                        "type": "mesh3d"
                      }
                    ],
                    "parcoords": [
                      {
                        "line": {
                          "colorbar": {
                            "outlinewidth": 0,
                            "ticks": ""
                          }
                        },
                        "type": "parcoords"
                      }
                    ],
                    "pie": [
                      {
                        "automargin": true,
                        "type": "pie"
                      }
                    ],
                    "scatter": [
                      {
                        "fillpattern": {
                          "fillmode": "overlay",
                          "size": 10,
                          "solidity": 0.2
                        },
                        "type": "scatter"
                      }
                    ],
                    "scatter3d": [
                      {
                        "line": {
                          "colorbar": {
                            "outlinewidth": 0,
                            "ticks": ""
                          }
                        },
                        "marker": {
                          "colorbar": {
                            "outlinewidth": 0,
                            "ticks": ""
                          }
                        },
                        "type": "scatter3d"
                      }
                    ],
                    "scattercarpet": [
                      {
                        "marker": {
                          "colorbar": {
                            "outlinewidth": 0,
                            "ticks": ""
                          }
                        },
                        "type": "scattercarpet"
                      }
                    ],
                    "scattergeo": [
                      {
                        "marker": {
                          "colorbar": {
                            "outlinewidth": 0,
                            "ticks": ""
                          }
                        },
                        "type": "scattergeo"
                      }
                    ],
                    "scattergl": [
                      {
                        "marker": {
                          "colorbar": {
                            "outlinewidth": 0,
                            "ticks": ""
                          }
                        },
                        "type": "scattergl"
                      }
                    ],
                    "scattermapbox": [
                      {
                        "marker": {
                          "colorbar": {
                            "outlinewidth": 0,
                            "ticks": ""
                          }
                        },
                        "type": "scattermapbox"
                      }
                    ],
                    "scatterpolar": [
                      {
                        "marker": {
                          "colorbar": {
                            "outlinewidth": 0,
                            "ticks": ""
                          }
                        },
                        "type": "scatterpolar"
                      }
                    ],
                    "scatterpolargl": [
                      {
                        "marker": {
                          "colorbar": {
                            "outlinewidth": 0,
                            "ticks": ""
                          }
                        },
                        "type": "scatterpolargl"
                      }
                    ],
                    "scatterternary": [
                      {
                        "marker": {
                          "colorbar": {
                            "outlinewidth": 0,
                            "ticks": ""
                          }
                        },
                        "type": "scatterternary"
                      }
                    ],
                    "surface": [
                      {
                        "colorbar": {
                          "outlinewidth": 0,
                          "ticks": ""
                        },
                        "colorscale": [
                          [
                            0,
                            "#0d0887"
                          ],
                          [
                            0.1111111111111111,
                            "#46039f"
                          ],
                          [
                            0.2222222222222222,
                            "#7201a8"
                          ],
                          [
                            0.3333333333333333,
                            "#9c179e"
                          ],
                          [
                            0.4444444444444444,
                            "#bd3786"
                          ],
                          [
                            0.5555555555555556,
                            "#d8576b"
                          ],
                          [
                            0.6666666666666666,
                            "#ed7953"
                          ],
                          [
                            0.7777777777777778,
                            "#fb9f3a"
                          ],
                          [
                            0.8888888888888888,
                            "#fdca26"
                          ],
                          [
                            1,
                            "#f0f921"
                          ]
                        ],
                        "type": "surface"
                      }
                    ],
                    "table": [
                      {
                        "cells": {
                          "fill": {
                            "color": "#EBF0F8"
                          },
                          "line": {
                            "color": "white"
                          }
                        },
                        "header": {
                          "fill": {
                            "color": "#C8D4E3"
                          },
                          "line": {
                            "color": "white"
                          }
                        },
                        "type": "table"
                      }
                    ]
                  },
                  "layout": {
                    "annotationdefaults": {
                      "arrowcolor": "#2a3f5f",
                      "arrowhead": 0,
                      "arrowwidth": 1
                    },
                    "autotypenumbers": "strict",
                    "coloraxis": {
                      "colorbar": {
                        "outlinewidth": 0,
                        "ticks": ""
                      }
                    },
                    "colorscale": {
                      "diverging": [
                        [
                          0,
                          "#8e0152"
                        ],
                        [
                          0.1,
                          "#c51b7d"
                        ],
                        [
                          0.2,
                          "#de77ae"
                        ],
                        [
                          0.3,
                          "#f1b6da"
                        ],
                        [
                          0.4,
                          "#fde0ef"
                        ],
                        [
                          0.5,
                          "#f7f7f7"
                        ],
                        [
                          0.6,
                          "#e6f5d0"
                        ],
                        [
                          0.7,
                          "#b8e186"
                        ],
                        [
                          0.8,
                          "#7fbc41"
                        ],
                        [
                          0.9,
                          "#4d9221"
                        ],
                        [
                          1,
                          "#276419"
                        ]
                      ],
                      "sequential": [
                        [
                          0,
                          "#0d0887"
                        ],
                        [
                          0.1111111111111111,
                          "#46039f"
                        ],
                        [
                          0.2222222222222222,
                          "#7201a8"
                        ],
                        [
                          0.3333333333333333,
                          "#9c179e"
                        ],
                        [
                          0.4444444444444444,
                          "#bd3786"
                        ],
                        [
                          0.5555555555555556,
                          "#d8576b"
                        ],
                        [
                          0.6666666666666666,
                          "#ed7953"
                        ],
                        [
                          0.7777777777777778,
                          "#fb9f3a"
                        ],
                        [
                          0.8888888888888888,
                          "#fdca26"
                        ],
                        [
                          1,
                          "#f0f921"
                        ]
                      ],
                      "sequentialminus": [
                        [
                          0,
                          "#0d0887"
                        ],
                        [
                          0.1111111111111111,
                          "#46039f"
                        ],
                        [
                          0.2222222222222222,
                          "#7201a8"
                        ],
                        [
                          0.3333333333333333,
                          "#9c179e"
                        ],
                        [
                          0.4444444444444444,
                          "#bd3786"
                        ],
                        [
                          0.5555555555555556,
                          "#d8576b"
                        ],
                        [
                          0.6666666666666666,
                          "#ed7953"
                        ],
                        [
                          0.7777777777777778,
                          "#fb9f3a"
                        ],
                        [
                          0.8888888888888888,
                          "#fdca26"
                        ],
                        [
                          1,
                          "#f0f921"
                        ]
                      ]
                    },
                    "colorway": [
                      "#636efa",
                      "#EF553B",
                      "#00cc96",
                      "#ab63fa",
                      "#FFA15A",
                      "#19d3f3",
                      "#FF6692",
                      "#B6E880",
                      "#FF97FF",
                      "#FECB52"
                    ],
                    "font": {
                      "color": "#2a3f5f"
                    },
                    "geo": {
                      "bgcolor": "white",
                      "lakecolor": "white",
                      "landcolor": "#E5ECF6",
                      "showlakes": true,
                      "showland": true,
                      "subunitcolor": "white"
                    },
                    "hoverlabel": {
                      "align": "left"
                    },
                    "hovermode": "closest",
                    "mapbox": {
                      "style": "light"
                    },
                    "paper_bgcolor": "white",
                    "plot_bgcolor": "#E5ECF6",
                    "polar": {
                      "angularaxis": {
                        "gridcolor": "white",
                        "linecolor": "white",
                        "ticks": ""
                      },
                      "bgcolor": "#E5ECF6",
                      "radialaxis": {
                        "gridcolor": "white",
                        "linecolor": "white",
                        "ticks": ""
                      }
                    },
                    "scene": {
                      "xaxis": {
                        "backgroundcolor": "#E5ECF6",
                        "gridcolor": "white",
                        "gridwidth": 2,
                        "linecolor": "white",
                        "showbackground": true,
                        "ticks": "",
                        "zerolinecolor": "white"
                      },
                      "yaxis": {
                        "backgroundcolor": "#E5ECF6",
                        "gridcolor": "white",
                        "gridwidth": 2,
                        "linecolor": "white",
                        "showbackground": true,
                        "ticks": "",
                        "zerolinecolor": "white"
                      },
                      "zaxis": {
                        "backgroundcolor": "#E5ECF6",
                        "gridcolor": "white",
                        "gridwidth": 2,
                        "linecolor": "white",
                        "showbackground": true,
                        "ticks": "",
                        "zerolinecolor": "white"
                      }
                    },
                    "shapedefaults": {
                      "line": {
                        "color": "#2a3f5f"
                      }
                    },
                    "ternary": {
                      "aaxis": {
                        "gridcolor": "white",
                        "linecolor": "white",
                        "ticks": ""
                      },
                      "baxis": {
                        "gridcolor": "white",
                        "linecolor": "white",
                        "ticks": ""
                      },
                      "bgcolor": "#E5ECF6",
                      "caxis": {
                        "gridcolor": "white",
                        "linecolor": "white",
                        "ticks": ""
                      }
                    },
                    "title": {
                      "x": 0.05
                    },
                    "xaxis": {
                      "automargin": true,
                      "gridcolor": "white",
                      "linecolor": "white",
                      "ticks": "",
                      "title": {
                        "standoff": 15
                      },
                      "zerolinecolor": "white",
                      "zerolinewidth": 2
                    },
                    "yaxis": {
                      "automargin": true,
                      "gridcolor": "white",
                      "linecolor": "white",
                      "ticks": "",
                      "title": {
                        "standoff": 15
                      },
                      "zerolinecolor": "white",
                      "zerolinewidth": 2
                    }
                  }
                },
                "title": {
                  "text": "Ofertas de Inmuebles por UPL"
                },
                "width": 600,
                "xaxis": {
                  "anchor": "y",
                  "domain": [
                    0,
                    1
                  ],
                  "title": {
                    "text": "Ofertas"
                  }
                },
                "yaxis": {
                  "anchor": "x",
                  "domain": [
                    0,
                    1
                  ],
                  "title": {
                    "text": "Nombre UPL"
                  }
                }
              }
            }
          },
          "metadata": {},
          "output_type": "display_data"
        }
      ],
      "source": [
        "fig = px.bar(\n",
        "    df_ofertas_upl.sort_values(by='ofertas', ascending=True),\n",
        "    x='ofertas',\n",
        "    y='nombre',\n",
        "    orientation='h',\n",
        "    labels={'ofertas': 'Ofertas', 'nombre': 'Nombre UPL'},\n",
        "    title='Ofertas de Inmuebles por UPL',\n",
        "    # marker_\n",
        ")\n",
        "\n",
        "fig.update_layout(\n",
        "    width=600,\n",
        "    height=800,\n",
        ")\n",
        "\n",
        "fig.show()"
      ]
    },
    {
      "cell_type": "markdown",
      "metadata": {},
      "source": [
        "### Mapa"
      ]
    },
    {
      "cell_type": "markdown",
      "metadata": {},
      "source": [
        "Para añadir la dimensión geográfica al número de ofertas por UPL, es necesario verlo a través de un mapa. Esto permite analizar patrones y tendencias a traves del espacio.\n",
        "1. (**Recomendado**) Visualizar la versión desplegada en página web en [este link](https://santigonzalezz.github.io/habi_prueba_data_science/mapa_ofertas_upls.html)\n",
        "1. Visualizar el mapa en las celdas siguientes, sin embargo, se encuentra limitada la interactividad y es posible errores al guardar el archivo y no ejecutar las celdas"
      ]
    },
    {
      "cell_type": "code",
      "execution_count": 21,
      "metadata": {},
      "outputs": [
        {
          "name": "stdout",
          "output_type": "stream",
          "text": [
            "User Guide: https://docs.kepler.gl/docs/keplergl-jupyter\n"
          ]
        }
      ],
      "source": [
        "# Create the map object\n",
        "mapa_ofertas_upls = KeplerGl(\n",
        "    height=500,\n",
        "    # data={'ofertas_upl': df_ofertas_upl}\n",
        ")\n",
        "\n",
        "# Add the data of ofertas per upl\n",
        "mapa_ofertas_upls.add_data(df_ofertas_upl, 'Ofertas UPL')\n",
        "\n",
        "# Add the data of inmuebles\n",
        "mapa_ofertas_upls.add_data(df_inmuebles[~df_inmuebles['codigo_upl'].isna()][['id', 'geometry']], 'Inmuebles')\n",
        "\n",
        "# Read the config of the map as a json\n",
        "# with open('Data/config_mapa_ofertas_upls.json') as file:\n",
        "#     config_mapa_ofertas_upls = json.load(file)\n",
        "\n",
        "# Read the config of the map as a json\n",
        "config_mapa_ofertas_upls = json.loads(\n",
        "    '{\"version\": \"v1\", \"config\": {\"visState\": {\"filters\": [], \"layers\": [{\"id\": \"5l8szv\", \"type\": \"geojson\", \"config\": {\"dataId\": \"Inmuebles\", \"label\": \"Inmuebles\", \"color\": [240, 109, 109], \"highlightColor\": [252, 242, 26, 255], \"columns\": {\"geojson\": \"geometry\"}, \"isVisible\": true, \"visConfig\": {\"opacity\": 0.8, \"strokeOpacity\": 0.8, \"thickness\": 0, \"strokeColor\": null, \"colorRange\": {\"name\": \"Global Warming\", \"type\": \"sequential\", \"category\": \"Uber\", \"colors\": [\"#5A1846\", \"#900C3F\", \"#C70039\", \"#E3611C\", \"#F1920E\", \"#FFC300\"]}, \"strokeColorRange\": {\"name\": \"Global Warming\", \"type\": \"sequential\", \"category\": \"Uber\", \"colors\": [\"#5A1846\", \"#900C3F\", \"#C70039\", \"#E3611C\", \"#F1920E\", \"#FFC300\"]}, \"radius\": 1.5, \"sizeRange\": [0, 10], \"radiusRange\": [0, 50], \"heightRange\": [0, 500], \"elevationScale\": 5, \"enableElevationZoomFactor\": true, \"stroked\": false, \"filled\": true, \"enable3d\": false, \"wireframe\": false}, \"hidden\": false, \"textLabel\": [{\"field\": null, \"color\": [255, 255, 255], \"size\": 18, \"offset\": [0, 0], \"anchor\": \"start\", \"alignment\": \"center\"}]}, \"visualChannels\": {\"colorField\": null, \"colorScale\": \"quantile\", \"strokeColorField\": null, \"strokeColorScale\": \"quantile\", \"sizeField\": null, \"sizeScale\": \"linear\", \"heightField\": null, \"heightScale\": \"linear\", \"radiusField\": null, \"radiusScale\": \"linear\"}}, {\"id\": \"zfp3c9d\", \"type\": \"geojson\", \"config\": {\"dataId\": \"Ofertas UPL\", \"label\": \"Ofertas UPL\", \"color\": [18, 147, 154], \"highlightColor\": [252, 242, 26, 255], \"columns\": {\"geojson\": \"geometry\"}, \"isVisible\": true, \"visConfig\": {\"opacity\": 0.8, \"strokeOpacity\": 0.8, \"thickness\": 0.5, \"strokeColor\": [221, 178, 124], \"colorRange\": {\"name\": \"ColorBrewer Blues-9\", \"type\": \"singlehue\", \"category\": \"ColorBrewer\", \"colors\": [\"#f7fbff\", \"#deebf7\", \"#c6dbef\", \"#9ecae1\", \"#6baed6\", \"#4292c6\", \"#2171b5\", \"#08519c\", \"#08306b\"]}, \"strokeColorRange\": {\"name\": \"Global Warming\", \"type\": \"sequential\", \"category\": \"Uber\", \"colors\": [\"#5A1846\", \"#900C3F\", \"#C70039\", \"#E3611C\", \"#F1920E\", \"#FFC300\"]}, \"radius\": 10, \"sizeRange\": [0, 10], \"radiusRange\": [0, 50], \"heightRange\": [0, 500], \"elevationScale\": 5, \"enableElevationZoomFactor\": true, \"stroked\": true, \"filled\": true, \"enable3d\": false, \"wireframe\": false}, \"hidden\": false, \"textLabel\": [{\"field\": null, \"color\": [255, 255, 255], \"size\": 18, \"offset\": [0, 0], \"anchor\": \"start\", \"alignment\": \"center\"}]}, \"visualChannels\": {\"colorField\": {\"name\": \"ofertas\", \"type\": \"integer\"}, \"colorScale\": \"quantile\", \"strokeColorField\": null, \"strokeColorScale\": \"quantile\", \"sizeField\": null, \"sizeScale\": \"linear\", \"heightField\": null, \"heightScale\": \"linear\", \"radiusField\": null, \"radiusScale\": \"linear\"}}], \"interactionConfig\": {\"tooltip\": {\"fieldsToShow\": {\"Ofertas UPL\": [{\"name\": \"codigo_upl\", \"format\": null}, {\"name\": \"ofertas\", \"format\": null}, {\"name\": \"porcentaje\", \"format\": null}, {\"name\": \"porcentaje_acum\", \"format\": null}, {\"name\": \"nombre\", \"format\": null}], \"Inmuebles\": [{\"name\": \"id\", \"format\": null}]}, \"compareMode\": false, \"compareType\": \"absolute\", \"enabled\": true}, \"brush\": {\"size\": 0.5, \"enabled\": false}, \"geocoder\": {\"enabled\": false}, \"coordinate\": {\"enabled\": false}}, \"layerBlending\": \"normal\", \"splitMaps\": [], \"animationConfig\": {\"currentTime\": null, \"speed\": 1}}, \"mapState\": {\"bearing\": 0, \"dragRotate\": false, \"latitude\": 4.645019643007336, \"longitude\": -74.10667522580201, \"pitch\": 0, \"zoom\": 9.887221846798692, \"isSplit\": false}, \"mapStyle\": {\"styleType\": \"dark\", \"topLayerGroups\": {}, \"visibleLayerGroups\": {\"label\": true, \"road\": true, \"border\": false, \"building\": true, \"water\": true, \"land\": true, \"3d building\": false}, \"threeDBuildingColor\": [9.665468314072013, 17.18305478057247, 31.1442867897876], \"mapStyles\": {}}}}'\n",
        ")\n",
        "\n",
        "# Set the configuration to the map\n",
        "mapa_ofertas_upls.config = config_mapa_ofertas_upls"
      ]
    },
    {
      "cell_type": "code",
      "execution_count": 22,
      "metadata": {},
      "outputs": [
        {
          "data": {
            "application/vnd.jupyter.widget-view+json": {
              "model_id": "2c350bc607334611b92bfc01e582f477",
              "version_major": 2,
              "version_minor": 0
            },
            "text/plain": [
              "KeplerGl(config={'version': 'v1', 'config': {'visState': {'filters': [], 'layers': [{'id': '5l8szv', 'type': '…"
            ]
          },
          "metadata": {},
          "output_type": "display_data"
        }
      ],
      "source": [
        "# mapa_ofertas_upls"
      ]
    },
    {
      "cell_type": "code",
      "execution_count": 21,
      "metadata": {},
      "outputs": [],
      "source": [
        "# Save the config to a json file\n",
        "# config_mapa_ofertas_upls = mapa_ofertas_upls.config\n",
        "# with open(\"Data/config_mapa_ofertas_upls.json\", \"w\") as outfile: \n",
        "#     json.dump(config_mapa_ofertas_upls, outfile)"
      ]
    },
    {
      "cell_type": "code",
      "execution_count": 22,
      "metadata": {},
      "outputs": [
        {
          "name": "stdout",
          "output_type": "stream",
          "text": [
            "Map saved to mapa_ofertas_upls.html!\n"
          ]
        }
      ],
      "source": [
        "# Save the map as an html\n",
        "# config_mapa_ofertas_upls = mapa_ofertas_upls.config\n",
        "# mapa_ofertas_upls.save_to_html(\n",
        "#   data={\n",
        "#     'Ofertas UPL': df_ofertas_upl,\n",
        "#     'Inmuebles': df_inmuebles[~df_inmuebles['codigo_upl'].isna()][['id', 'geometry']],\n",
        "#   },\n",
        "#   config=config_mapa_ofertas_upls,\n",
        "#   file_name='mapa_ofertas_upls.html'\n",
        "# )"
      ]
    },
    {
      "cell_type": "markdown",
      "metadata": {
        "id": "6M5wNTNKyXZo"
      },
      "source": [
        "## **Punto 4**"
      ]
    },
    {
      "cell_type": "markdown",
      "metadata": {
        "id": "73H0WsGaysDQ"
      },
      "source": [
        "Hacer una i de Moran para saber las UPLs HH, HL, LH y LL según el modelo para el valor por m2 de los inmuebles por UPL."
      ]
    },
    {
      "cell_type": "code",
      "execution_count": null,
      "metadata": {
        "id": "Bx-ow_UbyglP"
      },
      "outputs": [],
      "source": [
        "\"\"\"\n",
        "Escriba aquí su código. De ser necesario, puede agregar más celdas.\n",
        "\"\"\""
      ]
    },
    {
      "cell_type": "markdown",
      "metadata": {
        "id": "CtXdUQaEyv4T"
      },
      "source": [
        "## **Punto 5**"
      ]
    },
    {
      "cell_type": "markdown",
      "metadata": {
        "id": "SxnBiIDCy7Ir"
      },
      "source": [
        "Hacer el modelo de predicción de precios de su preferencia para valorar los inmuebles proporcionados y presentar el MAPE y RMSE del resultado."
      ]
    },
    {
      "cell_type": "code",
      "execution_count": null,
      "metadata": {
        "id": "WPbBhgKlyyfV"
      },
      "outputs": [],
      "source": [
        "\"\"\"\n",
        "Escriba aquí su código. De ser necesario, puede agregar más celdas.\n",
        "\"\"\""
      ]
    },
    {
      "cell_type": "markdown",
      "metadata": {
        "id": "yeeUHZLfUL_L"
      },
      "source": [
        "## **Punto 6**"
      ]
    },
    {
      "cell_type": "markdown",
      "metadata": {
        "id": "zK-8z58eT2LL"
      },
      "source": [
        "Buscar y descargar base de datos de construcciones catastrales y base de datos de predios catastrales, todo con código. Es decir, utilizando las librerías necesarias para extraer datos desde internet sin necesidad de leerlos de manera local. Sugerimos la librería urllib. La información de estas fuentes la puede obtener de:\n",
        "\n",
        "1. Construcciones catastrales: 'https://datosabiertos.bogota.gov.co/dataset/397ccbd8-e2c5-4700-b90e-b68d101ab0c5/resource/7e426e92-c168-4a99-ab67-25b16f070a68/download/dcons_geoson.zip'\n",
        "2. Predios catastrales: 'https://datosabiertos.bogota.gov.co/dataset/e812efbe-acc3-4e70-9bfc-30fd2134afdd/resource/efb4e03d-173e-42b2-b35a-f10d6d610df2/download/predios_csv_1020.zip'"
      ]
    },
    {
      "cell_type": "code",
      "execution_count": null,
      "metadata": {
        "id": "V2uigbDbWQU0"
      },
      "outputs": [],
      "source": [
        "\"\"\"\n",
        "Escriba aquí su código. De ser necesario, puede agregar más celdas.\n",
        "\"\"\""
      ]
    },
    {
      "cell_type": "markdown",
      "metadata": {},
      "source": [
        "### Construcciones Catastrales"
      ]
    },
    {
      "cell_type": "markdown",
      "metadata": {},
      "source": [
        "#### Nota:\n",
        "\n",
        "Cada uno de los archivos se descargó y leyó únicamente con código. Sin embargo, dado que la descarga tomaba bastante tiempo con archivos superando 1 GB de memoria una vez descargados los archivos se descargaron localmente para ahorrar los tiempos de descarga y solo leer desde memoria.\n",
        "\n",
        "A pesar de estas medidas, el código comentado en la siguiente celda es funcional y fue la manera en que se descargaron y leyeron los archivos originalmente."
      ]
    },
    {
      "cell_type": "code",
      "execution_count": 2,
      "metadata": {},
      "outputs": [
        {
          "name": "stdout",
          "output_type": "stream",
          "text": [
            "<class 'bytes'>\n",
            "<class 'zipfile.ZipFile'>\n",
            "<class 'zipfile.ZipExtFile'>\n",
            "<class 'bytes'>\n",
            "<class 'str'>\n",
            "<class 'dict'>\n"
          ]
        }
      ],
      "source": [
        "# Time: 5 min\n",
        "# # Url\n",
        "# url_construcciones = 'https://datosabiertos.bogota.gov.co/dataset/397ccbd8-e2c5-4700-b90e-b68d101ab0c5/resource/7e426e92-c168-4a99-ab67-25b16f070a68/download/dcons_geoson.zip'\n",
        "\n",
        "# # Request\n",
        "# response_construcciones = urlopen(url_construcciones)\n",
        "\n",
        "# # Check the status of the request (200 = Works)\n",
        "# status_response_construcciones = response_construcciones.status\n",
        "# assert(status_response_construcciones == 200)\n",
        "\n",
        "# # Read the file\n",
        "# zip_data = response_construcciones.read()\n",
        "# print(type(zip_data))\n",
        "\n",
        "# # Manage the file with an special library for .zip files\n",
        "# zip_file = zipfile.ZipFile(file=io.BytesIO(zip_data))\n",
        "# print(type(zip_file))\n",
        "\n",
        "# # Unzip the File from the .zip folder\n",
        "# unzipped_file_construcciones = zip_file.open(zip_file.namelist()[0])\n",
        "# print(type(unzipped_file_construcciones))\n",
        "\n",
        "# # Read the file\n",
        "# file_construcciones = unzipped_file_construcciones.read()\n",
        "# print(type(file_construcciones))\n",
        "\n",
        "# # Convert from bytes to str\n",
        "# string_construcciones = file_construcciones.decode()\n",
        "# print(type(string_construcciones))\n",
        "\n",
        "# # Conver from str to dict\n",
        "# dict_construcciones = json.loads(string_construcciones)\n",
        "# print(type(dict_construcciones))\n",
        "\n",
        "# # Check the type is dict so it can be accessed easily\n",
        "# assert(type(dict_construcciones) == dict)"
      ]
    },
    {
      "cell_type": "code",
      "execution_count": 2,
      "metadata": {},
      "outputs": [],
      "source": [
        "# Time: 45 seconds\n",
        "with open('Data/CONST.GEOJSON') as file:\n",
        "    dict_construcciones = json.load(file)"
      ]
    },
    {
      "cell_type": "code",
      "execution_count": 3,
      "metadata": {},
      "outputs": [
        {
          "name": "stdout",
          "output_type": "stream",
          "text": [
            "type: <class 'str'>\n",
            "name: <class 'str'>\n",
            "crs: <class 'dict'>\n",
            "features: <class 'list'>\n"
          ]
        }
      ],
      "source": [
        "# Print the different keys in the dict and the type of value of each key\n",
        "for key, value in dict_construcciones.items():\n",
        "  print(f'{key}: {type(value)}')"
      ]
    },
    {
      "cell_type": "code",
      "execution_count": 35,
      "metadata": {},
      "outputs": [],
      "source": [
        "# Create a geodataframe with the rows of the file\n",
        "# Since it is a json create the dataframe with a list of dicts\n",
        "list_rows = []\n",
        "\n",
        "# The data is int the features key, where each row is a list\n",
        "for row in dict_construcciones['features']:\n",
        "  \n",
        "  # Get the attributes (columns of the dataframe)\n",
        "  attributes = row['properties']\n",
        "  \n",
        "  # Conver the geometry to a polygon\n",
        "  geometry = row['geometry']  \n",
        "  type = geometry['type']\n",
        "  coordinates = geometry['coordinates']\n",
        "  \n",
        "  # Check the type of geometry\n",
        "  if type == 'Polygon':\n",
        "    polygon = Polygon(coordinates[0])\n",
        "  else:\n",
        "    polygon = MultiPolygon([Polygon(poly[0]) for poly in coordinates])\n",
        "  \n",
        "  # Add the polygon to the attributes with the key 'geometry'\n",
        "  attributes['geometry'] = polygon\n",
        "\n",
        "  # Add the dict of the row to the list of dicts\n",
        "  list_rows.append(attributes)\n",
        "\n",
        "# Create the GeoDataFrame\n",
        "df_construcciones = gpd.GeoDataFrame(\n",
        "    list_rows,\n",
        "    geometry='geometry'\n",
        ")\n",
        "\n",
        "# Change the column names to lowercase (just a toc)\n",
        "df_construcciones.columns = [column.lower() for column in (df_construcciones.columns)]\n",
        "\n",
        "# Keep only the columns needed\n",
        "list_columns_to_keep = [\n",
        "  'concodigo',\n",
        "  'lotecodigo',\n",
        "  'geometry',\n",
        "]\n",
        "df_construcciones = df_construcciones[list_columns_to_keep]\n",
        "df_construcciones['concodigo'] = df_construcciones['concodigo'].str.pad(width=25, side='right', fillchar='0')"
      ]
    },
    {
      "cell_type": "code",
      "execution_count": 37,
      "metadata": {},
      "outputs": [],
      "source": [
        "df_construcciones['cod_faltante_const'] = df_construcciones.concodigo.str[12+3:]\n",
        "df_construcciones.drop_duplicates(subset='concodigo', keep='first', inplace=True)\n",
        "df_construcciones.reset_index(drop=True, inplace=True)"
      ]
    },
    {
      "cell_type": "code",
      "execution_count": 38,
      "metadata": {},
      "outputs": [
        {
          "data": {
            "text/html": [
              "<div>\n",
              "<style scoped>\n",
              "    .dataframe tbody tr th:only-of-type {\n",
              "        vertical-align: middle;\n",
              "    }\n",
              "\n",
              "    .dataframe tbody tr th {\n",
              "        vertical-align: top;\n",
              "    }\n",
              "\n",
              "    .dataframe thead th {\n",
              "        text-align: right;\n",
              "    }\n",
              "</style>\n",
              "<table border=\"1\" class=\"dataframe\">\n",
              "  <thead>\n",
              "    <tr style=\"text-align: right;\">\n",
              "      <th></th>\n",
              "      <th>concodigo</th>\n",
              "      <th>lotecodigo</th>\n",
              "      <th>geometry</th>\n",
              "      <th>cod_faltante_const</th>\n",
              "    </tr>\n",
              "  </thead>\n",
              "  <tbody>\n",
              "    <tr>\n",
              "      <th>0</th>\n",
              "      <td>0025480350020000000000000</td>\n",
              "      <td>002548035002</td>\n",
              "      <td>POLYGON ((-74.11373 4.50524, -74.11372 4.50526...</td>\n",
              "      <td>0000000000</td>\n",
              "    </tr>\n",
              "    <tr>\n",
              "      <th>1</th>\n",
              "      <td>0092250210170000000000000</td>\n",
              "      <td>009225021017</td>\n",
              "      <td>POLYGON ((-74.11187 4.74702, -74.11187 4.74701...</td>\n",
              "      <td>0000000000</td>\n",
              "    </tr>\n",
              "    <tr>\n",
              "      <th>2</th>\n",
              "      <td>0056360120130000000000000</td>\n",
              "      <td>005636012013</td>\n",
              "      <td>POLYGON ((-74.14227 4.71458, -74.14234 4.71454...</td>\n",
              "      <td>0000000000</td>\n",
              "    </tr>\n",
              "    <tr>\n",
              "      <th>3</th>\n",
              "      <td>0056360740160000000000000</td>\n",
              "      <td>005636074016</td>\n",
              "      <td>POLYGON ((-74.14249 4.71810, -74.14254 4.71807...</td>\n",
              "      <td>0000000000</td>\n",
              "    </tr>\n",
              "    <tr>\n",
              "      <th>4</th>\n",
              "      <td>0056360740150000000000000</td>\n",
              "      <td>005636074015</td>\n",
              "      <td>POLYGON ((-74.14258 4.71811, -74.14258 4.71810...</td>\n",
              "      <td>0000000000</td>\n",
              "    </tr>\n",
              "  </tbody>\n",
              "</table>\n",
              "</div>"
            ],
            "text/plain": [
              "                   concodigo    lotecodigo  \\\n",
              "0  0025480350020000000000000  002548035002   \n",
              "1  0092250210170000000000000  009225021017   \n",
              "2  0056360120130000000000000  005636012013   \n",
              "3  0056360740160000000000000  005636074016   \n",
              "4  0056360740150000000000000  005636074015   \n",
              "\n",
              "                                            geometry cod_faltante_const  \n",
              "0  POLYGON ((-74.11373 4.50524, -74.11372 4.50526...         0000000000  \n",
              "1  POLYGON ((-74.11187 4.74702, -74.11187 4.74701...         0000000000  \n",
              "2  POLYGON ((-74.14227 4.71458, -74.14234 4.71454...         0000000000  \n",
              "3  POLYGON ((-74.14249 4.71810, -74.14254 4.71807...         0000000000  \n",
              "4  POLYGON ((-74.14258 4.71811, -74.14258 4.71810...         0000000000  "
            ]
          },
          "execution_count": 38,
          "metadata": {},
          "output_type": "execute_result"
        }
      ],
      "source": [
        "df_construcciones.head()"
      ]
    },
    {
      "cell_type": "code",
      "execution_count": 39,
      "metadata": {},
      "outputs": [
        {
          "name": "stdout",
          "output_type": "stream",
          "text": [
            "<class 'geopandas.geodataframe.GeoDataFrame'>\n",
            "RangeIndex: 565096 entries, 0 to 565095\n",
            "Data columns (total 4 columns):\n",
            " #   Column              Non-Null Count   Dtype   \n",
            "---  ------              --------------   -----   \n",
            " 0   concodigo           565096 non-null  object  \n",
            " 1   lotecodigo          565096 non-null  object  \n",
            " 2   geometry            565096 non-null  geometry\n",
            " 3   cod_faltante_const  565096 non-null  object  \n",
            "dtypes: geometry(1), object(3)\n",
            "memory usage: 17.2+ MB\n"
          ]
        }
      ],
      "source": [
        "df_construcciones.info()"
      ]
    },
    {
      "cell_type": "code",
      "execution_count": null,
      "metadata": {},
      "outputs": [
        {
          "data": {
            "text/html": [
              "<div>\n",
              "<style scoped>\n",
              "    .dataframe tbody tr th:only-of-type {\n",
              "        vertical-align: middle;\n",
              "    }\n",
              "\n",
              "    .dataframe tbody tr th {\n",
              "        vertical-align: top;\n",
              "    }\n",
              "\n",
              "    .dataframe thead th {\n",
              "        text-align: right;\n",
              "    }\n",
              "</style>\n",
              "<table border=\"1\" class=\"dataframe\">\n",
              "  <thead>\n",
              "    <tr style=\"text-align: right;\">\n",
              "      <th></th>\n",
              "      <th>count</th>\n",
              "    </tr>\n",
              "    <tr>\n",
              "      <th>cod_faltante_const</th>\n",
              "      <th></th>\n",
              "    </tr>\n",
              "  </thead>\n",
              "  <tbody>\n",
              "    <tr>\n",
              "      <th>0000000000</th>\n",
              "      <td>565086</td>\n",
              "    </tr>\n",
              "    <tr>\n",
              "      <th>1000000000</th>\n",
              "      <td>3</td>\n",
              "    </tr>\n",
              "    <tr>\n",
              "      <th>0000000009</th>\n",
              "      <td>2</td>\n",
              "    </tr>\n",
              "    <tr>\n",
              "      <th>0010000000</th>\n",
              "      <td>2</td>\n",
              "    </tr>\n",
              "    <tr>\n",
              "      <th>2000000000</th>\n",
              "      <td>1</td>\n",
              "    </tr>\n",
              "    <tr>\n",
              "      <th>3000000000</th>\n",
              "      <td>1</td>\n",
              "    </tr>\n",
              "    <tr>\n",
              "      <th>8000000000</th>\n",
              "      <td>1</td>\n",
              "    </tr>\n",
              "  </tbody>\n",
              "</table>\n",
              "</div>"
            ],
            "text/plain": [
              "                     count\n",
              "cod_faltante_const        \n",
              "0000000000          565086\n",
              "1000000000               3\n",
              "0000000009               2\n",
              "0010000000               2\n",
              "2000000000               1\n",
              "3000000000               1\n",
              "8000000000               1"
            ]
          },
          "execution_count": 17,
          "metadata": {},
          "output_type": "execute_result"
        }
      ],
      "source": [
        "df_construcciones.groupby(['cod_faltante_const']).agg(count=('concodigo', 'count')).sort_values(by='count', ascending=False)"
      ]
    },
    {
      "cell_type": "markdown",
      "metadata": {},
      "source": [
        "### Predios Catastrales"
      ]
    },
    {
      "cell_type": "markdown",
      "metadata": {},
      "source": [
        "#### Nota:\n",
        "\n",
        "Cada uno de los archivos se descargó y leyó únicamente con código. Sin embargo, dado que la descarga tomaba bastante tiempo con archivos superando 1 GB de memoria una vez descargados los archivos se descargaron localmente para ahorrar los tiempos de descarga y solo leer desde memoria.\n",
        "\n",
        "A pesar de estas medidas, el código comentado en la siguiente celda es funcional y fue la manera en que se descargaron y leyeron los archivos originalmente."
      ]
    },
    {
      "cell_type": "code",
      "execution_count": 2,
      "metadata": {},
      "outputs": [
        {
          "name": "stdout",
          "output_type": "stream",
          "text": [
            "<class 'bytes'>\n",
            "<class 'zipfile.ZipFile'>\n",
            "<class 'zipfile.ZipExtFile'>\n",
            "<class 'bytes'>\n",
            "<class 'str'>\n"
          ]
        }
      ],
      "source": [
        "# Time: 5 min\n",
        "# # Url\n",
        "# url_predios = 'https://datosabiertos.bogota.gov.co/dataset/e812efbe-acc3-4e70-9bfc-30fd2134afdd/resource/efb4e03d-173e-42b2-b35a-f10d6d610df2/download/predios_csv_1020.zip'\n",
        "\n",
        "# # Request\n",
        "# response_predios = urlopen(url_predios)\n",
        "\n",
        "# # Check the status of the request (200 = Works)\n",
        "# status_response_predios = response_predios.status\n",
        "# assert(status_response_predios == 200)\n",
        "\n",
        "# # Read the file\n",
        "# zip_data = response_predios.read()\n",
        "# print(type(zip_data))\n",
        "\n",
        "# # Manage the file with an special library for .zip files\n",
        "# zip_file = zipfile.ZipFile(file=io.BytesIO(zip_data))\n",
        "# print(type(zip_file))\n",
        "\n",
        "# # Unzip the File from the .zip folder\n",
        "# unzipped_file_predios = zip_file.open(zip_file.namelist()[0])\n",
        "# print(type(unzipped_file_predios))\n",
        "\n",
        "# # Read the file\n",
        "# file_predios = unzipped_file_predios.read()\n",
        "# print(type(file_predios))\n",
        "\n",
        "# # Convert from bytes to str\n",
        "# string_predios = file_predios.decode()\n",
        "# print(type(string_predios))\n",
        "\n",
        "# # 'Save' in memory the file and then read it as a traditional csv file\n",
        "# csv_predios = io.StringIO(string_predios)\n",
        "# df_predios = pd.read_csv(csv_predios, sep=';')\n",
        "# print(type(df_predios))\n",
        "\n",
        "# # Check the type is DataFrame\n",
        "# assert(isinstance(df_predios, pd.DataFrame))"
      ]
    },
    {
      "cell_type": "code",
      "execution_count": 9,
      "metadata": {},
      "outputs": [
        {
          "name": "stderr",
          "output_type": "stream",
          "text": [
            "C:\\Users\\SGM\\AppData\\Local\\Temp\\ipykernel_10192\\3775391407.py:2: DtypeWarning: Columns (19) have mixed types. Specify dtype option on import or set low_memory=False.\n",
            "  df_predios = pd.read_csv('Data/Predios_CSV_1020.csv', sep=';')\n"
          ]
        }
      ],
      "source": [
        "# Time: 45 seconds\n",
        "df_predios = pd.read_csv('Data/Predios_CSV_1020.csv', sep=';')"
      ]
    },
    {
      "cell_type": "code",
      "execution_count": 10,
      "metadata": {},
      "outputs": [],
      "source": [
        "# Change the column names to lowercase (just a toc)\n",
        "df_predios.columns = [column.lower() for column in (df_predios.columns)]\n",
        "\n",
        "# Keep only the columns needed\n",
        "list_columns_to_keep = [\n",
        "    'objectid',\n",
        "    'prenbarrio',\n",
        "    'precmanz',\n",
        "    'precpredio',\n",
        "    'preccons',\n",
        "    'precresto',\n",
        "    'precedcata',\n",
        "    'prenupre',\n",
        "    'pretprop',\n",
        "    'preclase',\n",
        "    'precdestin',\n",
        "    'preclcons',\n",
        "    'barmanpre',\n",
        "]\n",
        "df_predios = df_predios[list_columns_to_keep]"
      ]
    },
    {
      "cell_type": "code",
      "execution_count": 11,
      "metadata": {},
      "outputs": [],
      "source": [
        "df_predios['lote_codigo'] = df_predios['barmanpre'].astype(str).str.pad(width=12, side='left', fillchar='0')\n",
        "df_predios['cod_cons'] = df_predios['preccons'].astype(str).str.pad(width=3, side='left', fillchar='0')\n",
        "df_predios['construccion_codigo'] = (df_predios['lote_codigo'] + df_predios['cod_cons']).str.pad(width=25, side='right', fillchar='0')"
      ]
    },
    {
      "cell_type": "code",
      "execution_count": 12,
      "metadata": {},
      "outputs": [
        {
          "data": {
            "text/html": [
              "<div>\n",
              "<style scoped>\n",
              "    .dataframe tbody tr th:only-of-type {\n",
              "        vertical-align: middle;\n",
              "    }\n",
              "\n",
              "    .dataframe tbody tr th {\n",
              "        vertical-align: top;\n",
              "    }\n",
              "\n",
              "    .dataframe thead th {\n",
              "        text-align: right;\n",
              "    }\n",
              "</style>\n",
              "<table border=\"1\" class=\"dataframe\">\n",
              "  <thead>\n",
              "    <tr style=\"text-align: right;\">\n",
              "      <th></th>\n",
              "      <th>objectid</th>\n",
              "      <th>prenbarrio</th>\n",
              "      <th>precmanz</th>\n",
              "      <th>precpredio</th>\n",
              "      <th>preccons</th>\n",
              "      <th>precresto</th>\n",
              "      <th>precedcata</th>\n",
              "      <th>prenupre</th>\n",
              "      <th>pretprop</th>\n",
              "      <th>preclase</th>\n",
              "      <th>precdestin</th>\n",
              "      <th>preclcons</th>\n",
              "      <th>barmanpre</th>\n",
              "      <th>lote_codigo</th>\n",
              "      <th>cod_cons</th>\n",
              "      <th>construccion_codigo</th>\n",
              "    </tr>\n",
              "  </thead>\n",
              "  <tbody>\n",
              "    <tr>\n",
              "      <th>0</th>\n",
              "      <td>1</td>\n",
              "      <td>BUENOS AIRES</td>\n",
              "      <td>23</td>\n",
              "      <td>2</td>\n",
              "      <td>1</td>\n",
              "      <td>1006</td>\n",
              "      <td>001102230200101006</td>\n",
              "      <td>110010111040200230002901010006</td>\n",
              "      <td>6</td>\n",
              "      <td>P</td>\n",
              "      <td>1</td>\n",
              "      <td>R</td>\n",
              "      <td>1102023002</td>\n",
              "      <td>001102023002</td>\n",
              "      <td>001</td>\n",
              "      <td>0011020230020010000000000</td>\n",
              "    </tr>\n",
              "    <tr>\n",
              "      <th>1</th>\n",
              "      <td>2</td>\n",
              "      <td>BUENOS AIRES</td>\n",
              "      <td>23</td>\n",
              "      <td>2</td>\n",
              "      <td>1</td>\n",
              "      <td>1007</td>\n",
              "      <td>001102230200101007</td>\n",
              "      <td>110010111040200230002901010007</td>\n",
              "      <td>6</td>\n",
              "      <td>P</td>\n",
              "      <td>1</td>\n",
              "      <td>R</td>\n",
              "      <td>1102023002</td>\n",
              "      <td>001102023002</td>\n",
              "      <td>001</td>\n",
              "      <td>0011020230020010000000000</td>\n",
              "    </tr>\n",
              "    <tr>\n",
              "      <th>2</th>\n",
              "      <td>3</td>\n",
              "      <td>BUENOS AIRES</td>\n",
              "      <td>23</td>\n",
              "      <td>2</td>\n",
              "      <td>1</td>\n",
              "      <td>1008</td>\n",
              "      <td>001102230200101008</td>\n",
              "      <td>110010111040200230002901010008</td>\n",
              "      <td>6</td>\n",
              "      <td>P</td>\n",
              "      <td>1</td>\n",
              "      <td>R</td>\n",
              "      <td>1102023002</td>\n",
              "      <td>001102023002</td>\n",
              "      <td>001</td>\n",
              "      <td>0011020230020010000000000</td>\n",
              "    </tr>\n",
              "    <tr>\n",
              "      <th>3</th>\n",
              "      <td>4</td>\n",
              "      <td>BUENOS AIRES</td>\n",
              "      <td>23</td>\n",
              "      <td>2</td>\n",
              "      <td>1</td>\n",
              "      <td>1010</td>\n",
              "      <td>001102230200101010</td>\n",
              "      <td>110010111040200230002901010010</td>\n",
              "      <td>6</td>\n",
              "      <td>P</td>\n",
              "      <td>1</td>\n",
              "      <td>R</td>\n",
              "      <td>1102023002</td>\n",
              "      <td>001102023002</td>\n",
              "      <td>001</td>\n",
              "      <td>0011020230020010000000000</td>\n",
              "    </tr>\n",
              "    <tr>\n",
              "      <th>4</th>\n",
              "      <td>5</td>\n",
              "      <td>BUENOS AIRES</td>\n",
              "      <td>23</td>\n",
              "      <td>2</td>\n",
              "      <td>1</td>\n",
              "      <td>1011</td>\n",
              "      <td>001102230200101011</td>\n",
              "      <td>110010111040200230002901010011</td>\n",
              "      <td>6</td>\n",
              "      <td>P</td>\n",
              "      <td>1</td>\n",
              "      <td>R</td>\n",
              "      <td>1102023002</td>\n",
              "      <td>001102023002</td>\n",
              "      <td>001</td>\n",
              "      <td>0011020230020010000000000</td>\n",
              "    </tr>\n",
              "  </tbody>\n",
              "</table>\n",
              "</div>"
            ],
            "text/plain": [
              "   objectid    prenbarrio  precmanz  precpredio  preccons  precresto  \\\n",
              "0         1  BUENOS AIRES        23           2         1       1006   \n",
              "1         2  BUENOS AIRES        23           2         1       1007   \n",
              "2         3  BUENOS AIRES        23           2         1       1008   \n",
              "3         4  BUENOS AIRES        23           2         1       1010   \n",
              "4         5  BUENOS AIRES        23           2         1       1011   \n",
              "\n",
              "           precedcata                        prenupre  pretprop preclase  \\\n",
              "0  001102230200101006  110010111040200230002901010006         6        P   \n",
              "1  001102230200101007  110010111040200230002901010007         6        P   \n",
              "2  001102230200101008  110010111040200230002901010008         6        P   \n",
              "3  001102230200101010  110010111040200230002901010010         6        P   \n",
              "4  001102230200101011  110010111040200230002901010011         6        P   \n",
              "\n",
              "   precdestin preclcons   barmanpre   lote_codigo cod_cons  \\\n",
              "0           1         R  1102023002  001102023002      001   \n",
              "1           1         R  1102023002  001102023002      001   \n",
              "2           1         R  1102023002  001102023002      001   \n",
              "3           1         R  1102023002  001102023002      001   \n",
              "4           1         R  1102023002  001102023002      001   \n",
              "\n",
              "         construccion_codigo  \n",
              "0  0011020230020010000000000  \n",
              "1  0011020230020010000000000  \n",
              "2  0011020230020010000000000  \n",
              "3  0011020230020010000000000  \n",
              "4  0011020230020010000000000  "
            ]
          },
          "execution_count": 12,
          "metadata": {},
          "output_type": "execute_result"
        }
      ],
      "source": [
        "df_predios.head()"
      ]
    },
    {
      "cell_type": "code",
      "execution_count": 13,
      "metadata": {},
      "outputs": [
        {
          "name": "stdout",
          "output_type": "stream",
          "text": [
            "<class 'pandas.core.frame.DataFrame'>\n",
            "RangeIndex: 3511266 entries, 0 to 3511265\n",
            "Data columns (total 16 columns):\n",
            " #   Column               Dtype \n",
            "---  ------               ----- \n",
            " 0   objectid             int64 \n",
            " 1   prenbarrio           object\n",
            " 2   precmanz             int64 \n",
            " 3   precpredio           int64 \n",
            " 4   preccons             int64 \n",
            " 5   precresto            int64 \n",
            " 6   precedcata           object\n",
            " 7   prenupre             object\n",
            " 8   pretprop             int64 \n",
            " 9   preclase             object\n",
            " 10  precdestin           int64 \n",
            " 11  preclcons            object\n",
            " 12  barmanpre            int64 \n",
            " 13  lote_codigo          object\n",
            " 14  cod_cons             object\n",
            " 15  construccion_codigo  object\n",
            "dtypes: int64(8), object(8)\n",
            "memory usage: 428.6+ MB\n"
          ]
        }
      ],
      "source": [
        "df_predios.info()"
      ]
    },
    {
      "cell_type": "markdown",
      "metadata": {},
      "source": [
        "### Join Espacial"
      ]
    },
    {
      "cell_type": "markdown",
      "metadata": {
        "id": "W0T8pHHOVahp"
      },
      "source": [
        "Hacer un join espacial entre la base de datos de predios y la de UPLs y calcular cuántos predios residenciales existen en Bogotá por UPL."
      ]
    },
    {
      "cell_type": "code",
      "execution_count": null,
      "metadata": {
        "id": "s-JZdQpUUJKj"
      },
      "outputs": [],
      "source": [
        "\"\"\"\n",
        "Escriba aquí su código. De ser necesario, puede agregar más celdas.\n",
        "\"\"\""
      ]
    },
    {
      "cell_type": "code",
      "execution_count": 42,
      "metadata": {},
      "outputs": [],
      "source": [
        "df_construcciones_upls = gpd.sjoin(\n",
        "    df_construcciones,\n",
        "    df_upls[['codigo_upl', 'geometry']],\n",
        "    how='left',\n",
        "    predicate='within'\n",
        ")"
      ]
    },
    {
      "cell_type": "code",
      "execution_count": 45,
      "metadata": {},
      "outputs": [
        {
          "data": {
            "text/html": [
              "<div>\n",
              "<style scoped>\n",
              "    .dataframe tbody tr th:only-of-type {\n",
              "        vertical-align: middle;\n",
              "    }\n",
              "\n",
              "    .dataframe tbody tr th {\n",
              "        vertical-align: top;\n",
              "    }\n",
              "\n",
              "    .dataframe thead th {\n",
              "        text-align: right;\n",
              "    }\n",
              "</style>\n",
              "<table border=\"1\" class=\"dataframe\">\n",
              "  <thead>\n",
              "    <tr style=\"text-align: right;\">\n",
              "      <th></th>\n",
              "      <th>concodigo</th>\n",
              "      <th>lotecodigo</th>\n",
              "      <th>geometry</th>\n",
              "      <th>cod_faltante_const</th>\n",
              "      <th>index_right</th>\n",
              "      <th>codigo_upl</th>\n",
              "    </tr>\n",
              "  </thead>\n",
              "  <tbody>\n",
              "    <tr>\n",
              "      <th>0</th>\n",
              "      <td>0025480350020000000000000</td>\n",
              "      <td>002548035002</td>\n",
              "      <td>POLYGON ((-74.11373 4.50524, -74.11372 4.50526...</td>\n",
              "      <td>0000000000</td>\n",
              "      <td>25.0</td>\n",
              "      <td>UPL05</td>\n",
              "    </tr>\n",
              "    <tr>\n",
              "      <th>1</th>\n",
              "      <td>0092250210170000000000000</td>\n",
              "      <td>009225021017</td>\n",
              "      <td>POLYGON ((-74.11187 4.74702, -74.11187 4.74701...</td>\n",
              "      <td>0000000000</td>\n",
              "      <td>19.0</td>\n",
              "      <td>UPL10</td>\n",
              "    </tr>\n",
              "    <tr>\n",
              "      <th>2</th>\n",
              "      <td>0056360120130000000000000</td>\n",
              "      <td>005636012013</td>\n",
              "      <td>POLYGON ((-74.14227 4.71458, -74.14234 4.71454...</td>\n",
              "      <td>0000000000</td>\n",
              "      <td>16.0</td>\n",
              "      <td>UPL11</td>\n",
              "    </tr>\n",
              "    <tr>\n",
              "      <th>3</th>\n",
              "      <td>0056360740160000000000000</td>\n",
              "      <td>005636074016</td>\n",
              "      <td>POLYGON ((-74.14249 4.71810, -74.14254 4.71807...</td>\n",
              "      <td>0000000000</td>\n",
              "      <td>16.0</td>\n",
              "      <td>UPL11</td>\n",
              "    </tr>\n",
              "    <tr>\n",
              "      <th>4</th>\n",
              "      <td>0056360740150000000000000</td>\n",
              "      <td>005636074015</td>\n",
              "      <td>POLYGON ((-74.14258 4.71811, -74.14258 4.71810...</td>\n",
              "      <td>0000000000</td>\n",
              "      <td>16.0</td>\n",
              "      <td>UPL11</td>\n",
              "    </tr>\n",
              "  </tbody>\n",
              "</table>\n",
              "</div>"
            ],
            "text/plain": [
              "                   concodigo    lotecodigo  \\\n",
              "0  0025480350020000000000000  002548035002   \n",
              "1  0092250210170000000000000  009225021017   \n",
              "2  0056360120130000000000000  005636012013   \n",
              "3  0056360740160000000000000  005636074016   \n",
              "4  0056360740150000000000000  005636074015   \n",
              "\n",
              "                                            geometry cod_faltante_const  \\\n",
              "0  POLYGON ((-74.11373 4.50524, -74.11372 4.50526...         0000000000   \n",
              "1  POLYGON ((-74.11187 4.74702, -74.11187 4.74701...         0000000000   \n",
              "2  POLYGON ((-74.14227 4.71458, -74.14234 4.71454...         0000000000   \n",
              "3  POLYGON ((-74.14249 4.71810, -74.14254 4.71807...         0000000000   \n",
              "4  POLYGON ((-74.14258 4.71811, -74.14258 4.71810...         0000000000   \n",
              "\n",
              "   index_right codigo_upl  \n",
              "0         25.0      UPL05  \n",
              "1         19.0      UPL10  \n",
              "2         16.0      UPL11  \n",
              "3         16.0      UPL11  \n",
              "4         16.0      UPL11  "
            ]
          },
          "execution_count": 45,
          "metadata": {},
          "output_type": "execute_result"
        }
      ],
      "source": [
        "df_construcciones_upls.head()"
      ]
    },
    {
      "cell_type": "code",
      "execution_count": 44,
      "metadata": {},
      "outputs": [
        {
          "name": "stdout",
          "output_type": "stream",
          "text": [
            "<class 'geopandas.geodataframe.GeoDataFrame'>\n",
            "Index: 565096 entries, 0 to 565095\n",
            "Data columns (total 6 columns):\n",
            " #   Column              Non-Null Count   Dtype   \n",
            "---  ------              --------------   -----   \n",
            " 0   concodigo           565096 non-null  object  \n",
            " 1   lotecodigo          565096 non-null  object  \n",
            " 2   geometry            565096 non-null  geometry\n",
            " 3   cod_faltante_const  565096 non-null  object  \n",
            " 4   index_right         564763 non-null  float64 \n",
            " 5   codigo_upl          564763 non-null  object  \n",
            "dtypes: float64(1), geometry(1), object(4)\n",
            "memory usage: 30.2+ MB\n"
          ]
        }
      ],
      "source": [
        "df_construcciones_upls.info()"
      ]
    },
    {
      "cell_type": "code",
      "execution_count": 51,
      "metadata": {},
      "outputs": [],
      "source": [
        "df_predios_join = pd.merge(\n",
        "    df_predios,\n",
        "    df_construcciones_upls[['concodigo', 'codigo_upl']],\n",
        "    how='left',\n",
        "    left_on='construccion_codigo',\n",
        "    right_on='concodigo'\n",
        ")"
      ]
    },
    {
      "cell_type": "code",
      "execution_count": 53,
      "metadata": {},
      "outputs": [
        {
          "data": {
            "text/html": [
              "<div>\n",
              "<style scoped>\n",
              "    .dataframe tbody tr th:only-of-type {\n",
              "        vertical-align: middle;\n",
              "    }\n",
              "\n",
              "    .dataframe tbody tr th {\n",
              "        vertical-align: top;\n",
              "    }\n",
              "\n",
              "    .dataframe thead th {\n",
              "        text-align: right;\n",
              "    }\n",
              "</style>\n",
              "<table border=\"1\" class=\"dataframe\">\n",
              "  <thead>\n",
              "    <tr style=\"text-align: right;\">\n",
              "      <th></th>\n",
              "      <th>objectid</th>\n",
              "      <th>prenbarrio</th>\n",
              "      <th>precmanz</th>\n",
              "      <th>precpredio</th>\n",
              "      <th>preccons</th>\n",
              "      <th>precresto</th>\n",
              "      <th>precedcata</th>\n",
              "      <th>prenupre</th>\n",
              "      <th>pretprop</th>\n",
              "      <th>preclase</th>\n",
              "      <th>precdestin</th>\n",
              "      <th>preclcons</th>\n",
              "      <th>barmanpre</th>\n",
              "      <th>lote_codigo</th>\n",
              "      <th>cod_cons</th>\n",
              "      <th>construccion_codigo</th>\n",
              "      <th>concodigo</th>\n",
              "      <th>codigo_upl</th>\n",
              "    </tr>\n",
              "  </thead>\n",
              "  <tbody>\n",
              "    <tr>\n",
              "      <th>0</th>\n",
              "      <td>1</td>\n",
              "      <td>BUENOS AIRES</td>\n",
              "      <td>23</td>\n",
              "      <td>2</td>\n",
              "      <td>1</td>\n",
              "      <td>1006</td>\n",
              "      <td>001102230200101006</td>\n",
              "      <td>110010111040200230002901010006</td>\n",
              "      <td>6</td>\n",
              "      <td>P</td>\n",
              "      <td>1</td>\n",
              "      <td>R</td>\n",
              "      <td>1102023002</td>\n",
              "      <td>001102023002</td>\n",
              "      <td>001</td>\n",
              "      <td>0011020230020010000000000</td>\n",
              "      <td>NaN</td>\n",
              "      <td>NaN</td>\n",
              "    </tr>\n",
              "    <tr>\n",
              "      <th>1</th>\n",
              "      <td>2</td>\n",
              "      <td>BUENOS AIRES</td>\n",
              "      <td>23</td>\n",
              "      <td>2</td>\n",
              "      <td>1</td>\n",
              "      <td>1007</td>\n",
              "      <td>001102230200101007</td>\n",
              "      <td>110010111040200230002901010007</td>\n",
              "      <td>6</td>\n",
              "      <td>P</td>\n",
              "      <td>1</td>\n",
              "      <td>R</td>\n",
              "      <td>1102023002</td>\n",
              "      <td>001102023002</td>\n",
              "      <td>001</td>\n",
              "      <td>0011020230020010000000000</td>\n",
              "      <td>NaN</td>\n",
              "      <td>NaN</td>\n",
              "    </tr>\n",
              "    <tr>\n",
              "      <th>2</th>\n",
              "      <td>3</td>\n",
              "      <td>BUENOS AIRES</td>\n",
              "      <td>23</td>\n",
              "      <td>2</td>\n",
              "      <td>1</td>\n",
              "      <td>1008</td>\n",
              "      <td>001102230200101008</td>\n",
              "      <td>110010111040200230002901010008</td>\n",
              "      <td>6</td>\n",
              "      <td>P</td>\n",
              "      <td>1</td>\n",
              "      <td>R</td>\n",
              "      <td>1102023002</td>\n",
              "      <td>001102023002</td>\n",
              "      <td>001</td>\n",
              "      <td>0011020230020010000000000</td>\n",
              "      <td>NaN</td>\n",
              "      <td>NaN</td>\n",
              "    </tr>\n",
              "    <tr>\n",
              "      <th>3</th>\n",
              "      <td>4</td>\n",
              "      <td>BUENOS AIRES</td>\n",
              "      <td>23</td>\n",
              "      <td>2</td>\n",
              "      <td>1</td>\n",
              "      <td>1010</td>\n",
              "      <td>001102230200101010</td>\n",
              "      <td>110010111040200230002901010010</td>\n",
              "      <td>6</td>\n",
              "      <td>P</td>\n",
              "      <td>1</td>\n",
              "      <td>R</td>\n",
              "      <td>1102023002</td>\n",
              "      <td>001102023002</td>\n",
              "      <td>001</td>\n",
              "      <td>0011020230020010000000000</td>\n",
              "      <td>NaN</td>\n",
              "      <td>NaN</td>\n",
              "    </tr>\n",
              "    <tr>\n",
              "      <th>4</th>\n",
              "      <td>5</td>\n",
              "      <td>BUENOS AIRES</td>\n",
              "      <td>23</td>\n",
              "      <td>2</td>\n",
              "      <td>1</td>\n",
              "      <td>1011</td>\n",
              "      <td>001102230200101011</td>\n",
              "      <td>110010111040200230002901010011</td>\n",
              "      <td>6</td>\n",
              "      <td>P</td>\n",
              "      <td>1</td>\n",
              "      <td>R</td>\n",
              "      <td>1102023002</td>\n",
              "      <td>001102023002</td>\n",
              "      <td>001</td>\n",
              "      <td>0011020230020010000000000</td>\n",
              "      <td>NaN</td>\n",
              "      <td>NaN</td>\n",
              "    </tr>\n",
              "  </tbody>\n",
              "</table>\n",
              "</div>"
            ],
            "text/plain": [
              "   objectid    prenbarrio  precmanz  precpredio  preccons  precresto  \\\n",
              "0         1  BUENOS AIRES        23           2         1       1006   \n",
              "1         2  BUENOS AIRES        23           2         1       1007   \n",
              "2         3  BUENOS AIRES        23           2         1       1008   \n",
              "3         4  BUENOS AIRES        23           2         1       1010   \n",
              "4         5  BUENOS AIRES        23           2         1       1011   \n",
              "\n",
              "           precedcata                        prenupre  pretprop preclase  \\\n",
              "0  001102230200101006  110010111040200230002901010006         6        P   \n",
              "1  001102230200101007  110010111040200230002901010007         6        P   \n",
              "2  001102230200101008  110010111040200230002901010008         6        P   \n",
              "3  001102230200101010  110010111040200230002901010010         6        P   \n",
              "4  001102230200101011  110010111040200230002901010011         6        P   \n",
              "\n",
              "   precdestin preclcons   barmanpre   lote_codigo cod_cons  \\\n",
              "0           1         R  1102023002  001102023002      001   \n",
              "1           1         R  1102023002  001102023002      001   \n",
              "2           1         R  1102023002  001102023002      001   \n",
              "3           1         R  1102023002  001102023002      001   \n",
              "4           1         R  1102023002  001102023002      001   \n",
              "\n",
              "         construccion_codigo concodigo codigo_upl  \n",
              "0  0011020230020010000000000       NaN        NaN  \n",
              "1  0011020230020010000000000       NaN        NaN  \n",
              "2  0011020230020010000000000       NaN        NaN  \n",
              "3  0011020230020010000000000       NaN        NaN  \n",
              "4  0011020230020010000000000       NaN        NaN  "
            ]
          },
          "execution_count": 53,
          "metadata": {},
          "output_type": "execute_result"
        }
      ],
      "source": [
        "df_predios_join.head()"
      ]
    },
    {
      "cell_type": "code",
      "execution_count": 54,
      "metadata": {},
      "outputs": [
        {
          "name": "stdout",
          "output_type": "stream",
          "text": [
            "<class 'pandas.core.frame.DataFrame'>\n",
            "RangeIndex: 3511266 entries, 0 to 3511265\n",
            "Data columns (total 18 columns):\n",
            " #   Column               Dtype \n",
            "---  ------               ----- \n",
            " 0   objectid             int64 \n",
            " 1   prenbarrio           object\n",
            " 2   precmanz             int64 \n",
            " 3   precpredio           int64 \n",
            " 4   preccons             int64 \n",
            " 5   precresto            int64 \n",
            " 6   precedcata           object\n",
            " 7   prenupre             object\n",
            " 8   pretprop             int64 \n",
            " 9   preclase             object\n",
            " 10  precdestin           int64 \n",
            " 11  preclcons            object\n",
            " 12  barmanpre            int64 \n",
            " 13  lote_codigo          object\n",
            " 14  cod_cons             object\n",
            " 15  construccion_codigo  object\n",
            " 16  concodigo            object\n",
            " 17  codigo_upl           object\n",
            "dtypes: int64(8), object(10)\n",
            "memory usage: 482.2+ MB\n"
          ]
        }
      ],
      "source": [
        "df_predios_join.info()"
      ]
    },
    {
      "cell_type": "code",
      "execution_count": 56,
      "metadata": {},
      "outputs": [
        {
          "data": {
            "text/html": [
              "<div>\n",
              "<style scoped>\n",
              "    .dataframe tbody tr th:only-of-type {\n",
              "        vertical-align: middle;\n",
              "    }\n",
              "\n",
              "    .dataframe tbody tr th {\n",
              "        vertical-align: top;\n",
              "    }\n",
              "\n",
              "    .dataframe thead th {\n",
              "        text-align: right;\n",
              "    }\n",
              "</style>\n",
              "<table border=\"1\" class=\"dataframe\">\n",
              "  <thead>\n",
              "    <tr style=\"text-align: right;\">\n",
              "      <th></th>\n",
              "      <th>objectid</th>\n",
              "      <th>prenbarrio</th>\n",
              "      <th>precmanz</th>\n",
              "      <th>precpredio</th>\n",
              "      <th>preccons</th>\n",
              "      <th>precresto</th>\n",
              "      <th>precedcata</th>\n",
              "      <th>prenupre</th>\n",
              "      <th>pretprop</th>\n",
              "      <th>preclase</th>\n",
              "      <th>precdestin</th>\n",
              "      <th>preclcons</th>\n",
              "      <th>barmanpre</th>\n",
              "      <th>lote_codigo</th>\n",
              "      <th>cod_cons</th>\n",
              "      <th>construccion_codigo</th>\n",
              "      <th>concodigo</th>\n",
              "      <th>codigo_upl</th>\n",
              "    </tr>\n",
              "  </thead>\n",
              "  <tbody>\n",
              "    <tr>\n",
              "      <th>35</th>\n",
              "      <td>36</td>\n",
              "      <td>BUENOS AIRES</td>\n",
              "      <td>40</td>\n",
              "      <td>1</td>\n",
              "      <td>1</td>\n",
              "      <td>1023</td>\n",
              "      <td>9S 5E 42 15</td>\n",
              "      <td>110010111040200400001901010023</td>\n",
              "      <td>6</td>\n",
              "      <td>P</td>\n",
              "      <td>1</td>\n",
              "      <td>R</td>\n",
              "      <td>1102040001</td>\n",
              "      <td>001102040001</td>\n",
              "      <td>001</td>\n",
              "      <td>0011020400010010000000000</td>\n",
              "      <td>0011020400010010000000000</td>\n",
              "      <td>UPL21</td>\n",
              "    </tr>\n",
              "    <tr>\n",
              "      <th>36</th>\n",
              "      <td>37</td>\n",
              "      <td>BUENOS AIRES</td>\n",
              "      <td>40</td>\n",
              "      <td>1</td>\n",
              "      <td>1</td>\n",
              "      <td>1024</td>\n",
              "      <td>9S 5E 42 16</td>\n",
              "      <td>110010111040200400001901010024</td>\n",
              "      <td>6</td>\n",
              "      <td>P</td>\n",
              "      <td>1</td>\n",
              "      <td>R</td>\n",
              "      <td>1102040001</td>\n",
              "      <td>001102040001</td>\n",
              "      <td>001</td>\n",
              "      <td>0011020400010010000000000</td>\n",
              "      <td>0011020400010010000000000</td>\n",
              "      <td>UPL21</td>\n",
              "    </tr>\n",
              "    <tr>\n",
              "      <th>37</th>\n",
              "      <td>38</td>\n",
              "      <td>BUENOS AIRES</td>\n",
              "      <td>40</td>\n",
              "      <td>1</td>\n",
              "      <td>1</td>\n",
              "      <td>1025</td>\n",
              "      <td>9S 5E 42 17</td>\n",
              "      <td>110010111040200400001901010025</td>\n",
              "      <td>6</td>\n",
              "      <td>P</td>\n",
              "      <td>1</td>\n",
              "      <td>R</td>\n",
              "      <td>1102040001</td>\n",
              "      <td>001102040001</td>\n",
              "      <td>001</td>\n",
              "      <td>0011020400010010000000000</td>\n",
              "      <td>0011020400010010000000000</td>\n",
              "      <td>UPL21</td>\n",
              "    </tr>\n",
              "    <tr>\n",
              "      <th>38</th>\n",
              "      <td>39</td>\n",
              "      <td>BUENOS AIRES</td>\n",
              "      <td>40</td>\n",
              "      <td>1</td>\n",
              "      <td>1</td>\n",
              "      <td>1026</td>\n",
              "      <td>9S 5E 42 18</td>\n",
              "      <td>110010111040200400001901010026</td>\n",
              "      <td>6</td>\n",
              "      <td>P</td>\n",
              "      <td>1</td>\n",
              "      <td>R</td>\n",
              "      <td>1102040001</td>\n",
              "      <td>001102040001</td>\n",
              "      <td>001</td>\n",
              "      <td>0011020400010010000000000</td>\n",
              "      <td>0011020400010010000000000</td>\n",
              "      <td>UPL21</td>\n",
              "    </tr>\n",
              "    <tr>\n",
              "      <th>39</th>\n",
              "      <td>40</td>\n",
              "      <td>BUENOS AIRES</td>\n",
              "      <td>40</td>\n",
              "      <td>1</td>\n",
              "      <td>1</td>\n",
              "      <td>1027</td>\n",
              "      <td>9S 5E 42 19</td>\n",
              "      <td>110010111040200400001901010027</td>\n",
              "      <td>6</td>\n",
              "      <td>P</td>\n",
              "      <td>1</td>\n",
              "      <td>R</td>\n",
              "      <td>1102040001</td>\n",
              "      <td>001102040001</td>\n",
              "      <td>001</td>\n",
              "      <td>0011020400010010000000000</td>\n",
              "      <td>0011020400010010000000000</td>\n",
              "      <td>UPL21</td>\n",
              "    </tr>\n",
              "    <tr>\n",
              "      <th>...</th>\n",
              "      <td>...</td>\n",
              "      <td>...</td>\n",
              "      <td>...</td>\n",
              "      <td>...</td>\n",
              "      <td>...</td>\n",
              "      <td>...</td>\n",
              "      <td>...</td>\n",
              "      <td>...</td>\n",
              "      <td>...</td>\n",
              "      <td>...</td>\n",
              "      <td>...</td>\n",
              "      <td>...</td>\n",
              "      <td>...</td>\n",
              "      <td>...</td>\n",
              "      <td>...</td>\n",
              "      <td>...</td>\n",
              "      <td>...</td>\n",
              "      <td>...</td>\n",
              "    </tr>\n",
              "    <tr>\n",
              "      <th>3511255</th>\n",
              "      <td>3511256</td>\n",
              "      <td>PARAISO QUIBA</td>\n",
              "      <td>53</td>\n",
              "      <td>2</td>\n",
              "      <td>0</td>\n",
              "      <td>0</td>\n",
              "      <td>204111530200000000</td>\n",
              "      <td>110010125196500530002000000000</td>\n",
              "      <td>6</td>\n",
              "      <td>N</td>\n",
              "      <td>1</td>\n",
              "      <td>R</td>\n",
              "      <td>2565053002</td>\n",
              "      <td>002565053002</td>\n",
              "      <td>000</td>\n",
              "      <td>0025650530020000000000000</td>\n",
              "      <td>0025650530020000000000000</td>\n",
              "      <td>UPL04</td>\n",
              "    </tr>\n",
              "    <tr>\n",
              "      <th>3511259</th>\n",
              "      <td>3511260</td>\n",
              "      <td>PARAISO QUIBA</td>\n",
              "      <td>53</td>\n",
              "      <td>6</td>\n",
              "      <td>0</td>\n",
              "      <td>0</td>\n",
              "      <td>204111530600000000</td>\n",
              "      <td>110010125196500530006000000000</td>\n",
              "      <td>6</td>\n",
              "      <td>N</td>\n",
              "      <td>1</td>\n",
              "      <td>R</td>\n",
              "      <td>2565053006</td>\n",
              "      <td>002565053006</td>\n",
              "      <td>000</td>\n",
              "      <td>0025650530060000000000000</td>\n",
              "      <td>0025650530060000000000000</td>\n",
              "      <td>UPL04</td>\n",
              "    </tr>\n",
              "    <tr>\n",
              "      <th>3511262</th>\n",
              "      <td>3511263</td>\n",
              "      <td>PARAISO QUIBA</td>\n",
              "      <td>53</td>\n",
              "      <td>9</td>\n",
              "      <td>0</td>\n",
              "      <td>0</td>\n",
              "      <td>204111530900000000</td>\n",
              "      <td>110010125196500530009000000000</td>\n",
              "      <td>6</td>\n",
              "      <td>N</td>\n",
              "      <td>1</td>\n",
              "      <td>R</td>\n",
              "      <td>2565053009</td>\n",
              "      <td>002565053009</td>\n",
              "      <td>000</td>\n",
              "      <td>0025650530090000000000000</td>\n",
              "      <td>0025650530090000000000000</td>\n",
              "      <td>UPL04</td>\n",
              "    </tr>\n",
              "    <tr>\n",
              "      <th>3511263</th>\n",
              "      <td>3511264</td>\n",
              "      <td>PARAISO QUIBA</td>\n",
              "      <td>53</td>\n",
              "      <td>10</td>\n",
              "      <td>0</td>\n",
              "      <td>0</td>\n",
              "      <td>204111531000000000</td>\n",
              "      <td>110010125196500530010000000000</td>\n",
              "      <td>6</td>\n",
              "      <td>N</td>\n",
              "      <td>1</td>\n",
              "      <td>R</td>\n",
              "      <td>2565053010</td>\n",
              "      <td>002565053010</td>\n",
              "      <td>000</td>\n",
              "      <td>0025650530100000000000000</td>\n",
              "      <td>0025650530100000000000000</td>\n",
              "      <td>UPL04</td>\n",
              "    </tr>\n",
              "    <tr>\n",
              "      <th>3511265</th>\n",
              "      <td>3511266</td>\n",
              "      <td>PARAISO QUIBA</td>\n",
              "      <td>53</td>\n",
              "      <td>12</td>\n",
              "      <td>0</td>\n",
              "      <td>0</td>\n",
              "      <td>204111531200000000</td>\n",
              "      <td>110010125196500530012000000000</td>\n",
              "      <td>6</td>\n",
              "      <td>N</td>\n",
              "      <td>1</td>\n",
              "      <td>R</td>\n",
              "      <td>2565053012</td>\n",
              "      <td>002565053012</td>\n",
              "      <td>000</td>\n",
              "      <td>0025650530120000000000000</td>\n",
              "      <td>0025650530120000000000000</td>\n",
              "      <td>UPL04</td>\n",
              "    </tr>\n",
              "  </tbody>\n",
              "</table>\n",
              "<p>1927193 rows × 18 columns</p>\n",
              "</div>"
            ],
            "text/plain": [
              "         objectid     prenbarrio  precmanz  precpredio  preccons  precresto  \\\n",
              "35             36   BUENOS AIRES        40           1         1       1023   \n",
              "36             37   BUENOS AIRES        40           1         1       1024   \n",
              "37             38   BUENOS AIRES        40           1         1       1025   \n",
              "38             39   BUENOS AIRES        40           1         1       1026   \n",
              "39             40   BUENOS AIRES        40           1         1       1027   \n",
              "...           ...            ...       ...         ...       ...        ...   \n",
              "3511255   3511256  PARAISO QUIBA        53           2         0          0   \n",
              "3511259   3511260  PARAISO QUIBA        53           6         0          0   \n",
              "3511262   3511263  PARAISO QUIBA        53           9         0          0   \n",
              "3511263   3511264  PARAISO QUIBA        53          10         0          0   \n",
              "3511265   3511266  PARAISO QUIBA        53          12         0          0   \n",
              "\n",
              "                 precedcata                        prenupre  pretprop  \\\n",
              "35              9S 5E 42 15  110010111040200400001901010023         6   \n",
              "36              9S 5E 42 16  110010111040200400001901010024         6   \n",
              "37              9S 5E 42 17  110010111040200400001901010025         6   \n",
              "38              9S 5E 42 18  110010111040200400001901010026         6   \n",
              "39              9S 5E 42 19  110010111040200400001901010027         6   \n",
              "...                     ...                             ...       ...   \n",
              "3511255  204111530200000000  110010125196500530002000000000         6   \n",
              "3511259  204111530600000000  110010125196500530006000000000         6   \n",
              "3511262  204111530900000000  110010125196500530009000000000         6   \n",
              "3511263  204111531000000000  110010125196500530010000000000         6   \n",
              "3511265  204111531200000000  110010125196500530012000000000         6   \n",
              "\n",
              "        preclase  precdestin preclcons   barmanpre   lote_codigo cod_cons  \\\n",
              "35             P           1         R  1102040001  001102040001      001   \n",
              "36             P           1         R  1102040001  001102040001      001   \n",
              "37             P           1         R  1102040001  001102040001      001   \n",
              "38             P           1         R  1102040001  001102040001      001   \n",
              "39             P           1         R  1102040001  001102040001      001   \n",
              "...          ...         ...       ...         ...           ...      ...   \n",
              "3511255        N           1         R  2565053002  002565053002      000   \n",
              "3511259        N           1         R  2565053006  002565053006      000   \n",
              "3511262        N           1         R  2565053009  002565053009      000   \n",
              "3511263        N           1         R  2565053010  002565053010      000   \n",
              "3511265        N           1         R  2565053012  002565053012      000   \n",
              "\n",
              "               construccion_codigo                  concodigo codigo_upl  \n",
              "35       0011020400010010000000000  0011020400010010000000000      UPL21  \n",
              "36       0011020400010010000000000  0011020400010010000000000      UPL21  \n",
              "37       0011020400010010000000000  0011020400010010000000000      UPL21  \n",
              "38       0011020400010010000000000  0011020400010010000000000      UPL21  \n",
              "39       0011020400010010000000000  0011020400010010000000000      UPL21  \n",
              "...                            ...                        ...        ...  \n",
              "3511255  0025650530020000000000000  0025650530020000000000000      UPL04  \n",
              "3511259  0025650530060000000000000  0025650530060000000000000      UPL04  \n",
              "3511262  0025650530090000000000000  0025650530090000000000000      UPL04  \n",
              "3511263  0025650530100000000000000  0025650530100000000000000      UPL04  \n",
              "3511265  0025650530120000000000000  0025650530120000000000000      UPL04  \n",
              "\n",
              "[1927193 rows x 18 columns]"
            ]
          },
          "execution_count": 56,
          "metadata": {},
          "output_type": "execute_result"
        }
      ],
      "source": [
        "df_predios_join[~df_predios_join['codigo_upl'].isna()]"
      ]
    },
    {
      "cell_type": "code",
      "execution_count": 73,
      "metadata": {},
      "outputs": [],
      "source": []
    },
    {
      "cell_type": "code",
      "execution_count": 78,
      "metadata": {},
      "outputs": [],
      "source": [
        "# Find the ofertas per UPL and sort it from higher to lower\n",
        "df_predios_residenciales_upl = df_predios_join[df_predios_join['preclcons'] == 'R'].groupby(['codigo_upl']).agg(predios=('objectid', 'count')).reset_index().sort_values(by='predios', ascending=False)\n",
        "\n",
        "# Find the percentage and since it is sorted the cumulative percentage to check rules as Pareto\n",
        "df_predios_residenciales_upl['porcentaje'] = df_predios_residenciales_upl['predios'] / df_predios_residenciales_upl['predios'].sum()\n",
        "df_predios_residenciales_upl['porcentaje_acum'] = df_predios_residenciales_upl['porcentaje'].cumsum()\n",
        "\n",
        "\n",
        "# Complete the information of the UPL to graph it\n",
        "df_predios_residenciales_upl = pd.merge(\n",
        "    df_predios_residenciales_upl,\n",
        "    df_upls,\n",
        "    how='left',\n",
        "    on='codigo_upl'\n",
        ")\n",
        "\n",
        "# Convert to geodataframe\n",
        "df_predios_residenciales_upl = gpd.GeoDataFrame(\n",
        "    df_predios_residenciales_upl,\n",
        "    geometry='geometry'\n",
        ")"
      ]
    },
    {
      "cell_type": "code",
      "execution_count": 79,
      "metadata": {},
      "outputs": [
        {
          "data": {
            "text/html": [
              "<div>\n",
              "<style scoped>\n",
              "    .dataframe tbody tr th:only-of-type {\n",
              "        vertical-align: middle;\n",
              "    }\n",
              "\n",
              "    .dataframe tbody tr th {\n",
              "        vertical-align: top;\n",
              "    }\n",
              "\n",
              "    .dataframe thead th {\n",
              "        text-align: right;\n",
              "    }\n",
              "</style>\n",
              "<table border=\"1\" class=\"dataframe\">\n",
              "  <thead>\n",
              "    <tr style=\"text-align: right;\">\n",
              "      <th></th>\n",
              "      <th>codigo_upl</th>\n",
              "      <th>predios</th>\n",
              "      <th>porcentaje</th>\n",
              "      <th>porcentaje_acum</th>\n",
              "      <th>nombre</th>\n",
              "      <th>vocacion</th>\n",
              "      <th>sector</th>\n",
              "      <th>geometry</th>\n",
              "    </tr>\n",
              "  </thead>\n",
              "  <tbody>\n",
              "    <tr>\n",
              "      <th>0</th>\n",
              "      <td>UPL25</td>\n",
              "      <td>155095</td>\n",
              "      <td>0.100861</td>\n",
              "      <td>0.100861</td>\n",
              "      <td>Usaquén</td>\n",
              "      <td>Urbano</td>\n",
              "      <td>Sector Norte</td>\n",
              "      <td>POLYGON ((-74.02093 4.72971, -74.02106 4.72966...</td>\n",
              "    </tr>\n",
              "    <tr>\n",
              "      <th>1</th>\n",
              "      <td>UPL24</td>\n",
              "      <td>84615</td>\n",
              "      <td>0.055027</td>\n",
              "      <td>0.155888</td>\n",
              "      <td>Chapinero</td>\n",
              "      <td>Urbano</td>\n",
              "      <td>Sector Centro Ampliado</td>\n",
              "      <td>POLYGON ((-74.05651 4.64143, -74.05650 4.64143...</td>\n",
              "    </tr>\n",
              "    <tr>\n",
              "      <th>2</th>\n",
              "      <td>UPL27</td>\n",
              "      <td>79506</td>\n",
              "      <td>0.051704</td>\n",
              "      <td>0.207592</td>\n",
              "      <td>Niza</td>\n",
              "      <td>Urbano</td>\n",
              "      <td>Sector Norte</td>\n",
              "      <td>POLYGON ((-74.07828 4.73386, -74.07750 4.73341...</td>\n",
              "    </tr>\n",
              "    <tr>\n",
              "      <th>3</th>\n",
              "      <td>UPL08</td>\n",
              "      <td>75658</td>\n",
              "      <td>0.049202</td>\n",
              "      <td>0.256794</td>\n",
              "      <td>Britalia</td>\n",
              "      <td>Urbano-Rural</td>\n",
              "      <td>Sector Norte</td>\n",
              "      <td>POLYGON ((-74.06328 4.77114, -74.06327 4.77114...</td>\n",
              "    </tr>\n",
              "    <tr>\n",
              "      <th>4</th>\n",
              "      <td>UPL29</td>\n",
              "      <td>66546</td>\n",
              "      <td>0.043276</td>\n",
              "      <td>0.300070</td>\n",
              "      <td>Tabora</td>\n",
              "      <td>Urbano</td>\n",
              "      <td>Sector Occidente</td>\n",
              "      <td>POLYGON ((-74.09908 4.71754, -74.09886 4.71746...</td>\n",
              "    </tr>\n",
              "  </tbody>\n",
              "</table>\n",
              "</div>"
            ],
            "text/plain": [
              "  codigo_upl  predios  porcentaje  porcentaje_acum     nombre      vocacion  \\\n",
              "0      UPL25   155095    0.100861         0.100861    Usaquén        Urbano   \n",
              "1      UPL24    84615    0.055027         0.155888  Chapinero        Urbano   \n",
              "2      UPL27    79506    0.051704         0.207592       Niza        Urbano   \n",
              "3      UPL08    75658    0.049202         0.256794   Britalia  Urbano-Rural   \n",
              "4      UPL29    66546    0.043276         0.300070     Tabora        Urbano   \n",
              "\n",
              "                   sector                                           geometry  \n",
              "0            Sector Norte  POLYGON ((-74.02093 4.72971, -74.02106 4.72966...  \n",
              "1  Sector Centro Ampliado  POLYGON ((-74.05651 4.64143, -74.05650 4.64143...  \n",
              "2            Sector Norte  POLYGON ((-74.07828 4.73386, -74.07750 4.73341...  \n",
              "3            Sector Norte  POLYGON ((-74.06328 4.77114, -74.06327 4.77114...  \n",
              "4        Sector Occidente  POLYGON ((-74.09908 4.71754, -74.09886 4.71746...  "
            ]
          },
          "execution_count": 79,
          "metadata": {},
          "output_type": "execute_result"
        }
      ],
      "source": [
        "df_predios_residenciales_upl.head()"
      ]
    },
    {
      "cell_type": "code",
      "execution_count": 80,
      "metadata": {},
      "outputs": [
        {
          "name": "stdout",
          "output_type": "stream",
          "text": [
            "<class 'geopandas.geodataframe.GeoDataFrame'>\n",
            "RangeIndex: 33 entries, 0 to 32\n",
            "Data columns (total 8 columns):\n",
            " #   Column           Non-Null Count  Dtype   \n",
            "---  ------           --------------  -----   \n",
            " 0   codigo_upl       33 non-null     object  \n",
            " 1   predios          33 non-null     int64   \n",
            " 2   porcentaje       33 non-null     float64 \n",
            " 3   porcentaje_acum  33 non-null     float64 \n",
            " 4   nombre           33 non-null     object  \n",
            " 5   vocacion         33 non-null     object  \n",
            " 6   sector           33 non-null     object  \n",
            " 7   geometry         33 non-null     geometry\n",
            "dtypes: float64(2), geometry(1), int64(1), object(4)\n",
            "memory usage: 2.2+ KB\n"
          ]
        }
      ],
      "source": [
        "df_predios_residenciales_upl.info()"
      ]
    },
    {
      "cell_type": "markdown",
      "metadata": {},
      "source": [
        "#### Mapa"
      ]
    },
    {
      "cell_type": "code",
      "execution_count": 90,
      "metadata": {},
      "outputs": [
        {
          "name": "stdout",
          "output_type": "stream",
          "text": [
            "User Guide: https://docs.kepler.gl/docs/keplergl-jupyter\n"
          ]
        }
      ],
      "source": [
        "# Create the map object\n",
        "mapa_predios_upls = KeplerGl(\n",
        "    height=500,\n",
        "    # data={'ofertas_upl': df_ofertas_upl}\n",
        ")\n",
        "\n",
        "# Add the data of predios per upl\n",
        "mapa_predios_upls.add_data(df_predios_residenciales_upl, 'Predios UPL')\n",
        "\n",
        "# Read the config of the map as a json\n",
        "# with open('Data/config_mapa_ofertas_upls.json') as file:\n",
        "#     config_mapa_predios_upls = json.load(file)\n",
        "\n",
        "# Read the config of the map as a json\n",
        "config_mapa_predios_upls = json.loads(\n",
        "    '{\"version\": \"v1\", \"config\": {\"visState\": {\"filters\": [], \"layers\": [{\"id\": \"y13j8b\", \"type\": \"geojson\", \"config\": {\"dataId\": \"Predios UPL\", \"label\": \"Predios UPL\", \"color\": [18, 92, 119], \"highlightColor\": [252, 242, 26, 255], \"columns\": {\"geojson\": \"geometry\"}, \"isVisible\": true, \"visConfig\": {\"opacity\": 0.8, \"strokeOpacity\": 0.8, \"thickness\": 0.5, \"strokeColor\": [183, 136, 94], \"colorRange\": {\"name\": \"ColorBrewer Blues-9\", \"type\": \"singlehue\", \"category\": \"ColorBrewer\", \"colors\": [\"#f7fbff\", \"#deebf7\", \"#c6dbef\", \"#9ecae1\", \"#6baed6\", \"#4292c6\", \"#2171b5\", \"#08519c\", \"#08306b\"]}, \"strokeColorRange\": {\"name\": \"Global Warming\", \"type\": \"sequential\", \"category\": \"Uber\", \"colors\": [\"#5A1846\", \"#900C3F\", \"#C70039\", \"#E3611C\", \"#F1920E\", \"#FFC300\"]}, \"radius\": 10, \"sizeRange\": [0, 10], \"radiusRange\": [0, 50], \"heightRange\": [0, 500], \"elevationScale\": 5, \"enableElevationZoomFactor\": true, \"stroked\": true, \"filled\": true, \"enable3d\": false, \"wireframe\": false}, \"hidden\": false, \"textLabel\": [{\"field\": null, \"color\": [255, 255, 255], \"size\": 18, \"offset\": [0, 0], \"anchor\": \"start\", \"alignment\": \"center\"}]}, \"visualChannels\": {\"colorField\": {\"name\": \"predios\", \"type\": \"integer\"}, \"colorScale\": \"quantile\", \"strokeColorField\": null, \"strokeColorScale\": \"quantile\", \"sizeField\": null, \"sizeScale\": \"linear\", \"heightField\": null, \"heightScale\": \"linear\", \"radiusField\": null, \"radiusScale\": \"linear\"}}], \"interactionConfig\": {\"tooltip\": {\"fieldsToShow\": {\"Predios UPL\": [{\"name\": \"codigo_upl\", \"format\": null}, {\"name\": \"predios\", \"format\": null}, {\"name\": \"porcentaje\", \"format\": null}, {\"name\": \"porcentaje_acum\", \"format\": null}, {\"name\": \"nombre\", \"format\": null}]}, \"compareMode\": false, \"compareType\": \"absolute\", \"enabled\": true}, \"brush\": {\"size\": 0.5, \"enabled\": false}, \"geocoder\": {\"enabled\": false}, \"coordinate\": {\"enabled\": false}}, \"layerBlending\": \"normal\", \"splitMaps\": [], \"animationConfig\": {\"currentTime\": null, \"speed\": 1}}, \"mapState\": {\"bearing\": 0, \"dragRotate\": false, \"latitude\": 4.283904718300249, \"longitude\": -74.21815690262335, \"pitch\": 0, \"zoom\": 8, \"isSplit\": false}, \"mapStyle\": {\"styleType\": \"dark\", \"topLayerGroups\": {}, \"visibleLayerGroups\": {\"label\": true, \"road\": true, \"border\": false, \"building\": true, \"water\": true, \"land\": true, \"3d building\": false}, \"threeDBuildingColor\": [9.665468314072013, 17.18305478057247, 31.1442867897876], \"mapStyles\": {}}}}'\n",
        ")\n",
        "\n",
        "# Set the configuration to the map\n",
        "mapa_predios_upls.config = config_mapa_predios_upls"
      ]
    },
    {
      "cell_type": "code",
      "execution_count": 92,
      "metadata": {},
      "outputs": [],
      "source": [
        "# mapa_predios_upls"
      ]
    },
    {
      "cell_type": "code",
      "execution_count": 88,
      "metadata": {},
      "outputs": [],
      "source": [
        "# Save the config to a json file\n",
        "# config_mapa_predios_upls = mapa_predios_upls.config\n",
        "# with open(\"Data/config_mapa_predios_upls.json\", \"w\") as outfile: \n",
        "#     json.dump(config_mapa_predios_upls, outfile)"
      ]
    },
    {
      "cell_type": "code",
      "execution_count": 89,
      "metadata": {},
      "outputs": [
        {
          "name": "stdout",
          "output_type": "stream",
          "text": [
            "Map saved to mapa_predios_upls.html!\n"
          ]
        }
      ],
      "source": [
        "# Save the map as an html\n",
        "# config_mapa_predios_upls = mapa_predios_upls.config\n",
        "# mapa_predios_upls.save_to_html(\n",
        "#   data={\n",
        "#     'Predios UPL': df_predios_residenciales_upl,\n",
        "#   },\n",
        "#   config=config_mapa_predios_upls,\n",
        "#   file_name='mapa_predios_upls.html'\n",
        "# )"
      ]
    }
  ],
  "metadata": {
    "accelerator": "GPU",
    "colab": {
      "provenance": []
    },
    "kernelspec": {
      "display_name": "Python 3",
      "name": "python3"
    },
    "language_info": {
      "codemirror_mode": {
        "name": "ipython",
        "version": 3
      },
      "file_extension": ".py",
      "mimetype": "text/x-python",
      "name": "python",
      "nbconvert_exporter": "python",
      "pygments_lexer": "ipython3",
      "version": "3.10.6"
    }
  },
  "nbformat": 4,
  "nbformat_minor": 0
}
