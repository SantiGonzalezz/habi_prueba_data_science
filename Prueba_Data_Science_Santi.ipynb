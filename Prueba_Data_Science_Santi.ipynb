{
  "cells": [
    {
      "cell_type": "markdown",
      "metadata": {
        "id": "lASZHkVoAIIa"
      },
      "source": [
        "# **Prueba Data Scientist Habi**\n",
        "\n",
        "---\n",
        "\n"
      ]
    },
    {
      "cell_type": "markdown",
      "metadata": {
        "id": "WWppA5_xA00z"
      },
      "source": [
        "## **Antes de empezar**, por favor guarde este notebook como una copia personal, para no editar la versión original de esta. Esto lo puede hacer en File->Save a copy in Drive"
      ]
    },
    {
      "cell_type": "markdown",
      "metadata": {
        "id": "v_GpaRzUAR8J"
      },
      "source": [
        "## **Punto 1**\n",
        "\n",
        "\n",
        "---\n",
        "\n"
      ]
    },
    {
      "cell_type": "markdown",
      "metadata": {
        "id": "ns3cKuMF9Kip"
      },
      "source": [
        "Descargar base de datos de UPLs (subdivisión urbana para Bogotá) y de inmuebles, todo con código. Es decir, utilizando las librerías necesarias para extraer datos desde internet sin necesidad de leerlos de manera local. Sugerimos la librería urllib.\n",
        "\n",
        "* UPLs: 'https://datosabiertos.bogota.gov.co/dataset/808582fc-ffc8-4649-8428-7e1fd8d3820c/resource/a5c8c591-0708-420f-8eb7-9f3147e21c40/download/unidadplaneamientolocal.json'\n",
        "* Inmuebles: 'https://storage.googleapis.com/pruebas-data-analitica/inmuebles_full.csv.gz'\n",
        "\n",
        "Esta segunda tabla tiene información de inmuebles publicados en páginas web.\n",
        "\n"
      ]
    },
    {
      "cell_type": "code",
      "execution_count": 1,
      "metadata": {
        "id": "f7-mKM_UWfWC"
      },
      "outputs": [
        {
          "data": {
            "text/plain": [
              "'\\nEscriba aquí su código. De ser necesario, puede agregar más celdas.\\n'"
            ]
          },
          "execution_count": 1,
          "metadata": {},
          "output_type": "execute_result"
        }
      ],
      "source": [
        "\"\"\"\n",
        "Escriba aquí su código. De ser necesario, puede agregar más celdas.\n",
        "\"\"\"\n"
      ]
    },
    {
      "cell_type": "markdown",
      "metadata": {},
      "source": [
        "### Install Libraries"
      ]
    },
    {
      "cell_type": "code",
      "execution_count": 2,
      "metadata": {},
      "outputs": [],
      "source": [
        "# Install the Libraries\n",
        "# !pip install keplergl\n",
        "# !pip install -q ipyleaflet\n",
        "# !pip install pandas\n",
        "# !pip install geopandas"
      ]
    },
    {
      "cell_type": "markdown",
      "metadata": {},
      "source": [
        "### Import Libraries"
      ]
    },
    {
      "cell_type": "code",
      "execution_count": 41,
      "metadata": {
        "id": "tueLsi4DQhM_"
      },
      "outputs": [],
      "source": [
        "# Libraries Required\n",
        "from esda.moran import Moran, Moran_Local\n",
        "import geopandas as gpd\n",
        "import gzip\n",
        "import io\n",
        "import json\n",
        "from keplergl import KeplerGl\n",
        "from libpysal.weights import Queen\n",
        "import matplotlib.pyplot as plt\n",
        "import pandas as pd\n",
        "import plotly.express as px\n",
        "import seaborn as sns\n",
        "from shapely.geometry import Polygon, MultiPolygon\n",
        "from splot.esda import plot_moran, moran_scatterplot, lisa_cluster, plot_local_autocorrelation\n",
        "import traceback\n",
        "from urllib.request import urlopen\n",
        "import zipfile"
      ]
    },
    {
      "cell_type": "markdown",
      "metadata": {
        "id": "OT7O9Ws-z4nc"
      },
      "source": [
        "### Read UPLs"
      ]
    },
    {
      "cell_type": "markdown",
      "metadata": {},
      "source": [
        "#### Nota:\n",
        "\n",
        "Cada uno de los archivos se descargó y leyó únicamente con código. Sin embargo, dado que la descarga tomaba bastante tiempo con archivos superando 1 GB de memoria una vez descargados los archivos se descargaron localmente para ahorrar los tiempos de descarga y solo leer desde memoria.\n",
        "\n",
        "A pesar de estas medidas, el código comentado en la siguiente celda es funcional y fue la manera en que se descargaron y leyeron los archivos originalmente."
      ]
    },
    {
      "cell_type": "code",
      "execution_count": 4,
      "metadata": {
        "colab": {
          "base_uri": "https://localhost:8080/"
        },
        "id": "Y20uzZFTQiDS",
        "outputId": "baf7b379-8700-4094-fe5d-7cf97a99b272"
      },
      "outputs": [],
      "source": [
        "# Time: 5 seconds\n",
        "# # Url\n",
        "# url_upls = 'https://datosabiertos.bogota.gov.co/dataset/808582fc-ffc8-4649-8428-7e1fd8d3820c/resource/a5c8c591-0708-420f-8eb7-9f3147e21c40/download/unidadplaneamientolocal.json'\n",
        "\n",
        "# # Request\n",
        "# response_upls = urlopen(url_upls)\n",
        "\n",
        "# # Check the status of the request (200 = Works)\n",
        "# status_response_upls = response_upls.status\n",
        "# assert(status_response_upls == 200)\n",
        "\n",
        "# # Read the file\n",
        "# file_upls = response_upls.read()\n",
        "# print(type(file_upls))\n",
        "\n",
        "# # Convert from bytes to str\n",
        "# string_upls = file_upls.decode()\n",
        "# print(type(string_upls))\n",
        "\n",
        "# # Conver from str to dict\n",
        "# dict_upls = json.loads(string_upls)\n",
        "# print(type(dict_upls))\n",
        "\n",
        "# # Check the type is dict so it can be accessed easily\n",
        "# assert(type(dict_upls) == dict)"
      ]
    },
    {
      "cell_type": "code",
      "execution_count": 2,
      "metadata": {},
      "outputs": [],
      "source": [
        "# Time: 0.1 seconds\n",
        "with open('Data/unidadplaneamientolocal.json') as file:\n",
        "    dict_upls = dict(json.load(file))"
      ]
    },
    {
      "cell_type": "code",
      "execution_count": 3,
      "metadata": {
        "colab": {
          "base_uri": "https://localhost:8080/"
        },
        "id": "G3pUF98VFCXd",
        "outputId": "1f700f6e-6b0d-4415-e9ec-5b41f7ae51df"
      },
      "outputs": [
        {
          "name": "stdout",
          "output_type": "stream",
          "text": [
            "displayFieldName: <class 'str'>\n",
            "fieldAliases: <class 'dict'>\n",
            "geometryType: <class 'str'>\n",
            "spatialReference: <class 'dict'>\n",
            "fields: <class 'list'>\n",
            "features: <class 'list'>\n"
          ]
        }
      ],
      "source": [
        "# Print the different keys in the dict and the type of value of each key\n",
        "for key, value in dict_upls.items():\n",
        "  print(f'{key}: {type(value)}')"
      ]
    },
    {
      "cell_type": "code",
      "execution_count": 4,
      "metadata": {
        "colab": {
          "base_uri": "https://localhost:8080/"
        },
        "id": "o7KLTo2TJ_sh",
        "outputId": "8fd9d35a-887d-489d-eaa2-2548be71abb0"
      },
      "outputs": [],
      "source": [
        "# Create a geodataframe with the rows of the file\n",
        "# Since it is a json create the dataframe with a list of dicts\n",
        "list_rows = []\n",
        "\n",
        "# The data is int the features key, where each row is a list\n",
        "for row in dict_upls['features']:\n",
        "  \n",
        "  # Get the attributes (columns of the dataframe)\n",
        "  attributes = row['attributes']\n",
        "  \n",
        "  # Conver the geometry to a polygon\n",
        "  geometry = row['geometry']  \n",
        "  coordinates = geometry['rings'][0]\n",
        "  polygon = Polygon(coordinates)  \n",
        "  \n",
        "  # Add the polygon to the attributes with the key 'geometry'\n",
        "  attributes['geometry'] = polygon\n",
        "\n",
        "  # Add the dict of the row to the list of dicts\n",
        "  list_rows.append(attributes)\n",
        "\n",
        "# Clear the memory of the variable\n",
        "del dict_upls\n",
        "\n",
        "# Create the GeoDataFrame\n",
        "df_upls = gpd.GeoDataFrame(\n",
        "    list_rows,\n",
        "    geometry='geometry'\n",
        ")\n",
        "\n",
        "# Change the column names to lowercase (just a toc)\n",
        "df_upls.columns = [column.lower() for column in (df_upls.columns)]\n",
        "\n",
        "# Keep only the columns needed\n",
        "list_columns_to_keep = [\n",
        "    'codigo_upl',\n",
        "    'nombre',\n",
        "    'vocacion',\n",
        "    'sector',\n",
        "    'geometry',\n",
        "]\n",
        "df_upls = df_upls[list_columns_to_keep]"
      ]
    },
    {
      "cell_type": "code",
      "execution_count": 5,
      "metadata": {},
      "outputs": [
        {
          "data": {
            "text/html": [
              "<div>\n",
              "<style scoped>\n",
              "    .dataframe tbody tr th:only-of-type {\n",
              "        vertical-align: middle;\n",
              "    }\n",
              "\n",
              "    .dataframe tbody tr th {\n",
              "        vertical-align: top;\n",
              "    }\n",
              "\n",
              "    .dataframe thead th {\n",
              "        text-align: right;\n",
              "    }\n",
              "</style>\n",
              "<table border=\"1\" class=\"dataframe\">\n",
              "  <thead>\n",
              "    <tr style=\"text-align: right;\">\n",
              "      <th></th>\n",
              "      <th>codigo_upl</th>\n",
              "      <th>nombre</th>\n",
              "      <th>vocacion</th>\n",
              "      <th>sector</th>\n",
              "      <th>geometry</th>\n",
              "    </tr>\n",
              "  </thead>\n",
              "  <tbody>\n",
              "    <tr>\n",
              "      <th>0</th>\n",
              "      <td>UPL13</td>\n",
              "      <td>Tintal</td>\n",
              "      <td>Urbano-Rural</td>\n",
              "      <td>Sector Sur Occidente</td>\n",
              "      <td>POLYGON ((-74.16957 4.65632, -74.16955 4.65631...</td>\n",
              "    </tr>\n",
              "    <tr>\n",
              "      <th>1</th>\n",
              "      <td>UPL30</td>\n",
              "      <td>Salitre</td>\n",
              "      <td>Urbano</td>\n",
              "      <td>Sector Occidente</td>\n",
              "      <td>POLYGON ((-74.09471 4.66478, -74.10058 4.65718...</td>\n",
              "    </tr>\n",
              "    <tr>\n",
              "      <th>2</th>\n",
              "      <td>UPL22</td>\n",
              "      <td>Restrepo</td>\n",
              "      <td>Urbano</td>\n",
              "      <td>Sector Centro Ampliado</td>\n",
              "      <td>POLYGON ((-74.10459 4.56467, -74.10468 4.56482...</td>\n",
              "    </tr>\n",
              "    <tr>\n",
              "      <th>3</th>\n",
              "      <td>UPL31</td>\n",
              "      <td>Puente Aranda</td>\n",
              "      <td>Urbano</td>\n",
              "      <td>Sector Centro Ampliado</td>\n",
              "      <td>POLYGON ((-74.08320 4.62470, -74.08400 4.62371...</td>\n",
              "    </tr>\n",
              "    <tr>\n",
              "      <th>4</th>\n",
              "      <td>UPL32</td>\n",
              "      <td>Teusaquillo</td>\n",
              "      <td>Urbano</td>\n",
              "      <td>Sector Centro Ampliado</td>\n",
              "      <td>POLYGON ((-74.07160 4.61775, -74.07283 4.61542...</td>\n",
              "    </tr>\n",
              "  </tbody>\n",
              "</table>\n",
              "</div>"
            ],
            "text/plain": [
              "  codigo_upl         nombre      vocacion                  sector  \\\n",
              "0      UPL13         Tintal  Urbano-Rural    Sector Sur Occidente   \n",
              "1      UPL30        Salitre        Urbano        Sector Occidente   \n",
              "2      UPL22       Restrepo        Urbano  Sector Centro Ampliado   \n",
              "3      UPL31  Puente Aranda        Urbano  Sector Centro Ampliado   \n",
              "4      UPL32    Teusaquillo        Urbano  Sector Centro Ampliado   \n",
              "\n",
              "                                            geometry  \n",
              "0  POLYGON ((-74.16957 4.65632, -74.16955 4.65631...  \n",
              "1  POLYGON ((-74.09471 4.66478, -74.10058 4.65718...  \n",
              "2  POLYGON ((-74.10459 4.56467, -74.10468 4.56482...  \n",
              "3  POLYGON ((-74.08320 4.62470, -74.08400 4.62371...  \n",
              "4  POLYGON ((-74.07160 4.61775, -74.07283 4.61542...  "
            ]
          },
          "execution_count": 5,
          "metadata": {},
          "output_type": "execute_result"
        }
      ],
      "source": [
        "df_upls.head()"
      ]
    },
    {
      "cell_type": "code",
      "execution_count": 6,
      "metadata": {},
      "outputs": [
        {
          "name": "stdout",
          "output_type": "stream",
          "text": [
            "<class 'geopandas.geodataframe.GeoDataFrame'>\n",
            "RangeIndex: 33 entries, 0 to 32\n",
            "Data columns (total 5 columns):\n",
            " #   Column      Non-Null Count  Dtype   \n",
            "---  ------      --------------  -----   \n",
            " 0   codigo_upl  33 non-null     object  \n",
            " 1   nombre      33 non-null     object  \n",
            " 2   vocacion    33 non-null     object  \n",
            " 3   sector      33 non-null     object  \n",
            " 4   geometry    33 non-null     geometry\n",
            "dtypes: geometry(1), object(4)\n",
            "memory usage: 1.4+ KB\n"
          ]
        }
      ],
      "source": [
        "df_upls.info()"
      ]
    },
    {
      "cell_type": "markdown",
      "metadata": {
        "id": "YtREHWNmz_tI"
      },
      "source": [
        "### Read Inmuebles"
      ]
    },
    {
      "cell_type": "markdown",
      "metadata": {},
      "source": [
        "#### Nota:\n",
        "\n",
        "Cada uno de los archivos se descargó y leyó únicamente con código. Sin embargo, dado que la descarga tomaba bastante tiempo con archivos superando 1 GB de memoria una vez descargados los archivos se descargaron localmente para ahorrar los tiempos de descarga y solo leer desde memoria.\n",
        "\n",
        "A pesar de estas medidas, el código comentado en la siguiente celda es funcional y fue la manera en que se descargaron y leyeron los archivos originalmente."
      ]
    },
    {
      "cell_type": "code",
      "execution_count": 7,
      "metadata": {
        "colab": {
          "base_uri": "https://localhost:8080/"
        },
        "id": "GSt9JgFZzxCB",
        "outputId": "02b194ee-4d4c-464f-b072-0abed1aa7b4d"
      },
      "outputs": [],
      "source": [
        "# Time: 6 seconds\n",
        "# # Url\n",
        "# url_inmuebles = 'https://storage.googleapis.com/pruebas-data-analitica/inmuebles_full.csv.gz'\n",
        "\n",
        "# # Request\n",
        "# response_inmuebles = urlopen(url_inmuebles)\n",
        "\n",
        "# # Check the status of the request (200 = Works)\n",
        "# status_response_inmuebles = response_inmuebles.status\n",
        "# assert(status_response_inmuebles == 200)\n",
        "\n",
        "# # Since it is a zipped file we need decompress it\n",
        "# gzip_file = gzip.GzipFile(fileobj=response_inmuebles)\n",
        "# print(type(gzip_file))\n",
        "\n",
        "# # Read the unzipped file\n",
        "# file_inmuebles = gzip_file.read()\n",
        "# print(type(file_inmuebles))\n",
        "\n",
        "# # Convert from bytes to str\n",
        "# string_inmuebles = file_inmuebles.decode()\n",
        "# print(type(string_inmuebles))\n",
        "\n",
        "# # 'Save' in memory the file and then read it as a traditional csv file\n",
        "# csv_inmuebles = io.StringIO(string_inmuebles)\n",
        "# df_inmuebles = pd.read_csv(csv_inmuebles)\n",
        "# print(type(df_inmuebles))\n",
        "\n",
        "# # Check the type is DataFrame\n",
        "# assert(isinstance(df_inmuebles, pd.DataFrame))"
      ]
    },
    {
      "cell_type": "code",
      "execution_count": 8,
      "metadata": {},
      "outputs": [],
      "source": [
        "# Time: 4 seconds\n",
        "df_inmuebles = pd.read_csv('Data/inmuebles_full.csv')"
      ]
    },
    {
      "cell_type": "code",
      "execution_count": 9,
      "metadata": {},
      "outputs": [],
      "source": [
        "df_inmuebles['geometry'] = gpd.points_from_xy(x=df_inmuebles['longitud'], y=df_inmuebles['latitud'])\n",
        "df_inmuebles.drop(['latitud', 'longitud'], axis=1, inplace=True)\n",
        "df_inmuebles = gpd.GeoDataFrame(df_inmuebles, geometry='geometry')"
      ]
    },
    {
      "cell_type": "code",
      "execution_count": 10,
      "metadata": {
        "colab": {
          "base_uri": "https://localhost:8080/",
          "height": 417
        },
        "id": "0AkpXnJ8FEms",
        "outputId": "5de7d565-eb10-473b-b87e-9aa03f52e80e"
      },
      "outputs": [
        {
          "data": {
            "text/html": [
              "<div>\n",
              "<style scoped>\n",
              "    .dataframe tbody tr th:only-of-type {\n",
              "        vertical-align: middle;\n",
              "    }\n",
              "\n",
              "    .dataframe tbody tr th {\n",
              "        vertical-align: top;\n",
              "    }\n",
              "\n",
              "    .dataframe thead th {\n",
              "        text-align: right;\n",
              "    }\n",
              "</style>\n",
              "<table border=\"1\" class=\"dataframe\">\n",
              "  <thead>\n",
              "    <tr style=\"text-align: right;\">\n",
              "      <th></th>\n",
              "      <th>id</th>\n",
              "      <th>fecha_creacion</th>\n",
              "      <th>departamento</th>\n",
              "      <th>municipio</th>\n",
              "      <th>habitaciones</th>\n",
              "      <th>banos</th>\n",
              "      <th>area</th>\n",
              "      <th>precio</th>\n",
              "      <th>num_ascensores</th>\n",
              "      <th>garajes</th>\n",
              "      <th>direccion</th>\n",
              "      <th>anos_antiguedad</th>\n",
              "      <th>tipo_inmueble</th>\n",
              "      <th>tiponegocio</th>\n",
              "      <th>geometry</th>\n",
              "    </tr>\n",
              "  </thead>\n",
              "  <tbody>\n",
              "    <tr>\n",
              "      <th>0</th>\n",
              "      <td>3669162</td>\n",
              "      <td>2022-03-02</td>\n",
              "      <td>VALLE DEL CAUCA</td>\n",
              "      <td>CALI</td>\n",
              "      <td>3.0</td>\n",
              "      <td>2</td>\n",
              "      <td>81.0</td>\n",
              "      <td>2.640000e+08</td>\n",
              "      <td>0</td>\n",
              "      <td>1</td>\n",
              "      <td>Carrera 99A # 45 - 200 Apto 706 Torre 3 Lili d...</td>\n",
              "      <td>12</td>\n",
              "      <td>apartamento</td>\n",
              "      <td>venta</td>\n",
              "      <td>POINT (-76.49500 3.36400)</td>\n",
              "    </tr>\n",
              "    <tr>\n",
              "      <th>1</th>\n",
              "      <td>3067524</td>\n",
              "      <td>2021-12-12</td>\n",
              "      <td>ANTIOQUIA</td>\n",
              "      <td>SABANETA</td>\n",
              "      <td>2.0</td>\n",
              "      <td>3</td>\n",
              "      <td>90.0</td>\n",
              "      <td>4.600000e+08</td>\n",
              "      <td>1</td>\n",
              "      <td>2</td>\n",
              "      <td>Calle 70A SUR # 35 - 340 Apto 3402 Urbanizacio...</td>\n",
              "      <td>4</td>\n",
              "      <td>apartamento</td>\n",
              "      <td>venta</td>\n",
              "      <td>POINT (-75.60200 6.14300)</td>\n",
              "    </tr>\n",
              "    <tr>\n",
              "      <th>2</th>\n",
              "      <td>3944108</td>\n",
              "      <td>2022-03-18</td>\n",
              "      <td>CUNDINAMARCA</td>\n",
              "      <td>CAJICÁ</td>\n",
              "      <td>3.0</td>\n",
              "      <td>4</td>\n",
              "      <td>140.0</td>\n",
              "      <td>1.000000e+09</td>\n",
              "      <td>0</td>\n",
              "      <td>4</td>\n",
              "      <td>abaco</td>\n",
              "      <td>4</td>\n",
              "      <td>casa</td>\n",
              "      <td>venta</td>\n",
              "      <td>POINT (-74.04343 4.89866)</td>\n",
              "    </tr>\n",
              "    <tr>\n",
              "      <th>3</th>\n",
              "      <td>500215</td>\n",
              "      <td>2020-07-23</td>\n",
              "      <td>ANTIOQUIA</td>\n",
              "      <td>RIONEGRO</td>\n",
              "      <td>3.0</td>\n",
              "      <td>2</td>\n",
              "      <td>75.0</td>\n",
              "      <td>1.600000e+06</td>\n",
              "      <td>0</td>\n",
              "      <td>1</td>\n",
              "      <td>CALLE 32   52B- 150</td>\n",
              "      <td>1</td>\n",
              "      <td>apartamento</td>\n",
              "      <td>arriendo</td>\n",
              "      <td>POINT (-75.42595 6.12084)</td>\n",
              "    </tr>\n",
              "    <tr>\n",
              "      <th>4</th>\n",
              "      <td>741346</td>\n",
              "      <td>2020-09-15</td>\n",
              "      <td>CUNDINAMARCA</td>\n",
              "      <td>SOPÓ</td>\n",
              "      <td>4.0</td>\n",
              "      <td>5</td>\n",
              "      <td>750.0</td>\n",
              "      <td>3.300000e+09</td>\n",
              "      <td>0</td>\n",
              "      <td>6</td>\n",
              "      <td>AUTOPISTA NORTE KM 33</td>\n",
              "      <td>12</td>\n",
              "      <td>casa</td>\n",
              "      <td>venta</td>\n",
              "      <td>POINT (-73.98262 4.93952)</td>\n",
              "    </tr>\n",
              "  </tbody>\n",
              "</table>\n",
              "</div>"
            ],
            "text/plain": [
              "        id fecha_creacion     departamento municipio  habitaciones  banos  \\\n",
              "0  3669162     2022-03-02  VALLE DEL CAUCA      CALI           3.0      2   \n",
              "1  3067524     2021-12-12        ANTIOQUIA  SABANETA           2.0      3   \n",
              "2  3944108     2022-03-18     CUNDINAMARCA    CAJICÁ           3.0      4   \n",
              "3   500215     2020-07-23        ANTIOQUIA  RIONEGRO           3.0      2   \n",
              "4   741346     2020-09-15     CUNDINAMARCA      SOPÓ           4.0      5   \n",
              "\n",
              "    area        precio  num_ascensores  garajes  \\\n",
              "0   81.0  2.640000e+08               0        1   \n",
              "1   90.0  4.600000e+08               1        2   \n",
              "2  140.0  1.000000e+09               0        4   \n",
              "3   75.0  1.600000e+06               0        1   \n",
              "4  750.0  3.300000e+09               0        6   \n",
              "\n",
              "                                           direccion  anos_antiguedad  \\\n",
              "0  Carrera 99A # 45 - 200 Apto 706 Torre 3 Lili d...               12   \n",
              "1  Calle 70A SUR # 35 - 340 Apto 3402 Urbanizacio...                4   \n",
              "2                                              abaco                4   \n",
              "3                                CALLE 32   52B- 150                1   \n",
              "4                              AUTOPISTA NORTE KM 33               12   \n",
              "\n",
              "  tipo_inmueble tiponegocio                   geometry  \n",
              "0   apartamento       venta  POINT (-76.49500 3.36400)  \n",
              "1   apartamento       venta  POINT (-75.60200 6.14300)  \n",
              "2          casa       venta  POINT (-74.04343 4.89866)  \n",
              "3   apartamento    arriendo  POINT (-75.42595 6.12084)  \n",
              "4          casa       venta  POINT (-73.98262 4.93952)  "
            ]
          },
          "execution_count": 10,
          "metadata": {},
          "output_type": "execute_result"
        }
      ],
      "source": [
        "df_inmuebles.head()"
      ]
    },
    {
      "cell_type": "code",
      "execution_count": 11,
      "metadata": {
        "colab": {
          "base_uri": "https://localhost:8080/"
        },
        "id": "SFXoGM_zFG1i",
        "outputId": "f357af9e-17a5-4e80-b44d-48a931911670"
      },
      "outputs": [
        {
          "name": "stdout",
          "output_type": "stream",
          "text": [
            "<class 'geopandas.geodataframe.GeoDataFrame'>\n",
            "RangeIndex: 882888 entries, 0 to 882887\n",
            "Data columns (total 15 columns):\n",
            " #   Column           Non-Null Count   Dtype   \n",
            "---  ------           --------------   -----   \n",
            " 0   id               882888 non-null  int64   \n",
            " 1   fecha_creacion   882888 non-null  object  \n",
            " 2   departamento     882888 non-null  object  \n",
            " 3   municipio        882888 non-null  object  \n",
            " 4   habitaciones     882147 non-null  float64 \n",
            " 5   banos            882888 non-null  int64   \n",
            " 6   area             882888 non-null  float64 \n",
            " 7   precio           860683 non-null  float64 \n",
            " 8   num_ascensores   882888 non-null  int64   \n",
            " 9   garajes          882888 non-null  int64   \n",
            " 10  direccion        882664 non-null  object  \n",
            " 11  anos_antiguedad  882888 non-null  int64   \n",
            " 12  tipo_inmueble    882888 non-null  object  \n",
            " 13  tiponegocio      882888 non-null  object  \n",
            " 14  geometry         882888 non-null  geometry\n",
            "dtypes: float64(3), geometry(1), int64(5), object(6)\n",
            "memory usage: 101.0+ MB\n"
          ]
        }
      ],
      "source": [
        "df_inmuebles.info()"
      ]
    },
    {
      "cell_type": "markdown",
      "metadata": {
        "id": "1IBTVcXmBuK5"
      },
      "source": [
        "## **Punto 2**\n",
        "\n",
        "---\n",
        "\n"
      ]
    },
    {
      "cell_type": "markdown",
      "metadata": {
        "id": "u6otTo2tBuWc"
      },
      "source": [
        "Hacer un join espacial entre la base de datos de UPLs e inmuebles y\n",
        "calcular cuántas ofertas inmobiliarias existen en Bogotá por UPL. Para esto sugerimos usar la librería de GeoPandas."
      ]
    },
    {
      "cell_type": "code",
      "execution_count": 12,
      "metadata": {
        "id": "1fp4kVfwsVZA"
      },
      "outputs": [
        {
          "data": {
            "text/plain": [
              "'\\nEscriba aquí su código. De ser necesario, puede agregar más celdas.\\n'"
            ]
          },
          "execution_count": 12,
          "metadata": {},
          "output_type": "execute_result"
        }
      ],
      "source": [
        "\"\"\"\n",
        "Escriba aquí su código. De ser necesario, puede agregar más celdas.\n",
        "\"\"\""
      ]
    },
    {
      "cell_type": "markdown",
      "metadata": {},
      "source": [
        "### Join Inmuebles + UPLs"
      ]
    },
    {
      "cell_type": "code",
      "execution_count": 13,
      "metadata": {},
      "outputs": [],
      "source": [
        "# Get the upl that belongs to each inmueble (mostly Bogotá)\n",
        "df_inmuebles = gpd.sjoin(\n",
        "    df_inmuebles, \n",
        "    df_upls[['codigo_upl', 'geometry']],\n",
        "    how='left',\n",
        "    predicate='within'\n",
        ")\n",
        "df_inmuebles['precio_m2'] = df_inmuebles['precio'] / df_inmuebles['area'] / 1000000"
      ]
    },
    {
      "cell_type": "code",
      "execution_count": 14,
      "metadata": {},
      "outputs": [
        {
          "data": {
            "text/html": [
              "<div>\n",
              "<style scoped>\n",
              "    .dataframe tbody tr th:only-of-type {\n",
              "        vertical-align: middle;\n",
              "    }\n",
              "\n",
              "    .dataframe tbody tr th {\n",
              "        vertical-align: top;\n",
              "    }\n",
              "\n",
              "    .dataframe thead th {\n",
              "        text-align: right;\n",
              "    }\n",
              "</style>\n",
              "<table border=\"1\" class=\"dataframe\">\n",
              "  <thead>\n",
              "    <tr style=\"text-align: right;\">\n",
              "      <th></th>\n",
              "      <th>id</th>\n",
              "      <th>fecha_creacion</th>\n",
              "      <th>departamento</th>\n",
              "      <th>municipio</th>\n",
              "      <th>habitaciones</th>\n",
              "      <th>banos</th>\n",
              "      <th>area</th>\n",
              "      <th>precio</th>\n",
              "      <th>num_ascensores</th>\n",
              "      <th>garajes</th>\n",
              "      <th>direccion</th>\n",
              "      <th>anos_antiguedad</th>\n",
              "      <th>tipo_inmueble</th>\n",
              "      <th>tiponegocio</th>\n",
              "      <th>geometry</th>\n",
              "      <th>index_right</th>\n",
              "      <th>codigo_upl</th>\n",
              "      <th>precio_m2</th>\n",
              "    </tr>\n",
              "  </thead>\n",
              "  <tbody>\n",
              "    <tr>\n",
              "      <th>0</th>\n",
              "      <td>3669162</td>\n",
              "      <td>2022-03-02</td>\n",
              "      <td>VALLE DEL CAUCA</td>\n",
              "      <td>CALI</td>\n",
              "      <td>3.0</td>\n",
              "      <td>2</td>\n",
              "      <td>81.0</td>\n",
              "      <td>2.640000e+08</td>\n",
              "      <td>0</td>\n",
              "      <td>1</td>\n",
              "      <td>Carrera 99A # 45 - 200 Apto 706 Torre 3 Lili d...</td>\n",
              "      <td>12</td>\n",
              "      <td>apartamento</td>\n",
              "      <td>venta</td>\n",
              "      <td>POINT (-76.49500 3.36400)</td>\n",
              "      <td>NaN</td>\n",
              "      <td>NaN</td>\n",
              "      <td>3.259259</td>\n",
              "    </tr>\n",
              "    <tr>\n",
              "      <th>1</th>\n",
              "      <td>3067524</td>\n",
              "      <td>2021-12-12</td>\n",
              "      <td>ANTIOQUIA</td>\n",
              "      <td>SABANETA</td>\n",
              "      <td>2.0</td>\n",
              "      <td>3</td>\n",
              "      <td>90.0</td>\n",
              "      <td>4.600000e+08</td>\n",
              "      <td>1</td>\n",
              "      <td>2</td>\n",
              "      <td>Calle 70A SUR # 35 - 340 Apto 3402 Urbanizacio...</td>\n",
              "      <td>4</td>\n",
              "      <td>apartamento</td>\n",
              "      <td>venta</td>\n",
              "      <td>POINT (-75.60200 6.14300)</td>\n",
              "      <td>NaN</td>\n",
              "      <td>NaN</td>\n",
              "      <td>5.111111</td>\n",
              "    </tr>\n",
              "    <tr>\n",
              "      <th>2</th>\n",
              "      <td>3944108</td>\n",
              "      <td>2022-03-18</td>\n",
              "      <td>CUNDINAMARCA</td>\n",
              "      <td>CAJICÁ</td>\n",
              "      <td>3.0</td>\n",
              "      <td>4</td>\n",
              "      <td>140.0</td>\n",
              "      <td>1.000000e+09</td>\n",
              "      <td>0</td>\n",
              "      <td>4</td>\n",
              "      <td>abaco</td>\n",
              "      <td>4</td>\n",
              "      <td>casa</td>\n",
              "      <td>venta</td>\n",
              "      <td>POINT (-74.04343 4.89866)</td>\n",
              "      <td>NaN</td>\n",
              "      <td>NaN</td>\n",
              "      <td>7.142857</td>\n",
              "    </tr>\n",
              "    <tr>\n",
              "      <th>3</th>\n",
              "      <td>500215</td>\n",
              "      <td>2020-07-23</td>\n",
              "      <td>ANTIOQUIA</td>\n",
              "      <td>RIONEGRO</td>\n",
              "      <td>3.0</td>\n",
              "      <td>2</td>\n",
              "      <td>75.0</td>\n",
              "      <td>1.600000e+06</td>\n",
              "      <td>0</td>\n",
              "      <td>1</td>\n",
              "      <td>CALLE 32   52B- 150</td>\n",
              "      <td>1</td>\n",
              "      <td>apartamento</td>\n",
              "      <td>arriendo</td>\n",
              "      <td>POINT (-75.42595 6.12084)</td>\n",
              "      <td>NaN</td>\n",
              "      <td>NaN</td>\n",
              "      <td>0.021333</td>\n",
              "    </tr>\n",
              "    <tr>\n",
              "      <th>4</th>\n",
              "      <td>741346</td>\n",
              "      <td>2020-09-15</td>\n",
              "      <td>CUNDINAMARCA</td>\n",
              "      <td>SOPÓ</td>\n",
              "      <td>4.0</td>\n",
              "      <td>5</td>\n",
              "      <td>750.0</td>\n",
              "      <td>3.300000e+09</td>\n",
              "      <td>0</td>\n",
              "      <td>6</td>\n",
              "      <td>AUTOPISTA NORTE KM 33</td>\n",
              "      <td>12</td>\n",
              "      <td>casa</td>\n",
              "      <td>venta</td>\n",
              "      <td>POINT (-73.98262 4.93952)</td>\n",
              "      <td>NaN</td>\n",
              "      <td>NaN</td>\n",
              "      <td>4.400000</td>\n",
              "    </tr>\n",
              "  </tbody>\n",
              "</table>\n",
              "</div>"
            ],
            "text/plain": [
              "        id fecha_creacion     departamento municipio  habitaciones  banos  \\\n",
              "0  3669162     2022-03-02  VALLE DEL CAUCA      CALI           3.0      2   \n",
              "1  3067524     2021-12-12        ANTIOQUIA  SABANETA           2.0      3   \n",
              "2  3944108     2022-03-18     CUNDINAMARCA    CAJICÁ           3.0      4   \n",
              "3   500215     2020-07-23        ANTIOQUIA  RIONEGRO           3.0      2   \n",
              "4   741346     2020-09-15     CUNDINAMARCA      SOPÓ           4.0      5   \n",
              "\n",
              "    area        precio  num_ascensores  garajes  \\\n",
              "0   81.0  2.640000e+08               0        1   \n",
              "1   90.0  4.600000e+08               1        2   \n",
              "2  140.0  1.000000e+09               0        4   \n",
              "3   75.0  1.600000e+06               0        1   \n",
              "4  750.0  3.300000e+09               0        6   \n",
              "\n",
              "                                           direccion  anos_antiguedad  \\\n",
              "0  Carrera 99A # 45 - 200 Apto 706 Torre 3 Lili d...               12   \n",
              "1  Calle 70A SUR # 35 - 340 Apto 3402 Urbanizacio...                4   \n",
              "2                                              abaco                4   \n",
              "3                                CALLE 32   52B- 150                1   \n",
              "4                              AUTOPISTA NORTE KM 33               12   \n",
              "\n",
              "  tipo_inmueble tiponegocio                   geometry  index_right  \\\n",
              "0   apartamento       venta  POINT (-76.49500 3.36400)          NaN   \n",
              "1   apartamento       venta  POINT (-75.60200 6.14300)          NaN   \n",
              "2          casa       venta  POINT (-74.04343 4.89866)          NaN   \n",
              "3   apartamento    arriendo  POINT (-75.42595 6.12084)          NaN   \n",
              "4          casa       venta  POINT (-73.98262 4.93952)          NaN   \n",
              "\n",
              "  codigo_upl  precio_m2  \n",
              "0        NaN   3.259259  \n",
              "1        NaN   5.111111  \n",
              "2        NaN   7.142857  \n",
              "3        NaN   0.021333  \n",
              "4        NaN   4.400000  "
            ]
          },
          "execution_count": 14,
          "metadata": {},
          "output_type": "execute_result"
        }
      ],
      "source": [
        "df_inmuebles.head()"
      ]
    },
    {
      "cell_type": "code",
      "execution_count": 15,
      "metadata": {},
      "outputs": [
        {
          "name": "stdout",
          "output_type": "stream",
          "text": [
            "<class 'geopandas.geodataframe.GeoDataFrame'>\n",
            "Index: 882888 entries, 0 to 882887\n",
            "Data columns (total 18 columns):\n",
            " #   Column           Non-Null Count   Dtype   \n",
            "---  ------           --------------   -----   \n",
            " 0   id               882888 non-null  int64   \n",
            " 1   fecha_creacion   882888 non-null  object  \n",
            " 2   departamento     882888 non-null  object  \n",
            " 3   municipio        882888 non-null  object  \n",
            " 4   habitaciones     882147 non-null  float64 \n",
            " 5   banos            882888 non-null  int64   \n",
            " 6   area             882888 non-null  float64 \n",
            " 7   precio           860683 non-null  float64 \n",
            " 8   num_ascensores   882888 non-null  int64   \n",
            " 9   garajes          882888 non-null  int64   \n",
            " 10  direccion        882664 non-null  object  \n",
            " 11  anos_antiguedad  882888 non-null  int64   \n",
            " 12  tipo_inmueble    882888 non-null  object  \n",
            " 13  tiponegocio      882888 non-null  object  \n",
            " 14  geometry         882888 non-null  geometry\n",
            " 15  index_right      364778 non-null  float64 \n",
            " 16  codigo_upl       364778 non-null  object  \n",
            " 17  precio_m2        860683 non-null  float64 \n",
            "dtypes: float64(5), geometry(1), int64(5), object(7)\n",
            "memory usage: 128.0+ MB\n"
          ]
        }
      ],
      "source": [
        "df_inmuebles.info()"
      ]
    },
    {
      "cell_type": "markdown",
      "metadata": {},
      "source": [
        "### Ofertas por UPL"
      ]
    },
    {
      "cell_type": "code",
      "execution_count": 16,
      "metadata": {},
      "outputs": [],
      "source": [
        "# Find the ofertas per UPL and sort it from higher to lower\n",
        "df_ofertas_upl = df_inmuebles.groupby(['codigo_upl']).agg(ofertas=('id', 'count')).reset_index().sort_values(by='ofertas', ascending=False)\n",
        "\n",
        "# Find the percentage and since it is sorted the cumulative percentage to check rules as Pareto\n",
        "df_ofertas_upl['porcentaje'] = df_ofertas_upl['ofertas'] / df_ofertas_upl['ofertas'].sum()\n",
        "df_ofertas_upl['porcentaje_acum'] = df_ofertas_upl['porcentaje'].cumsum()\n",
        "\n",
        "# Complete the information of the UPL to graph it\n",
        "df_ofertas_upl =pd.merge(\n",
        "    df_ofertas_upl,\n",
        "    df_upls,\n",
        "    how='left',\n",
        "    on='codigo_upl'\n",
        ")\n",
        "\n",
        "# Convert to geodataframe\n",
        "df_ofertas_upl = gpd.GeoDataFrame(\n",
        "    df_ofertas_upl,\n",
        "    geometry='geometry'\n",
        ")"
      ]
    },
    {
      "cell_type": "code",
      "execution_count": 17,
      "metadata": {},
      "outputs": [
        {
          "data": {
            "text/html": [
              "<div>\n",
              "<style scoped>\n",
              "    .dataframe tbody tr th:only-of-type {\n",
              "        vertical-align: middle;\n",
              "    }\n",
              "\n",
              "    .dataframe tbody tr th {\n",
              "        vertical-align: top;\n",
              "    }\n",
              "\n",
              "    .dataframe thead th {\n",
              "        text-align: right;\n",
              "    }\n",
              "</style>\n",
              "<table border=\"1\" class=\"dataframe\">\n",
              "  <thead>\n",
              "    <tr style=\"text-align: right;\">\n",
              "      <th></th>\n",
              "      <th>codigo_upl</th>\n",
              "      <th>ofertas</th>\n",
              "      <th>porcentaje</th>\n",
              "      <th>porcentaje_acum</th>\n",
              "      <th>nombre</th>\n",
              "      <th>vocacion</th>\n",
              "      <th>sector</th>\n",
              "      <th>geometry</th>\n",
              "    </tr>\n",
              "  </thead>\n",
              "  <tbody>\n",
              "    <tr>\n",
              "      <th>0</th>\n",
              "      <td>UPL25</td>\n",
              "      <td>104775</td>\n",
              "      <td>0.287229</td>\n",
              "      <td>0.287229</td>\n",
              "      <td>Usaquén</td>\n",
              "      <td>Urbano</td>\n",
              "      <td>Sector Norte</td>\n",
              "      <td>POLYGON ((-74.02093 4.72971, -74.02106 4.72966...</td>\n",
              "    </tr>\n",
              "    <tr>\n",
              "      <th>1</th>\n",
              "      <td>UPL24</td>\n",
              "      <td>61630</td>\n",
              "      <td>0.168952</td>\n",
              "      <td>0.456182</td>\n",
              "      <td>Chapinero</td>\n",
              "      <td>Urbano</td>\n",
              "      <td>Sector Centro Ampliado</td>\n",
              "      <td>POLYGON ((-74.05651 4.64143, -74.05650 4.64143...</td>\n",
              "    </tr>\n",
              "    <tr>\n",
              "      <th>2</th>\n",
              "      <td>UPL27</td>\n",
              "      <td>34948</td>\n",
              "      <td>0.095806</td>\n",
              "      <td>0.551988</td>\n",
              "      <td>Niza</td>\n",
              "      <td>Urbano</td>\n",
              "      <td>Sector Norte</td>\n",
              "      <td>POLYGON ((-74.07828 4.73386, -74.07750 4.73341...</td>\n",
              "    </tr>\n",
              "    <tr>\n",
              "      <th>3</th>\n",
              "      <td>UPL08</td>\n",
              "      <td>27014</td>\n",
              "      <td>0.074056</td>\n",
              "      <td>0.626044</td>\n",
              "      <td>Britalia</td>\n",
              "      <td>Urbano-Rural</td>\n",
              "      <td>Sector Norte</td>\n",
              "      <td>POLYGON ((-74.06328 4.77114, -74.06327 4.77114...</td>\n",
              "    </tr>\n",
              "    <tr>\n",
              "      <th>4</th>\n",
              "      <td>UPL32</td>\n",
              "      <td>17935</td>\n",
              "      <td>0.049167</td>\n",
              "      <td>0.675211</td>\n",
              "      <td>Teusaquillo</td>\n",
              "      <td>Urbano</td>\n",
              "      <td>Sector Centro Ampliado</td>\n",
              "      <td>POLYGON ((-74.07160 4.61775, -74.07283 4.61542...</td>\n",
              "    </tr>\n",
              "    <tr>\n",
              "      <th>5</th>\n",
              "      <td>UPL30</td>\n",
              "      <td>15419</td>\n",
              "      <td>0.042270</td>\n",
              "      <td>0.717480</td>\n",
              "      <td>Salitre</td>\n",
              "      <td>Urbano</td>\n",
              "      <td>Sector Occidente</td>\n",
              "      <td>POLYGON ((-74.09471 4.66478, -74.10058 4.65718...</td>\n",
              "    </tr>\n",
              "    <tr>\n",
              "      <th>6</th>\n",
              "      <td>UPL26</td>\n",
              "      <td>14609</td>\n",
              "      <td>0.040049</td>\n",
              "      <td>0.757529</td>\n",
              "      <td>Toberín</td>\n",
              "      <td>Urbano</td>\n",
              "      <td>Sector Norte</td>\n",
              "      <td>POLYGON ((-74.04264 4.77101, -74.03995 4.77060...</td>\n",
              "    </tr>\n",
              "    <tr>\n",
              "      <th>7</th>\n",
              "      <td>UPL33</td>\n",
              "      <td>11034</td>\n",
              "      <td>0.030249</td>\n",
              "      <td>0.787778</td>\n",
              "      <td>Barrios Unidos</td>\n",
              "      <td>Urbano</td>\n",
              "      <td>Sector Centro Ampliado</td>\n",
              "      <td>POLYGON ((-74.06413 4.65239, -74.06463 4.64965...</td>\n",
              "    </tr>\n",
              "    <tr>\n",
              "      <th>8</th>\n",
              "      <td>UPL23</td>\n",
              "      <td>10543</td>\n",
              "      <td>0.028903</td>\n",
              "      <td>0.816680</td>\n",
              "      <td>Centro Histórico</td>\n",
              "      <td>Urbano</td>\n",
              "      <td>Sector Centro Ampliado</td>\n",
              "      <td>POLYGON ((-74.05772 4.62403, -74.05755 4.62393...</td>\n",
              "    </tr>\n",
              "    <tr>\n",
              "      <th>9</th>\n",
              "      <td>UPL13</td>\n",
              "      <td>9093</td>\n",
              "      <td>0.024927</td>\n",
              "      <td>0.841608</td>\n",
              "      <td>Tintal</td>\n",
              "      <td>Urbano-Rural</td>\n",
              "      <td>Sector Sur Occidente</td>\n",
              "      <td>POLYGON ((-74.16957 4.65632, -74.16955 4.65631...</td>\n",
              "    </tr>\n",
              "  </tbody>\n",
              "</table>\n",
              "</div>"
            ],
            "text/plain": [
              "  codigo_upl  ofertas  porcentaje  porcentaje_acum            nombre  \\\n",
              "0      UPL25   104775    0.287229         0.287229           Usaquén   \n",
              "1      UPL24    61630    0.168952         0.456182         Chapinero   \n",
              "2      UPL27    34948    0.095806         0.551988              Niza   \n",
              "3      UPL08    27014    0.074056         0.626044          Britalia   \n",
              "4      UPL32    17935    0.049167         0.675211       Teusaquillo   \n",
              "5      UPL30    15419    0.042270         0.717480           Salitre   \n",
              "6      UPL26    14609    0.040049         0.757529           Toberín   \n",
              "7      UPL33    11034    0.030249         0.787778    Barrios Unidos   \n",
              "8      UPL23    10543    0.028903         0.816680  Centro Histórico   \n",
              "9      UPL13     9093    0.024927         0.841608            Tintal   \n",
              "\n",
              "       vocacion                  sector  \\\n",
              "0        Urbano            Sector Norte   \n",
              "1        Urbano  Sector Centro Ampliado   \n",
              "2        Urbano            Sector Norte   \n",
              "3  Urbano-Rural            Sector Norte   \n",
              "4        Urbano  Sector Centro Ampliado   \n",
              "5        Urbano        Sector Occidente   \n",
              "6        Urbano            Sector Norte   \n",
              "7        Urbano  Sector Centro Ampliado   \n",
              "8        Urbano  Sector Centro Ampliado   \n",
              "9  Urbano-Rural    Sector Sur Occidente   \n",
              "\n",
              "                                            geometry  \n",
              "0  POLYGON ((-74.02093 4.72971, -74.02106 4.72966...  \n",
              "1  POLYGON ((-74.05651 4.64143, -74.05650 4.64143...  \n",
              "2  POLYGON ((-74.07828 4.73386, -74.07750 4.73341...  \n",
              "3  POLYGON ((-74.06328 4.77114, -74.06327 4.77114...  \n",
              "4  POLYGON ((-74.07160 4.61775, -74.07283 4.61542...  \n",
              "5  POLYGON ((-74.09471 4.66478, -74.10058 4.65718...  \n",
              "6  POLYGON ((-74.04264 4.77101, -74.03995 4.77060...  \n",
              "7  POLYGON ((-74.06413 4.65239, -74.06463 4.64965...  \n",
              "8  POLYGON ((-74.05772 4.62403, -74.05755 4.62393...  \n",
              "9  POLYGON ((-74.16957 4.65632, -74.16955 4.65631...  "
            ]
          },
          "execution_count": 17,
          "metadata": {},
          "output_type": "execute_result"
        }
      ],
      "source": [
        "df_ofertas_upl.head(10)"
      ]
    },
    {
      "cell_type": "code",
      "execution_count": 18,
      "metadata": {},
      "outputs": [
        {
          "name": "stdout",
          "output_type": "stream",
          "text": [
            "<class 'geopandas.geodataframe.GeoDataFrame'>\n",
            "RangeIndex: 33 entries, 0 to 32\n",
            "Data columns (total 8 columns):\n",
            " #   Column           Non-Null Count  Dtype   \n",
            "---  ------           --------------  -----   \n",
            " 0   codigo_upl       33 non-null     object  \n",
            " 1   ofertas          33 non-null     int64   \n",
            " 2   porcentaje       33 non-null     float64 \n",
            " 3   porcentaje_acum  33 non-null     float64 \n",
            " 4   nombre           33 non-null     object  \n",
            " 5   vocacion         33 non-null     object  \n",
            " 6   sector           33 non-null     object  \n",
            " 7   geometry         33 non-null     geometry\n",
            "dtypes: float64(2), geometry(1), int64(1), object(4)\n",
            "memory usage: 2.2+ KB\n"
          ]
        }
      ],
      "source": [
        "df_ofertas_upl.info()"
      ]
    },
    {
      "cell_type": "markdown",
      "metadata": {
        "id": "MCBj1yK0HjfZ"
      },
      "source": [
        "## **Punto 3**\n",
        "\n",
        "\n",
        "---\n",
        "\n"
      ]
    },
    {
      "cell_type": "markdown",
      "metadata": {
        "id": "BG80TdeAHjfZ"
      },
      "source": [
        "Use una visualización que permita ver cuántas ofertas de inmuebles existen por UPL."
      ]
    },
    {
      "cell_type": "code",
      "execution_count": 22,
      "metadata": {
        "id": "5qSUt9FEHjfZ"
      },
      "outputs": [
        {
          "data": {
            "text/plain": [
              "'\\nEscriba aquí su código. De ser necesario, puede agregar más celdas.\\n'"
            ]
          },
          "execution_count": 22,
          "metadata": {},
          "output_type": "execute_result"
        }
      ],
      "source": [
        "\"\"\"\n",
        "Escriba aquí su código. De ser necesario, puede agregar más celdas.\n",
        "\"\"\""
      ]
    },
    {
      "cell_type": "markdown",
      "metadata": {},
      "source": [
        "### Visualización Inmuebles + UPLs"
      ]
    },
    {
      "cell_type": "markdown",
      "metadata": {},
      "source": [
        "#### Gráfica"
      ]
    },
    {
      "cell_type": "code",
      "execution_count": 41,
      "metadata": {},
      "outputs": [
        {
          "data": {
            "application/vnd.plotly.v1+json": {
              "config": {
                "plotlyServerURL": "https://plot.ly"
              },
              "data": [
                {
                  "alignmentgroup": "True",
                  "hovertemplate": "Ofertas=%{x}<br>Nombre UPL=%{y}<extra></extra>",
                  "legendgroup": "",
                  "marker": {
                    "color": "#636efa",
                    "pattern": {
                      "shape": ""
                    }
                  },
                  "name": "",
                  "offsetgroup": "",
                  "orientation": "h",
                  "showlegend": false,
                  "textposition": "auto",
                  "type": "bar",
                  "x": [
                    74,
                    121,
                    447,
                    858,
                    910,
                    1024,
                    1202,
                    1312,
                    1326,
                    1348,
                    1470,
                    1495,
                    1516,
                    1725,
                    2422,
                    2673,
                    2843,
                    3597,
                    4170,
                    4906,
                    6024,
                    8022,
                    8293,
                    9093,
                    10543,
                    11034,
                    14609,
                    15419,
                    17935,
                    27014,
                    34948,
                    61630,
                    104775
                  ],
                  "xaxis": "x",
                  "y": [
                    "Sumapáz",
                    "Cuenca del Tunjuelo",
                    "Lucero",
                    "Patio Bonito",
                    "Porvenir",
                    "Tunjuelito",
                    "Usme - Entrenubes",
                    "Edén",
                    "Cerros Orientales",
                    "Bosa",
                    "San Cristóbal",
                    "Tibabuyes",
                    "Rafael Uribe",
                    "Torca",
                    "Arborizadora",
                    "Restrepo",
                    "Rincón de Suba",
                    "Fontibón",
                    "Puente Aranda",
                    "Kennedy",
                    "Suba",
                    "Tabora",
                    "Engativá",
                    "Tintal",
                    "Centro Histórico",
                    "Barrios Unidos",
                    "Toberín",
                    "Salitre",
                    "Teusaquillo",
                    "Britalia",
                    "Niza",
                    "Chapinero",
                    "Usaquén"
                  ],
                  "yaxis": "y"
                }
              ],
              "layout": {
                "barmode": "relative",
                "height": 800,
                "legend": {
                  "tracegroupgap": 0
                },
                "template": {
                  "data": {
                    "bar": [
                      {
                        "error_x": {
                          "color": "#2a3f5f"
                        },
                        "error_y": {
                          "color": "#2a3f5f"
                        },
                        "marker": {
                          "line": {
                            "color": "#E5ECF6",
                            "width": 0.5
                          },
                          "pattern": {
                            "fillmode": "overlay",
                            "size": 10,
                            "solidity": 0.2
                          }
                        },
                        "type": "bar"
                      }
                    ],
                    "barpolar": [
                      {
                        "marker": {
                          "line": {
                            "color": "#E5ECF6",
                            "width": 0.5
                          },
                          "pattern": {
                            "fillmode": "overlay",
                            "size": 10,
                            "solidity": 0.2
                          }
                        },
                        "type": "barpolar"
                      }
                    ],
                    "carpet": [
                      {
                        "aaxis": {
                          "endlinecolor": "#2a3f5f",
                          "gridcolor": "white",
                          "linecolor": "white",
                          "minorgridcolor": "white",
                          "startlinecolor": "#2a3f5f"
                        },
                        "baxis": {
                          "endlinecolor": "#2a3f5f",
                          "gridcolor": "white",
                          "linecolor": "white",
                          "minorgridcolor": "white",
                          "startlinecolor": "#2a3f5f"
                        },
                        "type": "carpet"
                      }
                    ],
                    "choropleth": [
                      {
                        "colorbar": {
                          "outlinewidth": 0,
                          "ticks": ""
                        },
                        "type": "choropleth"
                      }
                    ],
                    "contour": [
                      {
                        "colorbar": {
                          "outlinewidth": 0,
                          "ticks": ""
                        },
                        "colorscale": [
                          [
                            0,
                            "#0d0887"
                          ],
                          [
                            0.1111111111111111,
                            "#46039f"
                          ],
                          [
                            0.2222222222222222,
                            "#7201a8"
                          ],
                          [
                            0.3333333333333333,
                            "#9c179e"
                          ],
                          [
                            0.4444444444444444,
                            "#bd3786"
                          ],
                          [
                            0.5555555555555556,
                            "#d8576b"
                          ],
                          [
                            0.6666666666666666,
                            "#ed7953"
                          ],
                          [
                            0.7777777777777778,
                            "#fb9f3a"
                          ],
                          [
                            0.8888888888888888,
                            "#fdca26"
                          ],
                          [
                            1,
                            "#f0f921"
                          ]
                        ],
                        "type": "contour"
                      }
                    ],
                    "contourcarpet": [
                      {
                        "colorbar": {
                          "outlinewidth": 0,
                          "ticks": ""
                        },
                        "type": "contourcarpet"
                      }
                    ],
                    "heatmap": [
                      {
                        "colorbar": {
                          "outlinewidth": 0,
                          "ticks": ""
                        },
                        "colorscale": [
                          [
                            0,
                            "#0d0887"
                          ],
                          [
                            0.1111111111111111,
                            "#46039f"
                          ],
                          [
                            0.2222222222222222,
                            "#7201a8"
                          ],
                          [
                            0.3333333333333333,
                            "#9c179e"
                          ],
                          [
                            0.4444444444444444,
                            "#bd3786"
                          ],
                          [
                            0.5555555555555556,
                            "#d8576b"
                          ],
                          [
                            0.6666666666666666,
                            "#ed7953"
                          ],
                          [
                            0.7777777777777778,
                            "#fb9f3a"
                          ],
                          [
                            0.8888888888888888,
                            "#fdca26"
                          ],
                          [
                            1,
                            "#f0f921"
                          ]
                        ],
                        "type": "heatmap"
                      }
                    ],
                    "heatmapgl": [
                      {
                        "colorbar": {
                          "outlinewidth": 0,
                          "ticks": ""
                        },
                        "colorscale": [
                          [
                            0,
                            "#0d0887"
                          ],
                          [
                            0.1111111111111111,
                            "#46039f"
                          ],
                          [
                            0.2222222222222222,
                            "#7201a8"
                          ],
                          [
                            0.3333333333333333,
                            "#9c179e"
                          ],
                          [
                            0.4444444444444444,
                            "#bd3786"
                          ],
                          [
                            0.5555555555555556,
                            "#d8576b"
                          ],
                          [
                            0.6666666666666666,
                            "#ed7953"
                          ],
                          [
                            0.7777777777777778,
                            "#fb9f3a"
                          ],
                          [
                            0.8888888888888888,
                            "#fdca26"
                          ],
                          [
                            1,
                            "#f0f921"
                          ]
                        ],
                        "type": "heatmapgl"
                      }
                    ],
                    "histogram": [
                      {
                        "marker": {
                          "pattern": {
                            "fillmode": "overlay",
                            "size": 10,
                            "solidity": 0.2
                          }
                        },
                        "type": "histogram"
                      }
                    ],
                    "histogram2d": [
                      {
                        "colorbar": {
                          "outlinewidth": 0,
                          "ticks": ""
                        },
                        "colorscale": [
                          [
                            0,
                            "#0d0887"
                          ],
                          [
                            0.1111111111111111,
                            "#46039f"
                          ],
                          [
                            0.2222222222222222,
                            "#7201a8"
                          ],
                          [
                            0.3333333333333333,
                            "#9c179e"
                          ],
                          [
                            0.4444444444444444,
                            "#bd3786"
                          ],
                          [
                            0.5555555555555556,
                            "#d8576b"
                          ],
                          [
                            0.6666666666666666,
                            "#ed7953"
                          ],
                          [
                            0.7777777777777778,
                            "#fb9f3a"
                          ],
                          [
                            0.8888888888888888,
                            "#fdca26"
                          ],
                          [
                            1,
                            "#f0f921"
                          ]
                        ],
                        "type": "histogram2d"
                      }
                    ],
                    "histogram2dcontour": [
                      {
                        "colorbar": {
                          "outlinewidth": 0,
                          "ticks": ""
                        },
                        "colorscale": [
                          [
                            0,
                            "#0d0887"
                          ],
                          [
                            0.1111111111111111,
                            "#46039f"
                          ],
                          [
                            0.2222222222222222,
                            "#7201a8"
                          ],
                          [
                            0.3333333333333333,
                            "#9c179e"
                          ],
                          [
                            0.4444444444444444,
                            "#bd3786"
                          ],
                          [
                            0.5555555555555556,
                            "#d8576b"
                          ],
                          [
                            0.6666666666666666,
                            "#ed7953"
                          ],
                          [
                            0.7777777777777778,
                            "#fb9f3a"
                          ],
                          [
                            0.8888888888888888,
                            "#fdca26"
                          ],
                          [
                            1,
                            "#f0f921"
                          ]
                        ],
                        "type": "histogram2dcontour"
                      }
                    ],
                    "mesh3d": [
                      {
                        "colorbar": {
                          "outlinewidth": 0,
                          "ticks": ""
                        },
                        "type": "mesh3d"
                      }
                    ],
                    "parcoords": [
                      {
                        "line": {
                          "colorbar": {
                            "outlinewidth": 0,
                            "ticks": ""
                          }
                        },
                        "type": "parcoords"
                      }
                    ],
                    "pie": [
                      {
                        "automargin": true,
                        "type": "pie"
                      }
                    ],
                    "scatter": [
                      {
                        "fillpattern": {
                          "fillmode": "overlay",
                          "size": 10,
                          "solidity": 0.2
                        },
                        "type": "scatter"
                      }
                    ],
                    "scatter3d": [
                      {
                        "line": {
                          "colorbar": {
                            "outlinewidth": 0,
                            "ticks": ""
                          }
                        },
                        "marker": {
                          "colorbar": {
                            "outlinewidth": 0,
                            "ticks": ""
                          }
                        },
                        "type": "scatter3d"
                      }
                    ],
                    "scattercarpet": [
                      {
                        "marker": {
                          "colorbar": {
                            "outlinewidth": 0,
                            "ticks": ""
                          }
                        },
                        "type": "scattercarpet"
                      }
                    ],
                    "scattergeo": [
                      {
                        "marker": {
                          "colorbar": {
                            "outlinewidth": 0,
                            "ticks": ""
                          }
                        },
                        "type": "scattergeo"
                      }
                    ],
                    "scattergl": [
                      {
                        "marker": {
                          "colorbar": {
                            "outlinewidth": 0,
                            "ticks": ""
                          }
                        },
                        "type": "scattergl"
                      }
                    ],
                    "scattermapbox": [
                      {
                        "marker": {
                          "colorbar": {
                            "outlinewidth": 0,
                            "ticks": ""
                          }
                        },
                        "type": "scattermapbox"
                      }
                    ],
                    "scatterpolar": [
                      {
                        "marker": {
                          "colorbar": {
                            "outlinewidth": 0,
                            "ticks": ""
                          }
                        },
                        "type": "scatterpolar"
                      }
                    ],
                    "scatterpolargl": [
                      {
                        "marker": {
                          "colorbar": {
                            "outlinewidth": 0,
                            "ticks": ""
                          }
                        },
                        "type": "scatterpolargl"
                      }
                    ],
                    "scatterternary": [
                      {
                        "marker": {
                          "colorbar": {
                            "outlinewidth": 0,
                            "ticks": ""
                          }
                        },
                        "type": "scatterternary"
                      }
                    ],
                    "surface": [
                      {
                        "colorbar": {
                          "outlinewidth": 0,
                          "ticks": ""
                        },
                        "colorscale": [
                          [
                            0,
                            "#0d0887"
                          ],
                          [
                            0.1111111111111111,
                            "#46039f"
                          ],
                          [
                            0.2222222222222222,
                            "#7201a8"
                          ],
                          [
                            0.3333333333333333,
                            "#9c179e"
                          ],
                          [
                            0.4444444444444444,
                            "#bd3786"
                          ],
                          [
                            0.5555555555555556,
                            "#d8576b"
                          ],
                          [
                            0.6666666666666666,
                            "#ed7953"
                          ],
                          [
                            0.7777777777777778,
                            "#fb9f3a"
                          ],
                          [
                            0.8888888888888888,
                            "#fdca26"
                          ],
                          [
                            1,
                            "#f0f921"
                          ]
                        ],
                        "type": "surface"
                      }
                    ],
                    "table": [
                      {
                        "cells": {
                          "fill": {
                            "color": "#EBF0F8"
                          },
                          "line": {
                            "color": "white"
                          }
                        },
                        "header": {
                          "fill": {
                            "color": "#C8D4E3"
                          },
                          "line": {
                            "color": "white"
                          }
                        },
                        "type": "table"
                      }
                    ]
                  },
                  "layout": {
                    "annotationdefaults": {
                      "arrowcolor": "#2a3f5f",
                      "arrowhead": 0,
                      "arrowwidth": 1
                    },
                    "autotypenumbers": "strict",
                    "coloraxis": {
                      "colorbar": {
                        "outlinewidth": 0,
                        "ticks": ""
                      }
                    },
                    "colorscale": {
                      "diverging": [
                        [
                          0,
                          "#8e0152"
                        ],
                        [
                          0.1,
                          "#c51b7d"
                        ],
                        [
                          0.2,
                          "#de77ae"
                        ],
                        [
                          0.3,
                          "#f1b6da"
                        ],
                        [
                          0.4,
                          "#fde0ef"
                        ],
                        [
                          0.5,
                          "#f7f7f7"
                        ],
                        [
                          0.6,
                          "#e6f5d0"
                        ],
                        [
                          0.7,
                          "#b8e186"
                        ],
                        [
                          0.8,
                          "#7fbc41"
                        ],
                        [
                          0.9,
                          "#4d9221"
                        ],
                        [
                          1,
                          "#276419"
                        ]
                      ],
                      "sequential": [
                        [
                          0,
                          "#0d0887"
                        ],
                        [
                          0.1111111111111111,
                          "#46039f"
                        ],
                        [
                          0.2222222222222222,
                          "#7201a8"
                        ],
                        [
                          0.3333333333333333,
                          "#9c179e"
                        ],
                        [
                          0.4444444444444444,
                          "#bd3786"
                        ],
                        [
                          0.5555555555555556,
                          "#d8576b"
                        ],
                        [
                          0.6666666666666666,
                          "#ed7953"
                        ],
                        [
                          0.7777777777777778,
                          "#fb9f3a"
                        ],
                        [
                          0.8888888888888888,
                          "#fdca26"
                        ],
                        [
                          1,
                          "#f0f921"
                        ]
                      ],
                      "sequentialminus": [
                        [
                          0,
                          "#0d0887"
                        ],
                        [
                          0.1111111111111111,
                          "#46039f"
                        ],
                        [
                          0.2222222222222222,
                          "#7201a8"
                        ],
                        [
                          0.3333333333333333,
                          "#9c179e"
                        ],
                        [
                          0.4444444444444444,
                          "#bd3786"
                        ],
                        [
                          0.5555555555555556,
                          "#d8576b"
                        ],
                        [
                          0.6666666666666666,
                          "#ed7953"
                        ],
                        [
                          0.7777777777777778,
                          "#fb9f3a"
                        ],
                        [
                          0.8888888888888888,
                          "#fdca26"
                        ],
                        [
                          1,
                          "#f0f921"
                        ]
                      ]
                    },
                    "colorway": [
                      "#636efa",
                      "#EF553B",
                      "#00cc96",
                      "#ab63fa",
                      "#FFA15A",
                      "#19d3f3",
                      "#FF6692",
                      "#B6E880",
                      "#FF97FF",
                      "#FECB52"
                    ],
                    "font": {
                      "color": "#2a3f5f"
                    },
                    "geo": {
                      "bgcolor": "white",
                      "lakecolor": "white",
                      "landcolor": "#E5ECF6",
                      "showlakes": true,
                      "showland": true,
                      "subunitcolor": "white"
                    },
                    "hoverlabel": {
                      "align": "left"
                    },
                    "hovermode": "closest",
                    "mapbox": {
                      "style": "light"
                    },
                    "paper_bgcolor": "white",
                    "plot_bgcolor": "#E5ECF6",
                    "polar": {
                      "angularaxis": {
                        "gridcolor": "white",
                        "linecolor": "white",
                        "ticks": ""
                      },
                      "bgcolor": "#E5ECF6",
                      "radialaxis": {
                        "gridcolor": "white",
                        "linecolor": "white",
                        "ticks": ""
                      }
                    },
                    "scene": {
                      "xaxis": {
                        "backgroundcolor": "#E5ECF6",
                        "gridcolor": "white",
                        "gridwidth": 2,
                        "linecolor": "white",
                        "showbackground": true,
                        "ticks": "",
                        "zerolinecolor": "white"
                      },
                      "yaxis": {
                        "backgroundcolor": "#E5ECF6",
                        "gridcolor": "white",
                        "gridwidth": 2,
                        "linecolor": "white",
                        "showbackground": true,
                        "ticks": "",
                        "zerolinecolor": "white"
                      },
                      "zaxis": {
                        "backgroundcolor": "#E5ECF6",
                        "gridcolor": "white",
                        "gridwidth": 2,
                        "linecolor": "white",
                        "showbackground": true,
                        "ticks": "",
                        "zerolinecolor": "white"
                      }
                    },
                    "shapedefaults": {
                      "line": {
                        "color": "#2a3f5f"
                      }
                    },
                    "ternary": {
                      "aaxis": {
                        "gridcolor": "white",
                        "linecolor": "white",
                        "ticks": ""
                      },
                      "baxis": {
                        "gridcolor": "white",
                        "linecolor": "white",
                        "ticks": ""
                      },
                      "bgcolor": "#E5ECF6",
                      "caxis": {
                        "gridcolor": "white",
                        "linecolor": "white",
                        "ticks": ""
                      }
                    },
                    "title": {
                      "x": 0.05
                    },
                    "xaxis": {
                      "automargin": true,
                      "gridcolor": "white",
                      "linecolor": "white",
                      "ticks": "",
                      "title": {
                        "standoff": 15
                      },
                      "zerolinecolor": "white",
                      "zerolinewidth": 2
                    },
                    "yaxis": {
                      "automargin": true,
                      "gridcolor": "white",
                      "linecolor": "white",
                      "ticks": "",
                      "title": {
                        "standoff": 15
                      },
                      "zerolinecolor": "white",
                      "zerolinewidth": 2
                    }
                  }
                },
                "title": {
                  "text": "Ofertas de Inmuebles por UPL"
                },
                "width": 600,
                "xaxis": {
                  "anchor": "y",
                  "domain": [
                    0,
                    1
                  ],
                  "title": {
                    "text": "Ofertas"
                  }
                },
                "yaxis": {
                  "anchor": "x",
                  "domain": [
                    0,
                    1
                  ],
                  "title": {
                    "text": "Nombre UPL"
                  }
                }
              }
            }
          },
          "metadata": {},
          "output_type": "display_data"
        }
      ],
      "source": [
        "fig = px.bar(\n",
        "    df_ofertas_upl.sort_values(by='ofertas', ascending=True),\n",
        "    x='ofertas',\n",
        "    y='nombre',\n",
        "    orientation='h',\n",
        "    labels={'ofertas': 'Ofertas', 'nombre': 'Nombre UPL'},\n",
        "    title='Ofertas de Inmuebles por UPL',\n",
        "    # marker_\n",
        ")\n",
        "\n",
        "fig.update_layout(\n",
        "    width=600,\n",
        "    height=800,\n",
        ")\n",
        "\n",
        "fig.show()"
      ]
    },
    {
      "cell_type": "markdown",
      "metadata": {},
      "source": [
        "#### Mapa"
      ]
    },
    {
      "cell_type": "markdown",
      "metadata": {},
      "source": [
        "Para añadir la dimensión geográfica al número de ofertas por UPL, es necesario verlo a través de un mapa. Esto permite analizar patrones y tendencias a traves del espacio.\n",
        "1. (**Recomendado**) Visualizar la versión desplegada en página web en [este link](https://santigonzalezz.github.io/habi_prueba_data_science/mapa_ofertas_upls.html)\n",
        "1. Visualizar el mapa en las celdas siguientes, sin embargo, se encuentra limitada la interactividad y es posible errores al guardar el archivo y no ejecutar las celdas"
      ]
    },
    {
      "cell_type": "code",
      "execution_count": 21,
      "metadata": {},
      "outputs": [
        {
          "name": "stdout",
          "output_type": "stream",
          "text": [
            "User Guide: https://docs.kepler.gl/docs/keplergl-jupyter\n"
          ]
        }
      ],
      "source": [
        "# Create the map object\n",
        "mapa_ofertas_upls = KeplerGl(\n",
        "    height=500,\n",
        "    # data={'ofertas_upl': df_ofertas_upl}\n",
        ")\n",
        "\n",
        "# Add the data of ofertas per upl\n",
        "mapa_ofertas_upls.add_data(df_ofertas_upl, 'Ofertas UPL')\n",
        "\n",
        "# Add the data of inmuebles\n",
        "mapa_ofertas_upls.add_data(df_inmuebles[~df_inmuebles['codigo_upl'].isna()][['id', 'geometry']], 'Inmuebles')\n",
        "\n",
        "# Read the config of the map as a json\n",
        "# with open('Data/config_mapa_ofertas_upls.json') as file:\n",
        "#     config_mapa_ofertas_upls = json.load(file)\n",
        "\n",
        "# Read the config of the map as a json\n",
        "config_mapa_ofertas_upls = json.loads(\n",
        "    '{\"version\": \"v1\", \"config\": {\"visState\": {\"filters\": [], \"layers\": [{\"id\": \"5l8szv\", \"type\": \"geojson\", \"config\": {\"dataId\": \"Inmuebles\", \"label\": \"Inmuebles\", \"color\": [240, 109, 109], \"highlightColor\": [252, 242, 26, 255], \"columns\": {\"geojson\": \"geometry\"}, \"isVisible\": true, \"visConfig\": {\"opacity\": 0.8, \"strokeOpacity\": 0.8, \"thickness\": 0, \"strokeColor\": null, \"colorRange\": {\"name\": \"Global Warming\", \"type\": \"sequential\", \"category\": \"Uber\", \"colors\": [\"#5A1846\", \"#900C3F\", \"#C70039\", \"#E3611C\", \"#F1920E\", \"#FFC300\"]}, \"strokeColorRange\": {\"name\": \"Global Warming\", \"type\": \"sequential\", \"category\": \"Uber\", \"colors\": [\"#5A1846\", \"#900C3F\", \"#C70039\", \"#E3611C\", \"#F1920E\", \"#FFC300\"]}, \"radius\": 1.5, \"sizeRange\": [0, 10], \"radiusRange\": [0, 50], \"heightRange\": [0, 500], \"elevationScale\": 5, \"enableElevationZoomFactor\": true, \"stroked\": false, \"filled\": true, \"enable3d\": false, \"wireframe\": false}, \"hidden\": false, \"textLabel\": [{\"field\": null, \"color\": [255, 255, 255], \"size\": 18, \"offset\": [0, 0], \"anchor\": \"start\", \"alignment\": \"center\"}]}, \"visualChannels\": {\"colorField\": null, \"colorScale\": \"quantile\", \"strokeColorField\": null, \"strokeColorScale\": \"quantile\", \"sizeField\": null, \"sizeScale\": \"linear\", \"heightField\": null, \"heightScale\": \"linear\", \"radiusField\": null, \"radiusScale\": \"linear\"}}, {\"id\": \"zfp3c9d\", \"type\": \"geojson\", \"config\": {\"dataId\": \"Ofertas UPL\", \"label\": \"Ofertas UPL\", \"color\": [18, 147, 154], \"highlightColor\": [252, 242, 26, 255], \"columns\": {\"geojson\": \"geometry\"}, \"isVisible\": true, \"visConfig\": {\"opacity\": 0.8, \"strokeOpacity\": 0.8, \"thickness\": 0.5, \"strokeColor\": [221, 178, 124], \"colorRange\": {\"name\": \"ColorBrewer Blues-9\", \"type\": \"singlehue\", \"category\": \"ColorBrewer\", \"colors\": [\"#f7fbff\", \"#deebf7\", \"#c6dbef\", \"#9ecae1\", \"#6baed6\", \"#4292c6\", \"#2171b5\", \"#08519c\", \"#08306b\"]}, \"strokeColorRange\": {\"name\": \"Global Warming\", \"type\": \"sequential\", \"category\": \"Uber\", \"colors\": [\"#5A1846\", \"#900C3F\", \"#C70039\", \"#E3611C\", \"#F1920E\", \"#FFC300\"]}, \"radius\": 10, \"sizeRange\": [0, 10], \"radiusRange\": [0, 50], \"heightRange\": [0, 500], \"elevationScale\": 5, \"enableElevationZoomFactor\": true, \"stroked\": true, \"filled\": true, \"enable3d\": false, \"wireframe\": false}, \"hidden\": false, \"textLabel\": [{\"field\": null, \"color\": [255, 255, 255], \"size\": 18, \"offset\": [0, 0], \"anchor\": \"start\", \"alignment\": \"center\"}]}, \"visualChannels\": {\"colorField\": {\"name\": \"ofertas\", \"type\": \"integer\"}, \"colorScale\": \"quantile\", \"strokeColorField\": null, \"strokeColorScale\": \"quantile\", \"sizeField\": null, \"sizeScale\": \"linear\", \"heightField\": null, \"heightScale\": \"linear\", \"radiusField\": null, \"radiusScale\": \"linear\"}}], \"interactionConfig\": {\"tooltip\": {\"fieldsToShow\": {\"Ofertas UPL\": [{\"name\": \"codigo_upl\", \"format\": null}, {\"name\": \"ofertas\", \"format\": null}, {\"name\": \"porcentaje\", \"format\": null}, {\"name\": \"porcentaje_acum\", \"format\": null}, {\"name\": \"nombre\", \"format\": null}], \"Inmuebles\": [{\"name\": \"id\", \"format\": null}]}, \"compareMode\": false, \"compareType\": \"absolute\", \"enabled\": true}, \"brush\": {\"size\": 0.5, \"enabled\": false}, \"geocoder\": {\"enabled\": false}, \"coordinate\": {\"enabled\": false}}, \"layerBlending\": \"normal\", \"splitMaps\": [], \"animationConfig\": {\"currentTime\": null, \"speed\": 1}}, \"mapState\": {\"bearing\": 0, \"dragRotate\": false, \"latitude\": 4.645019643007336, \"longitude\": -74.10667522580201, \"pitch\": 0, \"zoom\": 9.887221846798692, \"isSplit\": false}, \"mapStyle\": {\"styleType\": \"dark\", \"topLayerGroups\": {}, \"visibleLayerGroups\": {\"label\": true, \"road\": true, \"border\": false, \"building\": true, \"water\": true, \"land\": true, \"3d building\": false}, \"threeDBuildingColor\": [9.665468314072013, 17.18305478057247, 31.1442867897876], \"mapStyles\": {}}}}'\n",
        ")\n",
        "\n",
        "# Set the configuration to the map\n",
        "mapa_ofertas_upls.config = config_mapa_ofertas_upls"
      ]
    },
    {
      "cell_type": "code",
      "execution_count": 19,
      "metadata": {},
      "outputs": [],
      "source": [
        "# mapa_ofertas_upls"
      ]
    },
    {
      "cell_type": "code",
      "execution_count": 21,
      "metadata": {},
      "outputs": [],
      "source": [
        "# Save the config to a json file\n",
        "# config_mapa_ofertas_upls = mapa_ofertas_upls.config\n",
        "# with open(\"Data/config_mapa_ofertas_upls.json\", \"w\") as outfile: \n",
        "#     json.dump(config_mapa_ofertas_upls, outfile)"
      ]
    },
    {
      "cell_type": "code",
      "execution_count": 22,
      "metadata": {},
      "outputs": [
        {
          "name": "stdout",
          "output_type": "stream",
          "text": [
            "Map saved to mapa_ofertas_upls.html!\n"
          ]
        }
      ],
      "source": [
        "# Save the map as an html\n",
        "# config_mapa_ofertas_upls = mapa_ofertas_upls.config\n",
        "# mapa_ofertas_upls.save_to_html(\n",
        "#   data={\n",
        "#     'Ofertas UPL': df_ofertas_upl,\n",
        "#     'Inmuebles': df_inmuebles[~df_inmuebles['codigo_upl'].isna()][['id', 'geometry']],\n",
        "#   },\n",
        "#   config=config_mapa_ofertas_upls,\n",
        "#   file_name='mapa_ofertas_upls.html'\n",
        "# )"
      ]
    },
    {
      "cell_type": "markdown",
      "metadata": {
        "id": "6M5wNTNKyXZo"
      },
      "source": [
        "## **Punto 4**"
      ]
    },
    {
      "cell_type": "markdown",
      "metadata": {
        "id": "73H0WsGaysDQ"
      },
      "source": [
        "Hacer una i de Moran para saber las UPLs HH, HL, LH y LL según el modelo para el valor por m2 de los inmuebles por UPL."
      ]
    },
    {
      "cell_type": "code",
      "execution_count": null,
      "metadata": {
        "id": "Bx-ow_UbyglP"
      },
      "outputs": [],
      "source": [
        "\"\"\"\n",
        "Escriba aquí su código. De ser necesario, puede agregar más celdas.\n",
        "\"\"\""
      ]
    },
    {
      "cell_type": "code",
      "execution_count": 63,
      "metadata": {},
      "outputs": [
        {
          "data": {
            "image/png": "[encoded data removed]",
            "text/plain": [
              "<Figure size 1000x600 with 1 Axes>"
            ]
          },
          "metadata": {},
          "output_type": "display_data"
        }
      ],
      "source": [
        "# Create a histogram of the 'area' column\n",
        "plt.figure(figsize=(10, 6))\n",
        "plt.hist(df_inmuebles['area'], bins=1000, edgecolor='black')\n",
        "\n",
        "# Set the x-axis limits\n",
        "plt.xlim(0, 100)  # Set xlim to desired values\n",
        "\n",
        "# Add titles and labels\n",
        "plt.title('Histogram of Area')\n",
        "plt.xlabel('Area')\n",
        "plt.ylabel('Frequency')\n",
        "\n",
        "# Display the plot\n",
        "plt.show()\n"
      ]
    },
    {
      "cell_type": "code",
      "execution_count": 49,
      "metadata": {},
      "outputs": [
        {
          "data": {
            "image/png": "[encoded data removed]",
            "text/plain": [
              "<Figure size 1000x600 with 1 Axes>"
            ]
          },
          "metadata": {},
          "output_type": "display_data"
        }
      ],
      "source": [
        "# Create a histogram of the 'area' column\n",
        "plt.figure(figsize=(10, 6))\n",
        "plt.boxplot(df_inmuebles['area'])\n",
        "\n",
        "# Set the x-axis limits\n",
        "# plt.xlim(0, 1000)  # Set xlim to desired values\n",
        "plt.ylim(0, 300)\n",
        "# plt.ylim(0, 50)\n",
        "\n",
        "# Add titles and labels\n",
        "plt.title('Histogram of Area')\n",
        "plt.xlabel('Area')\n",
        "plt.ylabel('Frequency')\n",
        "\n",
        "# Display the plot\n",
        "plt.show()\n"
      ]
    },
    {
      "cell_type": "code",
      "execution_count": 54,
      "metadata": {},
      "outputs": [
        {
          "data": {
            "image/png": "[encoded data removed]",
            "text/plain": [
              "<Figure size 1000x600 with 1 Axes>"
            ]
          },
          "metadata": {},
          "output_type": "display_data"
        }
      ],
      "source": [
        "# Create a histogram of the 'area' column\n",
        "plt.figure(figsize=(10, 6))\n",
        "sns.violinplot(df_inmuebles['area'], inner='box')\n",
        "\n",
        "# Set the x-axis limits\n",
        "# plt.xlim(0, 1000)  # Set xlim to desired values\n",
        "plt.ylim(0, 300)\n",
        "# plt.ylim(0, 50)\n",
        "\n",
        "# Add titles and labels\n",
        "plt.title('Histogram of Area')\n",
        "plt.xlabel('Area')\n",
        "plt.ylabel('Frequency')\n",
        "\n",
        "# Display the plot\n",
        "plt.show()\n"
      ]
    },
    {
      "cell_type": "code",
      "execution_count": 48,
      "metadata": {},
      "outputs": [
        {
          "name": "stdout",
          "output_type": "stream",
          "text": [
            "Q1 (25th percentile): 68.0\n",
            "Median (50th percentile): 93.0\n",
            "Q3 (75th percentile): 150.0\n",
            "IQR (Interquartile Range): 82.0\n",
            "Lower Whisker: -55.0\n",
            "Upper Whisker: 273.0\n"
          ]
        }
      ],
      "source": [
        "Q1 = df_inmuebles['area'].quantile(0.25)\n",
        "Q2 = df_inmuebles['area'].quantile(0.50)\n",
        "Q3 = df_inmuebles['area'].quantile(0.75)\n",
        "\n",
        "# Calculate IQR\n",
        "IQR = Q3 - Q1\n",
        "\n",
        "# Calculate the lower and upper whiskers\n",
        "lower_whisker = Q1 - 1.5 * IQR\n",
        "upper_whisker = Q3 + 1.5 * IQR\n",
        "\n",
        "print(f\"Q1 (25th percentile): {Q1}\")\n",
        "print(f\"Median (50th percentile): {Q2}\")\n",
        "print(f\"Q3 (75th percentile): {Q3}\")\n",
        "print(f\"IQR (Interquartile Range): {IQR}\")\n",
        "print(f\"Lower Whisker: {lower_whisker}\")\n",
        "print(f\"Upper Whisker: {upper_whisker}\")"
      ]
    },
    {
      "cell_type": "code",
      "execution_count": 27,
      "metadata": {},
      "outputs": [
        {
          "data": {
            "text/plain": [
              "count    882888.000000\n",
              "mean        135.641558\n",
              "std         176.146918\n",
              "min           1.000000\n",
              "25%          68.000000\n",
              "50%          93.000000\n",
              "75%         150.000000\n",
              "max        4998.000000\n",
              "Name: area, dtype: float64"
            ]
          },
          "execution_count": 27,
          "metadata": {},
          "output_type": "execute_result"
        }
      ],
      "source": [
        "df_inmuebles['area'].describe()"
      ]
    },
    {
      "cell_type": "code",
      "execution_count": null,
      "metadata": {},
      "outputs": [
        {
          "data": {
            "text/html": [
              "<div>\n",
              "<style scoped>\n",
              "    .dataframe tbody tr th:only-of-type {\n",
              "        vertical-align: middle;\n",
              "    }\n",
              "\n",
              "    .dataframe tbody tr th {\n",
              "        vertical-align: top;\n",
              "    }\n",
              "\n",
              "    .dataframe thead th {\n",
              "        text-align: right;\n",
              "    }\n",
              "</style>\n",
              "<table border=\"1\" class=\"dataframe\">\n",
              "  <thead>\n",
              "    <tr style=\"text-align: right;\">\n",
              "      <th></th>\n",
              "      <th>id</th>\n",
              "      <th>fecha_creacion</th>\n",
              "      <th>departamento</th>\n",
              "      <th>municipio</th>\n",
              "      <th>habitaciones</th>\n",
              "      <th>banos</th>\n",
              "      <th>area</th>\n",
              "      <th>precio</th>\n",
              "      <th>num_ascensores</th>\n",
              "      <th>garajes</th>\n",
              "      <th>direccion</th>\n",
              "      <th>anos_antiguedad</th>\n",
              "      <th>tipo_inmueble</th>\n",
              "      <th>tiponegocio</th>\n",
              "      <th>geometry</th>\n",
              "      <th>index_right</th>\n",
              "      <th>codigo_upl</th>\n",
              "      <th>precio_m2</th>\n",
              "    </tr>\n",
              "  </thead>\n",
              "  <tbody>\n",
              "    <tr>\n",
              "      <th>850834</th>\n",
              "      <td>3492038</td>\n",
              "      <td>2022-01-27</td>\n",
              "      <td>BOGOTÁ, D.C.</td>\n",
              "      <td>BOGOTÁ, D.C.</td>\n",
              "      <td>3.0</td>\n",
              "      <td>2</td>\n",
              "      <td>90.0</td>\n",
              "      <td>2.500000e+13</td>\n",
              "      <td>1</td>\n",
              "      <td>1</td>\n",
              "      <td>CALLE 24B BIS   69A- 55</td>\n",
              "      <td>12</td>\n",
              "      <td>apartamento</td>\n",
              "      <td>arriendo</td>\n",
              "      <td>POINT (-74.11063 4.65716)</td>\n",
              "      <td>1.0</td>\n",
              "      <td>UPL30</td>\n",
              "      <td>277777.796667</td>\n",
              "    </tr>\n",
              "    <tr>\n",
              "      <th>227988</th>\n",
              "      <td>3213542</td>\n",
              "      <td>2021-12-12</td>\n",
              "      <td>BOGOTÁ, D.C.</td>\n",
              "      <td>BOGOTÁ, D.C.</td>\n",
              "      <td>3.0</td>\n",
              "      <td>2</td>\n",
              "      <td>90.0</td>\n",
              "      <td>2.500000e+13</td>\n",
              "      <td>1</td>\n",
              "      <td>1</td>\n",
              "      <td>CALLE 24B BIS   69A- 55</td>\n",
              "      <td>12</td>\n",
              "      <td>apartamento</td>\n",
              "      <td>arriendo</td>\n",
              "      <td>POINT (-74.11063 4.65716)</td>\n",
              "      <td>1.0</td>\n",
              "      <td>UPL30</td>\n",
              "      <td>277777.796667</td>\n",
              "    </tr>\n",
              "    <tr>\n",
              "      <th>383697</th>\n",
              "      <td>2584815</td>\n",
              "      <td>2021-10-22</td>\n",
              "      <td>BOGOTÁ, D.C.</td>\n",
              "      <td>BOGOTÁ, D.C.</td>\n",
              "      <td>3.0</td>\n",
              "      <td>2</td>\n",
              "      <td>90.0</td>\n",
              "      <td>2.500000e+13</td>\n",
              "      <td>1</td>\n",
              "      <td>1</td>\n",
              "      <td>CALLE 24B BIS   69A- 55</td>\n",
              "      <td>12</td>\n",
              "      <td>apartamento</td>\n",
              "      <td>arriendo</td>\n",
              "      <td>POINT (-74.11063 4.65716)</td>\n",
              "      <td>1.0</td>\n",
              "      <td>UPL30</td>\n",
              "      <td>277777.796667</td>\n",
              "    </tr>\n",
              "    <tr>\n",
              "      <th>122394</th>\n",
              "      <td>4674336</td>\n",
              "      <td>2022-06-22</td>\n",
              "      <td>BOGOTÁ, D.C.</td>\n",
              "      <td>BOGOTÁ, D.C.</td>\n",
              "      <td>3.0</td>\n",
              "      <td>3</td>\n",
              "      <td>2.0</td>\n",
              "      <td>1.391392e+09</td>\n",
              "      <td>1</td>\n",
              "      <td>2</td>\n",
              "      <td>Calle 26 #70 a -45, Ciudad Salitre, Zona Occid...</td>\n",
              "      <td>4</td>\n",
              "      <td>apartamento</td>\n",
              "      <td>venta</td>\n",
              "      <td>POINT (-74.11079 4.66554)</td>\n",
              "      <td>1.0</td>\n",
              "      <td>UPL30</td>\n",
              "      <td>695.696114</td>\n",
              "    </tr>\n",
              "    <tr>\n",
              "      <th>590850</th>\n",
              "      <td>4323569</td>\n",
              "      <td>2022-05-03</td>\n",
              "      <td>BOGOTÁ, D.C.</td>\n",
              "      <td>BOGOTÁ, D.C.</td>\n",
              "      <td>3.0</td>\n",
              "      <td>4</td>\n",
              "      <td>4.0</td>\n",
              "      <td>1.010000e+09</td>\n",
              "      <td>0</td>\n",
              "      <td>2</td>\n",
              "      <td>salitre</td>\n",
              "      <td>4</td>\n",
              "      <td>apartamento</td>\n",
              "      <td>venta</td>\n",
              "      <td>POINT (-74.10905 4.64932)</td>\n",
              "      <td>1.0</td>\n",
              "      <td>UPL30</td>\n",
              "      <td>252.500000</td>\n",
              "    </tr>\n",
              "    <tr>\n",
              "      <th>123939</th>\n",
              "      <td>3896526</td>\n",
              "      <td>2022-03-17</td>\n",
              "      <td>BOGOTÁ, D.C.</td>\n",
              "      <td>BOGOTÁ, D.C.</td>\n",
              "      <td>3.0</td>\n",
              "      <td>4</td>\n",
              "      <td>4.0</td>\n",
              "      <td>1.010000e+09</td>\n",
              "      <td>0</td>\n",
              "      <td>2</td>\n",
              "      <td>salitre</td>\n",
              "      <td>4</td>\n",
              "      <td>apartamento</td>\n",
              "      <td>venta</td>\n",
              "      <td>POINT (-74.10905 4.64932)</td>\n",
              "      <td>1.0</td>\n",
              "      <td>UPL30</td>\n",
              "      <td>252.500000</td>\n",
              "    </tr>\n",
              "    <tr>\n",
              "      <th>694845</th>\n",
              "      <td>3664834</td>\n",
              "      <td>2022-03-02</td>\n",
              "      <td>BOGOTÁ, D.C.</td>\n",
              "      <td>BOGOTÁ, D.C.</td>\n",
              "      <td>3.0</td>\n",
              "      <td>4</td>\n",
              "      <td>4.0</td>\n",
              "      <td>1.010000e+09</td>\n",
              "      <td>0</td>\n",
              "      <td>2</td>\n",
              "      <td>salitre</td>\n",
              "      <td>4</td>\n",
              "      <td>apartamento</td>\n",
              "      <td>venta</td>\n",
              "      <td>POINT (-74.10905 4.64932)</td>\n",
              "      <td>1.0</td>\n",
              "      <td>UPL30</td>\n",
              "      <td>252.500000</td>\n",
              "    </tr>\n",
              "    <tr>\n",
              "      <th>383954</th>\n",
              "      <td>4369018</td>\n",
              "      <td>2022-05-03</td>\n",
              "      <td>BOGOTÁ, D.C.</td>\n",
              "      <td>BOGOTÁ, D.C.</td>\n",
              "      <td>6.0</td>\n",
              "      <td>4</td>\n",
              "      <td>4.0</td>\n",
              "      <td>1.000000e+09</td>\n",
              "      <td>0</td>\n",
              "      <td>2</td>\n",
              "      <td>Crr 81d 24d 69</td>\n",
              "      <td>30</td>\n",
              "      <td>casa</td>\n",
              "      <td>venta</td>\n",
              "      <td>POINT (-74.11533 4.66402)</td>\n",
              "      <td>1.0</td>\n",
              "      <td>UPL30</td>\n",
              "      <td>250.000000</td>\n",
              "    </tr>\n",
              "    <tr>\n",
              "      <th>695181</th>\n",
              "      <td>3939837</td>\n",
              "      <td>2022-03-18</td>\n",
              "      <td>BOGOTÁ, D.C.</td>\n",
              "      <td>BOGOTÁ, D.C.</td>\n",
              "      <td>6.0</td>\n",
              "      <td>4</td>\n",
              "      <td>4.0</td>\n",
              "      <td>1.000000e+09</td>\n",
              "      <td>0</td>\n",
              "      <td>2</td>\n",
              "      <td>Crr 81d 24d 69</td>\n",
              "      <td>30</td>\n",
              "      <td>casa</td>\n",
              "      <td>venta</td>\n",
              "      <td>POINT (-74.11533 4.66402)</td>\n",
              "      <td>1.0</td>\n",
              "      <td>UPL30</td>\n",
              "      <td>250.000000</td>\n",
              "    </tr>\n",
              "    <tr>\n",
              "      <th>589436</th>\n",
              "      <td>4761396</td>\n",
              "      <td>2022-07-16</td>\n",
              "      <td>BOGOTÁ, D.C.</td>\n",
              "      <td>BOGOTÁ, D.C.</td>\n",
              "      <td>3.0</td>\n",
              "      <td>2</td>\n",
              "      <td>3.0</td>\n",
              "      <td>3.900000e+08</td>\n",
              "      <td>0</td>\n",
              "      <td>1</td>\n",
              "      <td>CL 54 BIS 71C 28</td>\n",
              "      <td>23</td>\n",
              "      <td>apartamento</td>\n",
              "      <td>venta</td>\n",
              "      <td>POINT (-74.10532 4.67185)</td>\n",
              "      <td>1.0</td>\n",
              "      <td>UPL30</td>\n",
              "      <td>130.000000</td>\n",
              "    </tr>\n",
              "    <tr>\n",
              "      <th>435459</th>\n",
              "      <td>3000645</td>\n",
              "      <td>2021-12-09</td>\n",
              "      <td>BOGOTÁ, D.C.</td>\n",
              "      <td>BOGOTÁ, D.C.</td>\n",
              "      <td>3.0</td>\n",
              "      <td>2</td>\n",
              "      <td>10.0</td>\n",
              "      <td>7.800000e+08</td>\n",
              "      <td>0</td>\n",
              "      <td>2</td>\n",
              "      <td>CALLE 24B 68A 42 INT 4 APT115 EDIFICIO VENTURA</td>\n",
              "      <td>12</td>\n",
              "      <td>apartamento</td>\n",
              "      <td>venta</td>\n",
              "      <td>POINT (-74.10745 4.65240)</td>\n",
              "      <td>1.0</td>\n",
              "      <td>UPL30</td>\n",
              "      <td>78.000000</td>\n",
              "    </tr>\n",
              "    <tr>\n",
              "      <th>71758</th>\n",
              "      <td>3920849</td>\n",
              "      <td>2022-03-17</td>\n",
              "      <td>BOGOTÁ, D.C.</td>\n",
              "      <td>BOGOTÁ, D.C.</td>\n",
              "      <td>3.0</td>\n",
              "      <td>2</td>\n",
              "      <td>10.0</td>\n",
              "      <td>7.800000e+08</td>\n",
              "      <td>0</td>\n",
              "      <td>2</td>\n",
              "      <td>CALLE 24B 68A 42 INT 4 APT115 EDIFICIO VENTURA</td>\n",
              "      <td>12</td>\n",
              "      <td>apartamento</td>\n",
              "      <td>venta</td>\n",
              "      <td>POINT (-74.10745 4.65240)</td>\n",
              "      <td>1.0</td>\n",
              "      <td>UPL30</td>\n",
              "      <td>78.000000</td>\n",
              "    </tr>\n",
              "    <tr>\n",
              "      <th>694971</th>\n",
              "      <td>4341841</td>\n",
              "      <td>2022-05-03</td>\n",
              "      <td>BOGOTÁ, D.C.</td>\n",
              "      <td>BOGOTÁ, D.C.</td>\n",
              "      <td>3.0</td>\n",
              "      <td>2</td>\n",
              "      <td>10.0</td>\n",
              "      <td>7.800000e+08</td>\n",
              "      <td>0</td>\n",
              "      <td>2</td>\n",
              "      <td>CALLE 24B 68A 42 INT 4 APT115 EDIFICIO VENTURA</td>\n",
              "      <td>12</td>\n",
              "      <td>apartamento</td>\n",
              "      <td>venta</td>\n",
              "      <td>POINT (-74.10745 4.65240)</td>\n",
              "      <td>1.0</td>\n",
              "      <td>UPL30</td>\n",
              "      <td>78.000000</td>\n",
              "    </tr>\n",
              "    <tr>\n",
              "      <th>228143</th>\n",
              "      <td>3376278</td>\n",
              "      <td>2022-01-27</td>\n",
              "      <td>BOGOTÁ, D.C.</td>\n",
              "      <td>BOGOTÁ, D.C.</td>\n",
              "      <td>3.0</td>\n",
              "      <td>2</td>\n",
              "      <td>10.0</td>\n",
              "      <td>7.800000e+08</td>\n",
              "      <td>0</td>\n",
              "      <td>2</td>\n",
              "      <td>CALLE 24B 68A 42 INT 4 APT115 EDIFICIO VENTURA</td>\n",
              "      <td>12</td>\n",
              "      <td>apartamento</td>\n",
              "      <td>venta</td>\n",
              "      <td>POINT (-74.10745 4.65240)</td>\n",
              "      <td>1.0</td>\n",
              "      <td>UPL30</td>\n",
              "      <td>78.000000</td>\n",
              "    </tr>\n",
              "    <tr>\n",
              "      <th>798602</th>\n",
              "      <td>2147002</td>\n",
              "      <td>2021-09-08</td>\n",
              "      <td>BOGOTÁ, D.C.</td>\n",
              "      <td>BOGOTÁ, D.C.</td>\n",
              "      <td>3.0</td>\n",
              "      <td>2</td>\n",
              "      <td>10.0</td>\n",
              "      <td>7.800000e+08</td>\n",
              "      <td>1</td>\n",
              "      <td>2</td>\n",
              "      <td>CALLE 24B 68A 42 INT 4 APT115 EDIFICIO VENTURA</td>\n",
              "      <td>12</td>\n",
              "      <td>apartamento</td>\n",
              "      <td>venta</td>\n",
              "      <td>POINT (-74.10745 4.65240)</td>\n",
              "      <td>1.0</td>\n",
              "      <td>UPL30</td>\n",
              "      <td>78.000000</td>\n",
              "    </tr>\n",
              "    <tr>\n",
              "      <th>175652</th>\n",
              "      <td>3680073</td>\n",
              "      <td>2022-03-02</td>\n",
              "      <td>BOGOTÁ, D.C.</td>\n",
              "      <td>BOGOTÁ, D.C.</td>\n",
              "      <td>3.0</td>\n",
              "      <td>2</td>\n",
              "      <td>10.0</td>\n",
              "      <td>7.800000e+08</td>\n",
              "      <td>0</td>\n",
              "      <td>2</td>\n",
              "      <td>CALLE 24B 68A 42 INT 4 APT115 EDIFICIO VENTURA</td>\n",
              "      <td>12</td>\n",
              "      <td>apartamento</td>\n",
              "      <td>venta</td>\n",
              "      <td>POINT (-74.10745 4.65240)</td>\n",
              "      <td>1.0</td>\n",
              "      <td>UPL30</td>\n",
              "      <td>78.000000</td>\n",
              "    </tr>\n",
              "    <tr>\n",
              "      <th>746741</th>\n",
              "      <td>4586942</td>\n",
              "      <td>2022-05-26</td>\n",
              "      <td>BOGOTÁ, D.C.</td>\n",
              "      <td>BOGOTÁ, D.C.</td>\n",
              "      <td>5.0</td>\n",
              "      <td>3</td>\n",
              "      <td>19.0</td>\n",
              "      <td>9.000000e+08</td>\n",
              "      <td>0</td>\n",
              "      <td>1</td>\n",
              "      <td>Calle 22F # 85A - 40</td>\n",
              "      <td>30</td>\n",
              "      <td>casa</td>\n",
              "      <td>venta</td>\n",
              "      <td>POINT (-74.12200 4.66200)</td>\n",
              "      <td>1.0</td>\n",
              "      <td>UPL30</td>\n",
              "      <td>47.368421</td>\n",
              "    </tr>\n",
              "    <tr>\n",
              "      <th>176059</th>\n",
              "      <td>83688</td>\n",
              "      <td>2020-04-14</td>\n",
              "      <td>BOGOTÁ, D.C.</td>\n",
              "      <td>BOGOTÁ, D.C.</td>\n",
              "      <td>3.0</td>\n",
              "      <td>2</td>\n",
              "      <td>8.0</td>\n",
              "      <td>3.000000e+08</td>\n",
              "      <td>0</td>\n",
              "      <td>1</td>\n",
              "      <td>Transversal 84 # 24E - 28</td>\n",
              "      <td>30</td>\n",
              "      <td>apartamento</td>\n",
              "      <td>venta</td>\n",
              "      <td>POINT (-74.12500 4.66600)</td>\n",
              "      <td>1.0</td>\n",
              "      <td>UPL30</td>\n",
              "      <td>37.500000</td>\n",
              "    </tr>\n",
              "    <tr>\n",
              "      <th>694807</th>\n",
              "      <td>3967894</td>\n",
              "      <td>2022-03-18</td>\n",
              "      <td>BOGOTÁ, D.C.</td>\n",
              "      <td>BOGOTÁ, D.C.</td>\n",
              "      <td>3.0</td>\n",
              "      <td>3</td>\n",
              "      <td>40.0</td>\n",
              "      <td>8.500000e+08</td>\n",
              "      <td>0</td>\n",
              "      <td>2</td>\n",
              "      <td>CARRERA 68B   22A- 62</td>\n",
              "      <td>12</td>\n",
              "      <td>casa</td>\n",
              "      <td>venta</td>\n",
              "      <td>POINT (-74.11097 4.64990)</td>\n",
              "      <td>1.0</td>\n",
              "      <td>UPL30</td>\n",
              "      <td>21.250000</td>\n",
              "    </tr>\n",
              "    <tr>\n",
              "      <th>19581</th>\n",
              "      <td>2512050</td>\n",
              "      <td>2021-10-21</td>\n",
              "      <td>BOGOTÁ, D.C.</td>\n",
              "      <td>BOGOTÁ, D.C.</td>\n",
              "      <td>3.0</td>\n",
              "      <td>3</td>\n",
              "      <td>40.0</td>\n",
              "      <td>8.500000e+08</td>\n",
              "      <td>0</td>\n",
              "      <td>2</td>\n",
              "      <td>CARRERA 68B   22A- 62</td>\n",
              "      <td>12</td>\n",
              "      <td>casa</td>\n",
              "      <td>venta</td>\n",
              "      <td>POINT (-74.11097 4.64990)</td>\n",
              "      <td>1.0</td>\n",
              "      <td>UPL30</td>\n",
              "      <td>21.250000</td>\n",
              "    </tr>\n",
              "    <tr>\n",
              "      <th>331688</th>\n",
              "      <td>2809583</td>\n",
              "      <td>2021-11-25</td>\n",
              "      <td>BOGOTÁ, D.C.</td>\n",
              "      <td>BOGOTÁ, D.C.</td>\n",
              "      <td>3.0</td>\n",
              "      <td>3</td>\n",
              "      <td>40.0</td>\n",
              "      <td>8.500000e+08</td>\n",
              "      <td>0</td>\n",
              "      <td>2</td>\n",
              "      <td>CARRERA 68B   22A- 62</td>\n",
              "      <td>12</td>\n",
              "      <td>casa</td>\n",
              "      <td>venta</td>\n",
              "      <td>POINT (-74.11097 4.64990)</td>\n",
              "      <td>1.0</td>\n",
              "      <td>UPL30</td>\n",
              "      <td>21.250000</td>\n",
              "    </tr>\n",
              "    <tr>\n",
              "      <th>227993</th>\n",
              "      <td>3731988</td>\n",
              "      <td>2022-03-02</td>\n",
              "      <td>BOGOTÁ, D.C.</td>\n",
              "      <td>BOGOTÁ, D.C.</td>\n",
              "      <td>3.0</td>\n",
              "      <td>3</td>\n",
              "      <td>40.0</td>\n",
              "      <td>8.500000e+08</td>\n",
              "      <td>0</td>\n",
              "      <td>2</td>\n",
              "      <td>CARRERA 68B   22A- 62</td>\n",
              "      <td>12</td>\n",
              "      <td>casa</td>\n",
              "      <td>venta</td>\n",
              "      <td>POINT (-74.11097 4.64990)</td>\n",
              "      <td>1.0</td>\n",
              "      <td>UPL30</td>\n",
              "      <td>21.250000</td>\n",
              "    </tr>\n",
              "    <tr>\n",
              "      <th>228127</th>\n",
              "      <td>3411048</td>\n",
              "      <td>2022-01-27</td>\n",
              "      <td>BOGOTÁ, D.C.</td>\n",
              "      <td>BOGOTÁ, D.C.</td>\n",
              "      <td>3.0</td>\n",
              "      <td>3</td>\n",
              "      <td>40.0</td>\n",
              "      <td>8.500000e+08</td>\n",
              "      <td>0</td>\n",
              "      <td>2</td>\n",
              "      <td>CARRERA 68B   22A- 62</td>\n",
              "      <td>12</td>\n",
              "      <td>casa</td>\n",
              "      <td>venta</td>\n",
              "      <td>POINT (-74.11097 4.64990)</td>\n",
              "      <td>1.0</td>\n",
              "      <td>UPL30</td>\n",
              "      <td>21.250000</td>\n",
              "    </tr>\n",
              "    <tr>\n",
              "      <th>331714</th>\n",
              "      <td>4388477</td>\n",
              "      <td>2022-05-03</td>\n",
              "      <td>BOGOTÁ, D.C.</td>\n",
              "      <td>BOGOTÁ, D.C.</td>\n",
              "      <td>3.0</td>\n",
              "      <td>3</td>\n",
              "      <td>40.0</td>\n",
              "      <td>8.500000e+08</td>\n",
              "      <td>0</td>\n",
              "      <td>2</td>\n",
              "      <td>CARRERA 68B   22A- 62</td>\n",
              "      <td>12</td>\n",
              "      <td>casa</td>\n",
              "      <td>venta</td>\n",
              "      <td>POINT (-74.11097 4.64990)</td>\n",
              "      <td>1.0</td>\n",
              "      <td>UPL30</td>\n",
              "      <td>21.250000</td>\n",
              "    </tr>\n",
              "    <tr>\n",
              "      <th>798661</th>\n",
              "      <td>3132235</td>\n",
              "      <td>2021-12-12</td>\n",
              "      <td>BOGOTÁ, D.C.</td>\n",
              "      <td>BOGOTÁ, D.C.</td>\n",
              "      <td>3.0</td>\n",
              "      <td>3</td>\n",
              "      <td>40.0</td>\n",
              "      <td>8.500000e+08</td>\n",
              "      <td>0</td>\n",
              "      <td>2</td>\n",
              "      <td>CARRERA 68B   22A- 62</td>\n",
              "      <td>12</td>\n",
              "      <td>casa</td>\n",
              "      <td>venta</td>\n",
              "      <td>POINT (-74.11097 4.64990)</td>\n",
              "      <td>1.0</td>\n",
              "      <td>UPL30</td>\n",
              "      <td>21.250000</td>\n",
              "    </tr>\n",
              "    <tr>\n",
              "      <th>850912</th>\n",
              "      <td>4672627</td>\n",
              "      <td>2022-06-22</td>\n",
              "      <td>BOGOTÁ, D.C.</td>\n",
              "      <td>BOGOTÁ, D.C.</td>\n",
              "      <td>3.0</td>\n",
              "      <td>3</td>\n",
              "      <td>120.0</td>\n",
              "      <td>1.700000e+09</td>\n",
              "      <td>0</td>\n",
              "      <td>2</td>\n",
              "      <td>CRA 68A  24B 10</td>\n",
              "      <td>4</td>\n",
              "      <td>apartamento</td>\n",
              "      <td>venta</td>\n",
              "      <td>POINT (-74.10663 4.65177)</td>\n",
              "      <td>1.0</td>\n",
              "      <td>UPL30</td>\n",
              "      <td>14.166667</td>\n",
              "    </tr>\n",
              "    <tr>\n",
              "      <th>124262</th>\n",
              "      <td>3070578</td>\n",
              "      <td>2021-12-12</td>\n",
              "      <td>BOGOTÁ, D.C.</td>\n",
              "      <td>BOGOTÁ, D.C.</td>\n",
              "      <td>3.0</td>\n",
              "      <td>2</td>\n",
              "      <td>30.0</td>\n",
              "      <td>4.200000e+08</td>\n",
              "      <td>1</td>\n",
              "      <td>2</td>\n",
              "      <td>calle 22 cra 86</td>\n",
              "      <td>12</td>\n",
              "      <td>apartamento</td>\n",
              "      <td>venta</td>\n",
              "      <td>POINT (-74.12733 4.66583)</td>\n",
              "      <td>1.0</td>\n",
              "      <td>UPL30</td>\n",
              "      <td>14.000000</td>\n",
              "    </tr>\n",
              "    <tr>\n",
              "      <th>694911</th>\n",
              "      <td>3662941</td>\n",
              "      <td>2022-03-02</td>\n",
              "      <td>BOGOTÁ, D.C.</td>\n",
              "      <td>BOGOTÁ, D.C.</td>\n",
              "      <td>2.0</td>\n",
              "      <td>2</td>\n",
              "      <td>102.0</td>\n",
              "      <td>1.370000e+09</td>\n",
              "      <td>0</td>\n",
              "      <td>2</td>\n",
              "      <td>KR  68A # 24B-10</td>\n",
              "      <td>4</td>\n",
              "      <td>apartamento</td>\n",
              "      <td>venta</td>\n",
              "      <td>POINT (-74.10700 4.65200)</td>\n",
              "      <td>1.0</td>\n",
              "      <td>UPL30</td>\n",
              "      <td>13.431373</td>\n",
              "    </tr>\n",
              "    <tr>\n",
              "      <th>123761</th>\n",
              "      <td>4326361</td>\n",
              "      <td>2022-05-03</td>\n",
              "      <td>BOGOTÁ, D.C.</td>\n",
              "      <td>BOGOTÁ, D.C.</td>\n",
              "      <td>2.0</td>\n",
              "      <td>2</td>\n",
              "      <td>102.0</td>\n",
              "      <td>1.370000e+09</td>\n",
              "      <td>0</td>\n",
              "      <td>2</td>\n",
              "      <td>KR  68A # 24B-10</td>\n",
              "      <td>4</td>\n",
              "      <td>apartamento</td>\n",
              "      <td>venta</td>\n",
              "      <td>POINT (-74.10700 4.65200)</td>\n",
              "      <td>1.0</td>\n",
              "      <td>UPL30</td>\n",
              "      <td>13.431373</td>\n",
              "    </tr>\n",
              "    <tr>\n",
              "      <th>383762</th>\n",
              "      <td>3906735</td>\n",
              "      <td>2022-03-17</td>\n",
              "      <td>BOGOTÁ, D.C.</td>\n",
              "      <td>BOGOTÁ, D.C.</td>\n",
              "      <td>2.0</td>\n",
              "      <td>2</td>\n",
              "      <td>102.0</td>\n",
              "      <td>1.370000e+09</td>\n",
              "      <td>0</td>\n",
              "      <td>2</td>\n",
              "      <td>KR  68A # 24B-10</td>\n",
              "      <td>4</td>\n",
              "      <td>apartamento</td>\n",
              "      <td>venta</td>\n",
              "      <td>POINT (-74.10700 4.65200)</td>\n",
              "      <td>1.0</td>\n",
              "      <td>UPL30</td>\n",
              "      <td>13.431373</td>\n",
              "    </tr>\n",
              "    <tr>\n",
              "      <th>123879</th>\n",
              "      <td>3339021</td>\n",
              "      <td>2022-01-26</td>\n",
              "      <td>BOGOTÁ, D.C.</td>\n",
              "      <td>BOGOTÁ, D.C.</td>\n",
              "      <td>2.0</td>\n",
              "      <td>2</td>\n",
              "      <td>102.0</td>\n",
              "      <td>1.370000e+09</td>\n",
              "      <td>0</td>\n",
              "      <td>2</td>\n",
              "      <td>KR  68A # 24B-10</td>\n",
              "      <td>4</td>\n",
              "      <td>apartamento</td>\n",
              "      <td>venta</td>\n",
              "      <td>POINT (-74.10700 4.65200)</td>\n",
              "      <td>1.0</td>\n",
              "      <td>UPL30</td>\n",
              "      <td>13.431373</td>\n",
              "    </tr>\n",
              "    <tr>\n",
              "      <th>694976</th>\n",
              "      <td>3265111</td>\n",
              "      <td>2022-01-12</td>\n",
              "      <td>BOGOTÁ, D.C.</td>\n",
              "      <td>BOGOTÁ, D.C.</td>\n",
              "      <td>2.0</td>\n",
              "      <td>2</td>\n",
              "      <td>102.0</td>\n",
              "      <td>1.370000e+09</td>\n",
              "      <td>0</td>\n",
              "      <td>2</td>\n",
              "      <td>Carrera 68A #24b-10</td>\n",
              "      <td>1</td>\n",
              "      <td>apartamento</td>\n",
              "      <td>venta</td>\n",
              "      <td>POINT (-74.10700 4.65200)</td>\n",
              "      <td>1.0</td>\n",
              "      <td>UPL30</td>\n",
              "      <td>13.431373</td>\n",
              "    </tr>\n",
              "    <tr>\n",
              "      <th>798964</th>\n",
              "      <td>274583</td>\n",
              "      <td>2020-05-26</td>\n",
              "      <td>BOGOTÁ, D.C.</td>\n",
              "      <td>BOGOTÁ, D.C.</td>\n",
              "      <td>3.0</td>\n",
              "      <td>3</td>\n",
              "      <td>35.0</td>\n",
              "      <td>4.600000e+08</td>\n",
              "      <td>0</td>\n",
              "      <td>1</td>\n",
              "      <td>cra 90 22-19</td>\n",
              "      <td>12</td>\n",
              "      <td>casa</td>\n",
              "      <td>venta</td>\n",
              "      <td>POINT (-74.11462 4.66720)</td>\n",
              "      <td>1.0</td>\n",
              "      <td>UPL30</td>\n",
              "      <td>13.142857</td>\n",
              "    </tr>\n",
              "    <tr>\n",
              "      <th>537595</th>\n",
              "      <td>1025084</td>\n",
              "      <td>2020-11-04</td>\n",
              "      <td>BOGOTÁ, D.C.</td>\n",
              "      <td>BOGOTÁ, D.C.</td>\n",
              "      <td>4.0</td>\n",
              "      <td>4</td>\n",
              "      <td>72.0</td>\n",
              "      <td>9.000000e+08</td>\n",
              "      <td>0</td>\n",
              "      <td>2</td>\n",
              "      <td>NORMANDIA 1 ER SECTOR</td>\n",
              "      <td>30</td>\n",
              "      <td>casa</td>\n",
              "      <td>venta</td>\n",
              "      <td>POINT (-74.10703 4.66853)</td>\n",
              "      <td>1.0</td>\n",
              "      <td>UPL30</td>\n",
              "      <td>12.500000</td>\n",
              "    </tr>\n",
              "    <tr>\n",
              "      <th>331606</th>\n",
              "      <td>1040824</td>\n",
              "      <td>2020-11-09</td>\n",
              "      <td>BOGOTÁ, D.C.</td>\n",
              "      <td>BOGOTÁ, D.C.</td>\n",
              "      <td>3.0</td>\n",
              "      <td>3</td>\n",
              "      <td>140.0</td>\n",
              "      <td>1.750000e+09</td>\n",
              "      <td>1</td>\n",
              "      <td>2</td>\n",
              "      <td>Carrera 68a 24b-10</td>\n",
              "      <td>1</td>\n",
              "      <td>apartamento</td>\n",
              "      <td>venta</td>\n",
              "      <td>POINT (-74.10663 4.65177)</td>\n",
              "      <td>1.0</td>\n",
              "      <td>UPL30</td>\n",
              "      <td>12.500000</td>\n",
              "    </tr>\n",
              "    <tr>\n",
              "      <th>798641</th>\n",
              "      <td>3334338</td>\n",
              "      <td>2022-01-26</td>\n",
              "      <td>BOGOTÁ, D.C.</td>\n",
              "      <td>BOGOTÁ, D.C.</td>\n",
              "      <td>2.0</td>\n",
              "      <td>2</td>\n",
              "      <td>54.0</td>\n",
              "      <td>6.700000e+08</td>\n",
              "      <td>1</td>\n",
              "      <td>1</td>\n",
              "      <td>CALLE 25 B   70B- 70</td>\n",
              "      <td>1</td>\n",
              "      <td>apartamento</td>\n",
              "      <td>venta</td>\n",
              "      <td>POINT (-74.11240 4.66285)</td>\n",
              "      <td>1.0</td>\n",
              "      <td>UPL30</td>\n",
              "      <td>12.407407</td>\n",
              "    </tr>\n",
              "    <tr>\n",
              "      <th>486953</th>\n",
              "      <td>3052390</td>\n",
              "      <td>2021-12-12</td>\n",
              "      <td>BOGOTÁ, D.C.</td>\n",
              "      <td>BOGOTÁ, D.C.</td>\n",
              "      <td>2.0</td>\n",
              "      <td>2</td>\n",
              "      <td>54.0</td>\n",
              "      <td>6.700000e+08</td>\n",
              "      <td>1</td>\n",
              "      <td>1</td>\n",
              "      <td>CALLE 25 B   70B- 70</td>\n",
              "      <td>1</td>\n",
              "      <td>apartamento</td>\n",
              "      <td>venta</td>\n",
              "      <td>POINT (-74.11240 4.66285)</td>\n",
              "      <td>1.0</td>\n",
              "      <td>UPL30</td>\n",
              "      <td>12.407407</td>\n",
              "    </tr>\n",
              "    <tr>\n",
              "      <th>642943</th>\n",
              "      <td>2720561</td>\n",
              "      <td>2021-11-24</td>\n",
              "      <td>BOGOTÁ, D.C.</td>\n",
              "      <td>BOGOTÁ, D.C.</td>\n",
              "      <td>2.0</td>\n",
              "      <td>2</td>\n",
              "      <td>54.0</td>\n",
              "      <td>6.700000e+08</td>\n",
              "      <td>1</td>\n",
              "      <td>1</td>\n",
              "      <td>CALLE 25 B   70B- 70</td>\n",
              "      <td>1</td>\n",
              "      <td>apartamento</td>\n",
              "      <td>venta</td>\n",
              "      <td>POINT (-74.11240 4.66285)</td>\n",
              "      <td>1.0</td>\n",
              "      <td>UPL30</td>\n",
              "      <td>12.407407</td>\n",
              "    </tr>\n",
              "    <tr>\n",
              "      <th>228428</th>\n",
              "      <td>701791</td>\n",
              "      <td>2020-08-07</td>\n",
              "      <td>BOGOTÁ, D.C.</td>\n",
              "      <td>BOGOTÁ, D.C.</td>\n",
              "      <td>4.0</td>\n",
              "      <td>3</td>\n",
              "      <td>37.0</td>\n",
              "      <td>4.500000e+08</td>\n",
              "      <td>0</td>\n",
              "      <td>1</td>\n",
              "      <td>DIAGONAL 23B 88C 22</td>\n",
              "      <td>30</td>\n",
              "      <td>casa</td>\n",
              "      <td>venta</td>\n",
              "      <td>POINT (-74.12939 4.67036)</td>\n",
              "      <td>1.0</td>\n",
              "      <td>UPL30</td>\n",
              "      <td>12.162162</td>\n",
              "    </tr>\n",
              "    <tr>\n",
              "      <th>435742</th>\n",
              "      <td>505760</td>\n",
              "      <td>2020-07-23</td>\n",
              "      <td>BOGOTÁ, D.C.</td>\n",
              "      <td>BOGOTÁ, D.C.</td>\n",
              "      <td>4.0</td>\n",
              "      <td>3</td>\n",
              "      <td>37.0</td>\n",
              "      <td>4.500000e+08</td>\n",
              "      <td>0</td>\n",
              "      <td>1</td>\n",
              "      <td>DIAGONAL 23 B No. 88 C 22 Interior 101</td>\n",
              "      <td>30</td>\n",
              "      <td>casa</td>\n",
              "      <td>venta</td>\n",
              "      <td>POINT (-74.11523 4.66583)</td>\n",
              "      <td>1.0</td>\n",
              "      <td>UPL30</td>\n",
              "      <td>12.162162</td>\n",
              "    </tr>\n",
              "    <tr>\n",
              "      <th>331691</th>\n",
              "      <td>3102991</td>\n",
              "      <td>2021-12-12</td>\n",
              "      <td>BOGOTÁ, D.C.</td>\n",
              "      <td>BOGOTÁ, D.C.</td>\n",
              "      <td>3.0</td>\n",
              "      <td>3</td>\n",
              "      <td>140.0</td>\n",
              "      <td>1.700000e+09</td>\n",
              "      <td>0</td>\n",
              "      <td>3</td>\n",
              "      <td>cra 68a  24 b 10</td>\n",
              "      <td>4</td>\n",
              "      <td>apartamento</td>\n",
              "      <td>venta</td>\n",
              "      <td>POINT (-74.10663 4.65177)</td>\n",
              "      <td>1.0</td>\n",
              "      <td>UPL30</td>\n",
              "      <td>12.142857</td>\n",
              "    </tr>\n",
              "    <tr>\n",
              "      <th>694808</th>\n",
              "      <td>3016618</td>\n",
              "      <td>2021-12-09</td>\n",
              "      <td>BOGOTÁ, D.C.</td>\n",
              "      <td>BOGOTÁ, D.C.</td>\n",
              "      <td>3.0</td>\n",
              "      <td>3</td>\n",
              "      <td>140.0</td>\n",
              "      <td>1.700000e+09</td>\n",
              "      <td>0</td>\n",
              "      <td>3</td>\n",
              "      <td>cra 68a  24 b 10</td>\n",
              "      <td>4</td>\n",
              "      <td>apartamento</td>\n",
              "      <td>venta</td>\n",
              "      <td>POINT (-74.10663 4.65177)</td>\n",
              "      <td>1.0</td>\n",
              "      <td>UPL30</td>\n",
              "      <td>12.142857</td>\n",
              "    </tr>\n",
              "    <tr>\n",
              "      <th>643205</th>\n",
              "      <td>3875388</td>\n",
              "      <td>2022-03-17</td>\n",
              "      <td>BOGOTÁ, D.C.</td>\n",
              "      <td>BOGOTÁ, D.C.</td>\n",
              "      <td>2.0</td>\n",
              "      <td>2</td>\n",
              "      <td>54.0</td>\n",
              "      <td>6.300000e+08</td>\n",
              "      <td>1</td>\n",
              "      <td>1</td>\n",
              "      <td>CALLE 25B 70 B - 70</td>\n",
              "      <td>1</td>\n",
              "      <td>apartamento</td>\n",
              "      <td>venta</td>\n",
              "      <td>POINT (-74.11435 4.66499)</td>\n",
              "      <td>1.0</td>\n",
              "      <td>UPL30</td>\n",
              "      <td>11.666667</td>\n",
              "    </tr>\n",
              "    <tr>\n",
              "      <th>383951</th>\n",
              "      <td>3635586</td>\n",
              "      <td>2022-03-02</td>\n",
              "      <td>BOGOTÁ, D.C.</td>\n",
              "      <td>BOGOTÁ, D.C.</td>\n",
              "      <td>2.0</td>\n",
              "      <td>2</td>\n",
              "      <td>54.0</td>\n",
              "      <td>6.300000e+08</td>\n",
              "      <td>1</td>\n",
              "      <td>1</td>\n",
              "      <td>CALLE 25B 70 B - 70</td>\n",
              "      <td>1</td>\n",
              "      <td>apartamento</td>\n",
              "      <td>venta</td>\n",
              "      <td>POINT (-74.11435 4.66499)</td>\n",
              "      <td>1.0</td>\n",
              "      <td>UPL30</td>\n",
              "      <td>11.666667</td>\n",
              "    </tr>\n",
              "    <tr>\n",
              "      <th>539001</th>\n",
              "      <td>4606001</td>\n",
              "      <td>2022-06-07</td>\n",
              "      <td>BOGOTÁ, D.C.</td>\n",
              "      <td>BOGOTÁ, D.C.</td>\n",
              "      <td>2.0</td>\n",
              "      <td>3</td>\n",
              "      <td>104.0</td>\n",
              "      <td>1.200000e+09</td>\n",
              "      <td>1</td>\n",
              "      <td>1</td>\n",
              "      <td>carrera 68a # 24b-10</td>\n",
              "      <td>1</td>\n",
              "      <td>apartamento</td>\n",
              "      <td>venta</td>\n",
              "      <td>POINT (-74.10662 4.65086)</td>\n",
              "      <td>1.0</td>\n",
              "      <td>UPL30</td>\n",
              "      <td>11.538462</td>\n",
              "    </tr>\n",
              "    <tr>\n",
              "      <th>485620</th>\n",
              "      <td>4563142</td>\n",
              "      <td>2022-05-26</td>\n",
              "      <td>BOGOTÁ, D.C.</td>\n",
              "      <td>BOGOTÁ, D.C.</td>\n",
              "      <td>2.0</td>\n",
              "      <td>2</td>\n",
              "      <td>59.0</td>\n",
              "      <td>6.800000e+08</td>\n",
              "      <td>1</td>\n",
              "      <td>1</td>\n",
              "      <td>Avda cra 72 Bis No. 24 C - 02</td>\n",
              "      <td>4</td>\n",
              "      <td>apartamento</td>\n",
              "      <td>venta</td>\n",
              "      <td>POINT (-74.10725 4.67032)</td>\n",
              "      <td>1.0</td>\n",
              "      <td>UPL30</td>\n",
              "      <td>11.525424</td>\n",
              "    </tr>\n",
              "    <tr>\n",
              "      <th>641602</th>\n",
              "      <td>1570755</td>\n",
              "      <td>2021-04-11</td>\n",
              "      <td>BOGOTÁ, D.C.</td>\n",
              "      <td>BOGOTÁ, D.C.</td>\n",
              "      <td>2.0</td>\n",
              "      <td>2</td>\n",
              "      <td>59.0</td>\n",
              "      <td>6.800000e+08</td>\n",
              "      <td>1</td>\n",
              "      <td>1</td>\n",
              "      <td>Avda cra 72 Bis No. 24 C - 02</td>\n",
              "      <td>4</td>\n",
              "      <td>apartamento</td>\n",
              "      <td>venta</td>\n",
              "      <td>POINT (-74.10725 4.67032)</td>\n",
              "      <td>1.0</td>\n",
              "      <td>UPL30</td>\n",
              "      <td>11.525424</td>\n",
              "    </tr>\n",
              "    <tr>\n",
              "      <th>19734</th>\n",
              "      <td>4277397</td>\n",
              "      <td>2022-05-03</td>\n",
              "      <td>BOGOTÁ, D.C.</td>\n",
              "      <td>BOGOTÁ, D.C.</td>\n",
              "      <td>3.0</td>\n",
              "      <td>3</td>\n",
              "      <td>138.0</td>\n",
              "      <td>1.535000e+09</td>\n",
              "      <td>1</td>\n",
              "      <td>2</td>\n",
              "      <td>CL 24B N. 71 A - 53</td>\n",
              "      <td>12</td>\n",
              "      <td>apartamento</td>\n",
              "      <td>venta</td>\n",
              "      <td>POINT (-74.11277 4.65450)</td>\n",
              "      <td>1.0</td>\n",
              "      <td>UPL30</td>\n",
              "      <td>11.123188</td>\n",
              "    </tr>\n",
              "    <tr>\n",
              "      <th>747107</th>\n",
              "      <td>4293115</td>\n",
              "      <td>2022-05-03</td>\n",
              "      <td>BOGOTÁ, D.C.</td>\n",
              "      <td>BOGOTÁ, D.C.</td>\n",
              "      <td>2.0</td>\n",
              "      <td>2</td>\n",
              "      <td>54.0</td>\n",
              "      <td>6.000000e+08</td>\n",
              "      <td>1</td>\n",
              "      <td>1</td>\n",
              "      <td>CALLE 25B 70 B - 70</td>\n",
              "      <td>1</td>\n",
              "      <td>apartamento</td>\n",
              "      <td>venta</td>\n",
              "      <td>POINT (-74.11435 4.66499)</td>\n",
              "      <td>1.0</td>\n",
              "      <td>UPL30</td>\n",
              "      <td>11.111111</td>\n",
              "    </tr>\n",
              "    <tr>\n",
              "      <th>71776</th>\n",
              "      <td>4297110</td>\n",
              "      <td>2022-05-03</td>\n",
              "      <td>BOGOTÁ, D.C.</td>\n",
              "      <td>BOGOTÁ, D.C.</td>\n",
              "      <td>2.0</td>\n",
              "      <td>2</td>\n",
              "      <td>54.0</td>\n",
              "      <td>5.900000e+08</td>\n",
              "      <td>1</td>\n",
              "      <td>1</td>\n",
              "      <td>Calle 25B  70B-70</td>\n",
              "      <td>1</td>\n",
              "      <td>apartamento</td>\n",
              "      <td>venta</td>\n",
              "      <td>POINT (-74.11229 4.66314)</td>\n",
              "      <td>1.0</td>\n",
              "      <td>UPL30</td>\n",
              "      <td>10.925926</td>\n",
              "    </tr>\n",
              "  </tbody>\n",
              "</table>\n",
              "</div>"
            ],
            "text/plain": [
              "             id fecha_creacion  departamento     municipio  habitaciones  \\\n",
              "850834  3492038     2022-01-27  BOGOTÁ, D.C.  BOGOTÁ, D.C.           3.0   \n",
              "227988  3213542     2021-12-12  BOGOTÁ, D.C.  BOGOTÁ, D.C.           3.0   \n",
              "383697  2584815     2021-10-22  BOGOTÁ, D.C.  BOGOTÁ, D.C.           3.0   \n",
              "122394  4674336     2022-06-22  BOGOTÁ, D.C.  BOGOTÁ, D.C.           3.0   \n",
              "590850  4323569     2022-05-03  BOGOTÁ, D.C.  BOGOTÁ, D.C.           3.0   \n",
              "123939  3896526     2022-03-17  BOGOTÁ, D.C.  BOGOTÁ, D.C.           3.0   \n",
              "694845  3664834     2022-03-02  BOGOTÁ, D.C.  BOGOTÁ, D.C.           3.0   \n",
              "383954  4369018     2022-05-03  BOGOTÁ, D.C.  BOGOTÁ, D.C.           6.0   \n",
              "695181  3939837     2022-03-18  BOGOTÁ, D.C.  BOGOTÁ, D.C.           6.0   \n",
              "589436  4761396     2022-07-16  BOGOTÁ, D.C.  BOGOTÁ, D.C.           3.0   \n",
              "435459  3000645     2021-12-09  BOGOTÁ, D.C.  BOGOTÁ, D.C.           3.0   \n",
              "71758   3920849     2022-03-17  BOGOTÁ, D.C.  BOGOTÁ, D.C.           3.0   \n",
              "694971  4341841     2022-05-03  BOGOTÁ, D.C.  BOGOTÁ, D.C.           3.0   \n",
              "228143  3376278     2022-01-27  BOGOTÁ, D.C.  BOGOTÁ, D.C.           3.0   \n",
              "798602  2147002     2021-09-08  BOGOTÁ, D.C.  BOGOTÁ, D.C.           3.0   \n",
              "175652  3680073     2022-03-02  BOGOTÁ, D.C.  BOGOTÁ, D.C.           3.0   \n",
              "746741  4586942     2022-05-26  BOGOTÁ, D.C.  BOGOTÁ, D.C.           5.0   \n",
              "176059    83688     2020-04-14  BOGOTÁ, D.C.  BOGOTÁ, D.C.           3.0   \n",
              "694807  3967894     2022-03-18  BOGOTÁ, D.C.  BOGOTÁ, D.C.           3.0   \n",
              "19581   2512050     2021-10-21  BOGOTÁ, D.C.  BOGOTÁ, D.C.           3.0   \n",
              "331688  2809583     2021-11-25  BOGOTÁ, D.C.  BOGOTÁ, D.C.           3.0   \n",
              "227993  3731988     2022-03-02  BOGOTÁ, D.C.  BOGOTÁ, D.C.           3.0   \n",
              "228127  3411048     2022-01-27  BOGOTÁ, D.C.  BOGOTÁ, D.C.           3.0   \n",
              "331714  4388477     2022-05-03  BOGOTÁ, D.C.  BOGOTÁ, D.C.           3.0   \n",
              "798661  3132235     2021-12-12  BOGOTÁ, D.C.  BOGOTÁ, D.C.           3.0   \n",
              "850912  4672627     2022-06-22  BOGOTÁ, D.C.  BOGOTÁ, D.C.           3.0   \n",
              "124262  3070578     2021-12-12  BOGOTÁ, D.C.  BOGOTÁ, D.C.           3.0   \n",
              "694911  3662941     2022-03-02  BOGOTÁ, D.C.  BOGOTÁ, D.C.           2.0   \n",
              "123761  4326361     2022-05-03  BOGOTÁ, D.C.  BOGOTÁ, D.C.           2.0   \n",
              "383762  3906735     2022-03-17  BOGOTÁ, D.C.  BOGOTÁ, D.C.           2.0   \n",
              "123879  3339021     2022-01-26  BOGOTÁ, D.C.  BOGOTÁ, D.C.           2.0   \n",
              "694976  3265111     2022-01-12  BOGOTÁ, D.C.  BOGOTÁ, D.C.           2.0   \n",
              "798964   274583     2020-05-26  BOGOTÁ, D.C.  BOGOTÁ, D.C.           3.0   \n",
              "537595  1025084     2020-11-04  BOGOTÁ, D.C.  BOGOTÁ, D.C.           4.0   \n",
              "331606  1040824     2020-11-09  BOGOTÁ, D.C.  BOGOTÁ, D.C.           3.0   \n",
              "798641  3334338     2022-01-26  BOGOTÁ, D.C.  BOGOTÁ, D.C.           2.0   \n",
              "486953  3052390     2021-12-12  BOGOTÁ, D.C.  BOGOTÁ, D.C.           2.0   \n",
              "642943  2720561     2021-11-24  BOGOTÁ, D.C.  BOGOTÁ, D.C.           2.0   \n",
              "228428   701791     2020-08-07  BOGOTÁ, D.C.  BOGOTÁ, D.C.           4.0   \n",
              "435742   505760     2020-07-23  BOGOTÁ, D.C.  BOGOTÁ, D.C.           4.0   \n",
              "331691  3102991     2021-12-12  BOGOTÁ, D.C.  BOGOTÁ, D.C.           3.0   \n",
              "694808  3016618     2021-12-09  BOGOTÁ, D.C.  BOGOTÁ, D.C.           3.0   \n",
              "643205  3875388     2022-03-17  BOGOTÁ, D.C.  BOGOTÁ, D.C.           2.0   \n",
              "383951  3635586     2022-03-02  BOGOTÁ, D.C.  BOGOTÁ, D.C.           2.0   \n",
              "539001  4606001     2022-06-07  BOGOTÁ, D.C.  BOGOTÁ, D.C.           2.0   \n",
              "485620  4563142     2022-05-26  BOGOTÁ, D.C.  BOGOTÁ, D.C.           2.0   \n",
              "641602  1570755     2021-04-11  BOGOTÁ, D.C.  BOGOTÁ, D.C.           2.0   \n",
              "19734   4277397     2022-05-03  BOGOTÁ, D.C.  BOGOTÁ, D.C.           3.0   \n",
              "747107  4293115     2022-05-03  BOGOTÁ, D.C.  BOGOTÁ, D.C.           2.0   \n",
              "71776   4297110     2022-05-03  BOGOTÁ, D.C.  BOGOTÁ, D.C.           2.0   \n",
              "\n",
              "        banos   area        precio  num_ascensores  garajes  \\\n",
              "850834      2   90.0  2.500000e+13               1        1   \n",
              "227988      2   90.0  2.500000e+13               1        1   \n",
              "383697      2   90.0  2.500000e+13               1        1   \n",
              "122394      3    2.0  1.391392e+09               1        2   \n",
              "590850      4    4.0  1.010000e+09               0        2   \n",
              "123939      4    4.0  1.010000e+09               0        2   \n",
              "694845      4    4.0  1.010000e+09               0        2   \n",
              "383954      4    4.0  1.000000e+09               0        2   \n",
              "695181      4    4.0  1.000000e+09               0        2   \n",
              "589436      2    3.0  3.900000e+08               0        1   \n",
              "435459      2   10.0  7.800000e+08               0        2   \n",
              "71758       2   10.0  7.800000e+08               0        2   \n",
              "694971      2   10.0  7.800000e+08               0        2   \n",
              "228143      2   10.0  7.800000e+08               0        2   \n",
              "798602      2   10.0  7.800000e+08               1        2   \n",
              "175652      2   10.0  7.800000e+08               0        2   \n",
              "746741      3   19.0  9.000000e+08               0        1   \n",
              "176059      2    8.0  3.000000e+08               0        1   \n",
              "694807      3   40.0  8.500000e+08               0        2   \n",
              "19581       3   40.0  8.500000e+08               0        2   \n",
              "331688      3   40.0  8.500000e+08               0        2   \n",
              "227993      3   40.0  8.500000e+08               0        2   \n",
              "228127      3   40.0  8.500000e+08               0        2   \n",
              "331714      3   40.0  8.500000e+08               0        2   \n",
              "798661      3   40.0  8.500000e+08               0        2   \n",
              "850912      3  120.0  1.700000e+09               0        2   \n",
              "124262      2   30.0  4.200000e+08               1        2   \n",
              "694911      2  102.0  1.370000e+09               0        2   \n",
              "123761      2  102.0  1.370000e+09               0        2   \n",
              "383762      2  102.0  1.370000e+09               0        2   \n",
              "123879      2  102.0  1.370000e+09               0        2   \n",
              "694976      2  102.0  1.370000e+09               0        2   \n",
              "798964      3   35.0  4.600000e+08               0        1   \n",
              "537595      4   72.0  9.000000e+08               0        2   \n",
              "331606      3  140.0  1.750000e+09               1        2   \n",
              "798641      2   54.0  6.700000e+08               1        1   \n",
              "486953      2   54.0  6.700000e+08               1        1   \n",
              "642943      2   54.0  6.700000e+08               1        1   \n",
              "228428      3   37.0  4.500000e+08               0        1   \n",
              "435742      3   37.0  4.500000e+08               0        1   \n",
              "331691      3  140.0  1.700000e+09               0        3   \n",
              "694808      3  140.0  1.700000e+09               0        3   \n",
              "643205      2   54.0  6.300000e+08               1        1   \n",
              "383951      2   54.0  6.300000e+08               1        1   \n",
              "539001      3  104.0  1.200000e+09               1        1   \n",
              "485620      2   59.0  6.800000e+08               1        1   \n",
              "641602      2   59.0  6.800000e+08               1        1   \n",
              "19734       3  138.0  1.535000e+09               1        2   \n",
              "747107      2   54.0  6.000000e+08               1        1   \n",
              "71776       2   54.0  5.900000e+08               1        1   \n",
              "\n",
              "                                                direccion  anos_antiguedad  \\\n",
              "850834                            CALLE 24B BIS   69A- 55               12   \n",
              "227988                            CALLE 24B BIS   69A- 55               12   \n",
              "383697                            CALLE 24B BIS   69A- 55               12   \n",
              "122394  Calle 26 #70 a -45, Ciudad Salitre, Zona Occid...                4   \n",
              "590850                                            salitre                4   \n",
              "123939                                            salitre                4   \n",
              "694845                                            salitre                4   \n",
              "383954                                     Crr 81d 24d 69               30   \n",
              "695181                                     Crr 81d 24d 69               30   \n",
              "589436                                   CL 54 BIS 71C 28               23   \n",
              "435459     CALLE 24B 68A 42 INT 4 APT115 EDIFICIO VENTURA               12   \n",
              "71758      CALLE 24B 68A 42 INT 4 APT115 EDIFICIO VENTURA               12   \n",
              "694971     CALLE 24B 68A 42 INT 4 APT115 EDIFICIO VENTURA               12   \n",
              "228143     CALLE 24B 68A 42 INT 4 APT115 EDIFICIO VENTURA               12   \n",
              "798602     CALLE 24B 68A 42 INT 4 APT115 EDIFICIO VENTURA               12   \n",
              "175652     CALLE 24B 68A 42 INT 4 APT115 EDIFICIO VENTURA               12   \n",
              "746741                               Calle 22F # 85A - 40               30   \n",
              "176059                          Transversal 84 # 24E - 28               30   \n",
              "694807                              CARRERA 68B   22A- 62               12   \n",
              "19581                               CARRERA 68B   22A- 62               12   \n",
              "331688                              CARRERA 68B   22A- 62               12   \n",
              "227993                              CARRERA 68B   22A- 62               12   \n",
              "228127                              CARRERA 68B   22A- 62               12   \n",
              "331714                              CARRERA 68B   22A- 62               12   \n",
              "798661                              CARRERA 68B   22A- 62               12   \n",
              "850912                                    CRA 68A  24B 10                4   \n",
              "124262                                    calle 22 cra 86               12   \n",
              "694911                                   KR  68A # 24B-10                4   \n",
              "123761                                   KR  68A # 24B-10                4   \n",
              "383762                                   KR  68A # 24B-10                4   \n",
              "123879                                   KR  68A # 24B-10                4   \n",
              "694976                                Carrera 68A #24b-10                1   \n",
              "798964                                       cra 90 22-19               12   \n",
              "537595                              NORMANDIA 1 ER SECTOR               30   \n",
              "331606                                 Carrera 68a 24b-10                1   \n",
              "798641                               CALLE 25 B   70B- 70                1   \n",
              "486953                               CALLE 25 B   70B- 70                1   \n",
              "642943                               CALLE 25 B   70B- 70                1   \n",
              "228428                                DIAGONAL 23B 88C 22               30   \n",
              "435742             DIAGONAL 23 B No. 88 C 22 Interior 101               30   \n",
              "331691                                   cra 68a  24 b 10                4   \n",
              "694808                                   cra 68a  24 b 10                4   \n",
              "643205                                CALLE 25B 70 B - 70                1   \n",
              "383951                                CALLE 25B 70 B - 70                1   \n",
              "539001                               carrera 68a # 24b-10                1   \n",
              "485620                      Avda cra 72 Bis No. 24 C - 02                4   \n",
              "641602                      Avda cra 72 Bis No. 24 C - 02                4   \n",
              "19734                                 CL 24B N. 71 A - 53               12   \n",
              "747107                                CALLE 25B 70 B - 70                1   \n",
              "71776                                   Calle 25B  70B-70                1   \n",
              "\n",
              "       tipo_inmueble tiponegocio                   geometry  index_right  \\\n",
              "850834   apartamento    arriendo  POINT (-74.11063 4.65716)          1.0   \n",
              "227988   apartamento    arriendo  POINT (-74.11063 4.65716)          1.0   \n",
              "383697   apartamento    arriendo  POINT (-74.11063 4.65716)          1.0   \n",
              "122394   apartamento       venta  POINT (-74.11079 4.66554)          1.0   \n",
              "590850   apartamento       venta  POINT (-74.10905 4.64932)          1.0   \n",
              "123939   apartamento       venta  POINT (-74.10905 4.64932)          1.0   \n",
              "694845   apartamento       venta  POINT (-74.10905 4.64932)          1.0   \n",
              "383954          casa       venta  POINT (-74.11533 4.66402)          1.0   \n",
              "695181          casa       venta  POINT (-74.11533 4.66402)          1.0   \n",
              "589436   apartamento       venta  POINT (-74.10532 4.67185)          1.0   \n",
              "435459   apartamento       venta  POINT (-74.10745 4.65240)          1.0   \n",
              "71758    apartamento       venta  POINT (-74.10745 4.65240)          1.0   \n",
              "694971   apartamento       venta  POINT (-74.10745 4.65240)          1.0   \n",
              "228143   apartamento       venta  POINT (-74.10745 4.65240)          1.0   \n",
              "798602   apartamento       venta  POINT (-74.10745 4.65240)          1.0   \n",
              "175652   apartamento       venta  POINT (-74.10745 4.65240)          1.0   \n",
              "746741          casa       venta  POINT (-74.12200 4.66200)          1.0   \n",
              "176059   apartamento       venta  POINT (-74.12500 4.66600)          1.0   \n",
              "694807          casa       venta  POINT (-74.11097 4.64990)          1.0   \n",
              "19581           casa       venta  POINT (-74.11097 4.64990)          1.0   \n",
              "331688          casa       venta  POINT (-74.11097 4.64990)          1.0   \n",
              "227993          casa       venta  POINT (-74.11097 4.64990)          1.0   \n",
              "228127          casa       venta  POINT (-74.11097 4.64990)          1.0   \n",
              "331714          casa       venta  POINT (-74.11097 4.64990)          1.0   \n",
              "798661          casa       venta  POINT (-74.11097 4.64990)          1.0   \n",
              "850912   apartamento       venta  POINT (-74.10663 4.65177)          1.0   \n",
              "124262   apartamento       venta  POINT (-74.12733 4.66583)          1.0   \n",
              "694911   apartamento       venta  POINT (-74.10700 4.65200)          1.0   \n",
              "123761   apartamento       venta  POINT (-74.10700 4.65200)          1.0   \n",
              "383762   apartamento       venta  POINT (-74.10700 4.65200)          1.0   \n",
              "123879   apartamento       venta  POINT (-74.10700 4.65200)          1.0   \n",
              "694976   apartamento       venta  POINT (-74.10700 4.65200)          1.0   \n",
              "798964          casa       venta  POINT (-74.11462 4.66720)          1.0   \n",
              "537595          casa       venta  POINT (-74.10703 4.66853)          1.0   \n",
              "331606   apartamento       venta  POINT (-74.10663 4.65177)          1.0   \n",
              "798641   apartamento       venta  POINT (-74.11240 4.66285)          1.0   \n",
              "486953   apartamento       venta  POINT (-74.11240 4.66285)          1.0   \n",
              "642943   apartamento       venta  POINT (-74.11240 4.66285)          1.0   \n",
              "228428          casa       venta  POINT (-74.12939 4.67036)          1.0   \n",
              "435742          casa       venta  POINT (-74.11523 4.66583)          1.0   \n",
              "331691   apartamento       venta  POINT (-74.10663 4.65177)          1.0   \n",
              "694808   apartamento       venta  POINT (-74.10663 4.65177)          1.0   \n",
              "643205   apartamento       venta  POINT (-74.11435 4.66499)          1.0   \n",
              "383951   apartamento       venta  POINT (-74.11435 4.66499)          1.0   \n",
              "539001   apartamento       venta  POINT (-74.10662 4.65086)          1.0   \n",
              "485620   apartamento       venta  POINT (-74.10725 4.67032)          1.0   \n",
              "641602   apartamento       venta  POINT (-74.10725 4.67032)          1.0   \n",
              "19734    apartamento       venta  POINT (-74.11277 4.65450)          1.0   \n",
              "747107   apartamento       venta  POINT (-74.11435 4.66499)          1.0   \n",
              "71776    apartamento       venta  POINT (-74.11229 4.66314)          1.0   \n",
              "\n",
              "       codigo_upl      precio_m2  \n",
              "850834      UPL30  277777.796667  \n",
              "227988      UPL30  277777.796667  \n",
              "383697      UPL30  277777.796667  \n",
              "122394      UPL30     695.696114  \n",
              "590850      UPL30     252.500000  \n",
              "123939      UPL30     252.500000  \n",
              "694845      UPL30     252.500000  \n",
              "383954      UPL30     250.000000  \n",
              "695181      UPL30     250.000000  \n",
              "589436      UPL30     130.000000  \n",
              "435459      UPL30      78.000000  \n",
              "71758       UPL30      78.000000  \n",
              "694971      UPL30      78.000000  \n",
              "228143      UPL30      78.000000  \n",
              "798602      UPL30      78.000000  \n",
              "175652      UPL30      78.000000  \n",
              "746741      UPL30      47.368421  \n",
              "176059      UPL30      37.500000  \n",
              "694807      UPL30      21.250000  \n",
              "19581       UPL30      21.250000  \n",
              "331688      UPL30      21.250000  \n",
              "227993      UPL30      21.250000  \n",
              "228127      UPL30      21.250000  \n",
              "331714      UPL30      21.250000  \n",
              "798661      UPL30      21.250000  \n",
              "850912      UPL30      14.166667  \n",
              "124262      UPL30      14.000000  \n",
              "694911      UPL30      13.431373  \n",
              "123761      UPL30      13.431373  \n",
              "383762      UPL30      13.431373  \n",
              "123879      UPL30      13.431373  \n",
              "694976      UPL30      13.431373  \n",
              "798964      UPL30      13.142857  \n",
              "537595      UPL30      12.500000  \n",
              "331606      UPL30      12.500000  \n",
              "798641      UPL30      12.407407  \n",
              "486953      UPL30      12.407407  \n",
              "642943      UPL30      12.407407  \n",
              "228428      UPL30      12.162162  \n",
              "435742      UPL30      12.162162  \n",
              "331691      UPL30      12.142857  \n",
              "694808      UPL30      12.142857  \n",
              "643205      UPL30      11.666667  \n",
              "383951      UPL30      11.666667  \n",
              "539001      UPL30      11.538462  \n",
              "485620      UPL30      11.525424  \n",
              "641602      UPL30      11.525424  \n",
              "19734       UPL30      11.123188  \n",
              "747107      UPL30      11.111111  \n",
              "71776       UPL30      10.925926  "
            ]
          },
          "metadata": {},
          "output_type": "display_data"
        }
      ],
      "source": [
        "df_inmuebles[df_inmuebles['codigo_upl'] == 'UPL30'].sort_values(by='precio_m2', ascending=False).head(50)\n",
        "# ['precio'].hist()"
      ]
    },
    {
      "cell_type": "markdown",
      "metadata": {},
      "source": [
        "### Primera Versión\n",
        "\n",
        "Para la primera iteración, se calcula simplemente el precio promedio del metro cuadrado de los inmuebles dentro de esa UPL"
      ]
    },
    {
      "cell_type": "code",
      "execution_count": 24,
      "metadata": {},
      "outputs": [],
      "source": [
        "df_precio_upl = df_inmuebles.groupby(['codigo_upl']).agg(\n",
        "    mean_precio = ('precio', 'mean'),\n",
        "    median_precio = ('precio', 'median'),\n",
        "    mean_precio_m2 = ('precio_m2', 'mean'),\n",
        "    median_precio_m2 = ('precio_m2', 'median'),\n",
        "    mean_area = ('area', 'mean'),\n",
        "    median_area = ('area', 'median'),\n",
        "    count = ('id', 'count')\n",
        ").reset_index().sort_values(by='mean_precio_m2', ascending=False)\n",
        "\n",
        "df_precio_upl['mean_precio'] = df_precio_upl['mean_precio'] / 1000000\n",
        "df_precio_upl['median_precio'] = df_precio_upl['median_precio'] / 1000000\n",
        "\n",
        "# Complete the information of the UPL to graph it\n",
        "df_precio_upl =pd.merge(\n",
        "    df_precio_upl,\n",
        "    df_upls,\n",
        "    how='left',\n",
        "    on='codigo_upl'\n",
        ")\n",
        "\n",
        "# Convert to geodataframe\n",
        "df_precio_upl = gpd.GeoDataFrame(\n",
        "    df_precio_upl,\n",
        "    geometry='geometry'\n",
        ")"
      ]
    },
    {
      "cell_type": "code",
      "execution_count": 25,
      "metadata": {},
      "outputs": [
        {
          "data": {
            "text/html": [
              "<div>\n",
              "<style scoped>\n",
              "    .dataframe tbody tr th:only-of-type {\n",
              "        vertical-align: middle;\n",
              "    }\n",
              "\n",
              "    .dataframe tbody tr th {\n",
              "        vertical-align: top;\n",
              "    }\n",
              "\n",
              "    .dataframe thead th {\n",
              "        text-align: right;\n",
              "    }\n",
              "</style>\n",
              "<table border=\"1\" class=\"dataframe\">\n",
              "  <thead>\n",
              "    <tr style=\"text-align: right;\">\n",
              "      <th></th>\n",
              "      <th>codigo_upl</th>\n",
              "      <th>mean_precio</th>\n",
              "      <th>median_precio</th>\n",
              "      <th>mean_precio_m2</th>\n",
              "      <th>median_precio_m2</th>\n",
              "      <th>mean_area</th>\n",
              "      <th>median_area</th>\n",
              "      <th>count</th>\n",
              "      <th>nombre</th>\n",
              "      <th>vocacion</th>\n",
              "      <th>sector</th>\n",
              "      <th>geometry</th>\n",
              "    </tr>\n",
              "  </thead>\n",
              "  <tbody>\n",
              "    <tr>\n",
              "      <th>0</th>\n",
              "      <td>UPL30</td>\n",
              "      <td>5414.040945</td>\n",
              "      <td>350.0</td>\n",
              "      <td>59.555290</td>\n",
              "      <td>4.347222</td>\n",
              "      <td>112.130374</td>\n",
              "      <td>80.0</td>\n",
              "      <td>15419</td>\n",
              "      <td>Salitre</td>\n",
              "      <td>Urbano</td>\n",
              "      <td>Sector Occidente</td>\n",
              "      <td>POLYGON ((-74.09471 4.66478, -74.10058 4.65718...</td>\n",
              "    </tr>\n",
              "    <tr>\n",
              "      <th>1</th>\n",
              "      <td>UPL24</td>\n",
              "      <td>768.622457</td>\n",
              "      <td>520.0</td>\n",
              "      <td>4.922299</td>\n",
              "      <td>5.909091</td>\n",
              "      <td>142.817761</td>\n",
              "      <td>118.0</td>\n",
              "      <td>61630</td>\n",
              "      <td>Chapinero</td>\n",
              "      <td>Urbano</td>\n",
              "      <td>Sector Centro Ampliado</td>\n",
              "      <td>POLYGON ((-74.05651 4.64143, -74.05650 4.64143...</td>\n",
              "    </tr>\n",
              "    <tr>\n",
              "      <th>2</th>\n",
              "      <td>UPL25</td>\n",
              "      <td>560.276121</td>\n",
              "      <td>450.0</td>\n",
              "      <td>4.392890</td>\n",
              "      <td>5.000000</td>\n",
              "      <td>123.654546</td>\n",
              "      <td>99.0</td>\n",
              "      <td>104775</td>\n",
              "      <td>Usaquén</td>\n",
              "      <td>Urbano</td>\n",
              "      <td>Sector Norte</td>\n",
              "      <td>POLYGON ((-74.02093 4.72971, -74.02106 4.72966...</td>\n",
              "    </tr>\n",
              "    <tr>\n",
              "      <th>3</th>\n",
              "      <td>UPL06</td>\n",
              "      <td>882.334452</td>\n",
              "      <td>462.5</td>\n",
              "      <td>4.257448</td>\n",
              "      <td>4.583152</td>\n",
              "      <td>226.986425</td>\n",
              "      <td>130.0</td>\n",
              "      <td>1326</td>\n",
              "      <td>Cerros Orientales</td>\n",
              "      <td>Rural</td>\n",
              "      <td>Sector Rural</td>\n",
              "      <td>POLYGON ((-74.03007 4.82343, -74.02982 4.82316...</td>\n",
              "    </tr>\n",
              "    <tr>\n",
              "      <th>4</th>\n",
              "      <td>UPL02</td>\n",
              "      <td>515.664063</td>\n",
              "      <td>262.0</td>\n",
              "      <td>3.943815</td>\n",
              "      <td>3.054985</td>\n",
              "      <td>121.280992</td>\n",
              "      <td>93.0</td>\n",
              "      <td>121</td>\n",
              "      <td>Cuenca del Tunjuelo</td>\n",
              "      <td>Rural</td>\n",
              "      <td>Sector Rural</td>\n",
              "      <td>POLYGON ((-74.08522 4.48832, -74.08529 4.48828...</td>\n",
              "    </tr>\n",
              "  </tbody>\n",
              "</table>\n",
              "</div>"
            ],
            "text/plain": [
              "  codigo_upl  mean_precio  median_precio  mean_precio_m2  median_precio_m2  \\\n",
              "0      UPL30  5414.040945          350.0       59.555290          4.347222   \n",
              "1      UPL24   768.622457          520.0        4.922299          5.909091   \n",
              "2      UPL25   560.276121          450.0        4.392890          5.000000   \n",
              "3      UPL06   882.334452          462.5        4.257448          4.583152   \n",
              "4      UPL02   515.664063          262.0        3.943815          3.054985   \n",
              "\n",
              "    mean_area  median_area   count               nombre vocacion  \\\n",
              "0  112.130374         80.0   15419              Salitre   Urbano   \n",
              "1  142.817761        118.0   61630            Chapinero   Urbano   \n",
              "2  123.654546         99.0  104775              Usaquén   Urbano   \n",
              "3  226.986425        130.0    1326    Cerros Orientales    Rural   \n",
              "4  121.280992         93.0     121  Cuenca del Tunjuelo    Rural   \n",
              "\n",
              "                   sector                                           geometry  \n",
              "0        Sector Occidente  POLYGON ((-74.09471 4.66478, -74.10058 4.65718...  \n",
              "1  Sector Centro Ampliado  POLYGON ((-74.05651 4.64143, -74.05650 4.64143...  \n",
              "2            Sector Norte  POLYGON ((-74.02093 4.72971, -74.02106 4.72966...  \n",
              "3            Sector Rural  POLYGON ((-74.03007 4.82343, -74.02982 4.82316...  \n",
              "4            Sector Rural  POLYGON ((-74.08522 4.48832, -74.08529 4.48828...  "
            ]
          },
          "execution_count": 25,
          "metadata": {},
          "output_type": "execute_result"
        }
      ],
      "source": [
        "df_precio_upl.head()"
      ]
    },
    {
      "cell_type": "code",
      "execution_count": 22,
      "metadata": {},
      "outputs": [
        {
          "data": {
            "text/plain": [
              "<Axes: >"
            ]
          },
          "execution_count": 22,
          "metadata": {},
          "output_type": "execute_result"
        },
        {
          "data": {
            "image/png": "[encoded data removed]",
            "text/plain": [
              "<Figure size 640x480 with 1 Axes>"
            ]
          },
          "metadata": {},
          "output_type": "display_data"
        }
      ],
      "source": [
        "df_precio_upl['mean_precio_m2'].hist(bins=20)"
      ]
    },
    {
      "cell_type": "code",
      "execution_count": 23,
      "metadata": {},
      "outputs": [
        {
          "data": {
            "text/plain": [
              "<Axes: >"
            ]
          },
          "execution_count": 23,
          "metadata": {},
          "output_type": "execute_result"
        },
        {
          "data": {
            "image/png": "[encoded data removed]",
            "text/plain": [
              "<Figure size 640x480 with 1 Axes>"
            ]
          },
          "metadata": {},
          "output_type": "display_data"
        }
      ],
      "source": [
        "df_precio_upl['median_precio_m2'].hist(bins=12)"
      ]
    },
    {
      "cell_type": "markdown",
      "metadata": {},
      "source": [
        "Sin embargo, al revisar los resultados de la agrupación existe una zona particular (UPL 30) donde el promedio del precio del metro cuadrado es demasiado elevado (ver el histograma), ubicandose cerca de los 60 millones de pesos colombianos por metro cuadrado, mientras que las demás UPLs no sobrepasan los 10 millones de pesos colombianos por metro cuadrado.\n",
        "\n",
        "Además de la gráfica, otras razones que explican la situación de esta UPL:\n",
        "\n",
        "1. Valor de la mediana extremadamente lejano al precio promedio y similar al de las demás UPLs. Dado que el promedio es sensible a outliers, pueden existir valores atípicos que eleven el promedio. La mediana puede ser un mejor estimador del precio del metro cuadrado de los inmuebles por UPL.\n",
        "1. Más allá de los datos, visto desde un punto de vista de negocio o del sector inmobiliario en Bogotá, en Los Rosales, una de las zonas más exclusivas de Bogotá el precio del metro cuadrado en promedio se ubica en 8 millones de pesos colombianos (Fuente: [Habi.co - Habimetro](https://habi.co/habimetro/apartamentos/venta/bogota/los-rosales)). Por lo que el valor del precio promedio por metro cuadrado en esta UPL es totalmente erroneo desde un punto de vista lógico."
      ]
    },
    {
      "cell_type": "markdown",
      "metadata": {},
      "source": [
        "### Segunda Versión\n",
        "\n",
        "Para esta segunda versión, se implementará la **I de Moran** a partir de la mediana del precio del metro cuadrado por UPL"
      ]
    },
    {
      "cell_type": "code",
      "execution_count": 33,
      "metadata": {},
      "outputs": [],
      "source": [
        "w = Queen.from_dataframe(\n",
        "    df=df_precio_upl, \n",
        "    geom_col='geometry',\n",
        "    use_index=False\n",
        ")\n",
        "\n",
        "y = df_precio_upl['median_precio_m2']"
      ]
    },
    {
      "cell_type": "code",
      "execution_count": 34,
      "metadata": {},
      "outputs": [],
      "source": [
        "moran = Moran(\n",
        "    y=y, \n",
        "    w=w\n",
        ")"
      ]
    },
    {
      "cell_type": "code",
      "execution_count": 35,
      "metadata": {},
      "outputs": [
        {
          "data": {
            "text/plain": [
              "0.5590249488846526"
            ]
          },
          "execution_count": 35,
          "metadata": {},
          "output_type": "execute_result"
        }
      ],
      "source": [
        "moran.I"
      ]
    },
    {
      "cell_type": "code",
      "execution_count": 36,
      "metadata": {},
      "outputs": [
        {
          "data": {
            "text/plain": [
              "0.001"
            ]
          },
          "execution_count": 36,
          "metadata": {},
          "output_type": "execute_result"
        }
      ],
      "source": [
        "moran.p_sim"
      ]
    },
    {
      "cell_type": "code",
      "execution_count": 43,
      "metadata": {},
      "outputs": [
        {
          "name": "stderr",
          "output_type": "stream",
          "text": [
            "c:\\Users\\SGM\\Documents\\Habi\\Prueba Data Science\\venv\\lib\\site-packages\\splot\\_viz_esda_mpl.py:354: FutureWarning: \n",
            "\n",
            "`shade` is now deprecated in favor of `fill`; setting `fill=True`.\n",
            "This will become an error in seaborn v0.14.0; please update your code.\n",
            "\n",
            "  sbn.kdeplot(moran.sim, shade=shade, color=color, ax=ax, **kwargs)\n"
          ]
        },
        {
          "data": {
            "text/plain": [
              "(<Figure size 1000x400 with 2 Axes>,\n",
              " array([<Axes: title={'center': 'Reference Distribution'}, xlabel='Moran I: 0.56', ylabel='Density'>,\n",
              "        <Axes: title={'center': 'Moran Scatterplot (0.56)'}, xlabel='Attribute', ylabel='Spatial Lag'>],\n",
              "       dtype=object))"
            ]
          },
          "execution_count": 43,
          "metadata": {},
          "output_type": "execute_result"
        },
        {
          "data": {
            "image/png": "[encoded data removed]",
            "text/plain": [
              "<Figure size 1000x400 with 2 Axes>"
            ]
          },
          "metadata": {},
          "output_type": "display_data"
        }
      ],
      "source": [
        "plot_moran(moran, zstandard=False, figsize=(10,4))"
      ]
    },
    {
      "cell_type": "code",
      "execution_count": null,
      "metadata": {},
      "outputs": [],
      "source": []
    },
    {
      "cell_type": "code",
      "execution_count": 26,
      "metadata": {},
      "outputs": [
        {
          "data": {
            "text/html": [
              "<div>\n",
              "<style scoped>\n",
              "    .dataframe tbody tr th:only-of-type {\n",
              "        vertical-align: middle;\n",
              "    }\n",
              "\n",
              "    .dataframe tbody tr th {\n",
              "        vertical-align: top;\n",
              "    }\n",
              "\n",
              "    .dataframe thead th {\n",
              "        text-align: right;\n",
              "    }\n",
              "</style>\n",
              "<table border=\"1\" class=\"dataframe\">\n",
              "  <thead>\n",
              "    <tr style=\"text-align: right;\">\n",
              "      <th></th>\n",
              "      <th>codigo_upl</th>\n",
              "      <th>mean_precio</th>\n",
              "      <th>median_precio</th>\n",
              "      <th>mean_precio_m2</th>\n",
              "      <th>median_precio_m2</th>\n",
              "      <th>mean_area</th>\n",
              "      <th>median_area</th>\n",
              "      <th>count</th>\n",
              "      <th>nombre</th>\n",
              "      <th>vocacion</th>\n",
              "      <th>sector</th>\n",
              "      <th>geometry</th>\n",
              "    </tr>\n",
              "  </thead>\n",
              "  <tbody>\n",
              "    <tr>\n",
              "      <th>0</th>\n",
              "      <td>UPL30</td>\n",
              "      <td>5414.040945</td>\n",
              "      <td>350.00</td>\n",
              "      <td>59.555290</td>\n",
              "      <td>4.347222</td>\n",
              "      <td>112.130374</td>\n",
              "      <td>80.00</td>\n",
              "      <td>15419</td>\n",
              "      <td>Salitre</td>\n",
              "      <td>Urbano</td>\n",
              "      <td>Sector Occidente</td>\n",
              "      <td>POLYGON ((-74.09471 4.66478, -74.10058 4.65718...</td>\n",
              "    </tr>\n",
              "    <tr>\n",
              "      <th>1</th>\n",
              "      <td>UPL24</td>\n",
              "      <td>768.622457</td>\n",
              "      <td>520.00</td>\n",
              "      <td>4.922299</td>\n",
              "      <td>5.909091</td>\n",
              "      <td>142.817761</td>\n",
              "      <td>118.00</td>\n",
              "      <td>61630</td>\n",
              "      <td>Chapinero</td>\n",
              "      <td>Urbano</td>\n",
              "      <td>Sector Centro Ampliado</td>\n",
              "      <td>POLYGON ((-74.05651 4.64143, -74.05650 4.64143...</td>\n",
              "    </tr>\n",
              "    <tr>\n",
              "      <th>2</th>\n",
              "      <td>UPL25</td>\n",
              "      <td>560.276121</td>\n",
              "      <td>450.00</td>\n",
              "      <td>4.392890</td>\n",
              "      <td>5.000000</td>\n",
              "      <td>123.654546</td>\n",
              "      <td>99.00</td>\n",
              "      <td>104775</td>\n",
              "      <td>Usaquén</td>\n",
              "      <td>Urbano</td>\n",
              "      <td>Sector Norte</td>\n",
              "      <td>POLYGON ((-74.02093 4.72971, -74.02106 4.72966...</td>\n",
              "    </tr>\n",
              "    <tr>\n",
              "      <th>3</th>\n",
              "      <td>UPL06</td>\n",
              "      <td>882.334452</td>\n",
              "      <td>462.50</td>\n",
              "      <td>4.257448</td>\n",
              "      <td>4.583152</td>\n",
              "      <td>226.986425</td>\n",
              "      <td>130.00</td>\n",
              "      <td>1326</td>\n",
              "      <td>Cerros Orientales</td>\n",
              "      <td>Rural</td>\n",
              "      <td>Sector Rural</td>\n",
              "      <td>POLYGON ((-74.03007 4.82343, -74.02982 4.82316...</td>\n",
              "    </tr>\n",
              "    <tr>\n",
              "      <th>4</th>\n",
              "      <td>UPL02</td>\n",
              "      <td>515.664063</td>\n",
              "      <td>262.00</td>\n",
              "      <td>3.943815</td>\n",
              "      <td>3.054985</td>\n",
              "      <td>121.280992</td>\n",
              "      <td>93.00</td>\n",
              "      <td>121</td>\n",
              "      <td>Cuenca del Tunjuelo</td>\n",
              "      <td>Rural</td>\n",
              "      <td>Sector Rural</td>\n",
              "      <td>POLYGON ((-74.08522 4.48832, -74.08529 4.48828...</td>\n",
              "    </tr>\n",
              "    <tr>\n",
              "      <th>5</th>\n",
              "      <td>UPL27</td>\n",
              "      <td>542.734303</td>\n",
              "      <td>450.00</td>\n",
              "      <td>3.909046</td>\n",
              "      <td>4.486642</td>\n",
              "      <td>140.419668</td>\n",
              "      <td>103.00</td>\n",
              "      <td>34948</td>\n",
              "      <td>Niza</td>\n",
              "      <td>Urbano</td>\n",
              "      <td>Sector Norte</td>\n",
              "      <td>POLYGON ((-74.07828 4.73386, -74.07750 4.73341...</td>\n",
              "    </tr>\n",
              "    <tr>\n",
              "      <th>6</th>\n",
              "      <td>UPL33</td>\n",
              "      <td>481.185162</td>\n",
              "      <td>395.00</td>\n",
              "      <td>3.905997</td>\n",
              "      <td>4.312500</td>\n",
              "      <td>140.305941</td>\n",
              "      <td>93.00</td>\n",
              "      <td>11034</td>\n",
              "      <td>Barrios Unidos</td>\n",
              "      <td>Urbano</td>\n",
              "      <td>Sector Centro Ampliado</td>\n",
              "      <td>POLYGON ((-74.06413 4.65239, -74.06463 4.64965...</td>\n",
              "    </tr>\n",
              "    <tr>\n",
              "      <th>7</th>\n",
              "      <td>UPL07</td>\n",
              "      <td>1448.249041</td>\n",
              "      <td>1600.00</td>\n",
              "      <td>3.787964</td>\n",
              "      <td>4.226190</td>\n",
              "      <td>507.951820</td>\n",
              "      <td>348.00</td>\n",
              "      <td>1725</td>\n",
              "      <td>Torca</td>\n",
              "      <td>Urbano-Rural</td>\n",
              "      <td>Sector Norte</td>\n",
              "      <td>POLYGON ((-74.07562 4.83678, -74.07542 4.83676...</td>\n",
              "    </tr>\n",
              "    <tr>\n",
              "      <th>8</th>\n",
              "      <td>UPL23</td>\n",
              "      <td>390.086333</td>\n",
              "      <td>295.00</td>\n",
              "      <td>3.779733</td>\n",
              "      <td>3.714286</td>\n",
              "      <td>101.814356</td>\n",
              "      <td>70.00</td>\n",
              "      <td>10543</td>\n",
              "      <td>Centro Histórico</td>\n",
              "      <td>Urbano</td>\n",
              "      <td>Sector Centro Ampliado</td>\n",
              "      <td>POLYGON ((-74.05772 4.62403, -74.05755 4.62393...</td>\n",
              "    </tr>\n",
              "    <tr>\n",
              "      <th>9</th>\n",
              "      <td>UPL31</td>\n",
              "      <td>408.824089</td>\n",
              "      <td>380.00</td>\n",
              "      <td>3.711903</td>\n",
              "      <td>3.333333</td>\n",
              "      <td>141.422230</td>\n",
              "      <td>100.00</td>\n",
              "      <td>4170</td>\n",
              "      <td>Puente Aranda</td>\n",
              "      <td>Urbano</td>\n",
              "      <td>Sector Centro Ampliado</td>\n",
              "      <td>POLYGON ((-74.08320 4.62470, -74.08400 4.62371...</td>\n",
              "    </tr>\n",
              "    <tr>\n",
              "      <th>10</th>\n",
              "      <td>UPL32</td>\n",
              "      <td>408.370556</td>\n",
              "      <td>350.00</td>\n",
              "      <td>3.703983</td>\n",
              "      <td>3.829787</td>\n",
              "      <td>127.838302</td>\n",
              "      <td>87.00</td>\n",
              "      <td>17935</td>\n",
              "      <td>Teusaquillo</td>\n",
              "      <td>Urbano</td>\n",
              "      <td>Sector Centro Ampliado</td>\n",
              "      <td>POLYGON ((-74.07160 4.61775, -74.07283 4.61542...</td>\n",
              "    </tr>\n",
              "    <tr>\n",
              "      <th>11</th>\n",
              "      <td>UPL20</td>\n",
              "      <td>514.081055</td>\n",
              "      <td>240.00</td>\n",
              "      <td>3.663401</td>\n",
              "      <td>2.633333</td>\n",
              "      <td>139.830290</td>\n",
              "      <td>90.00</td>\n",
              "      <td>1516</td>\n",
              "      <td>Rafael Uribe</td>\n",
              "      <td>Urbano</td>\n",
              "      <td>Sector Sur Oriente</td>\n",
              "      <td>POLYGON ((-74.11314 4.57474, -74.11266 4.57418...</td>\n",
              "    </tr>\n",
              "    <tr>\n",
              "      <th>12</th>\n",
              "      <td>UPL08</td>\n",
              "      <td>390.084846</td>\n",
              "      <td>340.00</td>\n",
              "      <td>3.661256</td>\n",
              "      <td>4.266667</td>\n",
              "      <td>105.824595</td>\n",
              "      <td>82.00</td>\n",
              "      <td>27014</td>\n",
              "      <td>Britalia</td>\n",
              "      <td>Urbano-Rural</td>\n",
              "      <td>Sector Norte</td>\n",
              "      <td>POLYGON ((-74.06328 4.77114, -74.06327 4.77114...</td>\n",
              "    </tr>\n",
              "    <tr>\n",
              "      <th>13</th>\n",
              "      <td>UPL05</td>\n",
              "      <td>554.768049</td>\n",
              "      <td>209.95</td>\n",
              "      <td>3.505121</td>\n",
              "      <td>1.989583</td>\n",
              "      <td>158.178253</td>\n",
              "      <td>120.00</td>\n",
              "      <td>1202</td>\n",
              "      <td>Usme - Entrenubes</td>\n",
              "      <td>Urbano-Rural</td>\n",
              "      <td>Sector Sur Oriente</td>\n",
              "      <td>POLYGON ((-74.08173 4.52988, -74.08173 4.52988...</td>\n",
              "    </tr>\n",
              "    <tr>\n",
              "      <th>14</th>\n",
              "      <td>UPL01</td>\n",
              "      <td>363.487669</td>\n",
              "      <td>210.00</td>\n",
              "      <td>3.327927</td>\n",
              "      <td>3.245726</td>\n",
              "      <td>109.729730</td>\n",
              "      <td>91.00</td>\n",
              "      <td>74</td>\n",
              "      <td>Sumapáz</td>\n",
              "      <td>Rural</td>\n",
              "      <td>Sector Rural</td>\n",
              "      <td>POLYGON ((-74.11072 4.18167, -74.11053 4.18131...</td>\n",
              "    </tr>\n",
              "    <tr>\n",
              "      <th>15</th>\n",
              "      <td>UPL29</td>\n",
              "      <td>354.447338</td>\n",
              "      <td>320.00</td>\n",
              "      <td>3.274703</td>\n",
              "      <td>3.451087</td>\n",
              "      <td>123.457259</td>\n",
              "      <td>83.00</td>\n",
              "      <td>8022</td>\n",
              "      <td>Tabora</td>\n",
              "      <td>Urbano</td>\n",
              "      <td>Sector Occidente</td>\n",
              "      <td>POLYGON ((-74.09908 4.71754, -74.09886 4.71746...</td>\n",
              "    </tr>\n",
              "    <tr>\n",
              "      <th>16</th>\n",
              "      <td>UPL28</td>\n",
              "      <td>364.663912</td>\n",
              "      <td>224.45</td>\n",
              "      <td>3.226699</td>\n",
              "      <td>3.181818</td>\n",
              "      <td>121.630897</td>\n",
              "      <td>67.00</td>\n",
              "      <td>2843</td>\n",
              "      <td>Rincón de Suba</td>\n",
              "      <td>Urbano</td>\n",
              "      <td>Sector Noroccidente</td>\n",
              "      <td>POLYGON ((-74.07877 4.73398, -74.07887 4.73387...</td>\n",
              "    </tr>\n",
              "    <tr>\n",
              "      <th>17</th>\n",
              "      <td>UPL18</td>\n",
              "      <td>361.757094</td>\n",
              "      <td>326.00</td>\n",
              "      <td>3.165879</td>\n",
              "      <td>3.292683</td>\n",
              "      <td>130.270369</td>\n",
              "      <td>86.00</td>\n",
              "      <td>4906</td>\n",
              "      <td>Kennedy</td>\n",
              "      <td>Urbano</td>\n",
              "      <td>Sector Sur Occidente</td>\n",
              "      <td>POLYGON ((-74.14921 4.59514, -74.14949 4.59525...</td>\n",
              "    </tr>\n",
              "    <tr>\n",
              "      <th>18</th>\n",
              "      <td>UPL11</td>\n",
              "      <td>252.707477</td>\n",
              "      <td>250.00</td>\n",
              "      <td>3.126215</td>\n",
              "      <td>3.428571</td>\n",
              "      <td>91.392420</td>\n",
              "      <td>70.00</td>\n",
              "      <td>8293</td>\n",
              "      <td>Engativá</td>\n",
              "      <td>Urbano-Rural</td>\n",
              "      <td>Sector Occidente</td>\n",
              "      <td>POLYGON ((-74.11900 4.73641, -74.11865 4.73630...</td>\n",
              "    </tr>\n",
              "    <tr>\n",
              "      <th>19</th>\n",
              "      <td>UPL26</td>\n",
              "      <td>317.318667</td>\n",
              "      <td>275.00</td>\n",
              "      <td>3.122585</td>\n",
              "      <td>3.731343</td>\n",
              "      <td>106.317141</td>\n",
              "      <td>75.00</td>\n",
              "      <td>14609</td>\n",
              "      <td>Toberín</td>\n",
              "      <td>Urbano</td>\n",
              "      <td>Sector Norte</td>\n",
              "      <td>POLYGON ((-74.04264 4.77101, -74.03995 4.77060...</td>\n",
              "    </tr>\n",
              "    <tr>\n",
              "      <th>20</th>\n",
              "      <td>UPL12</td>\n",
              "      <td>277.734128</td>\n",
              "      <td>240.00</td>\n",
              "      <td>3.111783</td>\n",
              "      <td>3.338399</td>\n",
              "      <td>101.811515</td>\n",
              "      <td>64.89</td>\n",
              "      <td>3597</td>\n",
              "      <td>Fontibón</td>\n",
              "      <td>Urbano-Rural</td>\n",
              "      <td>Sector Occidente</td>\n",
              "      <td>POLYGON ((-74.14512 4.71041, -74.12814 4.69755...</td>\n",
              "    </tr>\n",
              "    <tr>\n",
              "      <th>21</th>\n",
              "      <td>UPL09</td>\n",
              "      <td>320.412417</td>\n",
              "      <td>234.00</td>\n",
              "      <td>3.108201</td>\n",
              "      <td>3.486486</td>\n",
              "      <td>93.612136</td>\n",
              "      <td>68.00</td>\n",
              "      <td>6024</td>\n",
              "      <td>Suba</td>\n",
              "      <td>Urbano</td>\n",
              "      <td>Sector Noroccidente</td>\n",
              "      <td>POLYGON ((-74.07699 4.75877, -74.07697 4.75876...</td>\n",
              "    </tr>\n",
              "    <tr>\n",
              "      <th>22</th>\n",
              "      <td>UPL03</td>\n",
              "      <td>267.002477</td>\n",
              "      <td>192.00</td>\n",
              "      <td>3.102156</td>\n",
              "      <td>3.039216</td>\n",
              "      <td>107.227448</td>\n",
              "      <td>63.00</td>\n",
              "      <td>2422</td>\n",
              "      <td>Arborizadora</td>\n",
              "      <td>Urbano-Rural</td>\n",
              "      <td>Sector Sur Oriente</td>\n",
              "      <td>POLYGON ((-74.15043 4.59694, -74.15024 4.59679...</td>\n",
              "    </tr>\n",
              "    <tr>\n",
              "      <th>23</th>\n",
              "      <td>UPL13</td>\n",
              "      <td>253.724170</td>\n",
              "      <td>250.00</td>\n",
              "      <td>3.092299</td>\n",
              "      <td>3.666667</td>\n",
              "      <td>85.669540</td>\n",
              "      <td>68.00</td>\n",
              "      <td>9093</td>\n",
              "      <td>Tintal</td>\n",
              "      <td>Urbano-Rural</td>\n",
              "      <td>Sector Sur Occidente</td>\n",
              "      <td>POLYGON ((-74.16957 4.65632, -74.16955 4.65631...</td>\n",
              "    </tr>\n",
              "    <tr>\n",
              "      <th>24</th>\n",
              "      <td>UPL21</td>\n",
              "      <td>338.293408</td>\n",
              "      <td>255.00</td>\n",
              "      <td>3.044542</td>\n",
              "      <td>2.583333</td>\n",
              "      <td>139.654483</td>\n",
              "      <td>86.00</td>\n",
              "      <td>1470</td>\n",
              "      <td>San Cristóbal</td>\n",
              "      <td>Urbano</td>\n",
              "      <td>Sector Sur Oriente</td>\n",
              "      <td>POLYGON ((-74.07280 4.57680, -74.07287 4.57669...</td>\n",
              "    </tr>\n",
              "    <tr>\n",
              "      <th>25</th>\n",
              "      <td>UPL10</td>\n",
              "      <td>306.986536</td>\n",
              "      <td>190.00</td>\n",
              "      <td>2.958805</td>\n",
              "      <td>2.777778</td>\n",
              "      <td>103.831304</td>\n",
              "      <td>70.00</td>\n",
              "      <td>1495</td>\n",
              "      <td>Tibabuyes</td>\n",
              "      <td>Urbano-Rural</td>\n",
              "      <td>Sector Noroccidente</td>\n",
              "      <td>POLYGON ((-74.10574 4.76278, -74.10573 4.76269...</td>\n",
              "    </tr>\n",
              "    <tr>\n",
              "      <th>26</th>\n",
              "      <td>UPL22</td>\n",
              "      <td>368.187441</td>\n",
              "      <td>350.00</td>\n",
              "      <td>2.936318</td>\n",
              "      <td>3.120942</td>\n",
              "      <td>144.643360</td>\n",
              "      <td>100.00</td>\n",
              "      <td>2673</td>\n",
              "      <td>Restrepo</td>\n",
              "      <td>Urbano</td>\n",
              "      <td>Sector Centro Ampliado</td>\n",
              "      <td>POLYGON ((-74.10459 4.56467, -74.10468 4.56482...</td>\n",
              "    </tr>\n",
              "    <tr>\n",
              "      <th>27</th>\n",
              "      <td>UPL16</td>\n",
              "      <td>253.271038</td>\n",
              "      <td>220.00</td>\n",
              "      <td>2.848278</td>\n",
              "      <td>2.130991</td>\n",
              "      <td>126.208163</td>\n",
              "      <td>90.00</td>\n",
              "      <td>1312</td>\n",
              "      <td>Edén</td>\n",
              "      <td>Urbano</td>\n",
              "      <td>Sector Sur Occidente</td>\n",
              "      <td>POLYGON ((-74.20464 4.61677, -74.20464 4.61680...</td>\n",
              "    </tr>\n",
              "    <tr>\n",
              "      <th>28</th>\n",
              "      <td>UPL19</td>\n",
              "      <td>312.732873</td>\n",
              "      <td>245.00</td>\n",
              "      <td>2.788457</td>\n",
              "      <td>3.032787</td>\n",
              "      <td>125.515723</td>\n",
              "      <td>72.50</td>\n",
              "      <td>1024</td>\n",
              "      <td>Tunjuelito</td>\n",
              "      <td>Urbano</td>\n",
              "      <td>Sector Sur Oriente</td>\n",
              "      <td>POLYGON ((-74.14967 4.59585, -74.14967 4.59583...</td>\n",
              "    </tr>\n",
              "    <tr>\n",
              "      <th>29</th>\n",
              "      <td>UPL04</td>\n",
              "      <td>303.353171</td>\n",
              "      <td>267.00</td>\n",
              "      <td>2.730053</td>\n",
              "      <td>2.112380</td>\n",
              "      <td>121.513423</td>\n",
              "      <td>93.00</td>\n",
              "      <td>447</td>\n",
              "      <td>Lucero</td>\n",
              "      <td>Urbano-Rural</td>\n",
              "      <td>Sector Sur Oriente</td>\n",
              "      <td>POLYGON ((-74.12668 4.52559, -74.12669 4.52561...</td>\n",
              "    </tr>\n",
              "    <tr>\n",
              "      <th>30</th>\n",
              "      <td>UPL14</td>\n",
              "      <td>237.959249</td>\n",
              "      <td>165.00</td>\n",
              "      <td>2.636137</td>\n",
              "      <td>2.340426</td>\n",
              "      <td>126.556632</td>\n",
              "      <td>66.00</td>\n",
              "      <td>858</td>\n",
              "      <td>Patio Bonito</td>\n",
              "      <td>Urbano-Rural</td>\n",
              "      <td>Sector Sur Occidente</td>\n",
              "      <td>POLYGON ((-74.18012 4.65256, -74.18008 4.65261...</td>\n",
              "    </tr>\n",
              "    <tr>\n",
              "      <th>31</th>\n",
              "      <td>UPL17</td>\n",
              "      <td>321.992395</td>\n",
              "      <td>280.00</td>\n",
              "      <td>2.562889</td>\n",
              "      <td>2.222222</td>\n",
              "      <td>168.256669</td>\n",
              "      <td>120.00</td>\n",
              "      <td>1348</td>\n",
              "      <td>Bosa</td>\n",
              "      <td>Urbano</td>\n",
              "      <td>Sector Sur Occidente</td>\n",
              "      <td>POLYGON ((-74.21699 4.61669, -74.21693 4.61675...</td>\n",
              "    </tr>\n",
              "    <tr>\n",
              "      <th>32</th>\n",
              "      <td>UPL15</td>\n",
              "      <td>170.794267</td>\n",
              "      <td>130.00</td>\n",
              "      <td>2.269221</td>\n",
              "      <td>2.282051</td>\n",
              "      <td>101.478407</td>\n",
              "      <td>57.50</td>\n",
              "      <td>910</td>\n",
              "      <td>Porvenir</td>\n",
              "      <td>Urbano-Rural</td>\n",
              "      <td>Sector Sur Occidente</td>\n",
              "      <td>POLYGON ((-74.18664 4.65146, -74.18653 4.65146...</td>\n",
              "    </tr>\n",
              "  </tbody>\n",
              "</table>\n",
              "</div>"
            ],
            "text/plain": [
              "   codigo_upl  mean_precio  median_precio  mean_precio_m2  median_precio_m2  \\\n",
              "0       UPL30  5414.040945         350.00       59.555290          4.347222   \n",
              "1       UPL24   768.622457         520.00        4.922299          5.909091   \n",
              "2       UPL25   560.276121         450.00        4.392890          5.000000   \n",
              "3       UPL06   882.334452         462.50        4.257448          4.583152   \n",
              "4       UPL02   515.664063         262.00        3.943815          3.054985   \n",
              "5       UPL27   542.734303         450.00        3.909046          4.486642   \n",
              "6       UPL33   481.185162         395.00        3.905997          4.312500   \n",
              "7       UPL07  1448.249041        1600.00        3.787964          4.226190   \n",
              "8       UPL23   390.086333         295.00        3.779733          3.714286   \n",
              "9       UPL31   408.824089         380.00        3.711903          3.333333   \n",
              "10      UPL32   408.370556         350.00        3.703983          3.829787   \n",
              "11      UPL20   514.081055         240.00        3.663401          2.633333   \n",
              "12      UPL08   390.084846         340.00        3.661256          4.266667   \n",
              "13      UPL05   554.768049         209.95        3.505121          1.989583   \n",
              "14      UPL01   363.487669         210.00        3.327927          3.245726   \n",
              "15      UPL29   354.447338         320.00        3.274703          3.451087   \n",
              "16      UPL28   364.663912         224.45        3.226699          3.181818   \n",
              "17      UPL18   361.757094         326.00        3.165879          3.292683   \n",
              "18      UPL11   252.707477         250.00        3.126215          3.428571   \n",
              "19      UPL26   317.318667         275.00        3.122585          3.731343   \n",
              "20      UPL12   277.734128         240.00        3.111783          3.338399   \n",
              "21      UPL09   320.412417         234.00        3.108201          3.486486   \n",
              "22      UPL03   267.002477         192.00        3.102156          3.039216   \n",
              "23      UPL13   253.724170         250.00        3.092299          3.666667   \n",
              "24      UPL21   338.293408         255.00        3.044542          2.583333   \n",
              "25      UPL10   306.986536         190.00        2.958805          2.777778   \n",
              "26      UPL22   368.187441         350.00        2.936318          3.120942   \n",
              "27      UPL16   253.271038         220.00        2.848278          2.130991   \n",
              "28      UPL19   312.732873         245.00        2.788457          3.032787   \n",
              "29      UPL04   303.353171         267.00        2.730053          2.112380   \n",
              "30      UPL14   237.959249         165.00        2.636137          2.340426   \n",
              "31      UPL17   321.992395         280.00        2.562889          2.222222   \n",
              "32      UPL15   170.794267         130.00        2.269221          2.282051   \n",
              "\n",
              "     mean_area  median_area   count               nombre      vocacion  \\\n",
              "0   112.130374        80.00   15419              Salitre        Urbano   \n",
              "1   142.817761       118.00   61630            Chapinero        Urbano   \n",
              "2   123.654546        99.00  104775              Usaquén        Urbano   \n",
              "3   226.986425       130.00    1326    Cerros Orientales         Rural   \n",
              "4   121.280992        93.00     121  Cuenca del Tunjuelo         Rural   \n",
              "5   140.419668       103.00   34948                 Niza        Urbano   \n",
              "6   140.305941        93.00   11034       Barrios Unidos        Urbano   \n",
              "7   507.951820       348.00    1725                Torca  Urbano-Rural   \n",
              "8   101.814356        70.00   10543     Centro Histórico        Urbano   \n",
              "9   141.422230       100.00    4170        Puente Aranda        Urbano   \n",
              "10  127.838302        87.00   17935          Teusaquillo        Urbano   \n",
              "11  139.830290        90.00    1516         Rafael Uribe        Urbano   \n",
              "12  105.824595        82.00   27014             Britalia  Urbano-Rural   \n",
              "13  158.178253       120.00    1202    Usme - Entrenubes  Urbano-Rural   \n",
              "14  109.729730        91.00      74              Sumapáz         Rural   \n",
              "15  123.457259        83.00    8022               Tabora        Urbano   \n",
              "16  121.630897        67.00    2843       Rincón de Suba        Urbano   \n",
              "17  130.270369        86.00    4906              Kennedy        Urbano   \n",
              "18   91.392420        70.00    8293             Engativá  Urbano-Rural   \n",
              "19  106.317141        75.00   14609              Toberín        Urbano   \n",
              "20  101.811515        64.89    3597             Fontibón  Urbano-Rural   \n",
              "21   93.612136        68.00    6024                 Suba        Urbano   \n",
              "22  107.227448        63.00    2422         Arborizadora  Urbano-Rural   \n",
              "23   85.669540        68.00    9093               Tintal  Urbano-Rural   \n",
              "24  139.654483        86.00    1470        San Cristóbal        Urbano   \n",
              "25  103.831304        70.00    1495            Tibabuyes  Urbano-Rural   \n",
              "26  144.643360       100.00    2673             Restrepo        Urbano   \n",
              "27  126.208163        90.00    1312                 Edén        Urbano   \n",
              "28  125.515723        72.50    1024           Tunjuelito        Urbano   \n",
              "29  121.513423        93.00     447               Lucero  Urbano-Rural   \n",
              "30  126.556632        66.00     858         Patio Bonito  Urbano-Rural   \n",
              "31  168.256669       120.00    1348                 Bosa        Urbano   \n",
              "32  101.478407        57.50     910             Porvenir  Urbano-Rural   \n",
              "\n",
              "                    sector                                           geometry  \n",
              "0         Sector Occidente  POLYGON ((-74.09471 4.66478, -74.10058 4.65718...  \n",
              "1   Sector Centro Ampliado  POLYGON ((-74.05651 4.64143, -74.05650 4.64143...  \n",
              "2             Sector Norte  POLYGON ((-74.02093 4.72971, -74.02106 4.72966...  \n",
              "3             Sector Rural  POLYGON ((-74.03007 4.82343, -74.02982 4.82316...  \n",
              "4             Sector Rural  POLYGON ((-74.08522 4.48832, -74.08529 4.48828...  \n",
              "5             Sector Norte  POLYGON ((-74.07828 4.73386, -74.07750 4.73341...  \n",
              "6   Sector Centro Ampliado  POLYGON ((-74.06413 4.65239, -74.06463 4.64965...  \n",
              "7             Sector Norte  POLYGON ((-74.07562 4.83678, -74.07542 4.83676...  \n",
              "8   Sector Centro Ampliado  POLYGON ((-74.05772 4.62403, -74.05755 4.62393...  \n",
              "9   Sector Centro Ampliado  POLYGON ((-74.08320 4.62470, -74.08400 4.62371...  \n",
              "10  Sector Centro Ampliado  POLYGON ((-74.07160 4.61775, -74.07283 4.61542...  \n",
              "11      Sector Sur Oriente  POLYGON ((-74.11314 4.57474, -74.11266 4.57418...  \n",
              "12            Sector Norte  POLYGON ((-74.06328 4.77114, -74.06327 4.77114...  \n",
              "13      Sector Sur Oriente  POLYGON ((-74.08173 4.52988, -74.08173 4.52988...  \n",
              "14            Sector Rural  POLYGON ((-74.11072 4.18167, -74.11053 4.18131...  \n",
              "15        Sector Occidente  POLYGON ((-74.09908 4.71754, -74.09886 4.71746...  \n",
              "16     Sector Noroccidente  POLYGON ((-74.07877 4.73398, -74.07887 4.73387...  \n",
              "17    Sector Sur Occidente  POLYGON ((-74.14921 4.59514, -74.14949 4.59525...  \n",
              "18        Sector Occidente  POLYGON ((-74.11900 4.73641, -74.11865 4.73630...  \n",
              "19            Sector Norte  POLYGON ((-74.04264 4.77101, -74.03995 4.77060...  \n",
              "20        Sector Occidente  POLYGON ((-74.14512 4.71041, -74.12814 4.69755...  \n",
              "21     Sector Noroccidente  POLYGON ((-74.07699 4.75877, -74.07697 4.75876...  \n",
              "22      Sector Sur Oriente  POLYGON ((-74.15043 4.59694, -74.15024 4.59679...  \n",
              "23    Sector Sur Occidente  POLYGON ((-74.16957 4.65632, -74.16955 4.65631...  \n",
              "24      Sector Sur Oriente  POLYGON ((-74.07280 4.57680, -74.07287 4.57669...  \n",
              "25     Sector Noroccidente  POLYGON ((-74.10574 4.76278, -74.10573 4.76269...  \n",
              "26  Sector Centro Ampliado  POLYGON ((-74.10459 4.56467, -74.10468 4.56482...  \n",
              "27    Sector Sur Occidente  POLYGON ((-74.20464 4.61677, -74.20464 4.61680...  \n",
              "28      Sector Sur Oriente  POLYGON ((-74.14967 4.59585, -74.14967 4.59583...  \n",
              "29      Sector Sur Oriente  POLYGON ((-74.12668 4.52559, -74.12669 4.52561...  \n",
              "30    Sector Sur Occidente  POLYGON ((-74.18012 4.65256, -74.18008 4.65261...  \n",
              "31    Sector Sur Occidente  POLYGON ((-74.21699 4.61669, -74.21693 4.61675...  \n",
              "32    Sector Sur Occidente  POLYGON ((-74.18664 4.65146, -74.18653 4.65146...  "
            ]
          },
          "execution_count": 26,
          "metadata": {},
          "output_type": "execute_result"
        }
      ],
      "source": [
        "df_precio_upl"
      ]
    },
    {
      "cell_type": "markdown",
      "metadata": {
        "id": "CtXdUQaEyv4T"
      },
      "source": [
        "## **Punto 5**"
      ]
    },
    {
      "cell_type": "markdown",
      "metadata": {
        "id": "SxnBiIDCy7Ir"
      },
      "source": [
        "Hacer el modelo de predicción de precios de su preferencia para valorar los inmuebles proporcionados y presentar el MAPE y RMSE del resultado."
      ]
    },
    {
      "cell_type": "code",
      "execution_count": null,
      "metadata": {
        "id": "WPbBhgKlyyfV"
      },
      "outputs": [],
      "source": [
        "\"\"\"\n",
        "Escriba aquí su código. De ser necesario, puede agregar más celdas.\n",
        "\"\"\""
      ]
    },
    {
      "cell_type": "markdown",
      "metadata": {
        "id": "yeeUHZLfUL_L"
      },
      "source": [
        "## **Punto 6**"
      ]
    },
    {
      "cell_type": "markdown",
      "metadata": {
        "id": "zK-8z58eT2LL"
      },
      "source": [
        "Buscar y descargar base de datos de construcciones catastrales y base de datos de predios catastrales, todo con código. Es decir, utilizando las librerías necesarias para extraer datos desde internet sin necesidad de leerlos de manera local. Sugerimos la librería urllib. La información de estas fuentes la puede obtener de:\n",
        "\n",
        "1. Construcciones catastrales: 'https://datosabiertos.bogota.gov.co/dataset/397ccbd8-e2c5-4700-b90e-b68d101ab0c5/resource/7e426e92-c168-4a99-ab67-25b16f070a68/download/dcons_geoson.zip'\n",
        "2. Predios catastrales: 'https://datosabiertos.bogota.gov.co/dataset/e812efbe-acc3-4e70-9bfc-30fd2134afdd/resource/efb4e03d-173e-42b2-b35a-f10d6d610df2/download/predios_csv_1020.zip'"
      ]
    },
    {
      "cell_type": "code",
      "execution_count": null,
      "metadata": {
        "id": "V2uigbDbWQU0"
      },
      "outputs": [],
      "source": [
        "\"\"\"\n",
        "Escriba aquí su código. De ser necesario, puede agregar más celdas.\n",
        "\"\"\""
      ]
    },
    {
      "cell_type": "markdown",
      "metadata": {},
      "source": [
        "### Predios + Construcciones + UPLs"
      ]
    },
    {
      "cell_type": "markdown",
      "metadata": {},
      "source": [
        "#### Read Construcciones Catastrales"
      ]
    },
    {
      "cell_type": "markdown",
      "metadata": {},
      "source": [
        "##### Nota:\n",
        "\n",
        "Cada uno de los archivos se descargó y leyó únicamente con código. Sin embargo, dado que la descarga tomaba bastante tiempo con archivos superando 1 GB de memoria una vez descargados los archivos se descargaron localmente para ahorrar los tiempos de descarga y solo leer desde memoria.\n",
        "\n",
        "A pesar de estas medidas, el código comentado en la siguiente celda es funcional y fue la manera en que se descargaron y leyeron los archivos originalmente."
      ]
    },
    {
      "cell_type": "code",
      "execution_count": 2,
      "metadata": {},
      "outputs": [
        {
          "name": "stdout",
          "output_type": "stream",
          "text": [
            "<class 'bytes'>\n",
            "<class 'zipfile.ZipFile'>\n",
            "<class 'zipfile.ZipExtFile'>\n",
            "<class 'bytes'>\n",
            "<class 'str'>\n",
            "<class 'dict'>\n"
          ]
        }
      ],
      "source": [
        "# Time: 5 min\n",
        "# # Url\n",
        "# url_construcciones = 'https://datosabiertos.bogota.gov.co/dataset/397ccbd8-e2c5-4700-b90e-b68d101ab0c5/resource/7e426e92-c168-4a99-ab67-25b16f070a68/download/dcons_geoson.zip'\n",
        "\n",
        "# # Request\n",
        "# response_construcciones = urlopen(url_construcciones)\n",
        "\n",
        "# # Check the status of the request (200 = Works)\n",
        "# status_response_construcciones = response_construcciones.status\n",
        "# assert(status_response_construcciones == 200)\n",
        "\n",
        "# # Read the file\n",
        "# zip_data = response_construcciones.read()\n",
        "# print(type(zip_data))\n",
        "\n",
        "# # Manage the file with an special library for .zip files\n",
        "# zip_file = zipfile.ZipFile(file=io.BytesIO(zip_data))\n",
        "# print(type(zip_file))\n",
        "# print(zip_file.namelist())\n",
        "\n",
        "# # Unzip the File from the .zip folder\n",
        "# unzipped_file_construcciones = zip_file.open(zip_file.namelist()[0])\n",
        "# print(type(unzipped_file_construcciones))\n",
        "\n",
        "# # Read the file\n",
        "# file_construcciones = unzipped_file_construcciones.read()\n",
        "# print(type(file_construcciones))\n",
        "\n",
        "# # Convert from bytes to str\n",
        "# string_construcciones = file_construcciones.decode()\n",
        "# print(type(string_construcciones))\n",
        "\n",
        "# # Conver from str to dict\n",
        "# dict_construcciones = json.loads(string_construcciones)\n",
        "# print(type(dict_construcciones))\n",
        "\n",
        "# # Check the type is dict so it can be accessed easily\n",
        "# assert(type(dict_construcciones) == dict)"
      ]
    },
    {
      "cell_type": "code",
      "execution_count": 2,
      "metadata": {},
      "outputs": [],
      "source": [
        "# Time: 45 seconds\n",
        "with open('Data/const.geojson') as file:\n",
        "    dict_construcciones = json.load(file)"
      ]
    },
    {
      "cell_type": "code",
      "execution_count": 3,
      "metadata": {},
      "outputs": [
        {
          "name": "stdout",
          "output_type": "stream",
          "text": [
            "type: <class 'str'>\n",
            "name: <class 'str'>\n",
            "crs: <class 'dict'>\n",
            "features: <class 'list'>\n"
          ]
        }
      ],
      "source": [
        "# Print the different keys in the dict and the type of value of each key\n",
        "for key, value in dict_construcciones.items():\n",
        "  print(f'{key}: {type(value)}')"
      ]
    },
    {
      "cell_type": "code",
      "execution_count": 4,
      "metadata": {},
      "outputs": [],
      "source": [
        "# Create a geodataframe with the rows of the file\n",
        "# Since it is a json create the dataframe with a list of dicts\n",
        "list_rows = []\n",
        "\n",
        "# The data is int the features key, where each row is a list\n",
        "for row in dict_construcciones['features']:\n",
        "  \n",
        "  # Get the attributes (columns of the dataframe)\n",
        "  attributes = row['properties']\n",
        "  \n",
        "  # Conver the geometry to a polygon\n",
        "  geometry = row['geometry']  \n",
        "  type = geometry['type']\n",
        "  coordinates = geometry['coordinates']\n",
        "  \n",
        "  # Check the type of geometry\n",
        "  if type == 'Polygon':\n",
        "    polygon = Polygon(coordinates[0])\n",
        "  else:\n",
        "    polygon = MultiPolygon([Polygon(poly[0]) for poly in coordinates])\n",
        "  \n",
        "  # Add the polygon to the attributes with the key 'geometry'\n",
        "  attributes['geometry'] = polygon\n",
        "\n",
        "  # Add the dict of the row to the list of dicts\n",
        "  list_rows.append(attributes)\n",
        "\n",
        "# Clear the memory of the variable\n",
        "del dict_construcciones\n",
        "\n",
        "# Create the GeoDataFrame\n",
        "df_construcciones = gpd.GeoDataFrame(\n",
        "    list_rows,\n",
        "    geometry='geometry'\n",
        ")\n",
        "\n",
        "# Change the column names to lowercase (just a toc)\n",
        "df_construcciones.columns = [column.lower() for column in (df_construcciones.columns)]\n",
        "\n",
        "# Keep only the columns needed\n",
        "list_columns_to_keep = [\n",
        "  'concodigo',\n",
        "  'lotecodigo',\n",
        "  'geometry',\n",
        "]\n",
        "df_construcciones = df_construcciones[list_columns_to_keep]\n",
        "df_construcciones['concodigo'] = df_construcciones['concodigo'].str.pad(width=25, side='right', fillchar='0')\n",
        "df_construcciones['cod_faltante_const'] = df_construcciones.concodigo.str[12+3:]\n",
        "df_construcciones.drop_duplicates(subset='concodigo', keep='first', inplace=True)\n",
        "df_construcciones.reset_index(drop=True, inplace=True)"
      ]
    },
    {
      "cell_type": "code",
      "execution_count": 6,
      "metadata": {},
      "outputs": [
        {
          "data": {
            "text/html": [
              "<div>\n",
              "<style scoped>\n",
              "    .dataframe tbody tr th:only-of-type {\n",
              "        vertical-align: middle;\n",
              "    }\n",
              "\n",
              "    .dataframe tbody tr th {\n",
              "        vertical-align: top;\n",
              "    }\n",
              "\n",
              "    .dataframe thead th {\n",
              "        text-align: right;\n",
              "    }\n",
              "</style>\n",
              "<table border=\"1\" class=\"dataframe\">\n",
              "  <thead>\n",
              "    <tr style=\"text-align: right;\">\n",
              "      <th></th>\n",
              "      <th>concodigo</th>\n",
              "      <th>lotecodigo</th>\n",
              "      <th>geometry</th>\n",
              "      <th>cod_faltante_const</th>\n",
              "    </tr>\n",
              "  </thead>\n",
              "  <tbody>\n",
              "    <tr>\n",
              "      <th>0</th>\n",
              "      <td>0025480350020000000000000</td>\n",
              "      <td>002548035002</td>\n",
              "      <td>POLYGON ((-74.11373 4.50524, -74.11372 4.50526...</td>\n",
              "      <td>0000000000</td>\n",
              "    </tr>\n",
              "    <tr>\n",
              "      <th>1</th>\n",
              "      <td>0092250210170000000000000</td>\n",
              "      <td>009225021017</td>\n",
              "      <td>POLYGON ((-74.11187 4.74702, -74.11187 4.74701...</td>\n",
              "      <td>0000000000</td>\n",
              "    </tr>\n",
              "    <tr>\n",
              "      <th>2</th>\n",
              "      <td>0056360120130000000000000</td>\n",
              "      <td>005636012013</td>\n",
              "      <td>POLYGON ((-74.14227 4.71458, -74.14234 4.71454...</td>\n",
              "      <td>0000000000</td>\n",
              "    </tr>\n",
              "    <tr>\n",
              "      <th>3</th>\n",
              "      <td>0056360740160000000000000</td>\n",
              "      <td>005636074016</td>\n",
              "      <td>POLYGON ((-74.14249 4.71810, -74.14254 4.71807...</td>\n",
              "      <td>0000000000</td>\n",
              "    </tr>\n",
              "    <tr>\n",
              "      <th>4</th>\n",
              "      <td>0056360740150000000000000</td>\n",
              "      <td>005636074015</td>\n",
              "      <td>POLYGON ((-74.14258 4.71811, -74.14258 4.71810...</td>\n",
              "      <td>0000000000</td>\n",
              "    </tr>\n",
              "  </tbody>\n",
              "</table>\n",
              "</div>"
            ],
            "text/plain": [
              "                   concodigo    lotecodigo  \\\n",
              "0  0025480350020000000000000  002548035002   \n",
              "1  0092250210170000000000000  009225021017   \n",
              "2  0056360120130000000000000  005636012013   \n",
              "3  0056360740160000000000000  005636074016   \n",
              "4  0056360740150000000000000  005636074015   \n",
              "\n",
              "                                            geometry cod_faltante_const  \n",
              "0  POLYGON ((-74.11373 4.50524, -74.11372 4.50526...         0000000000  \n",
              "1  POLYGON ((-74.11187 4.74702, -74.11187 4.74701...         0000000000  \n",
              "2  POLYGON ((-74.14227 4.71458, -74.14234 4.71454...         0000000000  \n",
              "3  POLYGON ((-74.14249 4.71810, -74.14254 4.71807...         0000000000  \n",
              "4  POLYGON ((-74.14258 4.71811, -74.14258 4.71810...         0000000000  "
            ]
          },
          "execution_count": 6,
          "metadata": {},
          "output_type": "execute_result"
        }
      ],
      "source": [
        "df_construcciones.head()"
      ]
    },
    {
      "cell_type": "code",
      "execution_count": 7,
      "metadata": {},
      "outputs": [
        {
          "name": "stdout",
          "output_type": "stream",
          "text": [
            "<class 'geopandas.geodataframe.GeoDataFrame'>\n",
            "RangeIndex: 565096 entries, 0 to 565095\n",
            "Data columns (total 4 columns):\n",
            " #   Column              Non-Null Count   Dtype   \n",
            "---  ------              --------------   -----   \n",
            " 0   concodigo           565096 non-null  object  \n",
            " 1   lotecodigo          565096 non-null  object  \n",
            " 2   geometry            565096 non-null  geometry\n",
            " 3   cod_faltante_const  565096 non-null  object  \n",
            "dtypes: geometry(1), object(3)\n",
            "memory usage: 17.2+ MB\n"
          ]
        }
      ],
      "source": [
        "df_construcciones.info()"
      ]
    },
    {
      "cell_type": "code",
      "execution_count": 8,
      "metadata": {},
      "outputs": [
        {
          "data": {
            "text/html": [
              "<div>\n",
              "<style scoped>\n",
              "    .dataframe tbody tr th:only-of-type {\n",
              "        vertical-align: middle;\n",
              "    }\n",
              "\n",
              "    .dataframe tbody tr th {\n",
              "        vertical-align: top;\n",
              "    }\n",
              "\n",
              "    .dataframe thead th {\n",
              "        text-align: right;\n",
              "    }\n",
              "</style>\n",
              "<table border=\"1\" class=\"dataframe\">\n",
              "  <thead>\n",
              "    <tr style=\"text-align: right;\">\n",
              "      <th></th>\n",
              "      <th>count</th>\n",
              "    </tr>\n",
              "    <tr>\n",
              "      <th>cod_faltante_const</th>\n",
              "      <th></th>\n",
              "    </tr>\n",
              "  </thead>\n",
              "  <tbody>\n",
              "    <tr>\n",
              "      <th>0000000000</th>\n",
              "      <td>565086</td>\n",
              "    </tr>\n",
              "    <tr>\n",
              "      <th>1000000000</th>\n",
              "      <td>3</td>\n",
              "    </tr>\n",
              "    <tr>\n",
              "      <th>0000000009</th>\n",
              "      <td>2</td>\n",
              "    </tr>\n",
              "    <tr>\n",
              "      <th>0010000000</th>\n",
              "      <td>2</td>\n",
              "    </tr>\n",
              "    <tr>\n",
              "      <th>2000000000</th>\n",
              "      <td>1</td>\n",
              "    </tr>\n",
              "    <tr>\n",
              "      <th>3000000000</th>\n",
              "      <td>1</td>\n",
              "    </tr>\n",
              "    <tr>\n",
              "      <th>8000000000</th>\n",
              "      <td>1</td>\n",
              "    </tr>\n",
              "  </tbody>\n",
              "</table>\n",
              "</div>"
            ],
            "text/plain": [
              "                     count\n",
              "cod_faltante_const        \n",
              "0000000000          565086\n",
              "1000000000               3\n",
              "0000000009               2\n",
              "0010000000               2\n",
              "2000000000               1\n",
              "3000000000               1\n",
              "8000000000               1"
            ]
          },
          "execution_count": 8,
          "metadata": {},
          "output_type": "execute_result"
        }
      ],
      "source": [
        "df_construcciones.groupby(['cod_faltante_const']).agg(count=('concodigo', 'count')).sort_values(by='count', ascending=False)"
      ]
    },
    {
      "cell_type": "markdown",
      "metadata": {},
      "source": [
        "#### Read Predios Catastrales"
      ]
    },
    {
      "cell_type": "markdown",
      "metadata": {},
      "source": [
        "##### Nota:\n",
        "\n",
        "Cada uno de los archivos se descargó y leyó únicamente con código. Sin embargo, dado que la descarga tomaba bastante tiempo con archivos superando 1 GB de memoria una vez descargados los archivos se descargaron localmente para ahorrar los tiempos de descarga y solo leer desde memoria.\n",
        "\n",
        "A pesar de estas medidas, el código comentado en la siguiente celda es funcional y fue la manera en que se descargaron y leyeron los archivos originalmente."
      ]
    },
    {
      "cell_type": "code",
      "execution_count": 9,
      "metadata": {},
      "outputs": [],
      "source": [
        "# Time: 5 min\n",
        "# # Url\n",
        "# url_predios = 'https://datosabiertos.bogota.gov.co/dataset/e812efbe-acc3-4e70-9bfc-30fd2134afdd/resource/efb4e03d-173e-42b2-b35a-f10d6d610df2/download/predios_csv_1020.zip'\n",
        "\n",
        "# # Request\n",
        "# response_predios = urlopen(url_predios)\n",
        "\n",
        "# # Check the status of the request (200 = Works)\n",
        "# status_response_predios = response_predios.status\n",
        "# assert(status_response_predios == 200)\n",
        "\n",
        "# # Read the file\n",
        "# zip_data = response_predios.read()\n",
        "# print(type(zip_data))\n",
        "\n",
        "# # Manage the file with an special library for .zip files\n",
        "# zip_file = zipfile.ZipFile(file=io.BytesIO(zip_data))\n",
        "# print(type(zip_file))\n",
        "\n",
        "# # Unzip the File from the .zip folder\n",
        "# unzipped_file_predios = zip_file.open(zip_file.namelist()[0])\n",
        "# print(type(unzipped_file_predios))\n",
        "\n",
        "# # Read the file\n",
        "# file_predios = unzipped_file_predios.read()\n",
        "# print(type(file_predios))\n",
        "\n",
        "# # Convert from bytes to str\n",
        "# string_predios = file_predios.decode()\n",
        "# print(type(string_predios))\n",
        "\n",
        "# # 'Save' in memory the file and then read it as a traditional csv file\n",
        "# csv_predios = io.StringIO(string_predios)\n",
        "# df_predios = pd.read_csv(csv_predios, sep=';')\n",
        "# print(type(df_predios))\n",
        "\n",
        "# # Check the type is DataFrame\n",
        "# assert(isinstance(df_predios, pd.DataFrame))"
      ]
    },
    {
      "cell_type": "code",
      "execution_count": 10,
      "metadata": {},
      "outputs": [
        {
          "name": "stderr",
          "output_type": "stream",
          "text": [
            "C:\\Users\\SGM\\AppData\\Local\\Temp\\ipykernel_16672\\3775391407.py:2: DtypeWarning: Columns (19) have mixed types. Specify dtype option on import or set low_memory=False.\n",
            "  df_predios = pd.read_csv('Data/Predios_CSV_1020.csv', sep=';')\n"
          ]
        }
      ],
      "source": [
        "# Time: 45 seconds\n",
        "df_predios = pd.read_csv('Data/Predios_CSV_1020.csv', sep=';')"
      ]
    },
    {
      "cell_type": "code",
      "execution_count": 11,
      "metadata": {},
      "outputs": [],
      "source": [
        "# Change the column names to lowercase (just a toc)\n",
        "df_predios.columns = [column.lower() for column in (df_predios.columns)]\n",
        "\n",
        "# Keep only the columns needed\n",
        "list_columns_to_keep = [\n",
        "    'objectid',\n",
        "    'prenbarrio',\n",
        "    'precmanz',\n",
        "    'precpredio',\n",
        "    'preccons',\n",
        "    'precresto',\n",
        "    'precedcata',\n",
        "    'prenupre',\n",
        "    'pretprop',\n",
        "    'preclase',\n",
        "    'precdestin',\n",
        "    'preclcons',\n",
        "    'barmanpre',\n",
        "]\n",
        "df_predios = df_predios[list_columns_to_keep]\n",
        "df_predios['lote_codigo'] = df_predios['barmanpre'].astype(str).str.pad(width=12, side='left', fillchar='0')\n",
        "df_predios['cod_cons'] = df_predios['preccons'].astype(str).str.pad(width=3, side='left', fillchar='0')\n",
        "df_predios['construccion_codigo'] = (df_predios['lote_codigo'] + df_predios['cod_cons']).str.pad(width=25, side='right', fillchar='0')"
      ]
    },
    {
      "cell_type": "code",
      "execution_count": 12,
      "metadata": {},
      "outputs": [
        {
          "data": {
            "text/html": [
              "<div>\n",
              "<style scoped>\n",
              "    .dataframe tbody tr th:only-of-type {\n",
              "        vertical-align: middle;\n",
              "    }\n",
              "\n",
              "    .dataframe tbody tr th {\n",
              "        vertical-align: top;\n",
              "    }\n",
              "\n",
              "    .dataframe thead th {\n",
              "        text-align: right;\n",
              "    }\n",
              "</style>\n",
              "<table border=\"1\" class=\"dataframe\">\n",
              "  <thead>\n",
              "    <tr style=\"text-align: right;\">\n",
              "      <th></th>\n",
              "      <th>objectid</th>\n",
              "      <th>prenbarrio</th>\n",
              "      <th>precmanz</th>\n",
              "      <th>precpredio</th>\n",
              "      <th>preccons</th>\n",
              "      <th>precresto</th>\n",
              "      <th>precedcata</th>\n",
              "      <th>prenupre</th>\n",
              "      <th>pretprop</th>\n",
              "      <th>preclase</th>\n",
              "      <th>precdestin</th>\n",
              "      <th>preclcons</th>\n",
              "      <th>barmanpre</th>\n",
              "      <th>lote_codigo</th>\n",
              "      <th>cod_cons</th>\n",
              "      <th>construccion_codigo</th>\n",
              "    </tr>\n",
              "  </thead>\n",
              "  <tbody>\n",
              "    <tr>\n",
              "      <th>0</th>\n",
              "      <td>1</td>\n",
              "      <td>BUENOS AIRES</td>\n",
              "      <td>23</td>\n",
              "      <td>2</td>\n",
              "      <td>1</td>\n",
              "      <td>1006</td>\n",
              "      <td>001102230200101006</td>\n",
              "      <td>110010111040200230002901010006</td>\n",
              "      <td>6</td>\n",
              "      <td>P</td>\n",
              "      <td>1</td>\n",
              "      <td>R</td>\n",
              "      <td>1102023002</td>\n",
              "      <td>001102023002</td>\n",
              "      <td>001</td>\n",
              "      <td>0011020230020010000000000</td>\n",
              "    </tr>\n",
              "    <tr>\n",
              "      <th>1</th>\n",
              "      <td>2</td>\n",
              "      <td>BUENOS AIRES</td>\n",
              "      <td>23</td>\n",
              "      <td>2</td>\n",
              "      <td>1</td>\n",
              "      <td>1007</td>\n",
              "      <td>001102230200101007</td>\n",
              "      <td>110010111040200230002901010007</td>\n",
              "      <td>6</td>\n",
              "      <td>P</td>\n",
              "      <td>1</td>\n",
              "      <td>R</td>\n",
              "      <td>1102023002</td>\n",
              "      <td>001102023002</td>\n",
              "      <td>001</td>\n",
              "      <td>0011020230020010000000000</td>\n",
              "    </tr>\n",
              "    <tr>\n",
              "      <th>2</th>\n",
              "      <td>3</td>\n",
              "      <td>BUENOS AIRES</td>\n",
              "      <td>23</td>\n",
              "      <td>2</td>\n",
              "      <td>1</td>\n",
              "      <td>1008</td>\n",
              "      <td>001102230200101008</td>\n",
              "      <td>110010111040200230002901010008</td>\n",
              "      <td>6</td>\n",
              "      <td>P</td>\n",
              "      <td>1</td>\n",
              "      <td>R</td>\n",
              "      <td>1102023002</td>\n",
              "      <td>001102023002</td>\n",
              "      <td>001</td>\n",
              "      <td>0011020230020010000000000</td>\n",
              "    </tr>\n",
              "    <tr>\n",
              "      <th>3</th>\n",
              "      <td>4</td>\n",
              "      <td>BUENOS AIRES</td>\n",
              "      <td>23</td>\n",
              "      <td>2</td>\n",
              "      <td>1</td>\n",
              "      <td>1010</td>\n",
              "      <td>001102230200101010</td>\n",
              "      <td>110010111040200230002901010010</td>\n",
              "      <td>6</td>\n",
              "      <td>P</td>\n",
              "      <td>1</td>\n",
              "      <td>R</td>\n",
              "      <td>1102023002</td>\n",
              "      <td>001102023002</td>\n",
              "      <td>001</td>\n",
              "      <td>0011020230020010000000000</td>\n",
              "    </tr>\n",
              "    <tr>\n",
              "      <th>4</th>\n",
              "      <td>5</td>\n",
              "      <td>BUENOS AIRES</td>\n",
              "      <td>23</td>\n",
              "      <td>2</td>\n",
              "      <td>1</td>\n",
              "      <td>1011</td>\n",
              "      <td>001102230200101011</td>\n",
              "      <td>110010111040200230002901010011</td>\n",
              "      <td>6</td>\n",
              "      <td>P</td>\n",
              "      <td>1</td>\n",
              "      <td>R</td>\n",
              "      <td>1102023002</td>\n",
              "      <td>001102023002</td>\n",
              "      <td>001</td>\n",
              "      <td>0011020230020010000000000</td>\n",
              "    </tr>\n",
              "  </tbody>\n",
              "</table>\n",
              "</div>"
            ],
            "text/plain": [
              "   objectid    prenbarrio  precmanz  precpredio  preccons  precresto  \\\n",
              "0         1  BUENOS AIRES        23           2         1       1006   \n",
              "1         2  BUENOS AIRES        23           2         1       1007   \n",
              "2         3  BUENOS AIRES        23           2         1       1008   \n",
              "3         4  BUENOS AIRES        23           2         1       1010   \n",
              "4         5  BUENOS AIRES        23           2         1       1011   \n",
              "\n",
              "           precedcata                        prenupre  pretprop preclase  \\\n",
              "0  001102230200101006  110010111040200230002901010006         6        P   \n",
              "1  001102230200101007  110010111040200230002901010007         6        P   \n",
              "2  001102230200101008  110010111040200230002901010008         6        P   \n",
              "3  001102230200101010  110010111040200230002901010010         6        P   \n",
              "4  001102230200101011  110010111040200230002901010011         6        P   \n",
              "\n",
              "   precdestin preclcons   barmanpre   lote_codigo cod_cons  \\\n",
              "0           1         R  1102023002  001102023002      001   \n",
              "1           1         R  1102023002  001102023002      001   \n",
              "2           1         R  1102023002  001102023002      001   \n",
              "3           1         R  1102023002  001102023002      001   \n",
              "4           1         R  1102023002  001102023002      001   \n",
              "\n",
              "         construccion_codigo  \n",
              "0  0011020230020010000000000  \n",
              "1  0011020230020010000000000  \n",
              "2  0011020230020010000000000  \n",
              "3  0011020230020010000000000  \n",
              "4  0011020230020010000000000  "
            ]
          },
          "execution_count": 12,
          "metadata": {},
          "output_type": "execute_result"
        }
      ],
      "source": [
        "df_predios.head()"
      ]
    },
    {
      "cell_type": "code",
      "execution_count": 13,
      "metadata": {},
      "outputs": [
        {
          "name": "stdout",
          "output_type": "stream",
          "text": [
            "<class 'pandas.core.frame.DataFrame'>\n",
            "RangeIndex: 3511266 entries, 0 to 3511265\n",
            "Data columns (total 16 columns):\n",
            " #   Column               Dtype \n",
            "---  ------               ----- \n",
            " 0   objectid             int64 \n",
            " 1   prenbarrio           object\n",
            " 2   precmanz             int64 \n",
            " 3   precpredio           int64 \n",
            " 4   preccons             int64 \n",
            " 5   precresto            int64 \n",
            " 6   precedcata           object\n",
            " 7   prenupre             object\n",
            " 8   pretprop             int64 \n",
            " 9   preclase             object\n",
            " 10  precdestin           int64 \n",
            " 11  preclcons            object\n",
            " 12  barmanpre            int64 \n",
            " 13  lote_codigo          object\n",
            " 14  cod_cons             object\n",
            " 15  construccion_codigo  object\n",
            "dtypes: int64(8), object(8)\n",
            "memory usage: 428.6+ MB\n"
          ]
        }
      ],
      "source": [
        "df_predios.info()"
      ]
    },
    {
      "cell_type": "markdown",
      "metadata": {},
      "source": [
        "#### Join Espacial"
      ]
    },
    {
      "cell_type": "markdown",
      "metadata": {
        "id": "W0T8pHHOVahp"
      },
      "source": [
        "Hacer un join espacial entre la base de datos de predios y la de UPLs y calcular cuántos predios residenciales existen en Bogotá por UPL."
      ]
    },
    {
      "cell_type": "code",
      "execution_count": 14,
      "metadata": {
        "id": "s-JZdQpUUJKj"
      },
      "outputs": [
        {
          "data": {
            "text/plain": [
              "'\\nEscriba aquí su código. De ser necesario, puede agregar más celdas.\\n'"
            ]
          },
          "execution_count": 14,
          "metadata": {},
          "output_type": "execute_result"
        }
      ],
      "source": [
        "\"\"\"\n",
        "Escriba aquí su código. De ser necesario, puede agregar más celdas.\n",
        "\"\"\""
      ]
    },
    {
      "cell_type": "markdown",
      "metadata": {},
      "source": [
        "##### Predios + Construcciones + UPLs"
      ]
    },
    {
      "cell_type": "markdown",
      "metadata": {},
      "source": [
        "##### Join"
      ]
    },
    {
      "cell_type": "code",
      "execution_count": 33,
      "metadata": {},
      "outputs": [],
      "source": [
        "df_construcciones_upls = gpd.sjoin(\n",
        "    df_construcciones,\n",
        "    df_upls[['codigo_upl', 'geometry']],\n",
        "    how='left',\n",
        "    predicate='within'\n",
        ")"
      ]
    },
    {
      "cell_type": "code",
      "execution_count": 34,
      "metadata": {},
      "outputs": [
        {
          "data": {
            "text/html": [
              "<div>\n",
              "<style scoped>\n",
              "    .dataframe tbody tr th:only-of-type {\n",
              "        vertical-align: middle;\n",
              "    }\n",
              "\n",
              "    .dataframe tbody tr th {\n",
              "        vertical-align: top;\n",
              "    }\n",
              "\n",
              "    .dataframe thead th {\n",
              "        text-align: right;\n",
              "    }\n",
              "</style>\n",
              "<table border=\"1\" class=\"dataframe\">\n",
              "  <thead>\n",
              "    <tr style=\"text-align: right;\">\n",
              "      <th></th>\n",
              "      <th>concodigo</th>\n",
              "      <th>lotecodigo</th>\n",
              "      <th>geometry</th>\n",
              "      <th>cod_faltante_const</th>\n",
              "      <th>index_right</th>\n",
              "      <th>codigo_upl</th>\n",
              "    </tr>\n",
              "  </thead>\n",
              "  <tbody>\n",
              "    <tr>\n",
              "      <th>0</th>\n",
              "      <td>0025480350020000000000000</td>\n",
              "      <td>002548035002</td>\n",
              "      <td>POLYGON ((-74.11373 4.50524, -74.11372 4.50526...</td>\n",
              "      <td>0000000000</td>\n",
              "      <td>25.0</td>\n",
              "      <td>UPL05</td>\n",
              "    </tr>\n",
              "    <tr>\n",
              "      <th>1</th>\n",
              "      <td>0092250210170000000000000</td>\n",
              "      <td>009225021017</td>\n",
              "      <td>POLYGON ((-74.11187 4.74702, -74.11187 4.74701...</td>\n",
              "      <td>0000000000</td>\n",
              "      <td>19.0</td>\n",
              "      <td>UPL10</td>\n",
              "    </tr>\n",
              "    <tr>\n",
              "      <th>2</th>\n",
              "      <td>0056360120130000000000000</td>\n",
              "      <td>005636012013</td>\n",
              "      <td>POLYGON ((-74.14227 4.71458, -74.14234 4.71454...</td>\n",
              "      <td>0000000000</td>\n",
              "      <td>16.0</td>\n",
              "      <td>UPL11</td>\n",
              "    </tr>\n",
              "    <tr>\n",
              "      <th>3</th>\n",
              "      <td>0056360740160000000000000</td>\n",
              "      <td>005636074016</td>\n",
              "      <td>POLYGON ((-74.14249 4.71810, -74.14254 4.71807...</td>\n",
              "      <td>0000000000</td>\n",
              "      <td>16.0</td>\n",
              "      <td>UPL11</td>\n",
              "    </tr>\n",
              "    <tr>\n",
              "      <th>4</th>\n",
              "      <td>0056360740150000000000000</td>\n",
              "      <td>005636074015</td>\n",
              "      <td>POLYGON ((-74.14258 4.71811, -74.14258 4.71810...</td>\n",
              "      <td>0000000000</td>\n",
              "      <td>16.0</td>\n",
              "      <td>UPL11</td>\n",
              "    </tr>\n",
              "  </tbody>\n",
              "</table>\n",
              "</div>"
            ],
            "text/plain": [
              "                   concodigo    lotecodigo  \\\n",
              "0  0025480350020000000000000  002548035002   \n",
              "1  0092250210170000000000000  009225021017   \n",
              "2  0056360120130000000000000  005636012013   \n",
              "3  0056360740160000000000000  005636074016   \n",
              "4  0056360740150000000000000  005636074015   \n",
              "\n",
              "                                            geometry cod_faltante_const  \\\n",
              "0  POLYGON ((-74.11373 4.50524, -74.11372 4.50526...         0000000000   \n",
              "1  POLYGON ((-74.11187 4.74702, -74.11187 4.74701...         0000000000   \n",
              "2  POLYGON ((-74.14227 4.71458, -74.14234 4.71454...         0000000000   \n",
              "3  POLYGON ((-74.14249 4.71810, -74.14254 4.71807...         0000000000   \n",
              "4  POLYGON ((-74.14258 4.71811, -74.14258 4.71810...         0000000000   \n",
              "\n",
              "   index_right codigo_upl  \n",
              "0         25.0      UPL05  \n",
              "1         19.0      UPL10  \n",
              "2         16.0      UPL11  \n",
              "3         16.0      UPL11  \n",
              "4         16.0      UPL11  "
            ]
          },
          "execution_count": 34,
          "metadata": {},
          "output_type": "execute_result"
        }
      ],
      "source": [
        "df_construcciones_upls.head()"
      ]
    },
    {
      "cell_type": "code",
      "execution_count": 35,
      "metadata": {},
      "outputs": [
        {
          "name": "stdout",
          "output_type": "stream",
          "text": [
            "<class 'geopandas.geodataframe.GeoDataFrame'>\n",
            "Index: 565096 entries, 0 to 565095\n",
            "Data columns (total 6 columns):\n",
            " #   Column              Non-Null Count   Dtype   \n",
            "---  ------              --------------   -----   \n",
            " 0   concodigo           565096 non-null  object  \n",
            " 1   lotecodigo          565096 non-null  object  \n",
            " 2   geometry            565096 non-null  geometry\n",
            " 3   cod_faltante_const  565096 non-null  object  \n",
            " 4   index_right         564763 non-null  float64 \n",
            " 5   codigo_upl          564763 non-null  object  \n",
            "dtypes: float64(1), geometry(1), object(4)\n",
            "memory usage: 30.2+ MB\n"
          ]
        }
      ],
      "source": [
        "df_construcciones_upls.info()"
      ]
    },
    {
      "cell_type": "code",
      "execution_count": 36,
      "metadata": {},
      "outputs": [],
      "source": [
        "df_predios_join = pd.merge(\n",
        "    df_predios,\n",
        "    df_construcciones_upls[['concodigo', 'codigo_upl']],\n",
        "    how='left',\n",
        "    left_on='construccion_codigo',\n",
        "    right_on='concodigo'\n",
        ")"
      ]
    },
    {
      "cell_type": "code",
      "execution_count": 37,
      "metadata": {},
      "outputs": [
        {
          "data": {
            "text/html": [
              "<div>\n",
              "<style scoped>\n",
              "    .dataframe tbody tr th:only-of-type {\n",
              "        vertical-align: middle;\n",
              "    }\n",
              "\n",
              "    .dataframe tbody tr th {\n",
              "        vertical-align: top;\n",
              "    }\n",
              "\n",
              "    .dataframe thead th {\n",
              "        text-align: right;\n",
              "    }\n",
              "</style>\n",
              "<table border=\"1\" class=\"dataframe\">\n",
              "  <thead>\n",
              "    <tr style=\"text-align: right;\">\n",
              "      <th></th>\n",
              "      <th>objectid</th>\n",
              "      <th>prenbarrio</th>\n",
              "      <th>precmanz</th>\n",
              "      <th>precpredio</th>\n",
              "      <th>preccons</th>\n",
              "      <th>precresto</th>\n",
              "      <th>precedcata</th>\n",
              "      <th>prenupre</th>\n",
              "      <th>pretprop</th>\n",
              "      <th>preclase</th>\n",
              "      <th>precdestin</th>\n",
              "      <th>preclcons</th>\n",
              "      <th>barmanpre</th>\n",
              "      <th>lote_codigo</th>\n",
              "      <th>cod_cons</th>\n",
              "      <th>construccion_codigo</th>\n",
              "      <th>concodigo</th>\n",
              "      <th>codigo_upl</th>\n",
              "    </tr>\n",
              "  </thead>\n",
              "  <tbody>\n",
              "    <tr>\n",
              "      <th>0</th>\n",
              "      <td>1</td>\n",
              "      <td>BUENOS AIRES</td>\n",
              "      <td>23</td>\n",
              "      <td>2</td>\n",
              "      <td>1</td>\n",
              "      <td>1006</td>\n",
              "      <td>001102230200101006</td>\n",
              "      <td>110010111040200230002901010006</td>\n",
              "      <td>6</td>\n",
              "      <td>P</td>\n",
              "      <td>1</td>\n",
              "      <td>R</td>\n",
              "      <td>1102023002</td>\n",
              "      <td>001102023002</td>\n",
              "      <td>001</td>\n",
              "      <td>0011020230020010000000000</td>\n",
              "      <td>NaN</td>\n",
              "      <td>NaN</td>\n",
              "    </tr>\n",
              "    <tr>\n",
              "      <th>1</th>\n",
              "      <td>2</td>\n",
              "      <td>BUENOS AIRES</td>\n",
              "      <td>23</td>\n",
              "      <td>2</td>\n",
              "      <td>1</td>\n",
              "      <td>1007</td>\n",
              "      <td>001102230200101007</td>\n",
              "      <td>110010111040200230002901010007</td>\n",
              "      <td>6</td>\n",
              "      <td>P</td>\n",
              "      <td>1</td>\n",
              "      <td>R</td>\n",
              "      <td>1102023002</td>\n",
              "      <td>001102023002</td>\n",
              "      <td>001</td>\n",
              "      <td>0011020230020010000000000</td>\n",
              "      <td>NaN</td>\n",
              "      <td>NaN</td>\n",
              "    </tr>\n",
              "    <tr>\n",
              "      <th>2</th>\n",
              "      <td>3</td>\n",
              "      <td>BUENOS AIRES</td>\n",
              "      <td>23</td>\n",
              "      <td>2</td>\n",
              "      <td>1</td>\n",
              "      <td>1008</td>\n",
              "      <td>001102230200101008</td>\n",
              "      <td>110010111040200230002901010008</td>\n",
              "      <td>6</td>\n",
              "      <td>P</td>\n",
              "      <td>1</td>\n",
              "      <td>R</td>\n",
              "      <td>1102023002</td>\n",
              "      <td>001102023002</td>\n",
              "      <td>001</td>\n",
              "      <td>0011020230020010000000000</td>\n",
              "      <td>NaN</td>\n",
              "      <td>NaN</td>\n",
              "    </tr>\n",
              "    <tr>\n",
              "      <th>3</th>\n",
              "      <td>4</td>\n",
              "      <td>BUENOS AIRES</td>\n",
              "      <td>23</td>\n",
              "      <td>2</td>\n",
              "      <td>1</td>\n",
              "      <td>1010</td>\n",
              "      <td>001102230200101010</td>\n",
              "      <td>110010111040200230002901010010</td>\n",
              "      <td>6</td>\n",
              "      <td>P</td>\n",
              "      <td>1</td>\n",
              "      <td>R</td>\n",
              "      <td>1102023002</td>\n",
              "      <td>001102023002</td>\n",
              "      <td>001</td>\n",
              "      <td>0011020230020010000000000</td>\n",
              "      <td>NaN</td>\n",
              "      <td>NaN</td>\n",
              "    </tr>\n",
              "    <tr>\n",
              "      <th>4</th>\n",
              "      <td>5</td>\n",
              "      <td>BUENOS AIRES</td>\n",
              "      <td>23</td>\n",
              "      <td>2</td>\n",
              "      <td>1</td>\n",
              "      <td>1011</td>\n",
              "      <td>001102230200101011</td>\n",
              "      <td>110010111040200230002901010011</td>\n",
              "      <td>6</td>\n",
              "      <td>P</td>\n",
              "      <td>1</td>\n",
              "      <td>R</td>\n",
              "      <td>1102023002</td>\n",
              "      <td>001102023002</td>\n",
              "      <td>001</td>\n",
              "      <td>0011020230020010000000000</td>\n",
              "      <td>NaN</td>\n",
              "      <td>NaN</td>\n",
              "    </tr>\n",
              "  </tbody>\n",
              "</table>\n",
              "</div>"
            ],
            "text/plain": [
              "   objectid    prenbarrio  precmanz  precpredio  preccons  precresto  \\\n",
              "0         1  BUENOS AIRES        23           2         1       1006   \n",
              "1         2  BUENOS AIRES        23           2         1       1007   \n",
              "2         3  BUENOS AIRES        23           2         1       1008   \n",
              "3         4  BUENOS AIRES        23           2         1       1010   \n",
              "4         5  BUENOS AIRES        23           2         1       1011   \n",
              "\n",
              "           precedcata                        prenupre  pretprop preclase  \\\n",
              "0  001102230200101006  110010111040200230002901010006         6        P   \n",
              "1  001102230200101007  110010111040200230002901010007         6        P   \n",
              "2  001102230200101008  110010111040200230002901010008         6        P   \n",
              "3  001102230200101010  110010111040200230002901010010         6        P   \n",
              "4  001102230200101011  110010111040200230002901010011         6        P   \n",
              "\n",
              "   precdestin preclcons   barmanpre   lote_codigo cod_cons  \\\n",
              "0           1         R  1102023002  001102023002      001   \n",
              "1           1         R  1102023002  001102023002      001   \n",
              "2           1         R  1102023002  001102023002      001   \n",
              "3           1         R  1102023002  001102023002      001   \n",
              "4           1         R  1102023002  001102023002      001   \n",
              "\n",
              "         construccion_codigo concodigo codigo_upl  \n",
              "0  0011020230020010000000000       NaN        NaN  \n",
              "1  0011020230020010000000000       NaN        NaN  \n",
              "2  0011020230020010000000000       NaN        NaN  \n",
              "3  0011020230020010000000000       NaN        NaN  \n",
              "4  0011020230020010000000000       NaN        NaN  "
            ]
          },
          "execution_count": 37,
          "metadata": {},
          "output_type": "execute_result"
        }
      ],
      "source": [
        "df_predios_join.head()"
      ]
    },
    {
      "cell_type": "code",
      "execution_count": 38,
      "metadata": {},
      "outputs": [
        {
          "name": "stdout",
          "output_type": "stream",
          "text": [
            "<class 'pandas.core.frame.DataFrame'>\n",
            "RangeIndex: 3511266 entries, 0 to 3511265\n",
            "Data columns (total 18 columns):\n",
            " #   Column               Dtype \n",
            "---  ------               ----- \n",
            " 0   objectid             int64 \n",
            " 1   prenbarrio           object\n",
            " 2   precmanz             int64 \n",
            " 3   precpredio           int64 \n",
            " 4   preccons             int64 \n",
            " 5   precresto            int64 \n",
            " 6   precedcata           object\n",
            " 7   prenupre             object\n",
            " 8   pretprop             int64 \n",
            " 9   preclase             object\n",
            " 10  precdestin           int64 \n",
            " 11  preclcons            object\n",
            " 12  barmanpre            int64 \n",
            " 13  lote_codigo          object\n",
            " 14  cod_cons             object\n",
            " 15  construccion_codigo  object\n",
            " 16  concodigo            object\n",
            " 17  codigo_upl           object\n",
            "dtypes: int64(8), object(10)\n",
            "memory usage: 482.2+ MB\n"
          ]
        }
      ],
      "source": [
        "df_predios_join.info()"
      ]
    },
    {
      "cell_type": "code",
      "execution_count": 39,
      "metadata": {},
      "outputs": [],
      "source": [
        "# Find the ofertas per UPL and sort it from higher to lower\n",
        "df_predios_residenciales_upl = df_predios_join[df_predios_join['preclcons'] == 'R'].groupby(['codigo_upl']).agg(predios=('objectid', 'count')).reset_index().sort_values(by='predios', ascending=False)\n",
        "\n",
        "# Find the percentage and since it is sorted the cumulative percentage to check rules as Pareto\n",
        "df_predios_residenciales_upl['porcentaje'] = df_predios_residenciales_upl['predios'] / df_predios_residenciales_upl['predios'].sum()\n",
        "df_predios_residenciales_upl['porcentaje_acum'] = df_predios_residenciales_upl['porcentaje'].cumsum()\n",
        "\n",
        "\n",
        "# Complete the information of the UPL to graph it\n",
        "df_predios_residenciales_upl = pd.merge(\n",
        "    df_predios_residenciales_upl,\n",
        "    df_upls,\n",
        "    how='left',\n",
        "    on='codigo_upl'\n",
        ")\n",
        "\n",
        "# Convert to geodataframe\n",
        "df_predios_residenciales_upl = gpd.GeoDataFrame(\n",
        "    df_predios_residenciales_upl,\n",
        "    geometry='geometry'\n",
        ")"
      ]
    },
    {
      "cell_type": "code",
      "execution_count": 40,
      "metadata": {},
      "outputs": [
        {
          "data": {
            "text/html": [
              "<div>\n",
              "<style scoped>\n",
              "    .dataframe tbody tr th:only-of-type {\n",
              "        vertical-align: middle;\n",
              "    }\n",
              "\n",
              "    .dataframe tbody tr th {\n",
              "        vertical-align: top;\n",
              "    }\n",
              "\n",
              "    .dataframe thead th {\n",
              "        text-align: right;\n",
              "    }\n",
              "</style>\n",
              "<table border=\"1\" class=\"dataframe\">\n",
              "  <thead>\n",
              "    <tr style=\"text-align: right;\">\n",
              "      <th></th>\n",
              "      <th>codigo_upl</th>\n",
              "      <th>predios</th>\n",
              "      <th>porcentaje</th>\n",
              "      <th>porcentaje_acum</th>\n",
              "      <th>nombre</th>\n",
              "      <th>vocacion</th>\n",
              "      <th>sector</th>\n",
              "      <th>geometry</th>\n",
              "    </tr>\n",
              "  </thead>\n",
              "  <tbody>\n",
              "    <tr>\n",
              "      <th>0</th>\n",
              "      <td>UPL25</td>\n",
              "      <td>155095</td>\n",
              "      <td>0.100861</td>\n",
              "      <td>0.100861</td>\n",
              "      <td>Usaquén</td>\n",
              "      <td>Urbano</td>\n",
              "      <td>Sector Norte</td>\n",
              "      <td>POLYGON ((-74.02093 4.72971, -74.02106 4.72966...</td>\n",
              "    </tr>\n",
              "    <tr>\n",
              "      <th>1</th>\n",
              "      <td>UPL24</td>\n",
              "      <td>84615</td>\n",
              "      <td>0.055027</td>\n",
              "      <td>0.155888</td>\n",
              "      <td>Chapinero</td>\n",
              "      <td>Urbano</td>\n",
              "      <td>Sector Centro Ampliado</td>\n",
              "      <td>POLYGON ((-74.05651 4.64143, -74.05650 4.64143...</td>\n",
              "    </tr>\n",
              "    <tr>\n",
              "      <th>2</th>\n",
              "      <td>UPL27</td>\n",
              "      <td>79506</td>\n",
              "      <td>0.051704</td>\n",
              "      <td>0.207592</td>\n",
              "      <td>Niza</td>\n",
              "      <td>Urbano</td>\n",
              "      <td>Sector Norte</td>\n",
              "      <td>POLYGON ((-74.07828 4.73386, -74.07750 4.73341...</td>\n",
              "    </tr>\n",
              "    <tr>\n",
              "      <th>3</th>\n",
              "      <td>UPL08</td>\n",
              "      <td>75658</td>\n",
              "      <td>0.049202</td>\n",
              "      <td>0.256794</td>\n",
              "      <td>Britalia</td>\n",
              "      <td>Urbano-Rural</td>\n",
              "      <td>Sector Norte</td>\n",
              "      <td>POLYGON ((-74.06328 4.77114, -74.06327 4.77114...</td>\n",
              "    </tr>\n",
              "    <tr>\n",
              "      <th>4</th>\n",
              "      <td>UPL29</td>\n",
              "      <td>66546</td>\n",
              "      <td>0.043276</td>\n",
              "      <td>0.300070</td>\n",
              "      <td>Tabora</td>\n",
              "      <td>Urbano</td>\n",
              "      <td>Sector Occidente</td>\n",
              "      <td>POLYGON ((-74.09908 4.71754, -74.09886 4.71746...</td>\n",
              "    </tr>\n",
              "  </tbody>\n",
              "</table>\n",
              "</div>"
            ],
            "text/plain": [
              "  codigo_upl  predios  porcentaje  porcentaje_acum     nombre      vocacion  \\\n",
              "0      UPL25   155095    0.100861         0.100861    Usaquén        Urbano   \n",
              "1      UPL24    84615    0.055027         0.155888  Chapinero        Urbano   \n",
              "2      UPL27    79506    0.051704         0.207592       Niza        Urbano   \n",
              "3      UPL08    75658    0.049202         0.256794   Britalia  Urbano-Rural   \n",
              "4      UPL29    66546    0.043276         0.300070     Tabora        Urbano   \n",
              "\n",
              "                   sector                                           geometry  \n",
              "0            Sector Norte  POLYGON ((-74.02093 4.72971, -74.02106 4.72966...  \n",
              "1  Sector Centro Ampliado  POLYGON ((-74.05651 4.64143, -74.05650 4.64143...  \n",
              "2            Sector Norte  POLYGON ((-74.07828 4.73386, -74.07750 4.73341...  \n",
              "3            Sector Norte  POLYGON ((-74.06328 4.77114, -74.06327 4.77114...  \n",
              "4        Sector Occidente  POLYGON ((-74.09908 4.71754, -74.09886 4.71746...  "
            ]
          },
          "execution_count": 40,
          "metadata": {},
          "output_type": "execute_result"
        }
      ],
      "source": [
        "df_predios_residenciales_upl.head()"
      ]
    },
    {
      "cell_type": "code",
      "execution_count": 41,
      "metadata": {},
      "outputs": [
        {
          "name": "stdout",
          "output_type": "stream",
          "text": [
            "<class 'geopandas.geodataframe.GeoDataFrame'>\n",
            "RangeIndex: 33 entries, 0 to 32\n",
            "Data columns (total 8 columns):\n",
            " #   Column           Non-Null Count  Dtype   \n",
            "---  ------           --------------  -----   \n",
            " 0   codigo_upl       33 non-null     object  \n",
            " 1   predios          33 non-null     int64   \n",
            " 2   porcentaje       33 non-null     float64 \n",
            " 3   porcentaje_acum  33 non-null     float64 \n",
            " 4   nombre           33 non-null     object  \n",
            " 5   vocacion         33 non-null     object  \n",
            " 6   sector           33 non-null     object  \n",
            " 7   geometry         33 non-null     geometry\n",
            "dtypes: float64(2), geometry(1), int64(1), object(4)\n",
            "memory usage: 2.2+ KB\n"
          ]
        }
      ],
      "source": [
        "df_predios_residenciales_upl.info()"
      ]
    },
    {
      "cell_type": "code",
      "execution_count": 43,
      "metadata": {},
      "outputs": [
        {
          "name": "stdout",
          "output_type": "stream",
          "text": [
            "Predios: 2,818,556\n",
            "Predios con UPL: 1,537,708\n"
          ]
        }
      ],
      "source": [
        "print(f\"Predios: {'{:,}'.format(df_predios_join[(df_predios_join['preclcons'] == 'R')].shape[0])}\")\n",
        "print(f\"Predios con UPL: {'{:,}'.format(df_predios_residenciales_upl['predios'].sum())}\")"
      ]
    },
    {
      "cell_type": "markdown",
      "metadata": {},
      "source": [
        "##### Mapa"
      ]
    },
    {
      "cell_type": "markdown",
      "metadata": {},
      "source": [
        "Para añadir la dimensión geográfica al número de ofertas por UPL, es necesario verlo a través de un mapa. Esto permite analizar patrones y tendencias a traves del espacio.\n",
        "1. (**Recomendado**) Visualizar la versión desplegada en página web en [este link](https://santigonzalezz.github.io/habi_prueba_data_science/mapa_predios_upls.html)\n",
        "1. Visualizar el mapa en las celdas siguientes, sin embargo, se encuentra limitada la interactividad y es posible errores al guardar el archivo y no ejecutar las celdas"
      ]
    },
    {
      "cell_type": "code",
      "execution_count": 90,
      "metadata": {},
      "outputs": [
        {
          "name": "stdout",
          "output_type": "stream",
          "text": [
            "User Guide: https://docs.kepler.gl/docs/keplergl-jupyter\n"
          ]
        }
      ],
      "source": [
        "# Create the map object\n",
        "mapa_predios_upls = KeplerGl(\n",
        "    height=500,\n",
        "    # data={'ofertas_upl': df_ofertas_upl}\n",
        ")\n",
        "\n",
        "# Add the data of predios per upl\n",
        "mapa_predios_upls.add_data(df_predios_residenciales_upl, 'Predios UPL')\n",
        "\n",
        "# Read the config of the map as a json\n",
        "# with open('Data/config_mapa_ofertas_upls.json') as file:\n",
        "#     config_mapa_predios_upls = json.load(file)\n",
        "\n",
        "# Read the config of the map as a json\n",
        "config_mapa_predios_upls = json.loads(\n",
        "    '{\"version\": \"v1\", \"config\": {\"visState\": {\"filters\": [], \"layers\": [{\"id\": \"y13j8b\", \"type\": \"geojson\", \"config\": {\"dataId\": \"Predios UPL\", \"label\": \"Predios UPL\", \"color\": [18, 92, 119], \"highlightColor\": [252, 242, 26, 255], \"columns\": {\"geojson\": \"geometry\"}, \"isVisible\": true, \"visConfig\": {\"opacity\": 0.8, \"strokeOpacity\": 0.8, \"thickness\": 0.5, \"strokeColor\": [183, 136, 94], \"colorRange\": {\"name\": \"ColorBrewer Blues-9\", \"type\": \"singlehue\", \"category\": \"ColorBrewer\", \"colors\": [\"#f7fbff\", \"#deebf7\", \"#c6dbef\", \"#9ecae1\", \"#6baed6\", \"#4292c6\", \"#2171b5\", \"#08519c\", \"#08306b\"]}, \"strokeColorRange\": {\"name\": \"Global Warming\", \"type\": \"sequential\", \"category\": \"Uber\", \"colors\": [\"#5A1846\", \"#900C3F\", \"#C70039\", \"#E3611C\", \"#F1920E\", \"#FFC300\"]}, \"radius\": 10, \"sizeRange\": [0, 10], \"radiusRange\": [0, 50], \"heightRange\": [0, 500], \"elevationScale\": 5, \"enableElevationZoomFactor\": true, \"stroked\": true, \"filled\": true, \"enable3d\": false, \"wireframe\": false}, \"hidden\": false, \"textLabel\": [{\"field\": null, \"color\": [255, 255, 255], \"size\": 18, \"offset\": [0, 0], \"anchor\": \"start\", \"alignment\": \"center\"}]}, \"visualChannels\": {\"colorField\": {\"name\": \"predios\", \"type\": \"integer\"}, \"colorScale\": \"quantile\", \"strokeColorField\": null, \"strokeColorScale\": \"quantile\", \"sizeField\": null, \"sizeScale\": \"linear\", \"heightField\": null, \"heightScale\": \"linear\", \"radiusField\": null, \"radiusScale\": \"linear\"}}], \"interactionConfig\": {\"tooltip\": {\"fieldsToShow\": {\"Predios UPL\": [{\"name\": \"codigo_upl\", \"format\": null}, {\"name\": \"predios\", \"format\": null}, {\"name\": \"porcentaje\", \"format\": null}, {\"name\": \"porcentaje_acum\", \"format\": null}, {\"name\": \"nombre\", \"format\": null}]}, \"compareMode\": false, \"compareType\": \"absolute\", \"enabled\": true}, \"brush\": {\"size\": 0.5, \"enabled\": false}, \"geocoder\": {\"enabled\": false}, \"coordinate\": {\"enabled\": false}}, \"layerBlending\": \"normal\", \"splitMaps\": [], \"animationConfig\": {\"currentTime\": null, \"speed\": 1}}, \"mapState\": {\"bearing\": 0, \"dragRotate\": false, \"latitude\": 4.283904718300249, \"longitude\": -74.21815690262335, \"pitch\": 0, \"zoom\": 8, \"isSplit\": false}, \"mapStyle\": {\"styleType\": \"dark\", \"topLayerGroups\": {}, \"visibleLayerGroups\": {\"label\": true, \"road\": true, \"border\": false, \"building\": true, \"water\": true, \"land\": true, \"3d building\": false}, \"threeDBuildingColor\": [9.665468314072013, 17.18305478057247, 31.1442867897876], \"mapStyles\": {}}}}'\n",
        ")\n",
        "\n",
        "# Set the configuration to the map\n",
        "mapa_predios_upls.config = config_mapa_predios_upls"
      ]
    },
    {
      "cell_type": "code",
      "execution_count": 92,
      "metadata": {},
      "outputs": [],
      "source": [
        "# mapa_predios_upls"
      ]
    },
    {
      "cell_type": "code",
      "execution_count": 88,
      "metadata": {},
      "outputs": [],
      "source": [
        "# Save the config to a json file\n",
        "# config_mapa_predios_upls = mapa_predios_upls.config\n",
        "# with open(\"Data/config_mapa_predios_upls.json\", \"w\") as outfile: \n",
        "#     json.dump(config_mapa_predios_upls, outfile)"
      ]
    },
    {
      "cell_type": "code",
      "execution_count": 89,
      "metadata": {},
      "outputs": [
        {
          "name": "stdout",
          "output_type": "stream",
          "text": [
            "Map saved to mapa_predios_upls.html!\n"
          ]
        }
      ],
      "source": [
        "# Save the map as an html\n",
        "# config_mapa_predios_upls = mapa_predios_upls.config\n",
        "# mapa_predios_upls.save_to_html(\n",
        "#   data={\n",
        "#     'Predios UPL': df_predios_residenciales_upl,\n",
        "#   },\n",
        "#   config=config_mapa_predios_upls,\n",
        "#   file_name='mapa_predios_upls.html'\n",
        "# )"
      ]
    },
    {
      "cell_type": "markdown",
      "metadata": {},
      "source": [
        "### Predios + Lotes + UPLs"
      ]
    },
    {
      "cell_type": "markdown",
      "metadata": {},
      "source": [
        "#### Read Lotes Catastrales"
      ]
    },
    {
      "cell_type": "markdown",
      "metadata": {},
      "source": [
        "##### Nota:\n",
        "\n",
        "Cada uno de los archivos se descargó y leyó únicamente con código. Sin embargo, dado que la descarga tomaba bastante tiempo con archivos superando 1 GB de memoria una vez descargados los archivos se descargaron localmente para ahorrar los tiempos de descarga y solo leer desde memoria.\n",
        "\n",
        "A pesar de estas medidas, el código comentado en la siguiente celda es funcional y fue la manera en que se descargaron y leyeron los archivos originalmente."
      ]
    },
    {
      "cell_type": "code",
      "execution_count": 11,
      "metadata": {},
      "outputs": [
        {
          "name": "stdout",
          "output_type": "stream",
          "text": [
            "<class 'bytes'>\n",
            "<class 'zipfile.ZipFile'>\n",
            "<class 'zipfile.ZipExtFile'>\n",
            "<class 'bytes'>\n",
            "<class 'str'>\n",
            "<class 'dict'>\n"
          ]
        }
      ],
      "source": [
        "# Time: 12 min\n",
        "# # Url\n",
        "# url_lotes = 'https://datosabiertos.bogota.gov.co/dataset/f615a894-3460-4a86-ae9e-fa6e6bf35e77/resource/1bcd3890-c4f8-4859-ba71-a84667a4ee0f/download/lote.geojson.0424.zip'\n",
        "\n",
        "# # Request\n",
        "# response_lotes = urlopen(url_lotes)\n",
        "\n",
        "# # Check the status of the request (200 = Works)\n",
        "# status_response_lotes = response_lotes.status\n",
        "# assert(status_response_lotes == 200)\n",
        "\n",
        "# # Read the file\n",
        "# zip_data = response_lotes.read()\n",
        "# print(type(zip_data))\n",
        "\n",
        "# # Manage the file with an special library for .zip files\n",
        "# zip_file = zipfile.ZipFile(file=io.BytesIO(zip_data))\n",
        "# print(type(zip_file))\n",
        "# print(zip_file.namelist())\n",
        "\n",
        "# # Unzip the File from the .zip folder\n",
        "# unzipped_file_lotes = zip_file.open(zip_file.namelist()[0])\n",
        "# print(type(unzipped_file_lotes))\n",
        "\n",
        "# # Read the file\n",
        "# file_lotes = unzipped_file_lotes.read()\n",
        "# print(type(file_lotes))\n",
        "\n",
        "# # Convert from bytes to str\n",
        "# string_lotes = file_lotes.decode()\n",
        "# print(type(string_lotes))\n",
        "\n",
        "# # Conver from str to dict\n",
        "# dict_lotes = json.loads(string_lotes)\n",
        "# print(type(dict_lotes))\n",
        "\n",
        "# # Check the type is dict so it can be accessed easily\n",
        "# assert(type(dict_lotes) == dict)"
      ]
    },
    {
      "cell_type": "code",
      "execution_count": 44,
      "metadata": {},
      "outputs": [],
      "source": [
        "# Time: 45 seconds\n",
        "with open('Data/lote.geojson') as file:\n",
        "    dict_lotes = json.load(file)"
      ]
    },
    {
      "cell_type": "code",
      "execution_count": 8,
      "metadata": {},
      "outputs": [
        {
          "name": "stdout",
          "output_type": "stream",
          "text": [
            "type: <class 'str'>\n",
            "name: <class 'str'>\n",
            "crs: <class 'dict'>\n",
            "features: <class 'list'>\n"
          ]
        }
      ],
      "source": [
        "# Print the different keys in the dict and the type of value of each key\n",
        "for key, value in dict_lotes.items():\n",
        "  print(f'{key}: {type(value)}')"
      ]
    },
    {
      "cell_type": "code",
      "execution_count": 45,
      "metadata": {},
      "outputs": [],
      "source": [
        "# Create a geodataframe with the rows of the file\n",
        "# Since it is a json create the dataframe with a list of dicts\n",
        "list_rows = []\n",
        "\n",
        "# The data is int the features key, where each row is a list\n",
        "for row in dict_lotes['features']:\n",
        "  \n",
        "  # Get the attributes (columns of the dataframe)\n",
        "  attributes = row['properties']\n",
        "  \n",
        "  # Conver the geometry to a polygon\n",
        "  geometry = row['geometry']  \n",
        "  type = geometry['type']\n",
        "  coordinates = geometry['coordinates']\n",
        "  \n",
        "  # Check the type of geometry\n",
        "  if type == 'Polygon':\n",
        "    polygon = Polygon(coordinates[0])\n",
        "  else:\n",
        "    polygon = MultiPolygon([Polygon(poly[0]) for poly in coordinates])\n",
        "  \n",
        "  # Add the polygon to the attributes with the key 'geometry'\n",
        "  attributes['geometry'] = polygon\n",
        "\n",
        "  # Add the dict of the row to the list of dicts\n",
        "  list_rows.append(attributes)\n",
        "  \n",
        "# Clear the memory of the variable\n",
        "del dict_lotes\n",
        "  \n",
        "# Create the GeoDataFrame\n",
        "df_lotes = gpd.GeoDataFrame(\n",
        "    list_rows,\n",
        "    geometry='geometry'\n",
        ")\n",
        "\n",
        "# Change the column names to lowercase (just a toc)\n",
        "df_lotes.columns = [column.lower() for column in (df_lotes.columns)]\n",
        "\n",
        "# Keep only the columns needed\n",
        "list_columns_to_keep = [\n",
        "  'lotcodigo',\n",
        "  'lotupredia',\n",
        "  'geometry',\n",
        "]\n",
        "df_lotes = df_lotes[list_columns_to_keep]"
      ]
    },
    {
      "cell_type": "code",
      "execution_count": 46,
      "metadata": {},
      "outputs": [
        {
          "data": {
            "text/html": [
              "<div>\n",
              "<style scoped>\n",
              "    .dataframe tbody tr th:only-of-type {\n",
              "        vertical-align: middle;\n",
              "    }\n",
              "\n",
              "    .dataframe tbody tr th {\n",
              "        vertical-align: top;\n",
              "    }\n",
              "\n",
              "    .dataframe thead th {\n",
              "        text-align: right;\n",
              "    }\n",
              "</style>\n",
              "<table border=\"1\" class=\"dataframe\">\n",
              "  <thead>\n",
              "    <tr style=\"text-align: right;\">\n",
              "      <th></th>\n",
              "      <th>lotcodigo</th>\n",
              "      <th>lotupredia</th>\n",
              "      <th>geometry</th>\n",
              "    </tr>\n",
              "  </thead>\n",
              "  <tbody>\n",
              "    <tr>\n",
              "      <th>0</th>\n",
              "      <td>002445050010</td>\n",
              "      <td>1</td>\n",
              "      <td>POLYGON ((-74.16910 4.57265, -74.16910 4.57265...</td>\n",
              "    </tr>\n",
              "    <tr>\n",
              "      <th>1</th>\n",
              "      <td>002528010061</td>\n",
              "      <td>1</td>\n",
              "      <td>POLYGON ((-74.11461 4.51709, -74.11466 4.51708...</td>\n",
              "    </tr>\n",
              "    <tr>\n",
              "      <th>2</th>\n",
              "      <td>002445050018</td>\n",
              "      <td>1</td>\n",
              "      <td>POLYGON ((-74.16899 4.57266, -74.16901 4.57261...</td>\n",
              "    </tr>\n",
              "    <tr>\n",
              "      <th>3</th>\n",
              "      <td>002445079020</td>\n",
              "      <td>1</td>\n",
              "      <td>POLYGON ((-74.17524 4.57270, -74.17519 4.57269...</td>\n",
              "    </tr>\n",
              "    <tr>\n",
              "      <th>4</th>\n",
              "      <td>009136013012</td>\n",
              "      <td>1</td>\n",
              "      <td>POLYGON ((-74.04231 4.80056, -74.04232 4.80053...</td>\n",
              "    </tr>\n",
              "  </tbody>\n",
              "</table>\n",
              "</div>"
            ],
            "text/plain": [
              "      lotcodigo  lotupredia                                           geometry\n",
              "0  002445050010           1  POLYGON ((-74.16910 4.57265, -74.16910 4.57265...\n",
              "1  002528010061           1  POLYGON ((-74.11461 4.51709, -74.11466 4.51708...\n",
              "2  002445050018           1  POLYGON ((-74.16899 4.57266, -74.16901 4.57261...\n",
              "3  002445079020           1  POLYGON ((-74.17524 4.57270, -74.17519 4.57269...\n",
              "4  009136013012           1  POLYGON ((-74.04231 4.80056, -74.04232 4.80053..."
            ]
          },
          "execution_count": 46,
          "metadata": {},
          "output_type": "execute_result"
        }
      ],
      "source": [
        "df_lotes.head()"
      ]
    },
    {
      "cell_type": "code",
      "execution_count": 47,
      "metadata": {},
      "outputs": [
        {
          "name": "stdout",
          "output_type": "stream",
          "text": [
            "<class 'geopandas.geodataframe.GeoDataFrame'>\n",
            "RangeIndex: 931993 entries, 0 to 931992\n",
            "Data columns (total 3 columns):\n",
            " #   Column      Non-Null Count   Dtype   \n",
            "---  ------      --------------   -----   \n",
            " 0   lotcodigo   931979 non-null  object  \n",
            " 1   lotupredia  931993 non-null  int64   \n",
            " 2   geometry    931993 non-null  geometry\n",
            "dtypes: geometry(1), int64(1), object(1)\n",
            "memory usage: 21.3+ MB\n"
          ]
        }
      ],
      "source": [
        "df_lotes.info()"
      ]
    },
    {
      "cell_type": "markdown",
      "metadata": {},
      "source": [
        "#### Predios + Lotes + UPLs"
      ]
    },
    {
      "cell_type": "markdown",
      "metadata": {},
      "source": [
        "##### Join"
      ]
    },
    {
      "cell_type": "code",
      "execution_count": 48,
      "metadata": {},
      "outputs": [],
      "source": [
        "df_lotes_upls = gpd.sjoin(\n",
        "    df_lotes,\n",
        "    df_upls[['codigo_upl', 'geometry']],\n",
        "    how='left',\n",
        "    predicate='within'\n",
        ")"
      ]
    },
    {
      "cell_type": "code",
      "execution_count": 49,
      "metadata": {},
      "outputs": [
        {
          "data": {
            "text/html": [
              "<div>\n",
              "<style scoped>\n",
              "    .dataframe tbody tr th:only-of-type {\n",
              "        vertical-align: middle;\n",
              "    }\n",
              "\n",
              "    .dataframe tbody tr th {\n",
              "        vertical-align: top;\n",
              "    }\n",
              "\n",
              "    .dataframe thead th {\n",
              "        text-align: right;\n",
              "    }\n",
              "</style>\n",
              "<table border=\"1\" class=\"dataframe\">\n",
              "  <thead>\n",
              "    <tr style=\"text-align: right;\">\n",
              "      <th></th>\n",
              "      <th>lotcodigo</th>\n",
              "      <th>lotupredia</th>\n",
              "      <th>geometry</th>\n",
              "      <th>index_right</th>\n",
              "      <th>codigo_upl</th>\n",
              "    </tr>\n",
              "  </thead>\n",
              "  <tbody>\n",
              "    <tr>\n",
              "      <th>0</th>\n",
              "      <td>002445050010</td>\n",
              "      <td>1</td>\n",
              "      <td>POLYGON ((-74.16910 4.57265, -74.16910 4.57265...</td>\n",
              "      <td>14.0</td>\n",
              "      <td>UPL03</td>\n",
              "    </tr>\n",
              "    <tr>\n",
              "      <th>1</th>\n",
              "      <td>002528010061</td>\n",
              "      <td>1</td>\n",
              "      <td>POLYGON ((-74.11461 4.51709, -74.11466 4.51708...</td>\n",
              "      <td>26.0</td>\n",
              "      <td>UPL20</td>\n",
              "    </tr>\n",
              "    <tr>\n",
              "      <th>2</th>\n",
              "      <td>002445050018</td>\n",
              "      <td>1</td>\n",
              "      <td>POLYGON ((-74.16899 4.57266, -74.16901 4.57261...</td>\n",
              "      <td>14.0</td>\n",
              "      <td>UPL03</td>\n",
              "    </tr>\n",
              "    <tr>\n",
              "      <th>3</th>\n",
              "      <td>002445079020</td>\n",
              "      <td>1</td>\n",
              "      <td>POLYGON ((-74.17524 4.57270, -74.17519 4.57269...</td>\n",
              "      <td>14.0</td>\n",
              "      <td>UPL03</td>\n",
              "    </tr>\n",
              "    <tr>\n",
              "      <th>4</th>\n",
              "      <td>009136013012</td>\n",
              "      <td>1</td>\n",
              "      <td>POLYGON ((-74.04231 4.80056, -74.04232 4.80053...</td>\n",
              "      <td>22.0</td>\n",
              "      <td>UPL07</td>\n",
              "    </tr>\n",
              "  </tbody>\n",
              "</table>\n",
              "</div>"
            ],
            "text/plain": [
              "      lotcodigo  lotupredia  \\\n",
              "0  002445050010           1   \n",
              "1  002528010061           1   \n",
              "2  002445050018           1   \n",
              "3  002445079020           1   \n",
              "4  009136013012           1   \n",
              "\n",
              "                                            geometry  index_right codigo_upl  \n",
              "0  POLYGON ((-74.16910 4.57265, -74.16910 4.57265...         14.0      UPL03  \n",
              "1  POLYGON ((-74.11461 4.51709, -74.11466 4.51708...         26.0      UPL20  \n",
              "2  POLYGON ((-74.16899 4.57266, -74.16901 4.57261...         14.0      UPL03  \n",
              "3  POLYGON ((-74.17524 4.57270, -74.17519 4.57269...         14.0      UPL03  \n",
              "4  POLYGON ((-74.04231 4.80056, -74.04232 4.80053...         22.0      UPL07  "
            ]
          },
          "execution_count": 49,
          "metadata": {},
          "output_type": "execute_result"
        }
      ],
      "source": [
        "df_lotes_upls.head()"
      ]
    },
    {
      "cell_type": "code",
      "execution_count": 50,
      "metadata": {},
      "outputs": [
        {
          "name": "stdout",
          "output_type": "stream",
          "text": [
            "<class 'geopandas.geodataframe.GeoDataFrame'>\n",
            "Index: 931993 entries, 0 to 931992\n",
            "Data columns (total 5 columns):\n",
            " #   Column       Non-Null Count   Dtype   \n",
            "---  ------       --------------   -----   \n",
            " 0   lotcodigo    931979 non-null  object  \n",
            " 1   lotupredia   931993 non-null  int64   \n",
            " 2   geometry     931993 non-null  geometry\n",
            " 3   index_right  928468 non-null  float64 \n",
            " 4   codigo_upl   928468 non-null  object  \n",
            "dtypes: float64(1), geometry(1), int64(1), object(2)\n",
            "memory usage: 42.7+ MB\n"
          ]
        }
      ],
      "source": [
        "df_lotes_upls.info()"
      ]
    },
    {
      "cell_type": "code",
      "execution_count": 51,
      "metadata": {},
      "outputs": [],
      "source": [
        "df_predios_lotes_upls = pd.merge(\n",
        "    df_predios,\n",
        "    df_lotes_upls[['lotcodigo', 'codigo_upl']],\n",
        "    how='left',\n",
        "    left_on='lote_codigo',\n",
        "    right_on='lotcodigo'\n",
        ")"
      ]
    },
    {
      "cell_type": "code",
      "execution_count": 52,
      "metadata": {},
      "outputs": [
        {
          "data": {
            "text/html": [
              "<div>\n",
              "<style scoped>\n",
              "    .dataframe tbody tr th:only-of-type {\n",
              "        vertical-align: middle;\n",
              "    }\n",
              "\n",
              "    .dataframe tbody tr th {\n",
              "        vertical-align: top;\n",
              "    }\n",
              "\n",
              "    .dataframe thead th {\n",
              "        text-align: right;\n",
              "    }\n",
              "</style>\n",
              "<table border=\"1\" class=\"dataframe\">\n",
              "  <thead>\n",
              "    <tr style=\"text-align: right;\">\n",
              "      <th></th>\n",
              "      <th>objectid</th>\n",
              "      <th>prenbarrio</th>\n",
              "      <th>precmanz</th>\n",
              "      <th>precpredio</th>\n",
              "      <th>preccons</th>\n",
              "      <th>precresto</th>\n",
              "      <th>precedcata</th>\n",
              "      <th>prenupre</th>\n",
              "      <th>pretprop</th>\n",
              "      <th>preclase</th>\n",
              "      <th>precdestin</th>\n",
              "      <th>preclcons</th>\n",
              "      <th>barmanpre</th>\n",
              "      <th>lote_codigo</th>\n",
              "      <th>cod_cons</th>\n",
              "      <th>construccion_codigo</th>\n",
              "      <th>lotcodigo</th>\n",
              "      <th>codigo_upl</th>\n",
              "    </tr>\n",
              "  </thead>\n",
              "  <tbody>\n",
              "    <tr>\n",
              "      <th>0</th>\n",
              "      <td>1</td>\n",
              "      <td>BUENOS AIRES</td>\n",
              "      <td>23</td>\n",
              "      <td>2</td>\n",
              "      <td>1</td>\n",
              "      <td>1006</td>\n",
              "      <td>001102230200101006</td>\n",
              "      <td>110010111040200230002901010006</td>\n",
              "      <td>6</td>\n",
              "      <td>P</td>\n",
              "      <td>1</td>\n",
              "      <td>R</td>\n",
              "      <td>1102023002</td>\n",
              "      <td>001102023002</td>\n",
              "      <td>001</td>\n",
              "      <td>0011020230020010000000000</td>\n",
              "      <td>001102023002</td>\n",
              "      <td>UPL21</td>\n",
              "    </tr>\n",
              "    <tr>\n",
              "      <th>1</th>\n",
              "      <td>2</td>\n",
              "      <td>BUENOS AIRES</td>\n",
              "      <td>23</td>\n",
              "      <td>2</td>\n",
              "      <td>1</td>\n",
              "      <td>1007</td>\n",
              "      <td>001102230200101007</td>\n",
              "      <td>110010111040200230002901010007</td>\n",
              "      <td>6</td>\n",
              "      <td>P</td>\n",
              "      <td>1</td>\n",
              "      <td>R</td>\n",
              "      <td>1102023002</td>\n",
              "      <td>001102023002</td>\n",
              "      <td>001</td>\n",
              "      <td>0011020230020010000000000</td>\n",
              "      <td>001102023002</td>\n",
              "      <td>UPL21</td>\n",
              "    </tr>\n",
              "    <tr>\n",
              "      <th>2</th>\n",
              "      <td>3</td>\n",
              "      <td>BUENOS AIRES</td>\n",
              "      <td>23</td>\n",
              "      <td>2</td>\n",
              "      <td>1</td>\n",
              "      <td>1008</td>\n",
              "      <td>001102230200101008</td>\n",
              "      <td>110010111040200230002901010008</td>\n",
              "      <td>6</td>\n",
              "      <td>P</td>\n",
              "      <td>1</td>\n",
              "      <td>R</td>\n",
              "      <td>1102023002</td>\n",
              "      <td>001102023002</td>\n",
              "      <td>001</td>\n",
              "      <td>0011020230020010000000000</td>\n",
              "      <td>001102023002</td>\n",
              "      <td>UPL21</td>\n",
              "    </tr>\n",
              "    <tr>\n",
              "      <th>3</th>\n",
              "      <td>4</td>\n",
              "      <td>BUENOS AIRES</td>\n",
              "      <td>23</td>\n",
              "      <td>2</td>\n",
              "      <td>1</td>\n",
              "      <td>1010</td>\n",
              "      <td>001102230200101010</td>\n",
              "      <td>110010111040200230002901010010</td>\n",
              "      <td>6</td>\n",
              "      <td>P</td>\n",
              "      <td>1</td>\n",
              "      <td>R</td>\n",
              "      <td>1102023002</td>\n",
              "      <td>001102023002</td>\n",
              "      <td>001</td>\n",
              "      <td>0011020230020010000000000</td>\n",
              "      <td>001102023002</td>\n",
              "      <td>UPL21</td>\n",
              "    </tr>\n",
              "    <tr>\n",
              "      <th>4</th>\n",
              "      <td>5</td>\n",
              "      <td>BUENOS AIRES</td>\n",
              "      <td>23</td>\n",
              "      <td>2</td>\n",
              "      <td>1</td>\n",
              "      <td>1011</td>\n",
              "      <td>001102230200101011</td>\n",
              "      <td>110010111040200230002901010011</td>\n",
              "      <td>6</td>\n",
              "      <td>P</td>\n",
              "      <td>1</td>\n",
              "      <td>R</td>\n",
              "      <td>1102023002</td>\n",
              "      <td>001102023002</td>\n",
              "      <td>001</td>\n",
              "      <td>0011020230020010000000000</td>\n",
              "      <td>001102023002</td>\n",
              "      <td>UPL21</td>\n",
              "    </tr>\n",
              "  </tbody>\n",
              "</table>\n",
              "</div>"
            ],
            "text/plain": [
              "   objectid    prenbarrio  precmanz  precpredio  preccons  precresto  \\\n",
              "0         1  BUENOS AIRES        23           2         1       1006   \n",
              "1         2  BUENOS AIRES        23           2         1       1007   \n",
              "2         3  BUENOS AIRES        23           2         1       1008   \n",
              "3         4  BUENOS AIRES        23           2         1       1010   \n",
              "4         5  BUENOS AIRES        23           2         1       1011   \n",
              "\n",
              "           precedcata                        prenupre  pretprop preclase  \\\n",
              "0  001102230200101006  110010111040200230002901010006         6        P   \n",
              "1  001102230200101007  110010111040200230002901010007         6        P   \n",
              "2  001102230200101008  110010111040200230002901010008         6        P   \n",
              "3  001102230200101010  110010111040200230002901010010         6        P   \n",
              "4  001102230200101011  110010111040200230002901010011         6        P   \n",
              "\n",
              "   precdestin preclcons   barmanpre   lote_codigo cod_cons  \\\n",
              "0           1         R  1102023002  001102023002      001   \n",
              "1           1         R  1102023002  001102023002      001   \n",
              "2           1         R  1102023002  001102023002      001   \n",
              "3           1         R  1102023002  001102023002      001   \n",
              "4           1         R  1102023002  001102023002      001   \n",
              "\n",
              "         construccion_codigo     lotcodigo codigo_upl  \n",
              "0  0011020230020010000000000  001102023002      UPL21  \n",
              "1  0011020230020010000000000  001102023002      UPL21  \n",
              "2  0011020230020010000000000  001102023002      UPL21  \n",
              "3  0011020230020010000000000  001102023002      UPL21  \n",
              "4  0011020230020010000000000  001102023002      UPL21  "
            ]
          },
          "execution_count": 52,
          "metadata": {},
          "output_type": "execute_result"
        }
      ],
      "source": [
        "df_predios_lotes_upls.head()"
      ]
    },
    {
      "cell_type": "code",
      "execution_count": 53,
      "metadata": {},
      "outputs": [
        {
          "name": "stdout",
          "output_type": "stream",
          "text": [
            "<class 'pandas.core.frame.DataFrame'>\n",
            "RangeIndex: 3511443 entries, 0 to 3511442\n",
            "Data columns (total 18 columns):\n",
            " #   Column               Dtype \n",
            "---  ------               ----- \n",
            " 0   objectid             int64 \n",
            " 1   prenbarrio           object\n",
            " 2   precmanz             int64 \n",
            " 3   precpredio           int64 \n",
            " 4   preccons             int64 \n",
            " 5   precresto            int64 \n",
            " 6   precedcata           object\n",
            " 7   prenupre             object\n",
            " 8   pretprop             int64 \n",
            " 9   preclase             object\n",
            " 10  precdestin           int64 \n",
            " 11  preclcons            object\n",
            " 12  barmanpre            int64 \n",
            " 13  lote_codigo          object\n",
            " 14  cod_cons             object\n",
            " 15  construccion_codigo  object\n",
            " 16  lotcodigo            object\n",
            " 17  codigo_upl           object\n",
            "dtypes: int64(8), object(10)\n",
            "memory usage: 482.2+ MB\n"
          ]
        }
      ],
      "source": [
        "df_predios_lotes_upls.info()"
      ]
    },
    {
      "cell_type": "code",
      "execution_count": 54,
      "metadata": {},
      "outputs": [],
      "source": [
        "# Find the ofertas per UPL and sort it from higher to lower\n",
        "df_predios_residenciales_upl_lotes = df_predios_lotes_upls[df_predios_lotes_upls['preclcons'] == 'R'].groupby(['codigo_upl']).agg(predios=('objectid', 'count')).reset_index().sort_values(by='predios', ascending=False)\n",
        "\n",
        "# Find the percentage and since it is sorted the cumulative percentage to check rules as Pareto\n",
        "df_predios_residenciales_upl_lotes['porcentaje'] = df_predios_residenciales_upl_lotes['predios'] / df_predios_residenciales_upl_lotes['predios'].sum()\n",
        "df_predios_residenciales_upl_lotes['porcentaje_acum'] = df_predios_residenciales_upl_lotes['porcentaje'].cumsum()\n",
        "\n",
        "\n",
        "# Complete the information of the UPL to graph it\n",
        "df_predios_residenciales_upl_lotes = pd.merge(\n",
        "    df_predios_residenciales_upl_lotes,\n",
        "    df_upls,\n",
        "    how='left',\n",
        "    on='codigo_upl'\n",
        ")\n",
        "\n",
        "# Convert to geodataframe\n",
        "df_predios_residenciales_upl_lotes = gpd.GeoDataFrame(\n",
        "    df_predios_residenciales_upl_lotes,\n",
        "    geometry='geometry'\n",
        ")"
      ]
    },
    {
      "cell_type": "code",
      "execution_count": 55,
      "metadata": {},
      "outputs": [
        {
          "data": {
            "text/html": [
              "<div>\n",
              "<style scoped>\n",
              "    .dataframe tbody tr th:only-of-type {\n",
              "        vertical-align: middle;\n",
              "    }\n",
              "\n",
              "    .dataframe tbody tr th {\n",
              "        vertical-align: top;\n",
              "    }\n",
              "\n",
              "    .dataframe thead th {\n",
              "        text-align: right;\n",
              "    }\n",
              "</style>\n",
              "<table border=\"1\" class=\"dataframe\">\n",
              "  <thead>\n",
              "    <tr style=\"text-align: right;\">\n",
              "      <th></th>\n",
              "      <th>codigo_upl</th>\n",
              "      <th>predios</th>\n",
              "      <th>porcentaje</th>\n",
              "      <th>porcentaje_acum</th>\n",
              "      <th>nombre</th>\n",
              "      <th>vocacion</th>\n",
              "      <th>sector</th>\n",
              "      <th>geometry</th>\n",
              "    </tr>\n",
              "  </thead>\n",
              "  <tbody>\n",
              "    <tr>\n",
              "      <th>0</th>\n",
              "      <td>UPL25</td>\n",
              "      <td>231225</td>\n",
              "      <td>0.082585</td>\n",
              "      <td>0.082585</td>\n",
              "      <td>Usaquén</td>\n",
              "      <td>Urbano</td>\n",
              "      <td>Sector Norte</td>\n",
              "      <td>POLYGON ((-74.02093 4.72971, -74.02106 4.72966...</td>\n",
              "    </tr>\n",
              "    <tr>\n",
              "      <th>1</th>\n",
              "      <td>UPL08</td>\n",
              "      <td>158250</td>\n",
              "      <td>0.056521</td>\n",
              "      <td>0.139105</td>\n",
              "      <td>Britalia</td>\n",
              "      <td>Urbano-Rural</td>\n",
              "      <td>Sector Norte</td>\n",
              "      <td>POLYGON ((-74.06328 4.77114, -74.06327 4.77114...</td>\n",
              "    </tr>\n",
              "    <tr>\n",
              "      <th>2</th>\n",
              "      <td>UPL27</td>\n",
              "      <td>137208</td>\n",
              "      <td>0.049005</td>\n",
              "      <td>0.188111</td>\n",
              "      <td>Niza</td>\n",
              "      <td>Urbano</td>\n",
              "      <td>Sector Norte</td>\n",
              "      <td>POLYGON ((-74.07828 4.73386, -74.07750 4.73341...</td>\n",
              "    </tr>\n",
              "    <tr>\n",
              "      <th>3</th>\n",
              "      <td>UPL11</td>\n",
              "      <td>131471</td>\n",
              "      <td>0.046956</td>\n",
              "      <td>0.235067</td>\n",
              "      <td>Engativá</td>\n",
              "      <td>Urbano-Rural</td>\n",
              "      <td>Sector Occidente</td>\n",
              "      <td>POLYGON ((-74.11900 4.73641, -74.11865 4.73630...</td>\n",
              "    </tr>\n",
              "    <tr>\n",
              "      <th>4</th>\n",
              "      <td>UPL24</td>\n",
              "      <td>119432</td>\n",
              "      <td>0.042656</td>\n",
              "      <td>0.277724</td>\n",
              "      <td>Chapinero</td>\n",
              "      <td>Urbano</td>\n",
              "      <td>Sector Centro Ampliado</td>\n",
              "      <td>POLYGON ((-74.05651 4.64143, -74.05650 4.64143...</td>\n",
              "    </tr>\n",
              "  </tbody>\n",
              "</table>\n",
              "</div>"
            ],
            "text/plain": [
              "  codigo_upl  predios  porcentaje  porcentaje_acum     nombre      vocacion  \\\n",
              "0      UPL25   231225    0.082585         0.082585    Usaquén        Urbano   \n",
              "1      UPL08   158250    0.056521         0.139105   Britalia  Urbano-Rural   \n",
              "2      UPL27   137208    0.049005         0.188111       Niza        Urbano   \n",
              "3      UPL11   131471    0.046956         0.235067   Engativá  Urbano-Rural   \n",
              "4      UPL24   119432    0.042656         0.277724  Chapinero        Urbano   \n",
              "\n",
              "                   sector                                           geometry  \n",
              "0            Sector Norte  POLYGON ((-74.02093 4.72971, -74.02106 4.72966...  \n",
              "1            Sector Norte  POLYGON ((-74.06328 4.77114, -74.06327 4.77114...  \n",
              "2            Sector Norte  POLYGON ((-74.07828 4.73386, -74.07750 4.73341...  \n",
              "3        Sector Occidente  POLYGON ((-74.11900 4.73641, -74.11865 4.73630...  \n",
              "4  Sector Centro Ampliado  POLYGON ((-74.05651 4.64143, -74.05650 4.64143...  "
            ]
          },
          "execution_count": 55,
          "metadata": {},
          "output_type": "execute_result"
        }
      ],
      "source": [
        "df_predios_residenciales_upl_lotes.head()"
      ]
    },
    {
      "cell_type": "code",
      "execution_count": 56,
      "metadata": {},
      "outputs": [
        {
          "name": "stdout",
          "output_type": "stream",
          "text": [
            "<class 'geopandas.geodataframe.GeoDataFrame'>\n",
            "RangeIndex: 33 entries, 0 to 32\n",
            "Data columns (total 8 columns):\n",
            " #   Column           Non-Null Count  Dtype   \n",
            "---  ------           --------------  -----   \n",
            " 0   codigo_upl       33 non-null     object  \n",
            " 1   predios          33 non-null     int64   \n",
            " 2   porcentaje       33 non-null     float64 \n",
            " 3   porcentaje_acum  33 non-null     float64 \n",
            " 4   nombre           33 non-null     object  \n",
            " 5   vocacion         33 non-null     object  \n",
            " 6   sector           33 non-null     object  \n",
            " 7   geometry         33 non-null     geometry\n",
            "dtypes: float64(2), geometry(1), int64(1), object(4)\n",
            "memory usage: 2.2+ KB\n"
          ]
        }
      ],
      "source": [
        "df_predios_residenciales_upl_lotes.info()"
      ]
    },
    {
      "cell_type": "code",
      "execution_count": 57,
      "metadata": {},
      "outputs": [
        {
          "name": "stdout",
          "output_type": "stream",
          "text": [
            "Predios: 2,818,725\n",
            "Predios con UPL: 2,799,856\n"
          ]
        }
      ],
      "source": [
        "print(f\"Predios: {'{:,}'.format(df_predios_lotes_upls[(df_predios_lotes_upls['preclcons'] == 'R')].shape[0])}\")\n",
        "print(f\"Predios con UPL: {'{:,}'.format(df_predios_residenciales_upl_lotes['predios'].sum())}\")"
      ]
    },
    {
      "cell_type": "markdown",
      "metadata": {},
      "source": [
        "##### Mapa"
      ]
    },
    {
      "cell_type": "markdown",
      "metadata": {},
      "source": [
        "Para añadir la dimensión geográfica al número de ofertas por UPL, es necesario verlo a través de un mapa. Esto permite analizar patrones y tendencias a traves del espacio.\n",
        "1. (**Recomendado**) Visualizar la versión desplegada en página web en [este link](https://santigonzalezz.github.io/habi_prueba_data_science/mapa_predios_lotes_upls.html)\n",
        "1. Visualizar el mapa en las celdas siguientes, sin embargo, se encuentra limitada la interactividad y es posible errores al guardar el archivo y no ejecutar las celdas"
      ]
    },
    {
      "cell_type": "code",
      "execution_count": 44,
      "metadata": {},
      "outputs": [
        {
          "name": "stdout",
          "output_type": "stream",
          "text": [
            "User Guide: https://docs.kepler.gl/docs/keplergl-jupyter\n"
          ]
        }
      ],
      "source": [
        "# Create the map object\n",
        "mapa_predios_upls_lotes = KeplerGl(\n",
        "    height=500,\n",
        "    # data={'ofertas_upl': df_ofertas_upl}\n",
        ")\n",
        "\n",
        "# Add the data of predios per upl\n",
        "mapa_predios_upls_lotes.add_data(df_predios_residenciales_upl_lotes, 'Predios UPL')\n",
        "\n",
        "# Read the config of the map as a json\n",
        "# with open('Data/config_mapa_ofertas_upls.json') as file:\n",
        "#     config_mapa_predios_upls = json.load(file)\n",
        "\n",
        "# Read the config of the map as a json\n",
        "config_mapa_predios_upls = json.loads(\n",
        "    '{\"version\": \"v1\", \"config\": {\"visState\": {\"filters\": [], \"layers\": [{\"id\": \"y13j8b\", \"type\": \"geojson\", \"config\": {\"dataId\": \"Predios UPL\", \"label\": \"Predios UPL\", \"color\": [18, 92, 119], \"highlightColor\": [252, 242, 26, 255], \"columns\": {\"geojson\": \"geometry\"}, \"isVisible\": true, \"visConfig\": {\"opacity\": 0.8, \"strokeOpacity\": 0.8, \"thickness\": 0.5, \"strokeColor\": [183, 136, 94], \"colorRange\": {\"name\": \"ColorBrewer Blues-9\", \"type\": \"singlehue\", \"category\": \"ColorBrewer\", \"colors\": [\"#f7fbff\", \"#deebf7\", \"#c6dbef\", \"#9ecae1\", \"#6baed6\", \"#4292c6\", \"#2171b5\", \"#08519c\", \"#08306b\"]}, \"strokeColorRange\": {\"name\": \"Global Warming\", \"type\": \"sequential\", \"category\": \"Uber\", \"colors\": [\"#5A1846\", \"#900C3F\", \"#C70039\", \"#E3611C\", \"#F1920E\", \"#FFC300\"]}, \"radius\": 10, \"sizeRange\": [0, 10], \"radiusRange\": [0, 50], \"heightRange\": [0, 500], \"elevationScale\": 5, \"enableElevationZoomFactor\": true, \"stroked\": true, \"filled\": true, \"enable3d\": false, \"wireframe\": false}, \"hidden\": false, \"textLabel\": [{\"field\": null, \"color\": [255, 255, 255], \"size\": 18, \"offset\": [0, 0], \"anchor\": \"start\", \"alignment\": \"center\"}]}, \"visualChannels\": {\"colorField\": {\"name\": \"predios\", \"type\": \"integer\"}, \"colorScale\": \"quantile\", \"strokeColorField\": null, \"strokeColorScale\": \"quantile\", \"sizeField\": null, \"sizeScale\": \"linear\", \"heightField\": null, \"heightScale\": \"linear\", \"radiusField\": null, \"radiusScale\": \"linear\"}}], \"interactionConfig\": {\"tooltip\": {\"fieldsToShow\": {\"Predios UPL\": [{\"name\": \"codigo_upl\", \"format\": null}, {\"name\": \"predios\", \"format\": null}, {\"name\": \"porcentaje\", \"format\": null}, {\"name\": \"porcentaje_acum\", \"format\": null}, {\"name\": \"nombre\", \"format\": null}]}, \"compareMode\": false, \"compareType\": \"absolute\", \"enabled\": true}, \"brush\": {\"size\": 0.5, \"enabled\": false}, \"geocoder\": {\"enabled\": false}, \"coordinate\": {\"enabled\": false}}, \"layerBlending\": \"normal\", \"splitMaps\": [], \"animationConfig\": {\"currentTime\": null, \"speed\": 1}}, \"mapState\": {\"bearing\": 0, \"dragRotate\": false, \"latitude\": 4.283904718300249, \"longitude\": -74.21815690262335, \"pitch\": 0, \"zoom\": 8, \"isSplit\": false}, \"mapStyle\": {\"styleType\": \"dark\", \"topLayerGroups\": {}, \"visibleLayerGroups\": {\"label\": true, \"road\": true, \"border\": false, \"building\": true, \"water\": true, \"land\": true, \"3d building\": false}, \"threeDBuildingColor\": [9.665468314072013, 17.18305478057247, 31.1442867897876], \"mapStyles\": {}}}}'\n",
        ")\n",
        "\n",
        "# Set the configuration to the map\n",
        "mapa_predios_upls_lotes.config = config_mapa_predios_upls"
      ]
    },
    {
      "cell_type": "code",
      "execution_count": 47,
      "metadata": {},
      "outputs": [],
      "source": [
        "# mapa_predios_upls_lotes"
      ]
    },
    {
      "cell_type": "code",
      "execution_count": null,
      "metadata": {},
      "outputs": [],
      "source": [
        "# Save the config to a json file\n",
        "# config_mapa_predios_upls = mapa_predios_upls.config\n",
        "# with open(\"Data/config_mapa_predios_upls.json\", \"w\") as outfile: \n",
        "#     json.dump(config_mapa_predios_upls, outfile)"
      ]
    },
    {
      "cell_type": "code",
      "execution_count": 46,
      "metadata": {},
      "outputs": [
        {
          "name": "stdout",
          "output_type": "stream",
          "text": [
            "Map saved to mapa_predios_lotes_upls.html!\n"
          ]
        }
      ],
      "source": [
        "# Save the map as an html\n",
        "# config_mapa_predios_upls = mapa_predios_upls_lotes.config\n",
        "# mapa_predios_upls_lotes.save_to_html(\n",
        "#   data={\n",
        "#     'Predios UPL': df_predios_residenciales_upl_lotes,\n",
        "#   },\n",
        "#   config=config_mapa_predios_upls,\n",
        "#   file_name='mapa_predios_lotes_upls.html'\n",
        "# )"
      ]
    }
  ],
  "metadata": {
    "accelerator": "GPU",
    "colab": {
      "provenance": []
    },
    "kernelspec": {
      "display_name": "Python 3",
      "name": "python3"
    },
    "language_info": {
      "codemirror_mode": {
        "name": "ipython",
        "version": 3
      },
      "file_extension": ".py",
      "mimetype": "text/x-python",
      "name": "python",
      "nbconvert_exporter": "python",
      "pygments_lexer": "ipython3",
      "version": "3.10.6"
    }
  },
  "nbformat": 4,
  "nbformat_minor": 0
}
