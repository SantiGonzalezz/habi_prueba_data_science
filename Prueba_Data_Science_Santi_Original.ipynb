{
  "nbformat": 4,
  "nbformat_minor": 0,
  "metadata": {
    "colab": {
      "provenance": []
    },
    "kernelspec": {
      "name": "python3",
      "display_name": "Python 3"
    },
    "accelerator": "GPU"
  },
  "cells": [
    {
      "cell_type": "markdown",
      "metadata": {
        "id": "lASZHkVoAIIa"
      },
      "source": [
        "# **Prueba Data Scientist Habi**\n",
        "\n",
        "---\n",
        "\n"
      ]
    },
    {
      "cell_type": "markdown",
      "metadata": {
        "id": "WWppA5_xA00z"
      },
      "source": [
        "## **Antes de empezar**, por favor guarde este notebook como una copia personal, para no editar la versión original de esta. Esto lo puede hacer en File->Save a copy in Drive"
      ]
    },
    {
      "cell_type": "markdown",
      "metadata": {
        "id": "v_GpaRzUAR8J"
      },
      "source": [
        "## **Punto 1**\n",
        "\n",
        "\n",
        "---\n",
        "\n"
      ]
    },
    {
      "cell_type": "markdown",
      "metadata": {
        "id": "ns3cKuMF9Kip"
      },
      "source": [
        "Descargar base de datos de UPLs (subdivisión urbana para Bogotá) y de inmuebles, todo con código. Es decir, utilizando las librerías necesarias para extraer datos desde internet sin necesidad de leerlos de manera local. Sugerimos la librería urllib.\n",
        "\n",
        "* UPLs: 'https://datosabiertos.bogota.gov.co/dataset/808582fc-ffc8-4649-8428-7e1fd8d3820c/resource/a5c8c591-0708-420f-8eb7-9f3147e21c40/download/unidadplaneamientolocal.json'\n",
        "* Inmuebles: 'https://storage.googleapis.com/pruebas-data-analitica/inmuebles_full.csv.gz'\n",
        "\n",
        "Esta segunda tabla tiene información de inmuebles publicados en páginas web.\n",
        "\n"
      ]
    },
    {
      "cell_type": "code",
      "metadata": {
        "id": "f7-mKM_UWfWC"
      },
      "source": [
        "\"\"\"\n",
        "Escriba aquí su código. De ser necesario, puede agregar más celdas.\n",
        "\"\"\"\n"
      ],
      "execution_count": null,
      "outputs": []
    },
    {
      "cell_type": "markdown",
      "metadata": {
        "id": "1IBTVcXmBuK5"
      },
      "source": [
        "## **Punto 2**\n",
        "\n",
        "---\n",
        "\n"
      ]
    },
    {
      "cell_type": "markdown",
      "metadata": {
        "id": "u6otTo2tBuWc"
      },
      "source": [
        "Hacer un join espacial entre la base de datos de UPLs e inmuebles y\n",
        "calcular cuántas ofertas inmobiliarias existen en Bogotá por UPL. Para esto sugerimos usar la librería de GeoPandas."
      ]
    },
    {
      "cell_type": "code",
      "metadata": {
        "id": "1fp4kVfwsVZA"
      },
      "source": [
        "\"\"\"\n",
        "Escriba aquí su código. De ser necesario, puede agregar más celdas.\n",
        "\"\"\"\n",
        "\n",
        "\n"
      ],
      "execution_count": null,
      "outputs": []
    },
    {
      "cell_type": "markdown",
      "metadata": {
        "id": "MCBj1yK0HjfZ"
      },
      "source": [
        "## **Punto 3**\n",
        "\n",
        "\n",
        "---\n",
        "\n"
      ]
    },
    {
      "cell_type": "markdown",
      "metadata": {
        "id": "BG80TdeAHjfZ"
      },
      "source": [
        "Use una visualización que permita ver cuántas ofertas de inmuebles existen por UPL."
      ]
    },
    {
      "cell_type": "code",
      "metadata": {
        "id": "5qSUt9FEHjfZ"
      },
      "source": [
        "*\"\"\"\n",
        "Escriba aquí su código. De ser necesario, puede agregar más celdas.\n",
        "\"\"\""
      ],
      "execution_count": null,
      "outputs": []
    },
    {
      "cell_type": "markdown",
      "metadata": {
        "id": "6M5wNTNKyXZo"
      },
      "source": [
        "# **Punto 4**"
      ]
    },
    {
      "cell_type": "markdown",
      "metadata": {
        "id": "73H0WsGaysDQ"
      },
      "source": [
        "Hacer una i de Moran para saber las UPLs HH, HL, LH y LL según el modelo para el valor por m2 de los inmuebles por UPL."
      ]
    },
    {
      "cell_type": "code",
      "metadata": {
        "id": "Bx-ow_UbyglP"
      },
      "source": [
        "\"\"\"\n",
        "Escriba aquí su código. De ser necesario, puede agregar más celdas.\n",
        "\"\"\""
      ],
      "execution_count": null,
      "outputs": []
    },
    {
      "cell_type": "markdown",
      "metadata": {
        "id": "CtXdUQaEyv4T"
      },
      "source": [
        "# **Punto 5**"
      ]
    },
    {
      "cell_type": "markdown",
      "metadata": {
        "id": "SxnBiIDCy7Ir"
      },
      "source": [
        "Hacer el modelo de predicción de precios de su preferencia para valorar los inmuebles proporcionados y presentar el MAPE y RMSE del resultado."
      ]
    },
    {
      "cell_type": "code",
      "metadata": {
        "id": "WPbBhgKlyyfV"
      },
      "source": [
        "\"\"\"\n",
        "Escriba aquí su código. De ser necesario, puede agregar más celdas.\n",
        "\"\"\""
      ],
      "execution_count": null,
      "outputs": []
    },
    {
      "cell_type": "markdown",
      "source": [
        "## **Punto 6**"
      ],
      "metadata": {
        "id": "yeeUHZLfUL_L"
      }
    },
    {
      "cell_type": "markdown",
      "source": [
        "Buscar y descargar base de datos de construcciones catastrales y base de datos de predios catastrales, todo con código. Es decir, utilizando las librerías necesarias para extraer datos desde internet sin necesidad de leerlos de manera local. Sugerimos la librería urllib. La información de estas fuentes la puede obtener de:\n",
        "\n",
        "1. Construcciones catastrales: 'https://datosabiertos.bogota.gov.co/dataset/397ccbd8-e2c5-4700-b90e-b68d101ab0c5/resource/7e426e92-c168-4a99-ab67-25b16f070a68/download/dcons_geoson.zip'\n",
        "2. Predios catastrales: 'https://datosabiertos.bogota.gov.co/dataset/e812efbe-acc3-4e70-9bfc-30fd2134afdd/resource/efb4e03d-173e-42b2-b35a-f10d6d610df2/download/predios_csv_1020.zip'"
      ],
      "metadata": {
        "id": "zK-8z58eT2LL"
      }
    },
    {
      "cell_type": "code",
      "source": [
        "\"\"\"\n",
        "Escriba aquí su código. De ser necesario, puede agregar más celdas.\n",
        "\"\"\""
      ],
      "metadata": {
        "id": "V2uigbDbWQU0"
      },
      "execution_count": null,
      "outputs": []
    },
    {
      "cell_type": "markdown",
      "source": [
        "Hacer un join espacial entre la base de datos de predios y la de UPLs y calcular cuántos predios residenciales existen en Bogotá por UPL."
      ],
      "metadata": {
        "id": "W0T8pHHOVahp"
      }
    },
    {
      "cell_type": "code",
      "source": [
        "\"\"\"\n",
        "Escriba aquí su código. De ser necesario, puede agregar más celdas.\n",
        "\"\"\""
      ],
      "metadata": {
        "id": "s-JZdQpUUJKj"
      },
      "execution_count": null,
      "outputs": []
    }
  ]
}